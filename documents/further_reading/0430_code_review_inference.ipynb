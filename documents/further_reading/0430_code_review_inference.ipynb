{
 "cells": [
  {
   "cell_type": "code",
   "execution_count": 1,
   "id": "1e760d03-88d2-4767-9a66-d5c9104d6038",
   "metadata": {},
   "outputs": [
    {
     "name": "stdout",
     "output_type": "stream",
     "text": [
      "/usr/local/lib/mecab/dic/mecab-ko-dic\n",
      "/opt/conda/lib/python3.7/site-packages/konlpy\n"
     ]
    }
   ],
   "source": [
    "import logging\n",
    "import os\n",
    "import sys\n",
    "from datasets import load_metric, load_from_disk, Sequence, Value, Features, Dataset, DatasetDict\n",
    "\n",
    "from transformers import AutoConfig, AutoModelForQuestionAnswering, AutoTokenizer\n",
    "\n",
    "from transformers import (\n",
    "    DataCollatorWithPadding,\n",
    "    EvalPrediction,\n",
    "    HfArgumentParser,\n",
    "    TrainingArguments,\n",
    "    set_seed,\n",
    ")\n",
    "\n",
    "sys.path.append('/opt/ml/code/')\n",
    "\n",
    "from utils_qa import postprocess_qa_predictions, check_no_error, tokenize\n",
    "from trainer_qa import QuestionAnsweringTrainer\n",
    "from retrieval import SparseRetrieval\n",
    "\n",
    "from arguments import (\n",
    "    ModelArguments,\n",
    "    DataTrainingArguments,\n",
    ")"
   ]
  },
  {
   "cell_type": "code",
   "execution_count": 3,
   "id": "4807bcd1-6580-4d4a-a6d7-f65452bc9d2e",
   "metadata": {},
   "outputs": [],
   "source": [
    "parser = HfArgumentParser(\n",
    "    (ModelArguments, DataTrainingArguments, TrainingArguments)\n",
    ")\n",
    "\n",
    "model_args, data_args, training_args = parser.parse_args_into_dataclasses(\n",
    "    args=[\"--output_dir\", \"/opt/ml/code/outputs/notebook_test/\", \"--dataset_name\",\n",
    "         \"/opt/ml/input/data/data/test_dataset/\", \"--model_name_or_path\",\n",
    "         \"/opt/ml/code/models/train_dataset/checkpoint-1500/\", \"--do_predict\"])"
   ]
  },
  {
   "cell_type": "code",
   "execution_count": 4,
   "id": "467be3d2-fd55-49b0-b103-5ab98d65ba60",
   "metadata": {},
   "outputs": [],
   "source": [
    "# 어따 쓰는 거지 => retriever에서 쓰인다.\n",
    "training_args.do_train = True"
   ]
  },
  {
   "cell_type": "code",
   "execution_count": 5,
   "id": "c4418d8f-67aa-4012-be71-3d10011e5156",
   "metadata": {},
   "outputs": [],
   "source": [
    "set_seed(training_args.seed)"
   ]
  },
  {
   "cell_type": "code",
   "execution_count": 44,
   "id": "7165d46b-065e-48a6-bf9f-2223b51cd7a3",
   "metadata": {},
   "outputs": [
    {
     "data": {
      "text/plain": [
       "'/opt/ml/input/data/data/test_dataset/'"
      ]
     },
     "execution_count": 44,
     "metadata": {},
     "output_type": "execute_result"
    }
   ],
   "source": [
    "data_args.dataset_name"
   ]
  },
  {
   "cell_type": "code",
   "execution_count": 75,
   "id": "6b1f7966-ef48-446f-a04b-c101c146a3e4",
   "metadata": {},
   "outputs": [],
   "source": [
    "datasets = load_from_disk(data_args.dataset_name)"
   ]
  },
  {
   "cell_type": "code",
   "execution_count": 7,
   "id": "28fa00ee-91c8-4033-92fb-18f914e4a7e3",
   "metadata": {},
   "outputs": [
    {
     "data": {
      "text/plain": [
       "'/opt/ml/code/models/train_dataset/checkpoint-1500/'"
      ]
     },
     "execution_count": 7,
     "metadata": {},
     "output_type": "execute_result"
    }
   ],
   "source": [
    "model_args.model_name_or_path"
   ]
  },
  {
   "cell_type": "code",
   "execution_count": 8,
   "id": "6714f429-08a0-4bce-b6ff-ac5ce2168536",
   "metadata": {},
   "outputs": [],
   "source": [
    "config = AutoConfig.from_pretrained(\n",
    "    model_args.config_name\n",
    "    if model_args.config_name\n",
    "    else model_args.model_name_or_path,\n",
    ")\n",
    "tokenizer = AutoTokenizer.from_pretrained(\n",
    "    model_args.tokenizer_name\n",
    "    if model_args.tokenizer_name\n",
    "    else model_args.model_name_or_path,\n",
    "    use_fast=True,\n",
    ")\n",
    "model = AutoModelForQuestionAnswering.from_pretrained(\n",
    "    model_args.model_name_or_path,\n",
    "    from_tf=bool(\".ckpt\" in model_args.model_name_or_path),\n",
    "    config=config,\n",
    ")"
   ]
  },
  {
   "cell_type": "code",
   "execution_count": 9,
   "id": "3ec0091d-809c-424a-860e-28306fcf5ba9",
   "metadata": {},
   "outputs": [
    {
     "data": {
      "text/plain": [
       "True"
      ]
     },
     "execution_count": 9,
     "metadata": {},
     "output_type": "execute_result"
    }
   ],
   "source": [
    "data_args.eval_retrieval"
   ]
  },
  {
   "cell_type": "markdown",
   "id": "388cba9b-d5e0-4bec-9db7-a42560c1665f",
   "metadata": {},
   "source": [
    "```python\n",
    "if data_args.eval_retrieval:\n",
    "    datasets = run_sparse_retrieval(datasets, training_args)\n",
    "```\n",
    "\n",
    "#### run_sparse_retrieval\n",
    "\n",
    "**SparseRetrieval**"
   ]
  },
  {
   "cell_type": "code",
   "execution_count": 10,
   "id": "baa7651a-e1bc-4354-b81b-5d334a28d6df",
   "metadata": {},
   "outputs": [
    {
     "name": "stdout",
     "output_type": "stream",
     "text": [
      "Lengths of unique contexts : 56737\n"
     ]
    }
   ],
   "source": [
    "retriever = SparseRetrieval(tokenize_fn=tokenize,\n",
    "                            data_path=\"/opt/ml/input/data/data/\",\n",
    "                            context_path=\"wikipedia_documents.json\")"
   ]
  },
  {
   "cell_type": "code",
   "execution_count": 11,
   "id": "d6910c86-fc7d-49e9-95a8-0d2341fa2837",
   "metadata": {},
   "outputs": [
    {
     "data": {
      "text/plain": [
       "TfidfVectorizer(max_features=50000, ngram_range=(1, 2),\n",
       "                tokenizer=<function tokenize at 0x7fa3f87c3290>)"
      ]
     },
     "execution_count": 11,
     "metadata": {},
     "output_type": "execute_result"
    }
   ],
   "source": [
    "retriever.tfidfv"
   ]
  },
  {
   "cell_type": "code",
   "execution_count": 14,
   "id": "8c7ddc28-0ac7-4e49-b895-46e03cdf8b78",
   "metadata": {},
   "outputs": [
    {
     "data": {
      "text/plain": [
       "True"
      ]
     },
     "execution_count": 14,
     "metadata": {},
     "output_type": "execute_result"
    }
   ],
   "source": [
    "retriever.p_embedding is None"
   ]
  },
  {
   "cell_type": "code",
   "execution_count": 16,
   "id": "4fcce72e-1c1d-4d99-ac99-95cfa556358a",
   "metadata": {},
   "outputs": [
    {
     "data": {
      "text/plain": [
       "True"
      ]
     },
     "execution_count": 16,
     "metadata": {},
     "output_type": "execute_result"
    }
   ],
   "source": [
    "retriever.indexer is None"
   ]
  },
  {
   "cell_type": "markdown",
   "id": "a75e89c0-c44a-4ea2-8cc8-1232c8f0010c",
   "metadata": {},
   "source": [
    "**get_sparse_embedding**"
   ]
  },
  {
   "cell_type": "code",
   "execution_count": 17,
   "id": "aea842a6-5fd9-4d43-ba3a-62ad33fa9efd",
   "metadata": {},
   "outputs": [
    {
     "name": "stdout",
     "output_type": "stream",
     "text": [
      "Embedding pickle load.\n"
     ]
    }
   ],
   "source": [
    "retriever.get_sparse_embedding()"
   ]
  },
  {
   "cell_type": "code",
   "execution_count": 18,
   "id": "3840245b-2e23-44c1-9aac-9b36df46c6f7",
   "metadata": {},
   "outputs": [
    {
     "data": {
      "text/plain": [
       "<56737x50000 sparse matrix of type '<class 'numpy.float64'>'\n",
       "\twith 15905266 stored elements in Compressed Sparse Row format>"
      ]
     },
     "execution_count": 18,
     "metadata": {},
     "output_type": "execute_result"
    }
   ],
   "source": [
    "retriever.p_embedding"
   ]
  },
  {
   "cell_type": "code",
   "execution_count": 21,
   "id": "171b7273-e9a6-4522-b2f7-84c3c0665c10",
   "metadata": {},
   "outputs": [
    {
     "data": {
      "text/plain": [
       "matrix([[0., 0., 0., ..., 0., 0., 0.]], dtype=float32)"
      ]
     },
     "execution_count": 21,
     "metadata": {},
     "output_type": "execute_result"
    }
   ],
   "source": [
    "import numpy as np\n",
    "retriever.p_embedding.astype(np.float32).todense()[0]"
   ]
  },
  {
   "cell_type": "code",
   "execution_count": 23,
   "id": "31cc01a0-48de-4cd6-905d-0470f840c5cb",
   "metadata": {},
   "outputs": [
    {
     "data": {
      "text/plain": [
       "True"
      ]
     },
     "execution_count": 23,
     "metadata": {},
     "output_type": "execute_result"
    }
   ],
   "source": [
    "retriever.indexer is None"
   ]
  },
  {
   "cell_type": "markdown",
   "id": "ebcbf13f-bbfc-4bec-938c-1b4ec01a2dee",
   "metadata": {},
   "source": [
    "**retriever.retrieve**"
   ]
  },
  {
   "cell_type": "markdown",
   "id": "56649684-b784-45fe-ba0c-566147e29f39",
   "metadata": {},
   "source": [
    "(query: str)값이 들어오는 경우"
   ]
  },
  {
   "cell_type": "code",
   "execution_count": 25,
   "id": "74872dab-5cd1-4505-817f-d06536d3cafb",
   "metadata": {},
   "outputs": [
    {
     "name": "stdout",
     "output_type": "stream",
     "text": [
      "[transform] done in 0.003 s\n",
      "[query ex search] done in 1.038 s\n"
     ]
    },
    {
     "data": {
      "text/plain": [
       "([0.2959788753283241], [24903])"
      ]
     },
     "execution_count": 25,
     "metadata": {},
     "output_type": "execute_result"
    }
   ],
   "source": [
    "retriever.get_relevant_doc(\"안녕하세요\", k=1)"
   ]
  },
  {
   "cell_type": "code",
   "execution_count": 26,
   "id": "e0f7702c-93c2-4bd2-b57d-43034ee0cdcb",
   "metadata": {},
   "outputs": [
    {
     "name": "stdout",
     "output_type": "stream",
     "text": [
      "[transform] done in 0.003 s\n",
      "[query ex search] done in 1.310 s\n"
     ]
    },
    {
     "data": {
      "text/plain": [
       "([0.2959788753283241, 0.20983814983342725, 0.2091296880230663],\n",
       " [24903, 11154, 43011])"
      ]
     },
     "execution_count": 26,
     "metadata": {},
     "output_type": "execute_result"
    }
   ],
   "source": [
    "retriever.get_relevant_doc(\"안녕하세요\", k=3)"
   ]
  },
  {
   "cell_type": "code",
   "execution_count": 30,
   "id": "2e9d7dc4-7299-4137-b777-b9f3b9c38f35",
   "metadata": {},
   "outputs": [
    {
     "name": "stdout",
     "output_type": "stream",
     "text": [
      "[transform] done in 0.002 s\n",
      "[query ex search] done in 1.154 s\n"
     ]
    }
   ],
   "source": [
    "doc_scores, doc_indices = retriever.get_relevant_doc(\"안녕하세요\", k=3)"
   ]
  },
  {
   "cell_type": "code",
   "execution_count": 31,
   "id": "3b4a073a-fd97-4a8e-b46d-2af3bef1c58a",
   "metadata": {},
   "outputs": [
    {
     "name": "stdout",
     "output_type": "stream",
     "text": [
      "Top-1 passage with score 0.2960\n",
      "대한민국에서는 정식 발매되지 않았다.\n",
      "\n",
      "* 안녕, 절망선생\n",
      ":애니메이션 1기. 2007년 7월부터 9월까지의 방송을 4장에 나눠 발매했으며, 특장판과 일반판으로 나뉘여져있다.\n",
      "* 절망소녀찬집\n",
      ":애니메이션판 다이제스트 DVD. 애니메이션 1기보다 더욱 원작에 충실하며, 히토 나미의 이야기를 중간중간에 끼워넣었다. 2008년 1월 1일 발매.\n",
      "* 속 안녕, 절망선생\n",
      ":애니메이션 2기. 2008년 1월부터 3월까지의 방송을 4장에 나눠 발매했으며, 특장판과 일반판으로 나뉘여져있다.\n",
      "* 속 절망소녀찬집\n",
      ":애니메이션판 다이제스트 DVD. 절망소녀찬집의 후속작이며, 애니메이션 2기의 내용보다 더욱더 원작에 충실한 내용들로 구성되어 있다. 2008년 8월 27일 발매. 특전영상으로 절망문학집, 에피소드 『은폐졸』의 오리지널 성우진 버전을 수록하였다.(원작에는 성우진 캐스팅을 바꿔서 녹음하였다.)\n",
      "* 옥 안녕, 절망선생\n",
      ":안녕, 절망선생의 오리지널 애니메이션 DVD. 3장으로 구성되어있으며, 각각 2008년 10월 17일, 2008년 12월 10일, 2009년 2월 17일에 발매되었다.\n",
      "* 참 안녕, 절망선생\n",
      ":애니메이션 3기. 2009년 7월부터 9월까지의 방송을 4장에 나눠 발매했으며, 특장판과 일반판으로 나뉘여져있다.\n",
      "* 참 안녕, 절망선생 ~ 번외편\n",
      ":안녕, 절망선생의 오리지널 애니메이션 DVD. 상(上),하(下)편으로 구성되어있다. 각각 2009년 11월 17일, 2010년 2월 17일날 발매되었다.\n",
      "* 안녕, 절망선생 Blu - ray BOX\n",
      ":안녕, 절망선생의 애니메이션 1기의 블루레이판. 디스크 2매로 구성되어있으며 기간한정품이다. 2011년 3월 23일에 발매되었다.\n",
      "* 속 안녕, 절망선생 Blu - ray BOX\n",
      ":안녕, 절망선생의 애니메이션 2기의 블루레이판. 디스크 3매로 구성되어있으며 기간한정품이다. 2011년 5월 25일에 발매되었다.\n",
      "* 참 안녕, 절망선생 Blu - ray BOX\n",
      ":안녕, 절망선생의 애니메이션 3기의 블루레이판. 디스크 3매로 구성되어있으며 기간한정품이다. 2011년 7월 27일에 발매되었다.\n",
      "Top-2 passage with score 0.2098\n",
      "try {\n",
      "  line = console.readLine();\n",
      "\n",
      "  if (line.length() == 0) {\n",
      "    throw new EmptyLineException(\"콘솔에서 읽어들인 줄이 비어 있습니다!\");\n",
      "  }\n",
      "\n",
      "  console.printLine(\"안녕하세요, %s님!\" % line);\n",
      "  console.printLine(\"프로그램이 성공적으로 실행되었습니다\");\n",
      "}\n",
      "catch (EmptyLineException e) {\n",
      "  console.printLine(\"안녕하세요!\");\n",
      "}\n",
      "catch (Exception e) {\n",
      "  console.printLine(\"오류: \" + e.message());\n",
      "}\n",
      "finally {\n",
      "  console.printLine(\"프로그램이 지금 종료되었습니다\");\n",
      "}\n",
      "Top-3 passage with score 0.2091\n",
      "소프트웨어 제품의 복잡함과 다양성은 전개 과정을 조정하고 엔지니어링하기 위한 전문적인 역할의 출현이 촉진되었다. 데스크톱 시스템의 경우, 최종 사용자는 그들의 머신에 소프트웨어 패키지를 설치할 때 \"소프트웨어 전개자\"가 되곤 한다. 엔터프라이즈 소프트웨어의 전개는 많은 역할들을 필요로 하며, 애플리케이션이 테스트(운영 전)에서 운영 환경으로 진행함으로써 그 역할들은 전형적으로 변경된다. 엔터프라이즈 애플리케이션에 대한 소프트웨어 전개에 관련된 전형적인 역할은 다음과 같다:\n",
      "* 운영 이전 환경:\n",
      "** 애플리케이션 개발자: 소프트웨어 개발 과정을 참고하세요\n",
      "** 빌드 및 릴리즈 엔지니어: 릴리즈 엔지니어링을 참고하세요\n",
      "** 릴리즈 관리자: 릴리즈 관리를 참고하세요\n",
      "** 전개 코디네이터: DevOps를 참고하세\n",
      "* 운영 환경:\n",
      "** 시스템 운영자\n",
      "** 데이터베이스 운영자\n",
      "** 릴리즈 코디네이터: DevOps를 참고하세요\n",
      "** 운영 프로젝트 관리자: 정보 기술 기반 라이브러리를 참고하세요\n"
     ]
    }
   ],
   "source": [
    "for i in range(3):\n",
    "    print(\"Top-%d passage with score %.4f\" % (i + 1, doc_scores[i]))\n",
    "    print(retriever.contexts[doc_indices[i]])"
   ]
  },
  {
   "cell_type": "code",
   "execution_count": null,
   "id": "38650903-fa3f-4395-8801-c8cdf5e80954",
   "metadata": {},
   "outputs": [],
   "source": [
    "# return doc_socres, contexts"
   ]
  },
  {
   "cell_type": "markdown",
   "id": "b24c1f63-4b58-4700-a19f-f4b15857bfc0",
   "metadata": {},
   "source": [
    "(dataset: Dataset)이 들어 오는 경우"
   ]
  },
  {
   "cell_type": "code",
   "execution_count": 38,
   "id": "ea1bd76c-a8f7-483f-ba3c-3fa44e81e7d2",
   "metadata": {},
   "outputs": [],
   "source": [
    "import time\n",
    "from contextlib import contextmanager\n",
    "\n",
    "@contextmanager\n",
    "def timer(name):\n",
    "    t0 = time.time()\n",
    "    yield\n",
    "    print(f'[{name}] done in {time.time() - t0:.3f} s')"
   ]
  },
  {
   "cell_type": "code",
   "execution_count": 36,
   "id": "03b015fa-2996-4279-b02d-d6563bb05ee2",
   "metadata": {},
   "outputs": [],
   "source": [
    "class custom_timer:\n",
    "    def __enter__(self):\n",
    "        pass\n",
    "    def __exit__(self):\n",
    "        pass"
   ]
  },
  {
   "cell_type": "code",
   "execution_count": 43,
   "id": "67cf588f-f020-488e-a254-7831c02d5811",
   "metadata": {},
   "outputs": [
    {
     "data": {
      "text/plain": [
       "Dataset({\n",
       "    features: ['id', 'question'],\n",
       "    num_rows: 600\n",
       "})"
      ]
     },
     "execution_count": 43,
     "metadata": {},
     "output_type": "execute_result"
    }
   ],
   "source": [
    "datasets['validation']"
   ]
  },
  {
   "cell_type": "code",
   "execution_count": 45,
   "id": "563c4976-0f68-43bb-82ea-97bf02e69928",
   "metadata": {},
   "outputs": [
    {
     "name": "stdout",
     "output_type": "stream",
     "text": [
      "[query exhaustive search] done in 7.988 s\n"
     ]
    }
   ],
   "source": [
    "total = []\n",
    "\n",
    "with timer(\"query exhaustive search\"):\n",
    "    doc_scores, doc_indices = retriever.get_relevant_doc_bulk(\n",
    "        datasets['validation']['question'], k=1)"
   ]
  },
  {
   "cell_type": "code",
   "execution_count": 48,
   "id": "1d5cdd28-0a1b-4552-82ba-55cc056b0d79",
   "metadata": {},
   "outputs": [
    {
     "name": "stdout",
     "output_type": "stream",
     "text": [
      "600 [[23174], [23174], [33861]]\n"
     ]
    }
   ],
   "source": [
    "# 600개 문서의 top_k개 만큼의 관련 문서를 가져온다.\n",
    "print(len(doc_scores), doc_indices[:3])"
   ]
  },
  {
   "cell_type": "markdown",
   "id": "eed0ab97-ace7-4bd8-83c6-bf5fb5917ac0",
   "metadata": {},
   "source": [
    "**doc_score, doc_index 변환 one_step**"
   ]
  },
  {
   "cell_type": "code",
   "execution_count": 52,
   "id": "0b80fd9b-fd15-456c-b041-c2cf1da26302",
   "metadata": {},
   "outputs": [],
   "source": [
    "idx, example = 0, next(iter(datasets['validation']))"
   ]
  },
  {
   "cell_type": "code",
   "execution_count": 53,
   "id": "aa4747d5-24e8-4dfa-ad19-a977994ad3f2",
   "metadata": {},
   "outputs": [
    {
     "data": {
      "text/plain": [
       "{'question': \"유령'은 어느 행성에서 지구로 왔는가?\", 'id': 'mrc-1-000653'}"
      ]
     },
     "execution_count": 53,
     "metadata": {},
     "output_type": "execute_result"
    }
   ],
   "source": [
    "example"
   ]
  },
  {
   "cell_type": "code",
   "execution_count": 54,
   "id": "2250abda-99d7-4f01-a485-746739b773a4",
   "metadata": {},
   "outputs": [],
   "source": [
    "tmp = {\n",
    "    \"question\": example[\"question\"],\n",
    "    \"id\": example['id'],\n",
    "    \"context_id\": doc_indices[idx][0],  # retrieved id\n",
    "    \"context\": retriever.contexts[doc_indices[idx][0]]  # retrieved doument\n",
    "}"
   ]
  },
  {
   "cell_type": "code",
   "execution_count": 58,
   "id": "c71da94f-bbae-44c9-b34c-ae18999ac7f6",
   "metadata": {},
   "outputs": [
    {
     "data": {
      "text/plain": [
       "{'question': \"유령'은 어느 행성에서 지구로 왔는가?\",\n",
       " 'id': 'mrc-1-000653',\n",
       " 'context_id': 23174,\n",
       " 'context': '베피콜롬보\\n베피콜롬보는 수성 탐사 계획 중 하나로 ESA와 JAXA가 공동으로 계획했다. 소형 탐사선 2기를 보유하고 있으며, 유럽(MPO)과 일본MMO)에서 각각 한 기씩 제공했으며, 또한 한 기는 사진을 찍고, 다른 한 기는 자기장을 연구하는 등 역할이 확실히 구별되어 있다. \\n\\n#태양 성운, 행성계에 있어서, 수성에 대해 연구해야 할 것은 무엇인가?\\n#왜 수성의 밀도는 다른 지구형 행성보다 높은가?\\n#수성의 핵은 액체인가? 고체인가?\\n#오늘날도 수성 구조는 활동적인가?\\n#금성과 화성, 달도 가지고 있지 못 한 작은 행성이 왜 자기장을 가지고 있는가?\\n#수성의 주 성분이 철임에도, 분광 관측으로는 발견되지 않았던 이유는 무엇인가?\\n#극점의 영구 동토에는 황 혹은 얼음이 존재하는가?\\n#외기권의 형성 원리는 무엇인가?\\n#이온층이 없는데도, 자기장과 태양풍이 어떻게 상호 작용을 하는가?\\n#수성의 자화(磁化)된 환경이 지구에서 관측되는 오로라, 밴 앨랜대, 자기 폭풍 등이 존재한다는 것을 암시하는가?\\n#공간의 왜곡으로 인한 수성의 근일점 변화가 일반상대성이론에 근거한 결과의 오차값을 더 줄일 수 있는가\\n\\n매리너 10호나 메신저와 같이, 베피콜롬보는 금성과 지구에서 플라이바이를 사용할 예정이다. 특히, 태양 에너지 추진을 이용하여 달, 금성을 지나 수성에 느린 속도로 도달 할 전망이다. 이런 기술은 태양 중력의 영향을 최소화하여 수성에 접근하기 위해서는 필수적이다\\n\\n베피콜롬보는 2018년 10월 경에 발사 되어, 2025년 12월 5일, 수성 궤도로 진입 할 예정이다. 그 후, 2년동안 수성에 대한 정보를 모으고 연구를 행할 것이다.'}"
      ]
     },
     "execution_count": 58,
     "metadata": {},
     "output_type": "execute_result"
    }
   ],
   "source": [
    "tmp"
   ]
  },
  {
   "cell_type": "code",
   "execution_count": 59,
   "id": "c81c2a4e-2d81-4722-81d5-17023da924dd",
   "metadata": {},
   "outputs": [
    {
     "data": {
      "text/plain": [
       "dict_keys(['question', 'id'])"
      ]
     },
     "execution_count": 59,
     "metadata": {},
     "output_type": "execute_result"
    }
   ],
   "source": [
    "example.keys()"
   ]
  },
  {
   "cell_type": "code",
   "execution_count": 60,
   "id": "eca7973f-bc0d-45e0-9c1f-4dbbd8a0f1ef",
   "metadata": {},
   "outputs": [
    {
     "data": {
      "text/plain": [
       "False"
      ]
     },
     "execution_count": 60,
     "metadata": {},
     "output_type": "execute_result"
    }
   ],
   "source": [
    "'context' in example.keys() and 'answers' in example.keys()"
   ]
  },
  {
   "cell_type": "markdown",
   "id": "bccac3dd-4be7-45c7-9fc6-4cb9e8ca6b4c",
   "metadata": {},
   "source": [
    "```python\n",
    "if 'context' in example.keys() and 'answers' in example.keys():\n",
    "    tmp[\"original_context\"] = example['context']  # original document\n",
    "    tmp[\"answers\"] = example['answers']           # original answer\n",
    "```\n",
    "\n",
    "(evaluation시에 쓰임) answers는 점수 계산에 쓰이고 original_context는 저장은 하나 사용하는 경우는 없다."
   ]
  },
  {
   "cell_type": "code",
   "execution_count": 61,
   "id": "e2b73d41-fb6d-4f02-84ad-2ef6c8d00008",
   "metadata": {},
   "outputs": [],
   "source": [
    "total = []\n",
    "for idx, example in enumerate(datasets['validation']):\n",
    "    tmp = {\n",
    "        \"question\": example[\"question\"],\n",
    "        \"id\": example['id'],\n",
    "        \"context_id\": doc_indices[idx][0],  # retrieved id\n",
    "        \"context\": retriever.contexts[doc_indices[idx][0]]  # retrieved doument\n",
    "    }\n",
    "    if 'context' in example.keys() and 'answers' in example.keys():\n",
    "        tmp[\"original_context\"] = example['context']  # original document\n",
    "        tmp[\"answers\"] = example['answers']           # original answer\n",
    "    total.append(tmp)"
   ]
  },
  {
   "cell_type": "code",
   "execution_count": 64,
   "id": "9e03f6c6-cdb6-4e8e-b07f-f654e3d665ff",
   "metadata": {},
   "outputs": [],
   "source": [
    "import pandas as pd\n",
    "cqas = pd.DataFrame(total)"
   ]
  },
  {
   "cell_type": "markdown",
   "id": "bf6e4928-2e64-44ae-9ae6-caa2423e269c",
   "metadata": {},
   "source": [
    "```python\n",
    "df = retriever.retrieve(datasets['validation'])\n",
    "# df = retriever.retrieve_faiss(dataset['validation'])\n",
    "```"
   ]
  },
  {
   "cell_type": "code",
   "execution_count": 65,
   "id": "1fd29eec-e421-4f27-948a-346ff62a61ab",
   "metadata": {},
   "outputs": [
    {
     "data": {
      "text/html": [
       "<div>\n",
       "<style scoped>\n",
       "    .dataframe tbody tr th:only-of-type {\n",
       "        vertical-align: middle;\n",
       "    }\n",
       "\n",
       "    .dataframe tbody tr th {\n",
       "        vertical-align: top;\n",
       "    }\n",
       "\n",
       "    .dataframe thead th {\n",
       "        text-align: right;\n",
       "    }\n",
       "</style>\n",
       "<table border=\"1\" class=\"dataframe\">\n",
       "  <thead>\n",
       "    <tr style=\"text-align: right;\">\n",
       "      <th></th>\n",
       "      <th>question</th>\n",
       "      <th>id</th>\n",
       "      <th>context_id</th>\n",
       "      <th>context</th>\n",
       "    </tr>\n",
       "  </thead>\n",
       "  <tbody>\n",
       "    <tr>\n",
       "      <th>0</th>\n",
       "      <td>유령'은 어느 행성에서 지구로 왔는가?</td>\n",
       "      <td>mrc-1-000653</td>\n",
       "      <td>23174</td>\n",
       "      <td>베피콜롬보\\n베피콜롬보는 수성 탐사 계획 중 하나로 ESA와 JAXA가 공동으로 계...</td>\n",
       "    </tr>\n",
       "    <tr>\n",
       "      <th>1</th>\n",
       "      <td>용병회사의 경기가 좋아진 것은 무엇이 끝난 이후부터인가?</td>\n",
       "      <td>mrc-1-001113</td>\n",
       "      <td>23174</td>\n",
       "      <td>베피콜롬보\\n베피콜롬보는 수성 탐사 계획 중 하나로 ESA와 JAXA가 공동으로 계...</td>\n",
       "    </tr>\n",
       "    <tr>\n",
       "      <th>2</th>\n",
       "      <td>돌푸스에게 불특정 기간동안 하원이 잠시 쉬는 것을 건의 받았던 인물은?</td>\n",
       "      <td>mrc-0-002191</td>\n",
       "      <td>33861</td>\n",
       "      <td>피쉬의 후기작들 다수는 스포큰 워드를 가사에 포함한다. 초기 마릴리온의 곡에서도 그...</td>\n",
       "    </tr>\n",
       "  </tbody>\n",
       "</table>\n",
       "</div>"
      ],
      "text/plain": [
       "                                  question            id  context_id  \\\n",
       "0                    유령'은 어느 행성에서 지구로 왔는가?  mrc-1-000653       23174   \n",
       "1          용병회사의 경기가 좋아진 것은 무엇이 끝난 이후부터인가?  mrc-1-001113       23174   \n",
       "2  돌푸스에게 불특정 기간동안 하원이 잠시 쉬는 것을 건의 받았던 인물은?  mrc-0-002191       33861   \n",
       "\n",
       "                                             context  \n",
       "0  베피콜롬보\\n베피콜롬보는 수성 탐사 계획 중 하나로 ESA와 JAXA가 공동으로 계...  \n",
       "1  베피콜롬보\\n베피콜롬보는 수성 탐사 계획 중 하나로 ESA와 JAXA가 공동으로 계...  \n",
       "2  피쉬의 후기작들 다수는 스포큰 워드를 가사에 포함한다. 초기 마릴리온의 곡에서도 그...  "
      ]
     },
     "execution_count": 65,
     "metadata": {},
     "output_type": "execute_result"
    }
   ],
   "source": [
    "df = cqas\n",
    "df.head(3)"
   ]
  },
  {
   "cell_type": "markdown",
   "id": "ccc59008-4e4e-467c-a21f-7da6c9633a03",
   "metadata": {},
   "source": [
    "```python\n",
    "    if training_args.do_predict: # test data 에 대해선 정답이 없으므로 id question context 로만 데이터셋이 구성됩니다.\n",
    "f = Features({'context': Value(dtype='string', id=None),\n",
    "              'id': Value(dtype='string', id=None),\n",
    "              'question': Value(dtype='string', id=None)})\n",
    "\n",
    "elif training_args.do_eval: # train data 에 대해선 정답이 존재하므로 id question context answer 로 데이터셋이 구성됩니다.\n",
    "f = Features({'answers': Sequence(feature={'text': Value(dtype='string', id=None),\n",
    "                                           'answer_start': Value(dtype='int32', id=None)},\n",
    "                                  length=-1, id=None),\n",
    "              'context': Value(dtype='string', id=None),\n",
    "              'id': Value(dtype='string', id=None),\n",
    "              'question': Value(dtype='string', id=None)})\n",
    "```"
   ]
  },
  {
   "cell_type": "code",
   "execution_count": 68,
   "id": "f52a287a-d04f-4848-bac9-a6157ba5ded4",
   "metadata": {},
   "outputs": [],
   "source": [
    "f = Features({'context': Value(dtype='string', id=None),\n",
    "              'id': Value(dtype='string', id=None),\n",
    "              'question': Value(dtype='string', id=None)})"
   ]
  },
  {
   "cell_type": "code",
   "execution_count": 71,
   "id": "ba13311e-9baa-43f0-aa9e-c43071d21d07",
   "metadata": {},
   "outputs": [
    {
     "data": {
      "text/plain": [
       "{'context': Value(dtype='string', id=None),\n",
       " 'id': Value(dtype='string', id=None),\n",
       " 'question': Value(dtype='string', id=None)}"
      ]
     },
     "execution_count": 71,
     "metadata": {},
     "output_type": "execute_result"
    }
   ],
   "source": [
    "f"
   ]
  },
  {
   "cell_type": "code",
   "execution_count": 76,
   "id": "619783df-e2ce-4138-9644-01a928a2f222",
   "metadata": {},
   "outputs": [
    {
     "data": {
      "text/plain": [
       "DatasetDict({\n",
       "    validation: Dataset({\n",
       "        features: ['id', 'question'],\n",
       "        num_rows: 600\n",
       "    })\n",
       "})"
      ]
     },
     "execution_count": 76,
     "metadata": {},
     "output_type": "execute_result"
    }
   ],
   "source": [
    "datasets"
   ]
  },
  {
   "cell_type": "code",
   "execution_count": 77,
   "id": "2fbe0a97-ba95-4733-a68b-a42386f9cc5e",
   "metadata": {},
   "outputs": [],
   "source": [
    "new_datasets = DatasetDict({'validation': Dataset.from_pandas(df, features=f)})"
   ]
  },
  {
   "cell_type": "code",
   "execution_count": 78,
   "id": "008fdb36-bcb8-4008-a4ac-8e3872fd6b27",
   "metadata": {},
   "outputs": [
    {
     "data": {
      "text/plain": [
       "DatasetDict({\n",
       "    validation: Dataset({\n",
       "        features: ['context', 'id', 'question'],\n",
       "        num_rows: 600\n",
       "    })\n",
       "})"
      ]
     },
     "execution_count": 78,
     "metadata": {},
     "output_type": "execute_result"
    }
   ],
   "source": [
    "new_datasets"
   ]
  },
  {
   "cell_type": "markdown",
   "id": "4ff78cd6-aaa6-4d52-96a1-579e49d61ce4",
   "metadata": {},
   "source": [
    "### run_mrc"
   ]
  },
  {
   "cell_type": "code",
   "execution_count": 79,
   "id": "900b2fc9-609f-4206-b1b7-c8c34144eb17",
   "metadata": {},
   "outputs": [],
   "source": [
    "column_names = new_datasets[\"validation\"].column_names\n",
    "\n",
    "question_column_name = \"question\" if \"question\" in column_names else column_names[0]\n",
    "context_column_name = \"context\" if \"context\" in column_names else column_names[1]\n",
    "answer_column_name = \"answers\" if \"answers\" in column_names else column_names[2]\n",
    "\n",
    "# Padding side determines if we do (question|context) or (context|question).\n",
    "pad_on_right = tokenizer.padding_side == \"right\"\n",
    "\n",
    "# check if there is an error\n",
    "last_checkpoint, max_seq_length = check_no_error(training_args, data_args, tokenizer, datasets)"
   ]
  },
  {
   "cell_type": "code",
   "execution_count": 83,
   "id": "32aae9c6-39f3-4ae6-a8ac-9785d3350127",
   "metadata": {},
   "outputs": [
    {
     "data": {
      "application/vnd.jupyter.widget-view+json": {
       "model_id": "6e951a13a8ee46d8b1061947ba875409",
       "version_major": 2,
       "version_minor": 0
      },
      "text/plain": [
       "HBox(children=(FloatProgress(value=0.0, max=1.0), HTML(value='')))"
      ]
     },
     "metadata": {},
     "output_type": "display_data"
    },
    {
     "name": "stdout",
     "output_type": "stream",
     "text": [
      "\n",
      "init trainer...\n"
     ]
    },
    {
     "data": {
      "text/html": [
       "\n",
       "    <div>\n",
       "        <style>\n",
       "            /* Turns off some styling */\n",
       "            progress {\n",
       "                /* gets rid of default border in Firefox and Opera. */\n",
       "                border: none;\n",
       "                /* Needs to be in here for Safari polyfill so background images work as expected. */\n",
       "                background-size: auto;\n",
       "            }\n",
       "        </style>\n",
       "      \n",
       "      <progress value='92' max='92' style='width:300px; height:20px; vertical-align: middle;'></progress>\n",
       "      [92/92 00:09]\n",
       "    </div>\n",
       "    "
      ],
      "text/plain": [
       "<IPython.core.display.HTML object>"
      ]
     },
     "metadata": {},
     "output_type": "display_data"
    },
    {
     "data": {
      "application/vnd.jupyter.widget-view+json": {
       "model_id": "e546647d2a9746f1841e4a0b3e26453e",
       "version_major": 2,
       "version_minor": 0
      },
      "text/plain": [
       "HBox(children=(FloatProgress(value=0.0, max=600.0), HTML(value='')))"
      ]
     },
     "metadata": {},
     "output_type": "display_data"
    },
    {
     "name": "stdout",
     "output_type": "stream",
     "text": [
      "\n",
      "No metric can be presented because there is no correct answer given. Job done!\n"
     ]
    }
   ],
   "source": [
    "def prepare_validation_features(examples):\n",
    "    # Tokenize our examples with truncation and maybe padding, but keep the overflows using a stride. This results\n",
    "    # in one example possible giving several features when a context is long, each of those features having a\n",
    "    # context that overlaps a bit the context of the previous feature.\n",
    "    tokenized_examples = tokenizer(\n",
    "        examples[question_column_name if pad_on_right else context_column_name],\n",
    "        examples[context_column_name if pad_on_right else question_column_name],\n",
    "        truncation=\"only_second\" if pad_on_right else \"only_first\",\n",
    "        max_length=max_seq_length,\n",
    "        stride=data_args.doc_stride,\n",
    "        return_overflowing_tokens=True,\n",
    "        return_offsets_mapping=True,\n",
    "        padding=\"max_length\" if data_args.pad_to_max_length else False,\n",
    "    )\n",
    "\n",
    "    # Since one example might give us several features if it has a long context, we need a map from a feature to\n",
    "    # its corresponding example. This key gives us just that.\n",
    "    sample_mapping = tokenized_examples.pop(\"overflow_to_sample_mapping\")\n",
    "\n",
    "    # For evaluation, we will need to convert our predictions to substrings of the context, so we keep the\n",
    "    # corresponding example_id and we will store the offset mappings.\n",
    "    tokenized_examples[\"example_id\"] = []\n",
    "\n",
    "    for i in range(len(tokenized_examples[\"input_ids\"])):\n",
    "        # Grab the sequence corresponding to that example (to know what is the context and what is the question).\n",
    "        sequence_ids = tokenized_examples.sequence_ids(i)\n",
    "        context_index = 1 if pad_on_right else 0\n",
    "\n",
    "        # One example can give several spans, this is the index of the example containing this span of text.\n",
    "        sample_index = sample_mapping[i]\n",
    "        tokenized_examples[\"example_id\"].append(examples[\"id\"][sample_index])\n",
    "\n",
    "        # Set to None the offset_mapping that are not part of the context so it's easy to determine if a token\n",
    "        # position is part of the context or not.\n",
    "        tokenized_examples[\"offset_mapping\"][i] = [\n",
    "            (o if sequence_ids[k] == context_index else None)\n",
    "            for k, o in enumerate(tokenized_examples[\"offset_mapping\"][i])\n",
    "        ]\n",
    "    return tokenized_examples\n",
    "\n",
    "eval_dataset = new_datasets[\"validation\"]\n",
    "\n",
    "# Validation Feature Creation\n",
    "eval_dataset = eval_dataset.map(\n",
    "    prepare_validation_features,\n",
    "    batched=True,\n",
    "    num_proc=data_args.preprocessing_num_workers,\n",
    "    remove_columns=column_names,\n",
    "    load_from_cache_file=not data_args.overwrite_cache,\n",
    ")\n",
    "\n",
    "# Data collator\n",
    "# We have already padded to max length if the corresponding flag is True, otherwise we need to pad in the data collator.\n",
    "data_collator = (\n",
    "    DataCollatorWithPadding(\n",
    "        tokenizer, pad_to_multiple_of=8 if training_args.fp16 else None\n",
    "    )\n",
    ")\n",
    "\n",
    "# Post-processing:\n",
    "def post_processing_function(examples, features, predictions, training_args):\n",
    "    # Post-processing: we match the start logits and end logits to answers in the original context.\n",
    "    predictions = postprocess_qa_predictions(\n",
    "        examples=examples,\n",
    "        features=features,\n",
    "        predictions=predictions,\n",
    "        max_answer_length=data_args.max_answer_length,\n",
    "        output_dir=training_args.output_dir,\n",
    "    )\n",
    "    # Format the result to the format the metric expects.\n",
    "    formatted_predictions = [\n",
    "        {\"id\": k, \"prediction_text\": v} for k, v in predictions.items()\n",
    "    ]\n",
    "    if training_args.do_predict:\n",
    "        return formatted_predictions\n",
    "\n",
    "    elif training_args.do_eval:\n",
    "        references = [\n",
    "            {\"id\": ex[\"id\"], \"answers\": ex[answer_column_name]}\n",
    "            for ex in datasets[\"validation\"]\n",
    "        ]\n",
    "        return EvalPrediction(predictions=formatted_predictions, label_ids=references)\n",
    "\n",
    "metric = load_metric(\"squad\")\n",
    "\n",
    "def compute_metrics(p: EvalPrediction):\n",
    "    return metric.compute(predictions=p.predictions, references=p.label_ids)\n",
    "\n",
    "print(\"init trainer...\")\n",
    "# Initialize our Trainer\n",
    "trainer = QuestionAnsweringTrainer(\n",
    "    model=model,\n",
    "    args=training_args,\n",
    "    train_dataset= None,\n",
    "    eval_dataset=eval_dataset,\n",
    "    eval_examples=datasets['validation'],\n",
    "    tokenizer=tokenizer,\n",
    "    data_collator=data_collator,\n",
    "    post_process_function=post_processing_function,\n",
    "    compute_metrics=compute_metrics,\n",
    ")\n",
    "\n",
    "#### eval dataset & eval example - will create predictions.json\n",
    "if training_args.do_predict:\n",
    "    predictions = trainer.predict(test_dataset=eval_dataset,\n",
    "                                    test_examples=new_datasets['validation'])\n",
    "\n",
    "    # predictions.json is already saved when we call postprocess_qa_predictions(). so there is no need to further use predictions.\n",
    "    print(\"No metric can be presented because there is no correct answer given. Job done!\")\n"
   ]
  },
  {
   "cell_type": "code",
   "execution_count": 84,
   "id": "e74f6639-4d99-4a13-9e85-668a0a3eb485",
   "metadata": {},
   "outputs": [
    {
     "data": {
      "text/plain": [
       "[{'id': 'mrc-1-000653', 'prediction_text': '유럽(MPO)과 일본MMO)'},\n",
       " {'id': 'mrc-1-001113', 'prediction_text': '유럽(MPO)과 일본MMO)'},\n",
       " {'id': 'mrc-0-002191', 'prediction_text': '제네시스 (밴드)'},\n",
       " {'id': 'mrc-0-003951', 'prediction_text': '“미슈텍어”'},\n",
       " {'id': 'mrc-1-001272', 'prediction_text': '대통령에 의하여'},\n",
       " {'id': 'mrc-1-000993', 'prediction_text': \"'trema'\"},\n",
       " {'id': 'mrc-0-005021', 'prediction_text': '『사회주의적 민주주의에 대하여』'},\n",
       " {'id': 'mrc-1-000163', 'prediction_text': '유럽(MPO)과 일본MMO)'},\n",
       " {'id': 'mrc-0-001283', 'prediction_text': '후에 임오군란(1882)'},\n",
       " {'id': 'mrc-0-004543', 'prediction_text': '제3궤조'},\n",
       " {'id': 'mrc-0-000439', 'prediction_text': '나중에'},\n",
       " {'id': 'mrc-0-002895', 'prediction_text': '고슴도치'},\n",
       " {'id': 'mrc-0-000535', 'prediction_text': '\"옵션 아웃\"'},\n",
       " {'id': 'mrc-1-001724', 'prediction_text': \"'역사가는 이따금 소문에 의한 증거를 사용할 수 있음'\"},\n",
       " {'id': 'mrc-0-000901', 'prediction_text': '유럽(MPO)과 일본MMO)'},\n",
       " {'id': 'mrc-0-001606', 'prediction_text': \"'로마네스크'란 용어 자체가 '로마적'\"},\n",
       " {'id': 'mrc-0-000266', 'prediction_text': '유럽(MPO)과 일본MMO)'},\n",
       " {'id': 'mrc-0-001326', 'prediction_text': '처음에는'},\n",
       " {'id': 'mrc-0-000032', 'prediction_text': '1945년'},\n",
       " {'id': 'mrc-0-005215', 'prediction_text': '레콜레타'},\n",
       " {'id': 'mrc-0-005407', 'prediction_text': '귀인은'},\n",
       " {'id': 'mrc-0-003683', 'prediction_text': '궁중의 나인이 쓴 《계축일기》'},\n",
       " {'id': 'mrc-0-003644', 'prediction_text': 'BC 141년에'},\n",
       " {'id': 'mrc-0-002835', 'prediction_text': \"'간접적인 목격자'\"},\n",
       " {'id': 'mrc-0-000049',\n",
       "  'prediction_text': '프로젝트(Experimental Gameplay Project)'},\n",
       " {'id': 'mrc-1-001829', 'prediction_text': '해외이주신고'},\n",
       " {'id': 'mrc-1-001662', 'prediction_text': '\"나카무라 번\"'},\n",
       " {'id': 'mrc-0-001206', 'prediction_text': '단단형'},\n",
       " {'id': 'mrc-0-004007', 'prediction_text': '폰 바이츠제커를 포함하여'},\n",
       " {'id': 'mrc-1-000418', 'prediction_text': '유럽(MPO)'},\n",
       " {'id': 'mrc-0-003133', 'prediction_text': '\"도둑질, 서리\"'},\n",
       " {'id': 'mrc-0-004646', 'prediction_text': '특정'},\n",
       " {'id': 'mrc-0-001058', 'prediction_text': '스투파(Relic Stupa)'},\n",
       " {'id': 'mrc-0-002361', 'prediction_text': '헝가리는 추축국에'},\n",
       " {'id': 'mrc-0-004830', 'prediction_text': '세 번째 위성(나중에 라리사로 명명됨)'},\n",
       " {'id': 'mrc-0-002762', 'prediction_text': '『여지도서』'},\n",
       " {'id': 'mrc-0-000395', 'prediction_text': '12척의'},\n",
       " {'id': 'mrc-0-001668', 'prediction_text': '로이'},\n",
       " {'id': 'mrc-0-004487', 'prediction_text': '‘태몽 설화’'},\n",
       " {'id': 'mrc-0-001086', 'prediction_text': '3월'},\n",
       " {'id': 'mrc-0-004413', 'prediction_text': '처칠은'},\n",
       " {'id': 'mrc-1-000221', 'prediction_text': '이러한'},\n",
       " {'id': 'mrc-0-002177', 'prediction_text': '99.9%'},\n",
       " {'id': 'mrc-0-003223', 'prediction_text': '〈코울리의 생애〉'},\n",
       " {'id': 'mrc-0-000624', 'prediction_text': '2009년'},\n",
       " {'id': 'mrc-0-004318', 'prediction_text': \"'해방전후 회고록'\"},\n",
       " {'id': 'mrc-0-002764', 'prediction_text': '랏자리는 매우'},\n",
       " {'id': 'mrc-0-001725', 'prediction_text': '블랙(Bad Black)은 2017년 시애틀 국제 영화제'},\n",
       " {'id': 'mrc-0-004445', 'prediction_text': '남자 성인'},\n",
       " {'id': 'mrc-0-000001', 'prediction_text': '서울 출신이며 경기여자고등학교를 나온 것으로'},\n",
       " {'id': 'mrc-0-005411', 'prediction_text': '인원'},\n",
       " {'id': 'mrc-1-001280', 'prediction_text': '중국 공산당은 국가발전의 과업을 달성하기'},\n",
       " {'id': 'mrc-0-003385', 'prediction_text': '1584년'},\n",
       " {'id': 'mrc-1-001555', 'prediction_text': '안곡고등학교  안법고등학교'},\n",
       " {'id': 'mrc-0-000854', 'prediction_text': '제시하는'},\n",
       " {'id': 'mrc-0-000504', 'prediction_text': '〈실성이사금조〉'},\n",
       " {'id': 'mrc-0-000988', 'prediction_text': '‘복합 세도막형식’'},\n",
       " {'id': 'mrc-0-003763', 'prediction_text': '옥시링쿠스'},\n",
       " {'id': 'mrc-1-001619', 'prediction_text': '유럽(MPO)'},\n",
       " {'id': 'mrc-0-004880', 'prediction_text': '1957년부터'},\n",
       " {'id': 'mrc-0-003177', 'prediction_text': '얀(Otto Jahn, 1813–1869)'},\n",
       " {'id': 'mrc-1-001523', 'prediction_text': '유럽(MPO)과 일본MMO)'},\n",
       " {'id': 'mrc-1-001353', 'prediction_text': '‘영적 전쟁’'},\n",
       " {'id': 'mrc-0-005278', 'prediction_text': \"'신 빌카밤바'\"},\n",
       " {'id': 'mrc-0-003896', 'prediction_text': '많은'},\n",
       " {'id': 'mrc-0-000339', 'prediction_text': '말페르투치오'},\n",
       " {'id': 'mrc-0-001183', 'prediction_text': '9명의'},\n",
       " {'id': 'mrc-1-001155', 'prediction_text': '기관지(機關誌 또는 機關紙)'},\n",
       " {'id': 'mrc-0-000991', 'prediction_text': '1689년에'},\n",
       " {'id': 'mrc-0-005328', 'prediction_text': \"'간접적인 목격자'\"},\n",
       " {'id': 'mrc-0-002070', 'prediction_text': '\"상이 혼합된 상태\"'},\n",
       " {'id': 'mrc-0-003298', 'prediction_text': '우승'},\n",
       " {'id': 'mrc-0-002453', 'prediction_text': '‘1990년에 올해도 참석하지 않으면 제명된다’'},\n",
       " {'id': 'mrc-0-003274', 'prediction_text': '〈Uptown Girl〉'},\n",
       " {'id': 'mrc-0-004430', 'prediction_text': '유럽(MPO)'},\n",
       " {'id': 'mrc-0-003455', 'prediction_text': '데일리 스케치》'},\n",
       " {'id': 'mrc-0-003628', 'prediction_text': '유럽(MPO)'},\n",
       " {'id': 'mrc-0-000432', 'prediction_text': \"'해방전후 회고록'\"},\n",
       " {'id': 'mrc-0-000540', 'prediction_text': '\"성전사 단바인 성전사 전설\"'},\n",
       " {'id': 'mrc-0-000607', 'prediction_text': '나무 위에서 생활하기 쉽도록'},\n",
       " {'id': 'mrc-0-003540', 'prediction_text': '\"보안 함대\"를 \"서해 함대\"'},\n",
       " {'id': 'mrc-1-001466', 'prediction_text': '가쓰요리'},\n",
       " {'id': 'mrc-0-004954', 'prediction_text': \"'간접적인 목격자'\"},\n",
       " {'id': 'mrc-0-004159', 'prediction_text': '유 (지지)'},\n",
       " {'id': 'mrc-0-001235', 'prediction_text': '미치류라는'},\n",
       " {'id': 'mrc-1-000813', 'prediction_text': \"'초이완(CHOI-WAN)'\"},\n",
       " {'id': 'mrc-0-002445', 'prediction_text': '쩐티엠빈'},\n",
       " {'id': 'mrc-0-004336', 'prediction_text': '존 웨슬리의 감리교 운동의 모태인 홀리 클럽'},\n",
       " {'id': 'mrc-0-001346', 'prediction_text': '우아이나'},\n",
       " {'id': 'mrc-0-003364', 'prediction_text': \"'무엇을 디자인할 것인가?'\"},\n",
       " {'id': 'mrc-0-001891', 'prediction_text': '군단 (Azzurrini)'},\n",
       " {'id': 'mrc-0-000033', 'prediction_text': '몽칼름의'},\n",
       " {'id': 'mrc-0-000201', 'prediction_text': '마셔보거나'},\n",
       " {'id': 'mrc-0-003670', 'prediction_text': '감독자는'},\n",
       " {'id': 'mrc-0-002224',\n",
       "  'prediction_text': '밥 돌을 꺾어 압도적 대승리에 의하여 선거를 이겼다. 클린턴의'},\n",
       " {'id': 'mrc-0-000140', 'prediction_text': '금성뜨락또르공장'},\n",
       " {'id': 'mrc-0-001124', 'prediction_text': '‘베트남전 민간인 학살 진실위원회’'},\n",
       " {'id': 'mrc-0-003870', 'prediction_text': \"'간접적인 목격자'\"},\n",
       " {'id': 'mrc-0-000386', 'prediction_text': '\"동사열전(東師列傳)\"'},\n",
       " {'id': 'mrc-0-005260', 'prediction_text': '‘한국어린이청소년책작가연대’'},\n",
       " {'id': 'mrc-0-004345', 'prediction_text': '어머니가'},\n",
       " {'id': 'mrc-1-000376', 'prediction_text': \"'왼손 대금'\"},\n",
       " {'id': 'mrc-0-001470', 'prediction_text': '< 加平 >의 5현< 縣 >'},\n",
       " {'id': 'mrc-1-000715', 'prediction_text': '예수'},\n",
       " {'id': 'mrc-0-002747', 'prediction_text': '세보르가 공국'},\n",
       " {'id': 'mrc-1-001341', 'prediction_text': '법안(SOPA)과 지식재산권 보호 법안'},\n",
       " {'id': 'mrc-0-003597', 'prediction_text': '\"모든 길은 로마로 통한다\"'},\n",
       " {'id': 'mrc-0-003509', 'prediction_text': '‘쌍둥이 적자’'},\n",
       " {'id': 'mrc-0-001335', 'prediction_text': '유럽(MPO)과 일본MMO)'},\n",
       " {'id': 'mrc-0-004402', 'prediction_text': '대한민국 윤락행위등방지법\\\\n윤락행위등방지법'},\n",
       " {'id': 'mrc-1-001239', 'prediction_text': \"'간접적인 목격자'\"},\n",
       " {'id': 'mrc-1-000225', 'prediction_text': '일부는'},\n",
       " {'id': 'mrc-0-003315', 'prediction_text': '디지털 비트스트림이나 디지털화된 아날로그 신호 )'},\n",
       " {'id': 'mrc-0-004971', 'prediction_text': '3. 황기환'},\n",
       " {'id': 'mrc-0-004538', 'prediction_text': '껍질보리(겉보리)'},\n",
       " {'id': 'mrc-0-001940', 'prediction_text': '석조비로자나불좌상'},\n",
       " {'id': 'mrc-1-000573', 'prediction_text': '베피콜롬보'},\n",
       " {'id': 'mrc-0-005403', 'prediction_text': '분해전위(decomposition potential)'},\n",
       " {'id': 'mrc-0-002046', 'prediction_text': '150여 년이 지난 오늘날에는 양악'},\n",
       " {'id': 'mrc-0-001943', 'prediction_text': '행정심판(行政審判)'},\n",
       " {'id': 'mrc-1-001141', 'prediction_text': '예정론의'},\n",
       " {'id': 'mrc-0-002709', 'prediction_text': '리자베타는'},\n",
       " {'id': 'mrc-0-000313', 'prediction_text': '세월이'},\n",
       " {'id': 'mrc-0-003110', 'prediction_text': '곤차가'},\n",
       " {'id': 'mrc-0-003155', 'prediction_text': '에우리피데스의'},\n",
       " {'id': 'mrc-1-001242', 'prediction_text': 'OL들이'},\n",
       " {'id': 'mrc-0-004432', 'prediction_text': \"'간접적인 목격자'\"},\n",
       " {'id': 'mrc-0-000755', 'prediction_text': 'WFP는'},\n",
       " {'id': 'mrc-1-001802', 'prediction_text': '서방'},\n",
       " {'id': 'mrc-0-001241', 'prediction_text': '정부가'},\n",
       " {'id': 'mrc-1-001457', 'prediction_text': '\"역사를 잊은 자에게 미래는 없다\"'},\n",
       " {'id': 'mrc-0-000016', 'prediction_text': '파농'},\n",
       " {'id': 'mrc-1-000695', 'prediction_text': '유럽(MPO)'},\n",
       " {'id': 'mrc-1-000908', 'prediction_text': 'Gefitinib'},\n",
       " {'id': 'mrc-0-001034', 'prediction_text': \"'간접적인 목격자'\"},\n",
       " {'id': 'mrc-1-001735', 'prediction_text': '‘탁잔(托盞)’'},\n",
       " {'id': 'mrc-1-001179', 'prediction_text': '\"길고 하얀 구름의 땅\"'},\n",
       " {'id': 'mrc-1-000521', 'prediction_text': '추정위치(estimated position, EP)'},\n",
       " {'id': 'mrc-1-000623', 'prediction_text': '< 楊州牧 >'},\n",
       " {'id': 'mrc-0-003953', 'prediction_text': '\"한 변수의 값\"'},\n",
       " {'id': 'mrc-0-002008', 'prediction_text': '따라서'},\n",
       " {'id': 'mrc-0-001699', 'prediction_text': '유럽(MPO)과 일본MMO)'},\n",
       " {'id': 'mrc-0-002374', 'prediction_text': \"'선박들의 무덤'\"},\n",
       " {'id': 'mrc-1-000086', 'prediction_text': '‘무궁화 노래’'},\n",
       " {'id': 'mrc-0-004490', 'prediction_text': '‘연세한국어사전’'},\n",
       " {'id': 'mrc-1-000780', 'prediction_text': '반중성미자'},\n",
       " {'id': 'mrc-0-000037', 'prediction_text': '‘사회적인 실용주의자’'},\n",
       " {'id': 'mrc-0-003187', 'prediction_text': '80~120m에 있는 큰 바위로, 원래'},\n",
       " {'id': 'mrc-1-000021', 'prediction_text': '유럽(MPO)'},\n",
       " {'id': 'mrc-1-001634', 'prediction_text': '< 加平 >의 5현< 縣 >'},\n",
       " {'id': 'mrc-1-000116', 'prediction_text': '베피콜롬보'},\n",
       " {'id': 'mrc-0-004669', 'prediction_text': \"'멕시코 가톨릭 청년회'\"},\n",
       " {'id': 'mrc-0-002210', 'prediction_text': '강호순'},\n",
       " {'id': 'mrc-0-004266', 'prediction_text': '80%'},\n",
       " {'id': 'mrc-1-000862', 'prediction_text': '협상할 의도가 없다는 것이 확실해지자, 공화국 의회는'},\n",
       " {'id': 'mrc-0-001884', 'prediction_text': '약 15만 명의 대군을 이끌고 원정에 나선다. 남옥'},\n",
       " {'id': 'mrc-0-003249', 'prediction_text': '사건의'},\n",
       " {'id': 'mrc-0-001728', 'prediction_text': '3세'},\n",
       " {'id': 'mrc-0-000986', 'prediction_text': '카누테는'},\n",
       " {'id': 'mrc-0-000970', 'prediction_text': '왕(王)'},\n",
       " {'id': 'mrc-0-004182', 'prediction_text': '‘전쟁결정시 충분조건(Jus ad bellum)’'},\n",
       " {'id': 'mrc-0-003970', 'prediction_text': '이스라엘'},\n",
       " {'id': 'mrc-0-004626', 'prediction_text': '믄타리 센자-〉'},\n",
       " {'id': 'mrc-0-000065', 'prediction_text': '국제투자분쟁해결센터'},\n",
       " {'id': 'mrc-0-003016', 'prediction_text': '육군사관학교에서의'},\n",
       " {'id': 'mrc-0-000304', 'prediction_text': '그의 사후'},\n",
       " {'id': 'mrc-0-003205', 'prediction_text': '범어사의'},\n",
       " {'id': 'mrc-0-002169', 'prediction_text': '각황사는'},\n",
       " {'id': 'mrc-0-002771', 'prediction_text': \"'궤도에 들어가기 직전'\"},\n",
       " {'id': 'mrc-0-003359', 'prediction_text': '2017년 5월 캐나다 생장 사관학교'},\n",
       " {'id': 'mrc-1-000666', 'prediction_text': '그의'},\n",
       " {'id': 'mrc-0-003123', 'prediction_text': '오브차라'},\n",
       " {'id': 'mrc-0-003614', 'prediction_text': '정맥을'},\n",
       " {'id': 'mrc-1-000791', 'prediction_text': '틀을'},\n",
       " {'id': 'mrc-1-001485', 'prediction_text': '‘오인된 정체성’'},\n",
       " {'id': 'mrc-1-001025', 'prediction_text': '담량'},\n",
       " {'id': 'mrc-0-003425', 'prediction_text': '우물(infinite potential well)'},\n",
       " {'id': 'mrc-0-002676', 'prediction_text': '‘いた！|이타!’'},\n",
       " {'id': 'mrc-0-001432', 'prediction_text': '초기의'},\n",
       " {'id': 'mrc-1-001332', 'prediction_text': '베피콜롬보'},\n",
       " {'id': 'mrc-0-001281', 'prediction_text': '함승호'},\n",
       " {'id': 'mrc-0-003224',\n",
       "  'prediction_text': '황소자리 T 근처의 작은 성운모양의 물체를 보고 기록했다. \\\\'},\n",
       " {'id': 'mrc-0-000496', 'prediction_text': '육군'},\n",
       " {'id': 'mrc-0-001384', 'prediction_text': '화양부인(華陽夫人)'},\n",
       " {'id': 'mrc-0-003067', 'prediction_text': \"'재건', '개혁'\"},\n",
       " {'id': 'mrc-0-004545', 'prediction_text': '소패'},\n",
       " {'id': 'mrc-0-004460', 'prediction_text': '유럽(MPO)과 일본MMO)'},\n",
       " {'id': 'mrc-0-002975', 'prediction_text': '유럽(MPO)'},\n",
       " {'id': 'mrc-0-004389', 'prediction_text': \"'트루먼 쇼'\"},\n",
       " {'id': 'mrc-0-005180', 'prediction_text': '현상'},\n",
       " {'id': 'mrc-0-001374', 'prediction_text': '요새(아크레)'},\n",
       " {'id': 'mrc-0-000431', 'prediction_text': '상태수'},\n",
       " {'id': 'mrc-0-001783', 'prediction_text': '〈영국 권리 장전〉'},\n",
       " {'id': 'mrc-0-000359', 'prediction_text': '〈전략의 제원리, 1796년 독일 전투를 예로 풀어본다〉'},\n",
       " {'id': 'mrc-0-002967', 'prediction_text': '유럽(MPO)'},\n",
       " {'id': 'mrc-0-001838', 'prediction_text': '2005년 맥컬러스(Ruby McCullers)'},\n",
       " {'id': 'mrc-0-000021',\n",
       "  'prediction_text': '북부 버지니아 육군을 강화하였다.\\\\n\\\\n후에 브레킨리지는'},\n",
       " {'id': 'mrc-0-004709', 'prediction_text': \"'아인슈타인의 십자가'\"},\n",
       " {'id': 'mrc-0-003085', 'prediction_text': '80~90%'},\n",
       " {'id': 'mrc-0-005332', 'prediction_text': '유럽(MPO)'},\n",
       " {'id': 'mrc-1-001594', 'prediction_text': '그래피'},\n",
       " {'id': 'mrc-1-000856', 'prediction_text': '스토우빌에서 출발해'},\n",
       " {'id': 'mrc-0-003629', 'prediction_text': '유성생식은'},\n",
       " {'id': 'mrc-0-005210', 'prediction_text': '내시는'},\n",
       " {'id': 'mrc-0-002685', 'prediction_text': '〈타잔〉'},\n",
       " {'id': 'mrc-0-002938', 'prediction_text': '싱롱와 문화는'},\n",
       " {'id': 'mrc-0-002936', 'prediction_text': '이때의'},\n",
       " {'id': 'mrc-0-002389', 'prediction_text': '통혼'},\n",
       " {'id': 'mrc-0-003706', 'prediction_text': \"'재규어 신관의 신전'\"},\n",
       " {'id': 'mrc-0-001366', 'prediction_text': '1526년'},\n",
       " {'id': 'mrc-0-005387', 'prediction_text': '2월'},\n",
       " {'id': 'mrc-0-003100', 'prediction_text': '< 佛國山 >'},\n",
       " {'id': 'mrc-0-001021', 'prediction_text': '유럽(MPO)과 일본MMO)'},\n",
       " {'id': 'mrc-0-000898', 'prediction_text': '탈피'},\n",
       " {'id': 'mrc-1-000256', 'prediction_text': '조영희(趙暎熙)'},\n",
       " {'id': 'mrc-0-001382', 'prediction_text': 'BC 141년에'},\n",
       " {'id': 'mrc-0-004932', 'prediction_text': '종래'},\n",
       " {'id': 'mrc-1-000008', 'prediction_text': \"'볼프샨체(독일어: Wolfschanze, 늑대소굴)'\"},\n",
       " {'id': 'mrc-0-002723', 'prediction_text': '어음행위의 장소(대한민국 어음법 제2조)'},\n",
       " {'id': 'mrc-0-005465', 'prediction_text': '버섯'},\n",
       " {'id': 'mrc-0-003236', 'prediction_text': '로보지츠'},\n",
       " {'id': 'mrc-0-003365', 'prediction_text': '금보유고'},\n",
       " {'id': 'mrc-0-002788', 'prediction_text': '일본의'},\n",
       " {'id': 'mrc-1-000582', 'prediction_text': '태국의'},\n",
       " {'id': 'mrc-0-001379', 'prediction_text': '2009년부터'},\n",
       " {'id': 'mrc-0-001445', 'prediction_text': \"'간접적인 목격자'\"},\n",
       " {'id': 'mrc-0-000345', 'prediction_text': '2006년'},\n",
       " {'id': 'mrc-0-002584', 'prediction_text': '‘공간’'},\n",
       " {'id': 'mrc-0-004928', 'prediction_text': '2018년'},\n",
       " {'id': 'mrc-0-004803', 'prediction_text': '청백당(כחול לבן|카홀 라반)'},\n",
       " {'id': 'mrc-0-004927', 'prediction_text': '80%'},\n",
       " {'id': 'mrc-1-000536', 'prediction_text': '토론'},\n",
       " {'id': 'mrc-0-002424', 'prediction_text': '1960년에'},\n",
       " {'id': 'mrc-0-000576', 'prediction_text': 'n로레는 1985년에 죽기 전 《너의 아버지는 히틀러다》'},\n",
       " {'id': 'mrc-0-002786', 'prediction_text': '이때의'},\n",
       " {'id': 'mrc-0-000205', 'prediction_text': '서돌궐의 사궤가한'},\n",
       " {'id': 'mrc-0-002518', 'prediction_text': '단카이 세대 당시 태어난'},\n",
       " {'id': 'mrc-0-005293', 'prediction_text': '세 번째 열차가 추가되면서 앞으로 추가'},\n",
       " {'id': 'mrc-1-001027', 'prediction_text': '김모씨'},\n",
       " {'id': 'mrc-0-001105', 'prediction_text': '‘나 또는 개인’'},\n",
       " {'id': 'mrc-0-000122', 'prediction_text': '대한민국'},\n",
       " {'id': 'mrc-0-000712', 'prediction_text': '포토맥군 (남군)'},\n",
       " {'id': 'mrc-0-001896', 'prediction_text': '영국 왕립 원예 협회(RHS)'},\n",
       " {'id': 'mrc-0-003227', 'prediction_text': '< 加平 >의 5현< 縣 >'},\n",
       " {'id': 'mrc-0-002215', 'prediction_text': '황제가'},\n",
       " {'id': 'mrc-0-002601', 'prediction_text': '\"더 클라시커르\"'},\n",
       " {'id': 'mrc-0-004910', 'prediction_text': '인도'},\n",
       " {'id': 'mrc-0-002166', 'prediction_text': '강희제는'},\n",
       " {'id': 'mrc-0-003503', 'prediction_text': '연방'},\n",
       " {'id': 'mrc-0-001845', 'prediction_text': '여권'},\n",
       " {'id': 'mrc-0-001887', 'prediction_text': '재질'},\n",
       " {'id': 'mrc-0-000316', 'prediction_text': '유럽(MPO)'},\n",
       " {'id': 'mrc-0-003027', 'prediction_text': '왜냐하면'},\n",
       " {'id': 'mrc-0-005283', 'prediction_text': '슬개건'},\n",
       " {'id': 'mrc-1-001543', 'prediction_text': '《몰타의 유대인》'},\n",
       " {'id': 'mrc-0-002338', 'prediction_text': \"'배신자'\"},\n",
       " {'id': 'mrc-0-002231', 'prediction_text': '존 랑구스는'},\n",
       " {'id': 'mrc-0-002983', 'prediction_text': '이원화체제'},\n",
       " {'id': 'mrc-0-004017', 'prediction_text': '미국'},\n",
       " {'id': 'mrc-0-001220', 'prediction_text': '유/류 (柳)'},\n",
       " {'id': 'mrc-0-002746', 'prediction_text': '아칸바로에서'},\n",
       " {'id': 'mrc-0-002285', 'prediction_text': '전자파'},\n",
       " {'id': 'mrc-0-001844', 'prediction_text': \"'시나이 문자'\"},\n",
       " {'id': 'mrc-1-001797', 'prediction_text': \"'간접적인 목격자'\"},\n",
       " {'id': 'mrc-0-002028', 'prediction_text': '\"항련 제1로군 약사'},\n",
       " {'id': 'mrc-0-003031', 'prediction_text': '전쟁의'},\n",
       " {'id': 'mrc-1-001020', 'prediction_text': 'BC 141년에'},\n",
       " {'id': 'mrc-0-001574',\n",
       "  'prediction_text': '사법 제도에서 중간 계급들을 통과하기 시작하였다. 1970년대와'},\n",
       " {'id': 'mrc-1-000155', 'prediction_text': '1996년'},\n",
       " {'id': 'mrc-1-000801', 'prediction_text': '문유'},\n",
       " {'id': 'mrc-0-003959', 'prediction_text': '‘자유’'},\n",
       " {'id': 'mrc-1-000235', 'prediction_text': '『마르크스주의와 수정주의』'},\n",
       " {'id': 'mrc-0-002716', 'prediction_text': '페퇴피 샨도르'},\n",
       " {'id': 'mrc-0-000014', 'prediction_text': '1966년'},\n",
       " {'id': 'mrc-0-000246', 'prediction_text': '톰 디마르코의 책 구조적 분석과 시스템 명세'},\n",
       " {'id': 'mrc-0-003961', 'prediction_text': \"'코는 후루헷헨도'\"},\n",
       " {'id': 'mrc-0-001030', 'prediction_text': '〈메밀꽃 필 무렵〉'},\n",
       " {'id': 'mrc-1-001600', 'prediction_text': '‘마귀의 우두머리’'},\n",
       " {'id': 'mrc-1-001721', 'prediction_text': '윤치호의'},\n",
       " {'id': 'mrc-1-000727', 'prediction_text': '‘세계 총대주교’'},\n",
       " {'id': 'mrc-0-004738',\n",
       "  'prediction_text': '영미법에서의 명확성의 원칙(void for vagueness)'},\n",
       " {'id': 'mrc-1-001584', 'prediction_text': '오피스'},\n",
       " {'id': 'mrc-1-000387', 'prediction_text': \"'오픈 콘텐트 그 자체에 대한 비용'\"},\n",
       " {'id': 'mrc-1-001370', 'prediction_text': '실제로'},\n",
       " {'id': 'mrc-1-000621', 'prediction_text': '반경'},\n",
       " {'id': 'mrc-0-001557', 'prediction_text': '<Да здравствует наша держава>'},\n",
       " {'id': 'mrc-0-000850', 'prediction_text': '허튼춤(입춤)'},\n",
       " {'id': 'mrc-0-001149', 'prediction_text': '인공어'},\n",
       " {'id': 'mrc-0-000288', 'prediction_text': '조선 태종 3년(1403)'},\n",
       " {'id': 'mrc-1-001690', 'prediction_text': '머리는'},\n",
       " {'id': 'mrc-1-001603', 'prediction_text': \"'당진군'\"},\n",
       " {'id': 'mrc-0-004363', 'prediction_text': '선제후'},\n",
       " {'id': 'mrc-0-000177', 'prediction_text': \"'유니온 에어로스페이스 코퍼레이션\"},\n",
       " {'id': 'mrc-0-002514', 'prediction_text': '클라우드 스토리지'},\n",
       " {'id': 'mrc-0-001487', 'prediction_text': '존 로이드'},\n",
       " {'id': 'mrc-0-001961', 'prediction_text': \"'간접적인 목격자'\"},\n",
       " {'id': 'mrc-0-001938', 'prediction_text': '윌리엄'},\n",
       " {'id': 'mrc-1-001692', 'prediction_text': '국립공원'},\n",
       " {'id': 'mrc-0-003356', 'prediction_text': '‘무궁화 노래’'},\n",
       " {'id': 'mrc-0-000574', 'prediction_text': \"'Logging Directory'\"},\n",
       " {'id': 'mrc-0-004196', 'prediction_text': '유럽(MPO)과 일본MMO)'},\n",
       " {'id': 'mrc-1-001541', 'prediction_text': '메시아 유대교'},\n",
       " {'id': 'mrc-1-000550', 'prediction_text': '앨리스터'},\n",
       " {'id': 'mrc-1-000769', 'prediction_text': 'n이에'},\n",
       " {'id': 'mrc-0-003442', 'prediction_text': '부분(대부분 화면의 하단)만을 사용해서 표시하는 형식'},\n",
       " {'id': 'mrc-0-000114', 'prediction_text': '코드 서명'},\n",
       " {'id': 'mrc-0-002868', 'prediction_text': '총감(육군 중장 상당관)'},\n",
       " {'id': 'mrc-0-002997', 'prediction_text': '전기분해 셀(Electrolytic Cell)'},\n",
       " {'id': 'mrc-0-002848', 'prediction_text': '존 말코비치(John Malkovich)'},\n",
       " {'id': 'mrc-1-000889', 'prediction_text': '전쟁의'},\n",
       " {'id': 'mrc-1-000267', 'prediction_text': '“M-Touch”'},\n",
       " {'id': 'mrc-0-002654', 'prediction_text': '2005년'},\n",
       " {'id': 'mrc-0-001363', 'prediction_text': '돌로'},\n",
       " {'id': 'mrc-0-002282', 'prediction_text': \"'코페르니쿠스의 전환'\"},\n",
       " {'id': 'mrc-1-001592', 'prediction_text': '일본국유철도'},\n",
       " {'id': 'mrc-1-000013', 'prediction_text': '조선 인조 14년'},\n",
       " {'id': 'mrc-0-003170', 'prediction_text': 'n제2차'},\n",
       " {'id': 'mrc-0-002758', 'prediction_text': '파스칼 추버뷜러'},\n",
       " {'id': 'mrc-1-001310', 'prediction_text': '베드슨'},\n",
       " {'id': 'mrc-1-001545', 'prediction_text': '흰 페인트를'},\n",
       " {'id': 'mrc-1-001727', 'prediction_text': '수영사적공원은'},\n",
       " {'id': 'mrc-0-004755', 'prediction_text': '조선 세조 10년'},\n",
       " {'id': 'mrc-1-001035', 'prediction_text': '지윤(池奫)'},\n",
       " {'id': 'mrc-0-000687', 'prediction_text': \"'아이템'\"},\n",
       " {'id': 'mrc-0-003514', 'prediction_text': '그는 혁명 전쟁의 다른 전투에도 참전했다. 1794년'},\n",
       " {'id': 'mrc-0-004484', 'prediction_text': \"'남한 폭도(暴徒) 대토벌 작전'\"},\n",
       " {'id': 'mrc-0-004310', 'prediction_text': '유명계약'},\n",
       " {'id': 'mrc-0-002525', 'prediction_text': '‘수준 이하’'},\n",
       " {'id': 'mrc-0-004855', 'prediction_text': '을사'},\n",
       " {'id': 'mrc-0-001847', 'prediction_text': '항연은'},\n",
       " {'id': 'mrc-0-003215', 'prediction_text': '루이 르노'},\n",
       " {'id': 'mrc-0-000328', 'prediction_text': '부대(조반니의 휘장에 있는 검은색 줄무늬에서 이름 붙어진)'},\n",
       " {'id': 'mrc-0-002947', 'prediction_text': '목포근대역사관은 전라남도'},\n",
       " {'id': 'mrc-0-001757', 'prediction_text': '〈VALENTI〉'},\n",
       " {'id': 'mrc-0-001778', 'prediction_text': '천황과 스코 천황'},\n",
       " {'id': 'mrc-0-002720', 'prediction_text': '서조연'},\n",
       " {'id': 'mrc-0-003413', 'prediction_text': '황금방울새는'},\n",
       " {'id': 'mrc-0-004594', 'prediction_text': '청구인은'},\n",
       " {'id': 'mrc-0-001133', 'prediction_text': '미헤소케어족은'},\n",
       " {'id': 'mrc-1-000320', 'prediction_text': \"'간접적인 목격자'\"},\n",
       " {'id': 'mrc-0-003669', 'prediction_text': '2014년'},\n",
       " {'id': 'mrc-1-001443', 'prediction_text': \"'신공화당'\"},\n",
       " {'id': 'mrc-0-004862', 'prediction_text': \"'움마'\"},\n",
       " {'id': 'mrc-1-001549', 'prediction_text': '1년'},\n",
       " {'id': 'mrc-0-003821', 'prediction_text': '중포의'},\n",
       " {'id': 'mrc-0-002832', 'prediction_text': '이탈리아'},\n",
       " {'id': 'mrc-1-000691', 'prediction_text': '않은 아이(이후 알렉산더 4세)'},\n",
       " {'id': 'mrc-0-001607', 'prediction_text': '유럽(MPO)과 일본MMO)'},\n",
       " {'id': 'mrc-0-003454', 'prediction_text': '식물원(Linnaean Botalic Garden)'},\n",
       " {'id': 'mrc-0-000206', 'prediction_text': \"'진실'\"},\n",
       " {'id': 'mrc-0-001179', 'prediction_text': '의존성 지옥(dependency hell)'},\n",
       " {'id': 'mrc-0-003043', 'prediction_text': '안기부와'},\n",
       " {'id': 'mrc-0-004648', 'prediction_text': '유럽(MPO)과 일본MMO)'},\n",
       " {'id': 'mrc-0-003434', 'prediction_text': '성교후'},\n",
       " {'id': 'mrc-0-002074', 'prediction_text': \"'간접적인 목격자'\"},\n",
       " {'id': 'mrc-1-000580', 'prediction_text': \"'간접적인 목격자'\"},\n",
       " {'id': 'mrc-0-005097', 'prediction_text': '브리튼인(Britons)'},\n",
       " {'id': 'mrc-0-001324', 'prediction_text': '1981년에'},\n",
       " {'id': 'mrc-0-002816', 'prediction_text': '<여행>'},\n",
       " {'id': 'mrc-0-000895', 'prediction_text': '피터'},\n",
       " {'id': 'mrc-0-002127', 'prediction_text': '『맥베스』'},\n",
       " {'id': 'mrc-0-002436', 'prediction_text': '〈썅운 요리〉'},\n",
       " {'id': 'mrc-0-002265', 'prediction_text': '일반적으로'},\n",
       " {'id': 'mrc-0-003068', 'prediction_text': '〈파프니르가 말하기를〉'},\n",
       " {'id': 'mrc-0-001438', 'prediction_text': \"'선무도'\"},\n",
       " {'id': 'mrc-0-001072', 'prediction_text': \"'간접적인 목격자'\"},\n",
       " {'id': 'mrc-0-002927', 'prediction_text': '그리고'},\n",
       " {'id': 'mrc-0-000028', 'prediction_text': '‘훈련중인 스프린터 셀’'},\n",
       " {'id': 'mrc-1-000292', 'prediction_text': '킹스와'},\n",
       " {'id': 'mrc-0-001415', 'prediction_text': '‘손가락’'},\n",
       " {'id': 'mrc-0-000499', 'prediction_text': '유럽(MPO)'},\n",
       " {'id': 'mrc-1-000650', 'prediction_text': '가셈이'},\n",
       " {'id': 'mrc-0-000780', 'prediction_text': '미국'},\n",
       " {'id': 'mrc-1-001635', 'prediction_text': '일방의'},\n",
       " {'id': 'mrc-0-003105', 'prediction_text': '장면은'},\n",
       " {'id': 'mrc-0-001689', 'prediction_text': '대구광역시에서'},\n",
       " {'id': 'mrc-0-002170', 'prediction_text': '웹 브라우저에서 Nmap을 제어할 수 있는 다양한'},\n",
       " {'id': 'mrc-0-000964', 'prediction_text': \"'더 프랙티스'\"},\n",
       " {'id': 'mrc-0-002414', 'prediction_text': \"'간접적인 목격자'\"},\n",
       " {'id': 'mrc-0-000668', 'prediction_text': '구덩식돌덧널무덤(수혈식석곽묘)'},\n",
       " {'id': 'mrc-0-003544', 'prediction_text': '5.2인치 FHD의 IPS 방식 액정. SoC는'},\n",
       " {'id': 'mrc-0-002033', 'prediction_text': '< 加平 >의 5현< 縣 >'},\n",
       " {'id': 'mrc-1-000189', 'prediction_text': '5.2인치 FHD의 IPS 방식 액정. SoC는'},\n",
       " {'id': 'mrc-0-003180', 'prediction_text': '가장'},\n",
       " {'id': 'mrc-1-001214', 'prediction_text': '상대가'},\n",
       " {'id': 'mrc-0-004245', 'prediction_text': '‘원훈 내각’'},\n",
       " {'id': 'mrc-1-001689', 'prediction_text': \"'간접적인 목격자'\"},\n",
       " {'id': 'mrc-0-002777', 'prediction_text': '유럽(MPO)'},\n",
       " {'id': 'mrc-1-001394', 'prediction_text': '중세'},\n",
       " {'id': 'mrc-1-001716', 'prediction_text': '1368년'},\n",
       " {'id': 'mrc-0-002979', 'prediction_text': '‘영춘헌’'},\n",
       " {'id': 'mrc-0-002493', 'prediction_text': '‘시민미술학교’'},\n",
       " {'id': 'mrc-0-002092', 'prediction_text': '「국가공무원법」'},\n",
       " {'id': 'mrc-0-002536', 'prediction_text': '루트비히'},\n",
       " {'id': 'mrc-0-002219', 'prediction_text': \"'갈등을 피하기 위한 무지'\"},\n",
       " {'id': 'mrc-1-001196', 'prediction_text': '테일러는'},\n",
       " {'id': 'mrc-0-004690', 'prediction_text': '대부분이'},\n",
       " {'id': 'mrc-0-002045', 'prediction_text': '승평'},\n",
       " {'id': 'mrc-0-002879', 'prediction_text': '아랍'},\n",
       " {'id': 'mrc-0-003617', 'prediction_text': '총 연산 능력이다. 이는'},\n",
       " {'id': 'mrc-0-002618', 'prediction_text': '1886년'},\n",
       " {'id': 'mrc-0-001614', 'prediction_text': '고고학에서'},\n",
       " {'id': 'mrc-0-004674', 'prediction_text': '실업군인들은'},\n",
       " {'id': 'mrc-0-000393',\n",
       "  'prediction_text': \"'American Musical and Dramatic Academy'\"},\n",
       " {'id': 'mrc-0-003645', 'prediction_text': '유럽(MPO)'},\n",
       " {'id': 'mrc-0-001272', 'prediction_text': '2011년'},\n",
       " {'id': 'mrc-0-000740', 'prediction_text': \"'간접적인 목격자'\"},\n",
       " {'id': 'mrc-0-003639', 'prediction_text': \"'묶다'\"},\n",
       " {'id': 'mrc-0-003904', 'prediction_text': '중학부'},\n",
       " {'id': 'mrc-0-005094', 'prediction_text': '2012년'},\n",
       " {'id': 'mrc-0-005209', 'prediction_text': '‘劃時期的一大革命’'},\n",
       " {'id': 'mrc-0-003716', 'prediction_text': '배에 화장(paint도장)하고 분(powder화약)'},\n",
       " {'id': 'mrc-0-004081', 'prediction_text': '멕시코만류의'},\n",
       " {'id': 'mrc-0-001180', 'prediction_text': '볼프강'},\n",
       " {'id': 'mrc-0-001046', 'prediction_text': '존 브리커를'},\n",
       " {'id': 'mrc-0-001863', 'prediction_text': \"'e'\"},\n",
       " {'id': 'mrc-0-003926', 'prediction_text': '자좌'},\n",
       " {'id': 'mrc-0-000500', 'prediction_text': '‘언론의 자유와 그 책임’'},\n",
       " {'id': 'mrc-0-001654', 'prediction_text': '굴파르도는'},\n",
       " {'id': 'mrc-0-001123', 'prediction_text': '채식'},\n",
       " {'id': 'mrc-1-000056', 'prediction_text': '〈메탈빌드 스트라이크 프리덤 건담〉'},\n",
       " {'id': 'mrc-0-000852', 'prediction_text': '파푸아뉴기니'},\n",
       " {'id': 'mrc-0-003331', 'prediction_text': '만신전'},\n",
       " {'id': 'mrc-1-001071', 'prediction_text': '수제자 간죠'},\n",
       " {'id': 'mrc-0-001192', 'prediction_text': \"'대한민국 부정세력'\"},\n",
       " {'id': 'mrc-0-005108', 'prediction_text': '사용하면'},\n",
       " {'id': 'mrc-0-004329', 'prediction_text': '뱃속의 아기는 제왕절개로 태어났는데'},\n",
       " {'id': 'mrc-1-001425',\n",
       "  'prediction_text': '사물인터넷(Internet of Things, 약어로 IoT)'},\n",
       " {'id': 'mrc-1-001769', 'prediction_text': '\"성골남진(聖骨男盡)\"'},\n",
       " {'id': 'mrc-0-002916',\n",
       "  'prediction_text': '일본 산업혁명기 당시 열악한 근무조건으로 악명높던 사업체중 하나였던 제사공장'},\n",
       " {'id': 'mrc-0-000435', 'prediction_text': '처음에는'},\n",
       " {'id': 'mrc-1-001269', 'prediction_text': '‘일륜의 아폴로몬’'},\n",
       " {'id': 'mrc-0-000459', 'prediction_text': '레콜레타 묘지의'},\n",
       " {'id': 'mrc-1-000713', 'prediction_text': \"'찹'\"},\n",
       " {'id': 'mrc-1-000218', 'prediction_text': \"'톡'\"},\n",
       " {'id': 'mrc-0-004970', 'prediction_text': '일본에는'},\n",
       " {'id': 'mrc-1-000690', 'prediction_text': \"'경제야 놀자'\"},\n",
       " {'id': 'mrc-0-003499', 'prediction_text': '세포 내에서 물질이 이동하는 것을 의미한다.\\n\\n보통'},\n",
       " {'id': 'mrc-1-000181', 'prediction_text': '포이닉스의 가계에'},\n",
       " {'id': 'mrc-0-003996', 'prediction_text': '2005년에'},\n",
       " {'id': 'mrc-0-004708', 'prediction_text': \"'보육원(kindergarten)'\"},\n",
       " {'id': 'mrc-0-005410', 'prediction_text': '총 2편'},\n",
       " {'id': 'mrc-0-004579', 'prediction_text': '편하설의'},\n",
       " {'id': 'mrc-0-001793', 'prediction_text': \"'간접적인 목격자'\"},\n",
       " {'id': 'mrc-0-000255', 'prediction_text': '유럽(MPO)과 일본MMO)'},\n",
       " {'id': 'mrc-0-001705', 'prediction_text': '\"시에 곡을 붙인 음악의 형식\"'},\n",
       " {'id': 'mrc-0-001539', 'prediction_text': '리차르도'},\n",
       " {'id': 'mrc-1-001624', 'prediction_text': \"'댜틀로프 고개'\"},\n",
       " {'id': 'mrc-1-000694', 'prediction_text': '베피콜롬보'},\n",
       " {'id': 'mrc-0-001425', 'prediction_text': '《삼국유사》'},\n",
       " {'id': 'mrc-1-001516', 'prediction_text': '여기서는'},\n",
       " {'id': 'mrc-1-000954', 'prediction_text': '송림사'},\n",
       " {'id': 'mrc-0-005166', 'prediction_text': '사건'},\n",
       " {'id': 'mrc-0-000096', 'prediction_text': '융합창업기업가센터'},\n",
       " {'id': 'mrc-0-003596', 'prediction_text': '중학교'},\n",
       " {'id': 'mrc-0-002651', 'prediction_text': '14년'},\n",
       " {'id': 'mrc-0-001370', 'prediction_text': '사람의'},\n",
       " {'id': 'mrc-0-002766', 'prediction_text': '인사조직관리는'},\n",
       " {'id': 'mrc-0-000150', 'prediction_text': '총 네 명까지 출전이'},\n",
       " {'id': 'mrc-0-000760', 'prediction_text': '기본적으로'},\n",
       " {'id': 'mrc-1-000870', 'prediction_text': '소년범의 실명 보도를 금하는 일본의 법률'},\n",
       " {'id': 'mrc-1-001011', 'prediction_text': '로타르 마이어는 독일 파렐(당시 올덴부르크 주의 영토)'},\n",
       " {'id': 'mrc-1-000112', 'prediction_text': '\"아무르 지역 군사총독\"'},\n",
       " {'id': 'mrc-0-004510', 'prediction_text': '아핀'},\n",
       " {'id': 'mrc-1-001436', 'prediction_text': '오귀스테'},\n",
       " {'id': 'mrc-0-002482', 'prediction_text': '하우스도르프'},\n",
       " {'id': 'mrc-0-000527', 'prediction_text': \"'간접적인 목격자'\"},\n",
       " {'id': 'mrc-0-004840', 'prediction_text': '피터'},\n",
       " {'id': 'mrc-0-001931', 'prediction_text': '쿠르스크 공세는 독일 육군(Wehrmacht)'},\n",
       " {'id': 'mrc-0-004832', 'prediction_text': \"'동시'\"},\n",
       " {'id': 'mrc-1-001729', 'prediction_text': '이론물리학'},\n",
       " {'id': 'mrc-0-000866', 'prediction_text': '도장'},\n",
       " {'id': 'mrc-1-000278', 'prediction_text': '범람법(flooding method)'},\n",
       " {'id': 'mrc-0-000723', 'prediction_text': '대흥사(大興寺)'},\n",
       " {'id': 'mrc-0-000942', 'prediction_text': '『달의 요정 세일러문』'},\n",
       " {'id': 'mrc-0-004280', 'prediction_text': '‘열전’'},\n",
       " {'id': 'mrc-1-000518', 'prediction_text': 'n알레르기'},\n",
       " {'id': 'mrc-0-004371',\n",
       "  'prediction_text': 'IBM DB2에서는 구체화 쿼리 테이블(materialized query tables)'},\n",
       " {'id': 'mrc-1-001582', 'prediction_text': '‘무궁화 노래’'},\n",
       " {'id': 'mrc-0-002164', 'prediction_text': '< 楊州牧 >'},\n",
       " {'id': 'mrc-0-001076', 'prediction_text': '《교황 연대표》'},\n",
       " {'id': 'mrc-0-003962', 'prediction_text': \"'간접적인 목격자'\"},\n",
       " {'id': 'mrc-1-000094', 'prediction_text': \"'코스모 사우르스'\"},\n",
       " {'id': 'mrc-1-001301', 'prediction_text': '『한국정치학회보』'},\n",
       " {'id': 'mrc-0-002763', 'prediction_text': '제6비(妃) 정덕왕후 유씨'},\n",
       " {'id': 'mrc-0-001429', 'prediction_text': '총대주교(요한 14세)'},\n",
       " {'id': 'mrc-1-000651', 'prediction_text': '대한민국의'},\n",
       " {'id': 'mrc-0-004649', 'prediction_text': 'n로레는 1985년에 죽기 전 《너의 아버지는 히틀러다》'},\n",
       " {'id': 'mrc-0-004438', 'prediction_text': '유럽(MPO)과 일본MMO)'},\n",
       " {'id': 'mrc-0-005422', 'prediction_text': \"'간접적인 목격자'\"},\n",
       " {'id': 'mrc-0-000845', 'prediction_text': '최초의'},\n",
       " {'id': 'mrc-0-002188', 'prediction_text': '삼탄당'},\n",
       " {'id': 'mrc-0-003648', 'prediction_text': \"'소셜트레이딩'\"},\n",
       " {'id': 'mrc-0-003069', 'prediction_text': '베에르셰바 북부 역부터 디몬나까지 뻗는 새로운 지선이'},\n",
       " {'id': 'mrc-0-004759', 'prediction_text': '\"Fisher Space Pen \"'},\n",
       " {'id': 'mrc-1-000412', 'prediction_text': '대한민국'},\n",
       " {'id': 'mrc-0-001078', 'prediction_text': '대구광역시에서'},\n",
       " {'id': 'mrc-0-000394', 'prediction_text': '조선민주주의인민공화국'},\n",
       " {'id': 'mrc-0-002289', 'prediction_text': '일본군들의'},\n",
       " {'id': 'mrc-0-000734', 'prediction_text': '그러나'},\n",
       " {'id': 'mrc-1-000770', 'prediction_text': '한국전쟁'},\n",
       " {'id': 'mrc-0-004187', 'prediction_text': '카트만두'},\n",
       " {'id': 'mrc-1-001554', 'prediction_text': '집단(Guild)'},\n",
       " {'id': 'mrc-0-000062', 'prediction_text': '정란'},\n",
       " {'id': 'mrc-0-003460', 'prediction_text': '펠로폰네소스 전쟁'},\n",
       " {'id': 'mrc-0-003038', 'prediction_text': '‘스타 주교’'},\n",
       " {'id': 'mrc-0-001682',\n",
       "  'prediction_text': '존 도에 대한 살인 혐의로 재판에 회부되지 않았다.  경찰은'},\n",
       " {'id': 'mrc-0-001457', 'prediction_text': '일본은'},\n",
       " {'id': 'mrc-1-000143', 'prediction_text': '제1모국어'},\n",
       " {'id': 'mrc-0-003755', 'prediction_text': '자이가르니크(Bluma Zeigarnik)'},\n",
       " {'id': 'mrc-0-001393', 'prediction_text': '나중에'},\n",
       " {'id': 'mrc-0-001790', 'prediction_text': '지하철'},\n",
       " {'id': 'mrc-0-003418', 'prediction_text': '‘수준 이하’'},\n",
       " {'id': 'mrc-0-002696', 'prediction_text': '1949년'},\n",
       " {'id': 'mrc-0-004465', 'prediction_text': '미국 헌법의 세 군데에 대통령 계승'},\n",
       " {'id': 'mrc-0-002840',\n",
       "  'prediction_text': '밥 돌을 꺾어 압도적 대승리에 의하여 선거를 이겼다. 클린턴의'},\n",
       " {'id': 'mrc-1-000972', 'prediction_text': '052C형은'},\n",
       " {'id': 'mrc-1-000227', 'prediction_text': '손견이'},\n",
       " {'id': 'mrc-0-002155', 'prediction_text': '삭제된'},\n",
       " {'id': 'mrc-0-000564', 'prediction_text': '동료'},\n",
       " {'id': 'mrc-0-001660', 'prediction_text': '유럽(MPO)'},\n",
       " {'id': 'mrc-0-004323', 'prediction_text': '알렉스'},\n",
       " {'id': 'mrc-0-000664', 'prediction_text': \"'간접적인 목격자'\"},\n",
       " {'id': 'mrc-0-000913', 'prediction_text': '수권위원의'},\n",
       " {'id': 'mrc-0-004373', 'prediction_text': '“공권력의 사용”'},\n",
       " {'id': 'mrc-0-004392', 'prediction_text': \"'공안 9과'\"},\n",
       " {'id': 'mrc-1-001229', 'prediction_text': \"'모티브'\"},\n",
       " {'id': 'mrc-0-005342', 'prediction_text': '1세'},\n",
       " {'id': 'mrc-0-000030', 'prediction_text': '1과'},\n",
       " {'id': 'mrc-0-002098', 'prediction_text': \"'간접적인 목격자'\"},\n",
       " {'id': 'mrc-0-000162', 'prediction_text': '18세'},\n",
       " {'id': 'mrc-0-000784', 'prediction_text': '80%'},\n",
       " {'id': 'mrc-0-004040', 'prediction_text': '기존'},\n",
       " {'id': 'mrc-1-001277', 'prediction_text': '블라인딩은'},\n",
       " {'id': 'mrc-0-000434', 'prediction_text': '시기'},\n",
       " {'id': 'mrc-0-002096', 'prediction_text': '노광표(전 한국노동사회연구소 부소장)'},\n",
       " {'id': 'mrc-0-001878', 'prediction_text': '<심청전>'},\n",
       " {'id': 'mrc-0-000211', 'prediction_text': '‘피카레스크 소설’'},\n",
       " {'id': 'mrc-0-004085',\n",
       "  'prediction_text': \"'서울디자인올림픽(Seoul Design Olympiad)'\"},\n",
       " {'id': 'mrc-0-004909', 'prediction_text': '그러나'},\n",
       " {'id': 'mrc-0-003441', 'prediction_text': \"'노래 혁명'\"},\n",
       " {'id': 'mrc-0-003807', 'prediction_text': '반의어'},\n",
       " {'id': 'mrc-0-001026', 'prediction_text': '\"고양이 이야기 (백)\"'},\n",
       " {'id': 'mrc-1-000524', 'prediction_text': '인민군이'},\n",
       " {'id': 'mrc-0-001864', 'prediction_text': '급진시민연합'},\n",
       " {'id': 'mrc-0-004467', 'prediction_text': '2010년'},\n",
       " {'id': 'mrc-0-002636', 'prediction_text': '“조각 조각 자르는 것”'},\n",
       " {'id': 'mrc-0-004710', 'prediction_text': '유럽(MPO)과 일본MMO)'},\n",
       " {'id': 'mrc-0-002581', 'prediction_text': '비공산주의'},\n",
       " {'id': 'mrc-0-005012', 'prediction_text': '라오스 요리는'},\n",
       " {'id': 'mrc-0-003040', 'prediction_text': \"핵 태세 검토 보고서의 작전 운용화'\"},\n",
       " {'id': 'mrc-0-003558', 'prediction_text': '1976년'},\n",
       " {'id': 'mrc-1-001670', 'prediction_text': '5층의 탑신(塔身)'},\n",
       " {'id': 'mrc-0-004531', 'prediction_text': '유럽(MPO)과 일본MMO)'},\n",
       " {'id': 'mrc-0-003835', 'prediction_text': '\"이탈리아의 예술의 궁전\"'},\n",
       " {'id': 'mrc-0-002683', 'prediction_text': '삼길암 목조관음보살좌상'},\n",
       " {'id': 'mrc-0-003770', 'prediction_text': '『성련선』'},\n",
       " {'id': 'mrc-0-003053', 'prediction_text': '중국 국민당 혁명위원회'},\n",
       " {'id': 'mrc-1-001426', 'prediction_text': '0.12톤을 제외한 99.7%'},\n",
       " {'id': 'mrc-0-002782', 'prediction_text': '남인들은'},\n",
       " {'id': 'mrc-0-002245', 'prediction_text': \"'밤에서 낮으로' 또는 '낮에서 밤으로'\"},\n",
       " {'id': 'mrc-0-004111', 'prediction_text': '마루키'},\n",
       " {'id': 'mrc-1-001775', 'prediction_text': '‘정상 가족’'},\n",
       " {'id': 'mrc-0-002130', 'prediction_text': \"'간접적인 목격자'\"},\n",
       " {'id': 'mrc-1-001559', 'prediction_text': '대별하여'},\n",
       " {'id': 'mrc-1-000627', 'prediction_text': \"'혁명적공산주의자동맹'\"},\n",
       " {'id': 'mrc-0-004672', 'prediction_text': \"'옥시전 디스트로이어'\"},\n",
       " {'id': 'mrc-1-001051', 'prediction_text': '나르샤'},\n",
       " {'id': 'mrc-1-001316', 'prediction_text': '공과대학교(UPCT)'},\n",
       " {'id': 'mrc-1-000977', 'prediction_text': '‘앱 음반’'},\n",
       " {'id': 'mrc-1-000788', 'prediction_text': '가우'},\n",
       " {'id': 'mrc-0-002530', 'prediction_text': '기원전'},\n",
       " {'id': 'mrc-0-002481', 'prediction_text': '인터페이스'},\n",
       " {'id': 'mrc-0-000283', 'prediction_text': '중해금(中奚琴)'},\n",
       " {'id': 'mrc-0-003501', 'prediction_text': 'PK'},\n",
       " {'id': 'mrc-0-003500', 'prediction_text': '이소룡이'},\n",
       " {'id': 'mrc-0-004308', 'prediction_text': '시로코'},\n",
       " {'id': 'mrc-1-000841', 'prediction_text': '이태왕'},\n",
       " {'id': 'mrc-1-001669', 'prediction_text': '\"영적골(永迪골)\"'},\n",
       " {'id': 'mrc-0-005486', 'prediction_text': '하구'},\n",
       " {'id': 'mrc-0-004372', 'prediction_text': '다시'},\n",
       " {'id': 'mrc-0-000944', 'prediction_text': '운동단백질은'},\n",
       " {'id': 'mrc-0-004410', 'prediction_text': '유럽(MPO)'},\n",
       " {'id': 'mrc-0-001659', 'prediction_text': \"'피에 굶주린 오크'\"},\n",
       " {'id': 'mrc-0-002991', 'prediction_text': '전학과 새로운'},\n",
       " {'id': 'mrc-0-001251', 'prediction_text': '1956년아이젠하워가'},\n",
       " {'id': 'mrc-0-003528', 'prediction_text': '2년'},\n",
       " {'id': 'mrc-0-002877', 'prediction_text': '코르비니아노는'},\n",
       " {'id': 'mrc-1-000177', 'prediction_text': '한성전보청국(漢城電報總局)'},\n",
       " {'id': 'mrc-0-005447', 'prediction_text': \"'언제'\"},\n",
       " {'id': 'mrc-1-001517', 'prediction_text': '이규완옹백년사'},\n",
       " {'id': 'mrc-0-003711', 'prediction_text': '그리고'},\n",
       " {'id': 'mrc-0-004394', 'prediction_text': \"'생의 철학'\"},\n",
       " {'id': 'mrc-0-004335', 'prediction_text': '5. 빈대 가족의 절약 대전\\n\\n6. 빈대 가족의'},\n",
       " {'id': 'mrc-0-000651', 'prediction_text': '홍콩'},\n",
       " {'id': 'mrc-0-002989', 'prediction_text': '재단 X가 슈라우드'},\n",
       " {'id': 'mrc-0-001804', 'prediction_text': '소급입법안'},\n",
       " {'id': 'mrc-0-003411', 'prediction_text': '총 22가지가'},\n",
       " {'id': 'mrc-0-003436', 'prediction_text': '주노'},\n",
       " {'id': 'mrc-0-002605', 'prediction_text': '용액(溶液, solution)'}]"
      ]
     },
     "execution_count": 84,
     "metadata": {},
     "output_type": "execute_result"
    }
   ],
   "source": [
    "predictions"
   ]
  },
  {
   "cell_type": "code",
   "execution_count": null,
   "id": "52ab50e9-e7db-454d-a6ae-5f68a3fe31aa",
   "metadata": {},
   "outputs": [],
   "source": []
  },
  {
   "cell_type": "code",
   "execution_count": null,
   "id": "4f45b83e-bc1f-404c-9312-96178f1ad724",
   "metadata": {},
   "outputs": [],
   "source": []
  },
  {
   "cell_type": "code",
   "execution_count": null,
   "id": "ae082c0f-4a8b-40f2-96e5-2feef4fa6e95",
   "metadata": {},
   "outputs": [],
   "source": []
  },
  {
   "cell_type": "code",
   "execution_count": null,
   "id": "191b0a7c-8821-469e-abb8-cc8919571ebc",
   "metadata": {},
   "outputs": [],
   "source": []
  },
  {
   "cell_type": "code",
   "execution_count": null,
   "id": "2e5792ea-2c84-4f71-ae8b-e424ae9e2d0d",
   "metadata": {},
   "outputs": [],
   "source": []
  },
  {
   "cell_type": "code",
   "execution_count": null,
   "id": "54706d57-441e-4080-9815-29108779dc1b",
   "metadata": {},
   "outputs": [],
   "source": []
  },
  {
   "cell_type": "code",
   "execution_count": null,
   "id": "0151b65e-8d79-4f18-9a44-ab941c323fb9",
   "metadata": {},
   "outputs": [],
   "source": []
  },
  {
   "cell_type": "code",
   "execution_count": null,
   "id": "1d5ba315-086f-40f7-891a-c2c86763deeb",
   "metadata": {},
   "outputs": [],
   "source": []
  },
  {
   "cell_type": "code",
   "execution_count": null,
   "id": "c9b4e102-b2f6-4c33-9ca2-1194ff364c8c",
   "metadata": {},
   "outputs": [],
   "source": []
  }
 ],
 "metadata": {
  "kernelspec": {
   "display_name": "Python 3",
   "language": "python",
   "name": "python3"
  },
  "language_info": {
   "codemirror_mode": {
    "name": "ipython",
    "version": 3
   },
   "file_extension": ".py",
   "mimetype": "text/x-python",
   "name": "python",
   "nbconvert_exporter": "python",
   "pygments_lexer": "ipython3",
   "version": "3.7.7"
  }
 },
 "nbformat": 4,
 "nbformat_minor": 5
}
