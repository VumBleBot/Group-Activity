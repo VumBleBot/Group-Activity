{
 "cells": [
  {
   "cell_type": "code",
   "execution_count": 2,
   "id": "09415c0f-cec7-42cf-aefc-76033d509372",
   "metadata": {},
   "outputs": [
    {
     "name": "stdout",
     "output_type": "stream",
     "text": [
      "/usr/local/lib/mecab/dic/mecab-ko-dic\n",
      "/opt/conda/lib/python3.7/site-packages/konlpy\n"
     ]
    }
   ],
   "source": [
    "import sys\n",
    "sys.path.append('/opt/ml/code/')\n",
    "import os\n",
    "import sys\n",
    "import logging\n",
    "from datasets import load_metric, load_from_disk\n",
    "\n",
    "from transformers import AutoConfig, AutoModelForQuestionAnswering, AutoTokenizer\n",
    "\n",
    "from transformers import (\n",
    "    DataCollatorWithPadding,\n",
    "    EvalPrediction,\n",
    "    HfArgumentParser,\n",
    "    TrainingArguments,\n",
    "    set_seed,\n",
    ")\n",
    "\n",
    "from retrieval import SparseRetrieval\n",
    "from trainer_qa import QuestionAnsweringTrainer\n",
    "from utils_qa import postprocess_qa_predictions, check_no_error, tokenize\n",
    "\n",
    "from arguments import (\n",
    "    ModelArguments,\n",
    "    DataTrainingArguments,\n",
    ")"
   ]
  },
  {
   "cell_type": "markdown",
   "id": "a57cfb1c-0394-4efd-8c24-721c1fabd595",
   "metadata": {},
   "source": [
    "## def main"
   ]
  },
  {
   "cell_type": "markdown",
   "id": "f76789e1-32ca-4bd6-b606-a3090fa5701c",
   "metadata": {},
   "source": [
    "### 01 Prepare"
   ]
  },
  {
   "cell_type": "code",
   "execution_count": 4,
   "id": "d0866f93-b854-4258-a83e-ba53487455c3",
   "metadata": {},
   "outputs": [],
   "source": [
    "parser = HfArgumentParser(\n",
    "    (ModelArguments, DataTrainingArguments, TrainingArguments)\n",
    ")"
   ]
  },
  {
   "cell_type": "code",
   "execution_count": 5,
   "id": "e7b3c444-43b2-4b6c-9a80-60181857e4d3",
   "metadata": {},
   "outputs": [
    {
     "data": {
      "text/plain": [
       "HfArgumentParser(prog='ipykernel_launcher.py', usage=None, description=None, formatter_class=<class 'argparse.HelpFormatter'>, conflict_handler='error', add_help=True)"
      ]
     },
     "execution_count": 5,
     "metadata": {},
     "output_type": "execute_result"
    }
   ],
   "source": [
    "parser"
   ]
  },
  {
   "cell_type": "code",
   "execution_count": 6,
   "id": "55550ed0-702c-4386-a1d2-504e3d6f235b",
   "metadata": {},
   "outputs": [
    {
     "name": "stdout",
     "output_type": "stream",
     "text": [
      "model is from monologg/kobert\n",
      "data is from /opt/ml/input/data/data/train_dataset\n"
     ]
    }
   ],
   "source": [
    "model_args, data_args, training_args = parser.parse_args_into_dataclasses(args=[\"--output_dir\", \"/opt/ml/code/models/train_dataset/\"])\n",
    "\n",
    "print(f\"model is from {model_args.model_name_or_path}\")\n",
    "print(f\"data is from {data_args.dataset_name}\")"
   ]
  },
  {
   "cell_type": "code",
   "execution_count": 7,
   "id": "1347adc5-817f-4d19-887b-317a779a445e",
   "metadata": {},
   "outputs": [
    {
     "name": "stdout",
     "output_type": "stream",
     "text": [
      "ModelArguments(model_name_or_path='monologg/kobert', config_name=None, tokenizer_name=None)\n",
      "\n",
      "DataTrainingArguments(dataset_name='/opt/ml/input/data/data/train_dataset', overwrite_cache=False, preprocessing_num_workers=None, max_seq_length=384, pad_to_max_length=False, doc_stride=128, max_answer_length=10, train_retrieval=True, eval_retrieval=True)\n",
      "\n",
      "TrainingArguments(output_dir=/opt/ml/code/models/train_dataset/, overwrite_output_dir=False, do_train=False, do_eval=None, do_predict=False, evaluation_strategy=IntervalStrategy.NO, prediction_loss_only=False, per_device_train_batch_size=8, per_device_eval_batch_size=8, gradient_accumulation_steps=1, eval_accumulation_steps=None, learning_rate=5e-05, weight_decay=0.0, adam_beta1=0.9, adam_beta2=0.999, adam_epsilon=1e-08, max_grad_norm=1.0, num_train_epochs=3.0, max_steps=-1, lr_scheduler_type=SchedulerType.LINEAR, warmup_ratio=0.0, warmup_steps=0, logging_dir=runs/Apr29_22-52-14_bd3f724ec494, logging_strategy=IntervalStrategy.STEPS, logging_first_step=False, logging_steps=500, save_strategy=IntervalStrategy.STEPS, save_steps=500, save_total_limit=None, no_cuda=False, seed=42, fp16=False, fp16_opt_level=O1, fp16_backend=auto, fp16_full_eval=False, local_rank=-1, tpu_num_cores=None, tpu_metrics_debug=False, debug=False, dataloader_drop_last=False, eval_steps=500, dataloader_num_workers=0, past_index=-1, run_name=/opt/ml/code/models/train_dataset/, disable_tqdm=False, remove_unused_columns=True, label_names=None, load_best_model_at_end=False, metric_for_best_model=None, greater_is_better=None, ignore_data_skip=False, sharded_ddp=[], deepspeed=None, label_smoothing_factor=0.0, adafactor=False, group_by_length=False, length_column_name=length, report_to=['wandb'], ddp_find_unused_parameters=None, dataloader_pin_memory=True, skip_memory_metrics=False, _n_gpu=1, mp_parameters=)\n"
     ]
    }
   ],
   "source": [
    "print(model_args, data_args, training_args, sep=\"\\n\\n\")"
   ]
  },
  {
   "cell_type": "code",
   "execution_count": 8,
   "id": "568d461e-7959-4b96-a446-bd9619e7c398",
   "metadata": {},
   "outputs": [],
   "source": [
    "set_seed(training_args.seed)"
   ]
  },
  {
   "cell_type": "code",
   "execution_count": 9,
   "id": "ef8b2944-093d-441e-bdf8-b9d9f589474f",
   "metadata": {},
   "outputs": [],
   "source": [
    "datasets = load_from_disk(data_args.dataset_name)"
   ]
  },
  {
   "cell_type": "code",
   "execution_count": 10,
   "id": "36d82478-3e63-43e2-a434-db6a8d433caf",
   "metadata": {},
   "outputs": [
    {
     "name": "stdout",
     "output_type": "stream",
     "text": [
      "DatasetDict({\n",
      "    train: Dataset({\n",
      "        features: ['__index_level_0__', 'answers', 'context', 'document_id', 'id', 'question', 'title'],\n",
      "        num_rows: 3952\n",
      "    })\n",
      "    validation: Dataset({\n",
      "        features: ['__index_level_0__', 'answers', 'context', 'document_id', 'id', 'question', 'title'],\n",
      "        num_rows: 240\n",
      "    })\n",
      "})\n"
     ]
    }
   ],
   "source": [
    "print(datasets)"
   ]
  },
  {
   "cell_type": "code",
   "execution_count": 11,
   "id": "60f263e5-c000-431f-8107-7008f6512bcb",
   "metadata": {},
   "outputs": [
    {
     "data": {
      "text/plain": [
       "(None, None)"
      ]
     },
     "execution_count": 11,
     "metadata": {},
     "output_type": "execute_result"
    }
   ],
   "source": [
    "model_args.config_name, model_args.tokenizer_name"
   ]
  },
  {
   "cell_type": "code",
   "execution_count": 12,
   "id": "0dbca31a-72c7-4cb1-b9d3-32637be978a7",
   "metadata": {},
   "outputs": [
    {
     "name": "stderr",
     "output_type": "stream",
     "text": [
      "Some weights of BertForQuestionAnswering were not initialized from the model checkpoint at monologg/kobert and are newly initialized: ['qa_outputs.weight', 'qa_outputs.bias']\n",
      "You should probably TRAIN this model on a down-stream task to be able to use it for predictions and inference.\n"
     ]
    }
   ],
   "source": [
    "config = AutoConfig.from_pretrained(\n",
    "    model_args.config_name\n",
    "    if model_args.config_name\n",
    "    else model_args.model_name_or_path,\n",
    ")\n",
    "tokenizer = AutoTokenizer.from_pretrained(\n",
    "    model_args.tokenizer_name\n",
    "    if model_args.tokenizer_name\n",
    "    else model_args.model_name_or_path,\n",
    "    use_fast=True,\n",
    ")\n",
    "model = AutoModelForQuestionAnswering.from_pretrained(\n",
    "    model_args.model_name_or_path,\n",
    "    from_tf=bool(\".ckpt\" in model_args.model_name_or_path),\n",
    "    config=config,\n",
    ")"
   ]
  },
  {
   "cell_type": "code",
   "execution_count": 13,
   "id": "0d9fb584-f10f-4c6a-bc6a-fad99ca306d0",
   "metadata": {},
   "outputs": [
    {
     "data": {
      "text/plain": [
       "True"
      ]
     },
     "execution_count": 13,
     "metadata": {},
     "output_type": "execute_result"
    }
   ],
   "source": [
    "data_args.train_retrieval  # default: True"
   ]
  },
  {
   "cell_type": "markdown",
   "id": "5e5b16cd-a3af-4018-8e32-5a263776f4d5",
   "metadata": {},
   "source": [
    "```python\n",
    "if data_args.train_retrieval is True:\n",
    "    run_sparse_embedding()\n",
    "```"
   ]
  },
  {
   "cell_type": "markdown",
   "id": "8ee02f03-e058-4978-b9d4-f54c86535957",
   "metadata": {},
   "source": [
    "## def run_sparse_embedding"
   ]
  },
  {
   "cell_type": "code",
   "execution_count": 14,
   "id": "b739bf04-23d3-4879-abeb-662af618ff10",
   "metadata": {},
   "outputs": [
    {
     "name": "stdout",
     "output_type": "stream",
     "text": [
      "Lengths of unique contexts : 56737\n"
     ]
    }
   ],
   "source": [
    "# from utils_qa import tokenize\n",
    "# tokenize = mecab.morphs\n",
    "\n",
    "retriever = SparseRetrieval(tokenize_fn=tokenize,\n",
    "                            data_path=\"/opt/ml/input/data/data\",\n",
    "                            context_path=\"wikipedia_documents.json\")"
   ]
  },
  {
   "cell_type": "code",
   "execution_count": 15,
   "id": "e7e8252e-aa09-4a89-84b6-ceb949336b54",
   "metadata": {},
   "outputs": [
    {
     "data": {
      "text/plain": [
       "TfidfVectorizer(max_features=50000, ngram_range=(1, 2),\n",
       "                tokenizer=<function tokenize at 0x7f692862a830>)"
      ]
     },
     "execution_count": 15,
     "metadata": {},
     "output_type": "execute_result"
    }
   ],
   "source": [
    "retriever.tfidfv  # not using bigram, sklearn의 추출기, 변환기"
   ]
  },
  {
   "cell_type": "code",
   "execution_count": 16,
   "id": "25afe9fe-d6f5-4b1e-9095-b7781f29d7e3",
   "metadata": {},
   "outputs": [
    {
     "data": {
      "text/plain": [
       "(56737, 56737)"
      ]
     },
     "execution_count": 16,
     "metadata": {},
     "output_type": "execute_result"
    }
   ],
   "source": [
    "len(retriever.contexts), len(retriever.ids)"
   ]
  },
  {
   "cell_type": "code",
   "execution_count": 17,
   "id": "0391982c-df94-472f-8a34-e5e328ab4280",
   "metadata": {},
   "outputs": [
    {
     "name": "stdout",
     "output_type": "stream",
     "text": [
      "Embedding pickle load.\n"
     ]
    }
   ],
   "source": [
    "retriever.get_sparse_embedding()"
   ]
  },
  {
   "cell_type": "code",
   "execution_count": 18,
   "id": "72010f36-cd16-4f7d-ad37-512e6e8556c3",
   "metadata": {},
   "outputs": [
    {
     "data": {
      "text/plain": [
       "<1x50000 sparse matrix of type '<class 'numpy.float64'>'\n",
       "\twith 218 stored elements in Compressed Sparse Row format>"
      ]
     },
     "execution_count": 18,
     "metadata": {},
     "output_type": "execute_result"
    }
   ],
   "source": [
    "retriever.p_embedding[0]"
   ]
  },
  {
   "cell_type": "code",
   "execution_count": 19,
   "id": "a26a1abb-1de8-44e1-9fb5-5c39ba34e766",
   "metadata": {},
   "outputs": [
    {
     "data": {
      "text/plain": [
       "TfidfVectorizer(max_features=50000, ngram_range=(1, 2),\n",
       "                tokenizer=<function tokenize at 0x7f692862a830>)"
      ]
     },
     "execution_count": 19,
     "metadata": {},
     "output_type": "execute_result"
    }
   ],
   "source": [
    "retriever.tfidfv"
   ]
  },
  {
   "cell_type": "code",
   "execution_count": 20,
   "id": "8dd3cb06-e063-476b-8b8c-89746c30eee7",
   "metadata": {},
   "outputs": [],
   "source": [
    "# retriever를 embedding pickle이 있다면 embedding vector가져오고 끝\n",
    "# train.py에서 더 이상 사용되지 않는다. default True라서 의미없이 실행되고 있었음"
   ]
  },
  {
   "cell_type": "markdown",
   "id": "b2d212f3-7cd9-496d-84cc-c2cdb836c2b6",
   "metadata": {},
   "source": [
    "## def run_mrc\n",
    "\n",
    "- def prepare_train_features\n",
    "- def prepare_validation_features\n",
    "- def post_processing_function\n",
    "- def compute_metrics"
   ]
  },
  {
   "cell_type": "code",
   "execution_count": 21,
   "id": "27077dc9-0f4c-4b38-b2f5-ed9eee622d91",
   "metadata": {},
   "outputs": [],
   "source": [
    "if training_args.do_train:\n",
    "    column_names = datasets[\"train\"].column_names\n",
    "else:\n",
    "    column_names = datasets[\"validation\"].column_names"
   ]
  },
  {
   "cell_type": "code",
   "execution_count": 22,
   "id": "d826c0e4-b2df-42a3-8b60-b1eace66a029",
   "metadata": {},
   "outputs": [
    {
     "name": "stdout",
     "output_type": "stream",
     "text": [
      "['title', 'context', 'question', 'id', 'answers', 'document_id', '__index_level_0__']\n"
     ]
    }
   ],
   "source": [
    "print(column_names)"
   ]
  },
  {
   "cell_type": "code",
   "execution_count": 23,
   "id": "99d13d62-0392-493a-8771-7e0cd8b20286",
   "metadata": {},
   "outputs": [],
   "source": [
    "# else 부분은 어떤 데이터셋?, 하드 코딩일 수도\n",
    "question_column_name = \"question\" if \"question\" in column_names else column_names[0]\n",
    "context_column_name = \"context\" if \"context\" in column_names else column_names[1]\n",
    "answer_column_name = \"answers\" if \"answers\" in column_names else column_names[2]"
   ]
  },
  {
   "cell_type": "code",
   "execution_count": 24,
   "id": "c54e6238-838d-4376-96c7-d65ba9410e8a",
   "metadata": {},
   "outputs": [
    {
     "name": "stdout",
     "output_type": "stream",
     "text": [
      "question, context, answers\n"
     ]
    }
   ],
   "source": [
    "print(question_column_name, context_column_name, answer_column_name, sep=\", \")"
   ]
  },
  {
   "cell_type": "code",
   "execution_count": 25,
   "id": "e3db4d50-8e87-41a0-8dd8-3eb5dd445a7b",
   "metadata": {},
   "outputs": [
    {
     "name": "stdout",
     "output_type": "stream",
     "text": [
      "True\n"
     ]
    }
   ],
   "source": [
    "pad_on_right = tokenizer.padding_side == \"right\"\n",
    "print(pad_on_right)"
   ]
  },
  {
   "cell_type": "markdown",
   "id": "9729332b-bd23-4f6a-b754-3960b3835318",
   "metadata": {},
   "source": [
    "```\n",
    "def check_no_error\n",
    "    01-1[ValueError]: last_checkpoint가 없는데 폴더에 뭐가 차 있는 경우: overwrite_output_dir 인자를 사용하라고 권장\n",
    "    01-2            : last_checkpoint가 있는 경우 last_checkpoint 사용\n",
    "\n",
    "    02[ValueError]  : tokenizer가 PreTrainedTokenizerFast의 instance인지 체크, 아니면 Error\n",
    "    03              : max_seq_length와 model_max_length비교 이후 맘에 안 들면 warn\n",
    "    04[ValueError]  : \"validation\"이 없는 경우 ValueError, --do_eval 인자와 상관이 없는 코드\n",
    "```"
   ]
  },
  {
   "cell_type": "code",
   "execution_count": 26,
   "id": "5179f938-e4cf-4043-8f09-10f9805fc439",
   "metadata": {},
   "outputs": [
    {
     "data": {
      "text/plain": [
       "PreTrainedTokenizerFast(name_or_path='monologg/kobert', vocab_size=8002, model_max_len=512, is_fast=True, padding_side='right', special_tokens={'unk_token': '[UNK]', 'sep_token': '[SEP]', 'pad_token': '[PAD]', 'cls_token': '[CLS]', 'mask_token': '[MASK]'})"
      ]
     },
     "execution_count": 26,
     "metadata": {},
     "output_type": "execute_result"
    }
   ],
   "source": [
    "tokenizer"
   ]
  },
  {
   "cell_type": "code",
   "execution_count": 27,
   "id": "5b85f0a3-fdff-47b1-a505-9e3566b0f274",
   "metadata": {},
   "outputs": [],
   "source": [
    "last_checkpoint, max_seq_length = check_no_error(training_args, data_args, tokenizer, datasets)"
   ]
  },
  {
   "cell_type": "code",
   "execution_count": 28,
   "id": "ae593caf-8b2b-4912-a5c4-fd072ab75fc3",
   "metadata": {},
   "outputs": [],
   "source": [
    "if training_args.do_train:  # False\n",
    "    if \"train\" not in datasets:\n",
    "        raise ValueError(\"--do_train requires a train dataset\")\n",
    "    train_dataset = datasets[\"train\"]\n",
    "\n",
    "    # Create train feature from dataset\n",
    "    train_dataset = train_dataset.map(\n",
    "        prepare_train_features,\n",
    "        batched=True,\n",
    "        num_proc=data_args.preprocessing_num_workers,\n",
    "        remove_columns=column_names,\n",
    "        load_from_cache_file=not data_args.overwrite_cache,\n",
    "    )"
   ]
  },
  {
   "cell_type": "code",
   "execution_count": 29,
   "id": "d18cb9c0-60a2-40cb-a2f0-ab883e1274f8",
   "metadata": {},
   "outputs": [],
   "source": [
    "examples = datasets[\"train\"][:10]"
   ]
  },
  {
   "cell_type": "markdown",
   "id": "3ed94fd1-fbf7-4b77-86c4-f3e215b59acc",
   "metadata": {},
   "source": [
    "### def prepare_train_featurestraining_args"
   ]
  },
  {
   "cell_type": "code",
   "execution_count": 30,
   "id": "57c0f67d-24b7-4d09-b098-cdd30a888f20",
   "metadata": {},
   "outputs": [],
   "source": [
    "tokenized_examples = tokenizer(\n",
    "    examples[question_column_name if pad_on_right else context_column_name],\n",
    "    examples[context_column_name if pad_on_right else question_column_name],\n",
    "    truncation=\"only_second\" if pad_on_right else \"only_first\",\n",
    "    max_length=max_seq_length,\n",
    "    stride=data_args.doc_stride,\n",
    "    return_overflowing_tokens=True,\n",
    "    return_offsets_mapping=True,\n",
    "    padding=\"max_length\" if data_args.pad_to_max_length else False,\n",
    ")"
   ]
  },
  {
   "cell_type": "code",
   "execution_count": 31,
   "id": "b209d802-70cf-4a22-a9c2-a0adc01a8594",
   "metadata": {},
   "outputs": [
    {
     "data": {
      "text/plain": [
       "dict_keys(['input_ids', 'token_type_ids', 'attention_mask', 'offset_mapping', 'overflow_to_sample_mapping'])"
      ]
     },
     "execution_count": 31,
     "metadata": {},
     "output_type": "execute_result"
    }
   ],
   "source": [
    "tokenized_examples.keys()"
   ]
  },
  {
   "cell_type": "code",
   "execution_count": 32,
   "id": "9edb9ea6-7e68-47bc-9799-dec766a250f1",
   "metadata": {},
   "outputs": [
    {
     "name": "stdout",
     "output_type": "stream",
     "text": [
      "\n",
      "key: input_ids Value Type: <class 'list'>\n",
      "[2, 0, 0, 0, 0, 0, 0, 5504, 0, 258]\n",
      "\n",
      "key: token_type_ids Value Type: <class 'list'>\n",
      "[0, 0, 0, 0, 0, 0, 0, 0, 0, 0]\n",
      "\n",
      "key: attention_mask Value Type: <class 'list'>\n",
      "[1, 1, 1, 1, 1, 1, 1, 1, 1, 1]\n",
      "\n",
      "key: offset_mapping Value Type: <class 'list'>\n",
      "[(0, 0), (0, 4), (5, 8), (9, 12), (13, 16), (17, 21), (22, 24), (25, 27), (28, 31), (31, 32)]\n",
      "\n",
      "key: overflow_to_sample_mapping Value Type: <class 'list'>\n",
      "[0, 1, 2, 3, 4, 5, 6, 7, 8, 9, 9]\n"
     ]
    }
   ],
   "source": [
    "for k, v in tokenized_examples.items():\n",
    "    print(f\"\\nkey: {k} Value Type: {type(v)}\")\n",
    "    if 'overflow' not in k:\n",
    "        print(tokenized_examples[k][0][:10])\n",
    "    else:\n",
    "        print(tokenized_examples[k])"
   ]
  },
  {
   "cell_type": "markdown",
   "id": "a7cbe6bd-41eb-4ea4-b98d-d83a16128af3",
   "metadata": {},
   "source": [
    "**offset_mapping** : 해당 index의 token이 실제 context에서 어디에 위치하는지를 의미한다. <br>\n",
    "**overflow_to_sample_mapping**: max_seq_length 기준으로 짤린 context의 실제 index를 반환한다."
   ]
  },
  {
   "cell_type": "code",
   "execution_count": 33,
   "id": "b2709c86-da93-4d7e-a0ad-9b39039e8a5b",
   "metadata": {},
   "outputs": [],
   "source": [
    "sample_mapping = tokenized_examples.pop(\"overflow_to_sample_mapping\")\n",
    "offset_mapping = tokenized_examples.pop(\"offset_mapping\")"
   ]
  },
  {
   "cell_type": "code",
   "execution_count": 34,
   "id": "4ea9350a-e4a1-454a-97a2-3eee431fe3dd",
   "metadata": {},
   "outputs": [],
   "source": [
    "tokenized_examples[\"start_positions\"] = []\n",
    "tokenized_examples[\"end_positions\"] = []"
   ]
  },
  {
   "cell_type": "markdown",
   "id": "e594b48b-08b0-421b-b772-49f2b2783794",
   "metadata": {},
   "source": [
    "**prepare_train_features: one_step (docs의 앞 부분)**"
   ]
  },
  {
   "cell_type": "code",
   "execution_count": 35,
   "id": "61f71146-44e8-4bd1-8448-2e4e5b981977",
   "metadata": {},
   "outputs": [],
   "source": [
    "i, offsets = 0, offset_mapping[0]\n",
    "input_ids = tokenized_examples[\"input_ids\"][i]\n",
    "cls_index = input_ids.index(tokenizer.cls_token_id) # cls_index가 0이 아닌 경우도 있을까?"
   ]
  },
  {
   "cell_type": "code",
   "execution_count": 36,
   "id": "87740b23-9728-4e08-aaf9-52e6f8db051a",
   "metadata": {},
   "outputs": [
    {
     "name": "stdout",
     "output_type": "stream",
     "text": [
      "[None, 0, 0, 0, 0, 0, 0, 0, 0, 0, None, 1, 1, 1, 1, 1, 1, 1, 1, 1, 1, 1, 1, 1, 1, 1, 1, 1, 1, 1, 1, 1, 1, 1, 1, 1, 1, 1, 1, 1, 1, 1, 1, 1, 1, 1, 1, 1, 1, 1, 1, 1, 1, 1, 1, 1, 1, 1, 1, 1, 1, 1, 1, 1, 1, 1, 1, 1, 1, 1, 1, 1, 1, 1, 1, 1, 1, 1, 1, 1, 1, 1, 1, 1, 1, 1, 1, 1, 1, 1, 1, 1, 1, 1, 1, 1, 1, 1, 1, 1, 1, 1, 1, 1, 1, 1, 1, 1, 1, 1, 1, 1, 1, 1, 1, 1, 1, 1, 1, 1, 1, 1, 1, 1, 1, 1, 1, 1, 1, 1, 1, 1, 1, 1, 1, 1, 1, 1, 1, 1, 1, 1, 1, 1, 1, 1, 1, 1, 1, 1, 1, 1, 1, 1, 1, 1, 1, 1, 1, 1, 1, 1, 1, 1, 1, 1, 1, 1, 1, 1, 1, 1, 1, 1, 1, 1, 1, 1, 1, 1, 1, 1, 1, 1, 1, 1, 1, 1, 1, 1, 1, 1, 1, 1, 1, 1, 1, 1, 1, 1, 1, 1, 1, 1, 1, 1, 1, 1, 1, 1, 1, 1, 1, 1, 1, 1, 1, 1, 1, 1, 1, 1, 1, 1, 1, 1, 1, 1, 1, 1, 1, 1, 1, 1, 1, 1, 1, 1, 1, 1, 1, 1, 1, 1, 1, 1, 1, 1, 1, 1, 1, 1, 1, None]\n"
     ]
    }
   ],
   "source": [
    "sequence_ids = tokenized_examples.sequence_ids(i)\n",
    "print(sequence_ids)  # token_type_ids랑 비슷한 역할을 한다. 문장 구분"
   ]
  },
  {
   "cell_type": "code",
   "execution_count": 37,
   "id": "36493ae6-8514-477c-8d98-aaeec11d9ce8",
   "metadata": {},
   "outputs": [
    {
     "name": "stdout",
     "output_type": "stream",
     "text": [
      "0 {'answer_start': [235], 'text': ['하원']}\n"
     ]
    }
   ],
   "source": [
    "sample_index = sample_mapping[i]\n",
    "answers = examples[answer_column_name][sample_index]\n",
    "print(sample_index, answers)"
   ]
  },
  {
   "cell_type": "code",
   "execution_count": 38,
   "id": "0157a655-e0bc-4d4d-bb01-8ba900597c30",
   "metadata": {},
   "outputs": [
    {
     "name": "stdout",
     "output_type": "stream",
     "text": [
      "1\n"
     ]
    }
   ],
   "source": [
    "# 정답이 없다면\n",
    "if len(answers[\"answer_start\"]) == 0:\n",
    "    tokenized_examples[\"start_positions\"].append(cls_index)\n",
    "    tokenized_examples[\"end_positions\"].append(cls_index)\n",
    "print(len(answers[\"answer_start\"]))"
   ]
  },
  {
   "cell_type": "code",
   "execution_count": 39,
   "id": "963ff199-899f-4064-9659-d15299a1af63",
   "metadata": {},
   "outputs": [
    {
     "name": "stdout",
     "output_type": "stream",
     "text": [
      "235 237\n"
     ]
    }
   ],
   "source": [
    "# 정답이 있다면, offset을 기준으로 token의 index를 찾는다.\n",
    "\n",
    "start_char = answers[\"answer_start\"][0]\n",
    "end_char = start_char + len(answers[\"text\"][0])\n",
    "print(start_char, end_char)  # 실제 answer의 offset 위치"
   ]
  },
  {
   "cell_type": "code",
   "execution_count": 40,
   "id": "7c403870-2639-4e7d-ac14-91de6cfc67bd",
   "metadata": {},
   "outputs": [],
   "source": [
    "# token_start_index의 위치를 조정하는 단계: 질문의 token을 벗어난다.\n",
    "token_start_index = 0\n",
    "while sequence_ids[token_start_index] != (1 if pad_on_right else 0):\n",
    "    token_start_index += 1\n",
    "\n",
    "# token_end_index의 위치를 조정하는 단게: 아마 padding? \n",
    "token_end_index = len(input_ids) - 1\n",
    "while sequence_ids[token_end_index] != (1 if pad_on_right else 0):\n",
    "    token_end_index -= 1"
   ]
  },
  {
   "cell_type": "code",
   "execution_count": 41,
   "id": "bcf44c01-801e-405a-98ce-2d043a12aa9e",
   "metadata": {},
   "outputs": [
    {
     "data": {
      "text/plain": [
       "(11, 252)"
      ]
     },
     "execution_count": 41,
     "metadata": {},
     "output_type": "execute_result"
    }
   ],
   "source": [
    "token_start_index, token_end_index"
   ]
  },
  {
   "cell_type": "code",
   "execution_count": 42,
   "id": "f073044a-c2c8-475e-8fe6-5676945047cb",
   "metadata": {},
   "outputs": [
    {
     "data": {
      "text/plain": [
       "False"
      ]
     },
     "execution_count": 42,
     "metadata": {},
     "output_type": "execute_result"
    }
   ],
   "source": [
    "# False이면 이 쪼개진 문서안에 정답이 있다는 걸 의미한다. 없을 수도 있음\n",
    "not offsets[token_start_index][0] <= start_char and offsets[token_end_index][1] >= end_char"
   ]
  },
  {
   "cell_type": "code",
   "execution_count": 43,
   "id": "43c3aa7d-651a-4e21-a9ea-e522149b2a24",
   "metadata": {
    "tags": []
   },
   "outputs": [],
   "source": [
    "# 정답이 없는 경우, cls_index 값을 append 해준다.\n",
    "if not offsets[token_start_index][0] <= start_char and offsets[token_end_index][1] >= end_char:\n",
    "    tokenized_examples[\"start_positions\"].append(cls_index)\n",
    "    tokenized_examples[\"end_positions\"].append(cls_index)"
   ]
  },
  {
   "cell_type": "code",
   "execution_count": 44,
   "id": "dbbe72a9-e8de-450b-979b-ee7af9667a2e",
   "metadata": {},
   "outputs": [],
   "source": [
    "# 정답이 있는 경우, 현재_token의 offset 위치와 answer의 offset 위치를 비교하면서 해당_token의 index 찾는다. \n",
    "while (\n",
    "    token_start_index < len(offsets)\n",
    "    and offsets[token_start_index][0] <= start_char\n",
    "):\n",
    "    token_start_index += 1\n",
    "    \n",
    "while offsets[token_end_index][1] >= end_char:\n",
    "    token_end_index -= 1"
   ]
  },
  {
   "cell_type": "markdown",
   "id": "4ce117bb-5b67-460c-9c37-3b0a22818967",
   "metadata": {},
   "source": [
    "**잘 찾아졌는지 Check**"
   ]
  },
  {
   "cell_type": "code",
   "execution_count": 45,
   "id": "0bdf0164-7f01-42cd-bae7-e7004eb822d3",
   "metadata": {},
   "outputs": [
    {
     "data": {
      "text/plain": [
       "(81, 79)"
      ]
     },
     "execution_count": 45,
     "metadata": {},
     "output_type": "execute_result"
    }
   ],
   "source": [
    "token_start_index, token_end_index"
   ]
  },
  {
   "cell_type": "code",
   "execution_count": 46,
   "id": "8a24cdf3-259d-4ccb-a22b-760a773ee565",
   "metadata": {},
   "outputs": [],
   "source": [
    "tokens = tokenizer.convert_ids_to_tokens(input_ids)"
   ]
  },
  {
   "cell_type": "code",
   "execution_count": 51,
   "id": "5719f135-7aef-4124-b9fc-5be6dae5b13e",
   "metadata": {},
   "outputs": [],
   "source": [
    "train_dataset = datasets['train']\n",
    "valid_dataset = datasets['validation']"
   ]
  },
  {
   "cell_type": "code",
   "execution_count": 52,
   "id": "861a1138-0ca1-490f-a6c9-c4c987f78aef",
   "metadata": {},
   "outputs": [
    {
     "name": "stdout",
     "output_type": "stream",
     "text": [
      "정답: 하원\n"
     ]
    }
   ],
   "source": [
    "print(\"정답:\", train_dataset[0]['context'][start_char:end_char])"
   ]
  },
  {
   "cell_type": "code",
   "execution_count": 53,
   "id": "7fdff874-11f1-4439-92ea-22587acdae38",
   "metadata": {},
   "outputs": [
    {
     "data": {
      "text/plain": [
       "('[UNK]', '[UNK]')"
      ]
     },
     "execution_count": 53,
     "metadata": {},
     "output_type": "execute_result"
    }
   ],
   "source": [
    "# 아 slicing으로 해서 그렇구나.\n",
    "tokens[token_start_index-1], tokens[token_end_index+1]"
   ]
  },
  {
   "cell_type": "code",
   "execution_count": 54,
   "id": "da191c38-7a74-4dd7-9a73-96b0b1462d9c",
   "metadata": {},
   "outputs": [
    {
     "data": {
      "text/plain": [
       "((235, 238), (235, 238))"
      ]
     },
     "execution_count": 54,
     "metadata": {},
     "output_type": "execute_result"
    }
   ],
   "source": [
    "offsets[token_start_index-1], offsets[token_end_index+1]"
   ]
  },
  {
   "cell_type": "code",
   "execution_count": 55,
   "id": "fe18ffa1-db21-48e7-ac38-73b1d3fd935a",
   "metadata": {},
   "outputs": [
    {
     "data": {
      "text/plain": [
       "(235, 237)"
      ]
     },
     "execution_count": 55,
     "metadata": {},
     "output_type": "execute_result"
    }
   ],
   "source": [
    "start_char, end_char"
   ]
  },
  {
   "cell_type": "markdown",
   "id": "10f0fe4d-479b-4cca-a4f0-ad222d20d176",
   "metadata": {},
   "source": [
    "**prepare_train_features: one_step (docs의 뒷 부분)**"
   ]
  },
  {
   "cell_type": "code",
   "execution_count": 56,
   "id": "711f367a-cf8b-4d85-802d-ab1621b03dbe",
   "metadata": {},
   "outputs": [],
   "source": [
    "i, offsets = 1, offset_mapping[1]\n",
    "input_ids = tokenized_examples[\"input_ids\"][i]\n",
    "cls_index = input_ids.index(tokenizer.cls_token_id) # cls_index가 0이 아닌 경우도 있을까?"
   ]
  },
  {
   "cell_type": "code",
   "execution_count": 57,
   "id": "5d134089-d019-4232-894a-43cfb57abf15",
   "metadata": {},
   "outputs": [
    {
     "name": "stdout",
     "output_type": "stream",
     "text": [
      "[None, 0, 0, 0, 0, 0, 0, None, 1, 1, 1, 1, 1, 1, 1, 1, 1, 1, 1, 1, 1, 1, 1, 1, 1, 1, 1, 1, 1, 1, 1, 1, 1, 1, 1, 1, 1, 1, 1, 1, 1, 1, 1, 1, 1, 1, 1, 1, 1, 1, 1, 1, 1, 1, 1, 1, 1, 1, 1, 1, 1, 1, 1, 1, 1, 1, 1, 1, 1, 1, 1, 1, 1, 1, 1, 1, 1, 1, 1, 1, 1, 1, 1, 1, 1, 1, 1, 1, 1, 1, 1, 1, 1, 1, 1, 1, 1, 1, 1, 1, 1, 1, 1, 1, 1, 1, 1, 1, 1, 1, 1, 1, 1, 1, 1, 1, 1, 1, 1, 1, 1, 1, 1, 1, 1, 1, 1, 1, 1, 1, 1, 1, 1, 1, 1, 1, 1, 1, 1, 1, 1, 1, 1, 1, 1, 1, 1, 1, 1, 1, 1, 1, 1, 1, 1, 1, 1, 1, 1, 1, 1, 1, 1, 1, 1, 1, 1, 1, 1, 1, 1, 1, 1, 1, 1, 1, 1, None]\n"
     ]
    }
   ],
   "source": [
    "sequence_ids = tokenized_examples.sequence_ids(i)\n",
    "print(sequence_ids)  # token_type_ids랑 비슷한 역할을 한다. 문장 구분"
   ]
  },
  {
   "cell_type": "code",
   "execution_count": 58,
   "id": "41bfaba3-d1a4-4ff3-aa2d-f04b30025c2b",
   "metadata": {},
   "outputs": [
    {
     "name": "stdout",
     "output_type": "stream",
     "text": [
      "1 {'answer_start': [212], 'text': ['《경영의 실제》']}\n"
     ]
    }
   ],
   "source": [
    "sample_index = sample_mapping[i]\n",
    "answers = examples[answer_column_name][sample_index]\n",
    "print(sample_index, answers)"
   ]
  },
  {
   "cell_type": "code",
   "execution_count": 59,
   "id": "22f37d06-6581-44d1-8e95-c1843de0ff2b",
   "metadata": {},
   "outputs": [
    {
     "data": {
      "text/plain": [
       "[{'answer_start': [235], 'text': ['하원']},\n",
       " {'answer_start': [212], 'text': ['《경영의 실제》']},\n",
       " {'answer_start': [510], 'text': ['백성']},\n",
       " {'answer_start': [625], 'text': ['중국']},\n",
       " {'answer_start': [30], 'text': ['4개']},\n",
       " {'answer_start': [91], 'text': ['드래곤']},\n",
       " {'answer_start': [68], 'text': ['형양태수 왕식']},\n",
       " {'answer_start': [583], 'text': ['이탈리아군']},\n",
       " {'answer_start': [195], 'text': ['큰아들 유']},\n",
       " {'answer_start': [861], 'text': ['왕대마을']}]"
      ]
     },
     "execution_count": 59,
     "metadata": {},
     "output_type": "execute_result"
    }
   ],
   "source": [
    "examples['answers']"
   ]
  },
  {
   "cell_type": "code",
   "execution_count": 60,
   "id": "9f90fd60-ee14-469c-9b44-e8042d6c893f",
   "metadata": {},
   "outputs": [
    {
     "name": "stdout",
     "output_type": "stream",
     "text": [
      "1\n"
     ]
    }
   ],
   "source": [
    "# 정답이 없다면\n",
    "if len(answers[\"answer_start\"]) == 0:\n",
    "    tokenized_examples[\"start_positions\"].append(cls_index)\n",
    "    tokenized_examples[\"end_positions\"].append(cls_index)\n",
    "print(len(answers[\"answer_start\"]))"
   ]
  },
  {
   "cell_type": "code",
   "execution_count": 61,
   "id": "cca640f8-e6d4-4d4c-985c-0490969fb76f",
   "metadata": {},
   "outputs": [
    {
     "name": "stdout",
     "output_type": "stream",
     "text": [
      "212 220\n"
     ]
    }
   ],
   "source": [
    "# 정답이 있다면, offset을 기준으로 token의 index를 찾는다.\n",
    "\n",
    "start_char = answers[\"answer_start\"][0]\n",
    "end_char = start_char + len(answers[\"text\"][0])\n",
    "print(start_char, end_char)  # 실제 answer의 offset 위치"
   ]
  },
  {
   "cell_type": "code",
   "execution_count": 62,
   "id": "5b5e6840-4ce5-4991-aff4-bad4af44eaa6",
   "metadata": {},
   "outputs": [],
   "source": [
    "# token_start_index의 위치를 조정하는 단계: 질문의 token을 벗어난다.\n",
    "token_start_index = 0\n",
    "while sequence_ids[token_start_index] != (1 if pad_on_right else 0):\n",
    "    token_start_index += 1\n",
    "\n",
    "# token_end_index의 위치를 조정하는 단게: 아마 padding? \n",
    "token_end_index = len(input_ids) - 1\n",
    "while sequence_ids[token_end_index] != (1 if pad_on_right else 0):\n",
    "    token_end_index -= 1"
   ]
  },
  {
   "cell_type": "code",
   "execution_count": 63,
   "id": "20438a0a-1c4c-4878-abfb-8391ccc898d0",
   "metadata": {},
   "outputs": [
    {
     "data": {
      "text/plain": [
       "False"
      ]
     },
     "execution_count": 63,
     "metadata": {},
     "output_type": "execute_result"
    }
   ],
   "source": [
    "# False이면 이 쪼개진 문서안에 정답이 있다는 걸 의미한다. 없을 수도 있음\n",
    "not offsets[token_start_index][0] <= start_char and offsets[token_end_index][1] >= end_char"
   ]
  },
  {
   "cell_type": "code",
   "execution_count": 64,
   "id": "5f31f47c-3f9a-478e-8191-bee970497eae",
   "metadata": {},
   "outputs": [],
   "source": [
    "# 정답이 없는 경우, cls_index 값을 append 해준다.\n",
    "if not offsets[token_start_index][0] <= start_char and offsets[token_end_index][1] >= end_char:\n",
    "    tokenized_examples[\"start_positions\"].append(cls_index)\n",
    "    tokenized_examples[\"end_positions\"].append(cls_index)"
   ]
  },
  {
   "cell_type": "code",
   "execution_count": 65,
   "id": "e582fcf1-9b4a-4fb2-a5dc-fbea878bb9bc",
   "metadata": {},
   "outputs": [],
   "source": [
    "tokens = tokenizer.convert_ids_to_tokens(input_ids)"
   ]
  },
  {
   "cell_type": "code",
   "execution_count": 66,
   "id": "30306357-82b3-4d55-b8db-ae7514e778ed",
   "metadata": {},
   "outputs": [
    {
     "name": "stdout",
     "output_type": "stream",
     "text": [
      "['[CLS]', '[UNK]', '[UNK]', '[UNK]', '된', '[UNK]', '?', '[SEP]', \"'\", '[UNK]', '[UNK]', \"'\", '[UNK]', \"'\", '[UNK]', '[UNK]', \"'\", '에서', '[UNK]', '[UNK]', '[UNK]', '[UNK]', '[UNK]', '.', '[UNK]', '[UNK]', '[UNK]', ',', '6', '.', '[UNK]', '[UNK]', '[UNK]', '[UNK]', '[UNK]', '[UNK]', ',', '유럽', '[UNK]', '[UNK]', '[UNK]', '아프리카', ',', '아시아', ',', '[UNK]', '[UNK]', '[UNK]', '[UNK]', '[UNK]', ',', '[UNK]', '전쟁', '[UNK]', '[UNK]', '[UNK]', '[UNK]', '[UNK]', '해야', '하던', '[UNK]', '.', '특히', '[UNK]', '[UNK]', '[UNK]', '[UNK]', '[UNK]', '[UNK]', '[UNK]', '[UNK]', '는', '[UNK]', '[UNK]', '[UNK]', '[UNK]', ',', '[UNK]', '[UNK]', '[UNK]', '[UNK]', '[UNK]', '[UNK]', '[UNK]', '된다', '.', '[UNK]', '[UNK]', '[UNK]', '[UNK]', '[UNK]', '[UNK]', '[UNK]', '[UNK]', '[UNK]', '[UNK]', ',', '이', '[UNK]', '[UNK]', '[UNK]', '[UNK]', '[UNK]', '.', '[UNK]', 'n', '[UNK]', '[UNK]', '[UNK]', '[UNK]', '[UNK]', '[UNK]', '큰', '[UNK]', '[UNK]', '.', '[UNK]', '[UNK]', '[UNK]', '[UNK]', '[UNK]', '(', '[UNK]', '경영', ')', '의', '[UNK]', '[UNK]', '[UNK]', ',', '[UNK]', '[UNK]', '현대', '[UNK]', '[UNK]', '[UNK]', '.', '[UNK]', '[UNK]', \"'\", '[UNK]', '[UNK]', \"'\", '[UNK]', '[UNK]', '[UNK]', '[UNK]', '[UNK]', ',', '[UNK]', '[UNK]', '[UNK]', '[UNK]', '[UNK]', '[UNK]', \"'\", '[UNK]', '기업', '조직', \"'\", '[UNK]', '[UNK]', '.', '이', '[UNK]', '[UNK]', '과정', ',', '시스템', ',', '[UNK]', '[UNK]', '하는', '[UNK]', '[UNK]', '[UNK]', '.', '[SEP]']\n"
     ]
    }
   ],
   "source": [
    "print(tokens)"
   ]
  },
  {
   "cell_type": "code",
   "execution_count": 6,
   "id": "3c1d0e64-ecaa-4ca2-ba07-afc10ab7918c",
   "metadata": {
    "tags": []
   },
   "outputs": [],
   "source": [
    "# Training preprocessing\n",
    "def prepare_train_features(examples):\n",
    "    # Tokenize our examples with truncation and maybe padding, but keep the overflows using a stride. This results\n",
    "    # in one example possible giving several features when a context is long, each of those features having a\n",
    "    # context that overlaps a bit the context of the previous feature.\n",
    "    tokenized_examples = tokenizer(\n",
    "        examples[question_column_name if pad_on_right else context_column_name],\n",
    "        examples[context_column_name if pad_on_right else question_column_name],\n",
    "        truncation=\"only_second\" if pad_on_right else \"only_first\",\n",
    "        max_length=max_seq_length,\n",
    "        stride=data_args.doc_stride,\n",
    "        return_overflowing_tokens=True,\n",
    "        return_offsets_mapping=True,\n",
    "        padding=\"max_length\" if data_args.pad_to_max_length else False,\n",
    "    )\n",
    "\n",
    "    # Since one example might give us several features if it has a long context, we need a map from a feature to\n",
    "    # its corresponding example. This key gives us just that.\n",
    "    sample_mapping = tokenized_examples.pop(\"overflow_to_sample_mapping\")\n",
    "    # The offset mappings will give us a map from token to character position in the original context. This will\n",
    "    # help us compute the start_positions and end_positions.\n",
    "    offset_mapping = tokenized_examples.pop(\"offset_mapping\")\n",
    "\n",
    "    # Let's label those examples!\n",
    "    tokenized_examples[\"start_positions\"] = []\n",
    "    tokenized_examples[\"end_positions\"] = []\n",
    "\n",
    "    for i, offsets in enumerate(offset_mapping):\n",
    "        # We will label impossible answers with the index of the CLS token.\n",
    "        input_ids = tokenized_examples[\"input_ids\"][i]\n",
    "        cls_index = input_ids.index(tokenizer.cls_token_id)\n",
    "\n",
    "        # Grab the sequence corresponding to that example (to know what is the context and what is the question).\n",
    "        sequence_ids = tokenized_examples.sequence_ids(i)\n",
    "\n",
    "        # One example can give several spans, this is the index of the example containing this span of text.\n",
    "        sample_index = sample_mapping[i]\n",
    "        answers = examples[answer_column_name][sample_index]\n",
    "        # print(answers)\n",
    "        # If no answers are given, set the cls_index as answer.\n",
    "        if len(answers[\"answer_start\"]) == 0:\n",
    "            tokenized_examples[\"start_positions\"].append(cls_index)\n",
    "            tokenized_examples[\"end_positions\"].append(cls_index)\n",
    "        else:\n",
    "            # Start/end character index of the answer in the text.\n",
    "            start_char = answers[\"answer_start\"][0]\n",
    "            end_char = start_char + len(answers[\"text\"][0])\n",
    "\n",
    "            # Start token index of the current span in the text.\n",
    "            token_start_index = 0\n",
    "            while sequence_ids[token_start_index] != (1 if pad_on_right else 0):\n",
    "                token_start_index += 1\n",
    "\n",
    "            # End token index of the current span in the text.\n",
    "            token_end_index = len(input_ids) - 1\n",
    "            while sequence_ids[token_end_index] != (1 if pad_on_right else 0):\n",
    "                token_end_index -= 1\n",
    "\n",
    "            # Detect if the answer is out of the span (in which case this feature is labeled with the CLS index).\n",
    "            if not (\n",
    "                offsets[token_start_index][0] <= start_char\n",
    "                and offsets[token_end_index][1] >= end_char\n",
    "            ):\n",
    "                tokenized_examples[\"start_positions\"].append(cls_index)\n",
    "                tokenized_examples[\"end_positions\"].append(cls_index)\n",
    "            else:\n",
    "                # Otherwise move the token_start_index and token_end_index to the two ends of the answer.\n",
    "                # Note: we could go after the last offset if the answer is the last word (edge case).\n",
    "                while (\n",
    "                    token_start_index < len(offsets)\n",
    "                    and offsets[token_start_index][0] <= start_char\n",
    "                ):\n",
    "                    token_start_index += 1\n",
    "                tokenized_examples[\"start_positions\"].append(token_start_index - 1)\n",
    "                while offsets[token_end_index][1] >= end_char:\n",
    "                    token_end_index -= 1\n",
    "                tokenized_examples[\"end_positions\"].append(token_end_index + 1)\n",
    "\n",
    "    return tokenized_examples"
   ]
  },
  {
   "cell_type": "code",
   "execution_count": 68,
   "id": "97e060e0-368c-49e3-9dcb-0b6aea1e3e12",
   "metadata": {},
   "outputs": [
    {
     "name": "stdout",
     "output_type": "stream",
     "text": [
      "    "
     ]
    },
    {
     "data": {
      "application/vnd.jupyter.widget-view+json": {
       "model_id": "7c3500b515b74a64aeadcbaca8a5a8be",
       "version_major": 2,
       "version_minor": 0
      },
      "text/plain": [
       "HBox(children=(FloatProgress(value=0.0, description='#3', max=1.0, style=ProgressStyle(description_width='init…"
      ]
     },
     "metadata": {},
     "output_type": "display_data"
    },
    {
     "data": {
      "application/vnd.jupyter.widget-view+json": {
       "model_id": "c19c856a3acb479e91989c73f409ef7a",
       "version_major": 2,
       "version_minor": 0
      },
      "text/plain": [
       "HBox(children=(FloatProgress(value=0.0, description='#0', max=1.0, style=ProgressStyle(description_width='init…"
      ]
     },
     "metadata": {},
     "output_type": "display_data"
    },
    {
     "data": {
      "application/vnd.jupyter.widget-view+json": {
       "model_id": "37953f47468e465c97ca48363e1e8ae2",
       "version_major": 2,
       "version_minor": 0
      },
      "text/plain": [
       "HBox(children=(FloatProgress(value=0.0, description='#2', max=1.0, style=ProgressStyle(description_width='init…"
      ]
     },
     "metadata": {},
     "output_type": "display_data"
    },
    {
     "data": {
      "application/vnd.jupyter.widget-view+json": {
       "model_id": "557bcfaf69d74d67b8e9feb0c5bc9426",
       "version_major": 2,
       "version_minor": 0
      },
      "text/plain": [
       "HBox(children=(FloatProgress(value=0.0, description='#1', max=1.0, style=ProgressStyle(description_width='init…"
      ]
     },
     "metadata": {},
     "output_type": "display_data"
    },
    {
     "name": "stdout",
     "output_type": "stream",
     "text": [
      "\n",
      "\n",
      "\n",
      "\n"
     ]
    }
   ],
   "source": [
    "train_dataset = train_dataset.map(\n",
    "    prepare_train_features,\n",
    "    batched=True,\n",
    "    num_proc=4,\n",
    "    remove_columns=column_names,\n",
    "    load_from_cache_file=True,\n",
    ")"
   ]
  },
  {
   "cell_type": "code",
   "execution_count": 69,
   "id": "9bf403ff-9644-49d7-82d2-0818f886369f",
   "metadata": {},
   "outputs": [],
   "source": [
    "batch = next(iter(train_dataset))"
   ]
  },
  {
   "cell_type": "code",
   "execution_count": 70,
   "id": "4b889a93-02ac-4fcf-91ed-891f1bb546e5",
   "metadata": {},
   "outputs": [
    {
     "data": {
      "text/plain": [
       "254"
      ]
     },
     "execution_count": 70,
     "metadata": {},
     "output_type": "execute_result"
    }
   ],
   "source": [
    "# batch는 맞는 것 같은데 동작 방식이 다른 것 같다..\n",
    "len(batch['input_ids'])"
   ]
  },
  {
   "cell_type": "markdown",
   "id": "63c924af-ef92-4619-8bd5-5b33ab0ca6a6",
   "metadata": {},
   "source": [
    "### def prepare_validation_features"
   ]
  },
  {
   "cell_type": "code",
   "execution_count": 71,
   "id": "77ab99e5-73e9-4edd-8fb0-e3b482a9405f",
   "metadata": {},
   "outputs": [],
   "source": [
    "examples = datasets['validation'][:10]\n",
    "\n",
    "tokenized_examples = tokenizer(\n",
    "    examples[question_column_name if pad_on_right else context_column_name],\n",
    "    examples[context_column_name if pad_on_right else question_column_name],\n",
    "    truncation=\"only_second\" if pad_on_right else \"only_first\",\n",
    "    max_length=max_seq_length,\n",
    "    stride=data_args.doc_stride,\n",
    "    return_overflowing_tokens=True,\n",
    "    return_offsets_mapping=True,\n",
    "    padding=\"max_length\" if data_args.pad_to_max_length else False,\n",
    ")"
   ]
  },
  {
   "cell_type": "code",
   "execution_count": 72,
   "id": "d83fb43d-9cc4-492f-a720-c0839a262e03",
   "metadata": {},
   "outputs": [],
   "source": [
    "sample_mapping = tokenized_examples.pop(\"overflow_to_sample_mapping\")"
   ]
  },
  {
   "cell_type": "code",
   "execution_count": 73,
   "id": "57323035-7ba0-400f-a753-1b2703380640",
   "metadata": {},
   "outputs": [],
   "source": [
    "# For evaluaion, \n",
    "tokenized_examples[\"example_id\"] = []"
   ]
  },
  {
   "cell_type": "markdown",
   "id": "2ffcae1a-7eb5-43fd-89b6-3a55887c55b2",
   "metadata": {},
   "source": [
    "**prepare_validation_features one_step**"
   ]
  },
  {
   "cell_type": "code",
   "execution_count": 74,
   "id": "faf16e78-f14e-4aa5-bbfe-3933575aa595",
   "metadata": {},
   "outputs": [],
   "source": [
    "i = 0\n",
    "sequence_ids = tokenized_examples.sequence_ids(i)\n",
    "context_index = 1 if pad_on_right else 0"
   ]
  },
  {
   "cell_type": "code",
   "execution_count": 75,
   "id": "0cc7c2e7-0c3d-446b-ae8e-71e62b7b7817",
   "metadata": {},
   "outputs": [
    {
     "name": "stdout",
     "output_type": "stream",
     "text": [
      "[None, 0, 0, 0, 0, 0, 0, 0, 0, 0, None, 1, 1, 1, 1, 1, 1, 1, 1, 1, 1, 1, 1, 1, 1, 1, 1, 1, 1, 1, 1, 1, 1, 1, 1, 1, 1, 1, 1, 1, 1, 1, 1, 1, 1, 1, 1, 1, 1, 1, 1, 1, 1, 1, 1, 1, 1, 1, 1, 1, 1, 1, 1, 1, 1, 1, 1, 1, 1, 1, 1, 1, 1, 1, 1, 1, 1, 1, 1, 1, 1, 1, 1, 1, 1, 1, 1, 1, 1, 1, 1, 1, 1, 1, 1, 1, 1, 1, 1, 1, 1, 1, 1, 1, 1, 1, 1, 1, 1, 1, 1, 1, 1, 1, 1, 1, 1, 1, 1, 1, 1, 1, 1, 1, 1, 1, 1, 1, 1, 1, 1, 1, 1, 1, 1, 1, 1, 1, 1, 1, 1, 1, 1, 1, 1, 1, 1, 1, 1, 1, 1, 1, 1, 1, 1, 1, 1, 1, 1, None]\n"
     ]
    }
   ],
   "source": [
    "print(sequence_ids)"
   ]
  },
  {
   "cell_type": "code",
   "execution_count": 76,
   "id": "e9129711-2ddd-498d-a4d1-64c35dbd880f",
   "metadata": {},
   "outputs": [],
   "source": [
    "sample_index = sample_mapping[i]\n",
    "tokenized_examples[\"example_id\"].append(examples[\"id\"][sample_index])"
   ]
  },
  {
   "cell_type": "code",
   "execution_count": 77,
   "id": "02c99c63-cd21-4d81-a1e2-4d740968ba89",
   "metadata": {},
   "outputs": [
    {
     "data": {
      "text/plain": [
       "'mrc-0-003264'"
      ]
     },
     "execution_count": 77,
     "metadata": {},
     "output_type": "execute_result"
    }
   ],
   "source": [
    "# pridiction.json 을 만들기 위해 사용하나 봄\n",
    "examples[\"id\"][sample_index]"
   ]
  },
  {
   "cell_type": "code",
   "execution_count": 78,
   "id": "77aa20de-1224-45de-ac98-0fcea4eca7d5",
   "metadata": {},
   "outputs": [],
   "source": [
    "tokenized_examples[\"offset_mapping\"][i] = [\n",
    "    (o if sequence_ids[k] == context_index else None)\n",
    "    for k, o in enumerate(tokenized_examples[\"offset_mapping\"][i])\n",
    "]"
   ]
  },
  {
   "cell_type": "code",
   "execution_count": 79,
   "id": "9108380f-6cf2-4f26-a0db-e2a369c7609f",
   "metadata": {},
   "outputs": [
    {
     "name": "stdout",
     "output_type": "stream",
     "text": [
      "[None, None, None, None, None, None, None, None, None, None, None, (0, 8), (9, 11), (11, 12), (13, 18), (19, 27), (28, 32), (33, 38), (39, 43), (44, 49), (50, 54), (55, 58), (59, 64), (65, 68), (69, 74), (74, 75), (76, 80), (81, 85), (85, 86), (87, 92)]\n"
     ]
    }
   ],
   "source": [
    "# 어디서 답이 나올지 모르니깐 다 들고 가는 거 같다.\n",
    "print(tokenized_examples['offset_mapping'][0][:30])"
   ]
  },
  {
   "cell_type": "markdown",
   "id": "abcb6427-dc0d-4c7f-bf41-476c0c99a951",
   "metadata": {},
   "source": [
    "```python\n",
    "Init signature:\n",
    "DataCollatorWithPadding(\n",
    "    tokenizer: transformers.tokenization_utils_base.PreTrainedTokenizerBase,\n",
    "    padding: Union[bool, str, transformers.file_utils.PaddingStrategy] = True,\n",
    "    max_length: Union[int, NoneType] = None,\n",
    "    pad_to_multiple_of: Union[int, NoneType] = None,\n",
    ") -> None\n",
    "```\n",
    "\n",
    "Data collator that will dynamically pad the inputs received.\n",
    "\n",
    "```\n",
    "padding:\n",
    "    * :obj:`True` or :obj:`'longest'`: Pad to the longest sequence in the batch (or no padding if only a single\n",
    "              sequence if provided).\n",
    "    * :obj:`'max_length'`: Pad to a maximum length specified with the argument :obj:`max_length` or to the\n",
    "              maximum acceptable input length for the model if that argument is not provided.\n",
    "    * :obj:`False` or :obj:`'do_not_pad'` (default): No padding (i.e., can output a batch with sequences of\n",
    "              different lengths).\n",
    "max_length (:obj:`int`, `optional`):\n",
    "            Maximum length of the returned list and optionally padding length (see above).\n",
    "pad_to_multiple_of (:obj:`int`, `optional`):\n",
    "            If set will pad the sequence to a multiple of the provided value\n",
    "```"
   ]
  },
  {
   "cell_type": "code",
   "execution_count": 80,
   "id": "6bf289f7-dcff-4070-89c3-a6f148662e92",
   "metadata": {},
   "outputs": [],
   "source": [
    "data_collator = (\n",
    "    DataCollatorWithPadding(\n",
    "        tokenizer, pad_to_multiple_of=8 if training_args.fp16 else None\n",
    "    ) # 8*8의 값으로 pad를 채워준다고 한다..?\n",
    ")"
   ]
  },
  {
   "cell_type": "code",
   "execution_count": 81,
   "id": "856e4386-89ab-471b-9359-1f8ae3aec468",
   "metadata": {},
   "outputs": [
    {
     "data": {
      "text/plain": [
       "DataCollatorWithPadding(tokenizer=PreTrainedTokenizerFast(name_or_path='monologg/kobert', vocab_size=8002, model_max_len=512, is_fast=True, padding_side='right', special_tokens={'unk_token': '[UNK]', 'sep_token': '[SEP]', 'pad_token': '[PAD]', 'cls_token': '[CLS]', 'mask_token': '[MASK]'}), padding=True, max_length=None, pad_to_multiple_of=None)"
      ]
     },
     "execution_count": 81,
     "metadata": {},
     "output_type": "execute_result"
    }
   ],
   "source": [
    "data_collator"
   ]
  },
  {
   "attachments": {
    "f0d73ccc-511f-4c69-96b5-1c6b63fadcde.png": {
     "image/png": "[encoded data removed]"
    }
   },
   "cell_type": "markdown",
   "id": "1ed8e573-9320-4552-b16b-2fa53393de2d",
   "metadata": {},
   "source": [
    "![image.png](attachment:f0d73ccc-511f-4c69-96b5-1c6b63fadcde.png)"
   ]
  },
  {
   "cell_type": "markdown",
   "id": "63c39cc5-7fe6-4571-b0ad-e6ceefeafb7a",
   "metadata": {},
   "source": [
    "### def post_processing_function"
   ]
  },
  {
   "cell_type": "code",
   "execution_count": 103,
   "id": "c77f203d-637a-483c-9a18-fb3e5cf3614c",
   "metadata": {
    "jupyter": {
     "source_hidden": true
    },
    "tags": []
   },
   "outputs": [],
   "source": [
    "from transformers import Trainer, is_datasets_available, is_torch_tpu_available\n",
    "from transformers.trainer_utils import PredictionOutput\n",
    "\n",
    "class QuestionAnsweringTrainer(Trainer):\n",
    "    def __init__(self, *args, eval_examples=None, post_process_function=None, **kwargs):\n",
    "        super().__init__(*args, **kwargs)\n",
    "        self.eval_examples = eval_examples\n",
    "        self.post_process_function = post_process_function\n",
    "\n",
    "    def evaluate(self, eval_dataset=None, eval_examples=None, ignore_keys=None):\n",
    "        eval_dataset = self.eval_dataset if eval_dataset is None else eval_dataset\n",
    "        eval_dataloader = self.get_eval_dataloader(eval_dataset)\n",
    "        eval_examples = self.eval_examples if eval_examples is None else eval_examples\n",
    "\n",
    "        # Temporarily disable metric computation, we will do it in the loop here.\n",
    "        compute_metrics = self.compute_metrics\n",
    "        self.compute_metrics = None\n",
    "        try:\n",
    "            output = self.prediction_loop(\n",
    "                eval_dataloader,\n",
    "                description=\"Evaluation\",\n",
    "                # No point gathering the predictions if there are no metrics, otherwise we defer to\n",
    "                # self.args.prediction_loss_only\n",
    "                prediction_loss_only=True if compute_metrics is None else None,\n",
    "                ignore_keys=ignore_keys,\n",
    "            )\n",
    "        finally:\n",
    "            self.compute_metrics = compute_metrics\n",
    "\n",
    "        # We might have removed columns from the dataset so we put them back.\n",
    "        if isinstance(eval_dataset, datasets.Dataset):\n",
    "            eval_dataset.set_format(type=eval_dataset.format[\"type\"], columns=list(eval_dataset.features.keys()))\n",
    "\n",
    "        if self.post_process_function is not None and self.compute_metrics is not None:\n",
    "            eval_preds = self.post_process_function(eval_examples, eval_dataset, output.predictions, self.args)\n",
    "            metrics = self.compute_metrics(eval_preds)\n",
    "\n",
    "            self.log(metrics)\n",
    "        else:\n",
    "            metrics = {}\n",
    "\n",
    "        if self.args.tpu_metrics_debug or self.args.debug:\n",
    "            # tpu-comment: Logging debug metrics for PyTorch/XLA (compile, execute times, ops, etc.)\n",
    "            xm.master_print(met.metrics_report())\n",
    "\n",
    "        self.control = self.callback_handler.on_evaluate(self.args, self.state, self.control, metrics)\n",
    "        return metrics\n",
    "\n",
    "    def predict(self, test_dataset, test_examples, ignore_keys=None):\n",
    "        test_dataloader = self.get_test_dataloader(test_dataset)\n",
    "\n",
    "        # Temporarily disable metric computation, we will do it in the loop here.\n",
    "        compute_metrics = self.compute_metrics\n",
    "        self.compute_metrics = None\n",
    "        try:\n",
    "            output = self.prediction_loop(\n",
    "                test_dataloader,\n",
    "                description=\"Evaluation\",\n",
    "                # No point gathering the predictions if there are no metrics, otherwise we defer to\n",
    "                # self.args.prediction_loss_only\n",
    "                prediction_loss_only=True if compute_metrics is None else None,\n",
    "                ignore_keys=ignore_keys,\n",
    "            )\n",
    "        finally:\n",
    "            self.compute_metrics = compute_metrics\n",
    "\n",
    "        if self.post_process_function is None or self.compute_metrics is None:\n",
    "            return output\n",
    "\n",
    "        # We might have removed columns from the dataset so we put them back.\n",
    "        if isinstance(test_dataset, datasets.Dataset):\n",
    "            test_dataset.set_format(type=test_dataset.format[\"type\"], columns=list(test_dataset.features.keys()))\n",
    "\n",
    "        predictions = self.post_process_function(test_examples, test_dataset, output.predictions, self.args)\n",
    "        return predictions\n",
    "    \n",
    "def prepare_validation_features(examples):\n",
    "    # Tokenize our examples with truncation and maybe padding, but keep the overflows using a stride. This results\n",
    "    # in one example possible giving several features when a context is long, each of those features having a\n",
    "    # context that overlaps a bit the context of the previous feature.\n",
    "    tokenized_examples = tokenizer(\n",
    "        examples[question_column_name if pad_on_right else context_column_name],\n",
    "        examples[context_column_name if pad_on_right else question_column_name],\n",
    "        truncation=\"only_second\" if pad_on_right else \"only_first\",\n",
    "        max_length=max_seq_length,\n",
    "        stride=data_args.doc_stride,\n",
    "        return_overflowing_tokens=True,\n",
    "        return_offsets_mapping=True,\n",
    "        padding=\"max_length\" if data_args.pad_to_max_length else False,\n",
    "    )\n",
    "\n",
    "    # Since one example might give us several features if it has a long context, we need a map from a feature to\n",
    "    # its corresponding example. This key gives us just that.\n",
    "    sample_mapping = tokenized_examples.pop(\"overflow_to_sample_mapping\")\n",
    "\n",
    "    # For evaluation, we will need to convert our predictions to substrings of the context, so we keep the\n",
    "    # corresponding example_id and we will store the offset mappings.\n",
    "    tokenized_examples[\"example_id\"] = []\n",
    "\n",
    "    for i in range(len(tokenized_examples[\"input_ids\"])):\n",
    "        # Grab the sequence corresponding to that example (to know what is the context and what is the question).\n",
    "        sequence_ids = tokenized_examples.sequence_ids(i)\n",
    "        context_index = 1 if pad_on_right else 0\n",
    "\n",
    "        # One example can give several spans, this is the index of the example containing this span of text.\n",
    "        sample_index = sample_mapping[i]\n",
    "        tokenized_examples[\"example_id\"].append(examples[\"id\"][sample_index])\n",
    "\n",
    "        # Set to None the offset_mapping that are not part of the context so it's easy to determine if a token\n",
    "        # position is part of the context or not.\n",
    "        tokenized_examples[\"offset_mapping\"][i] = [\n",
    "            (o if sequence_ids[k] == context_index else None)\n",
    "            for k, o in enumerate(tokenized_examples[\"offset_mapping\"][i])\n",
    "        ]\n",
    "    return tokenized_examples\n",
    "\n",
    "def post_processing_function(examples, features, predictions, training_args):\n",
    "    # Post-processing: we match the start logits and end logits to answers in the original context.\n",
    "    predictions = postprocess_qa_predictions(\n",
    "        examples=examples,\n",
    "        features=features,\n",
    "        predictions=predictions,\n",
    "        max_answer_length=data_args.max_answer_length,\n",
    "        output_dir=training_args.output_dir,\n",
    "    )\n",
    "    # Format the result to the format the metric expects.\n",
    "    formatted_predictions = [\n",
    "        {\"id\": k, \"prediction_text\": v} for k, v in predictions.items()\n",
    "    ]\n",
    "    if training_args.do_predict:\n",
    "        return formatted_predictions\n",
    "\n",
    "    elif training_args.do_eval:\n",
    "        references = [\n",
    "            {\"id\": ex[\"id\"], \"answers\": ex[answer_column_name]}\n",
    "            for ex in datasets[\"validation\"]\n",
    "        ]\n",
    "        return EvalPrediction(predictions=formatted_predictions, label_ids=references)\n",
    "\n",
    "metric = load_metric(\"squad\")\n",
    " \n",
    "def compute_metrics(p: EvalPrediction):\n",
    "    return metric.compute(predictions=p.predictions, references=p.label_ids)"
   ]
  },
  {
   "cell_type": "code",
   "execution_count": 107,
   "id": "99cdeca1-bdeb-4dd1-88c6-fd9fdcd22f5b",
   "metadata": {},
   "outputs": [
    {
     "name": "stderr",
     "output_type": "stream",
     "text": [
      "Loading cached processed dataset at /opt/ml/input/data/data/train_dataset/train/cache-c31613c6f1dae54c.arrow\n",
      "Loading cached processed dataset at /opt/ml/input/data/data/train_dataset/validation/cache-e76d6b5a1f67720f.arrow\n"
     ]
    }
   ],
   "source": [
    "train_dataset = datasets['train']\n",
    "eval_dataset = datasets['validation']\n",
    "\n",
    "train_dataset = train_dataset.map(\n",
    "    prepare_train_features,\n",
    "    batched=True,\n",
    "    num_proc=data_args.preprocessing_num_workers,\n",
    "    remove_columns=column_names,\n",
    "    load_from_cache_file=not data_args.overwrite_cache,\n",
    ")\n",
    "\n",
    "eval_dataset = eval_dataset.map(\n",
    "    prepare_validation_features,\n",
    "    batched=True,\n",
    "    num_proc=data_args.preprocessing_num_workers,\n",
    "    remove_columns=column_names,\n",
    "    load_from_cache_file=not data_args.overwrite_cache,\n",
    ")\n",
    "\n",
    "trainer = QuestionAnsweringTrainer(\n",
    "    model=model,\n",
    "    args=training_args,\n",
    "    train_dataset=train_dataset,\n",
    "    eval_dataset=eval_dataset,\n",
    "    eval_examples=datasets[\"validation\"],\n",
    "    tokenizer=tokenizer,\n",
    "    data_collator=data_collator,\n",
    "    post_process_function=post_processing_function,\n",
    "    compute_metrics=compute_metrics,\n",
    ")"
   ]
  },
  {
   "cell_type": "code",
   "execution_count": 116,
   "id": "22b9d399-299b-44af-868b-36bf43be57a5",
   "metadata": {},
   "outputs": [
    {
     "data": {
      "text/plain": [
       "Dataset({\n",
       "    features: ['attention_mask', 'example_id', 'input_ids', 'offset_mapping', 'token_type_ids'],\n",
       "    num_rows: 272\n",
       "})"
      ]
     },
     "execution_count": 116,
     "metadata": {},
     "output_type": "execute_result"
    }
   ],
   "source": [
    "trainer.eval_dataset"
   ]
  },
  {
   "cell_type": "code",
   "execution_count": 115,
   "id": "0a394eaf-ea3f-4ea9-b996-92d68526b904",
   "metadata": {},
   "outputs": [
    {
     "data": {
      "text/plain": [
       "'mrc-0-003264'"
      ]
     },
     "execution_count": 115,
     "metadata": {},
     "output_type": "execute_result"
    }
   ],
   "source": [
    "# tokenized..\n",
    "trainer.eval_dataset['example_id'][0]"
   ]
  },
  {
   "cell_type": "code",
   "execution_count": 109,
   "id": "c062047d-b923-43e1-a8b3-2003527b197e",
   "metadata": {},
   "outputs": [
    {
     "data": {
      "text/plain": [
       "Dataset({\n",
       "    features: ['__index_level_0__', 'answers', 'context', 'document_id', 'id', 'question', 'title'],\n",
       "    num_rows: 240\n",
       "})"
      ]
     },
     "execution_count": 109,
     "metadata": {},
     "output_type": "execute_result"
    }
   ],
   "source": [
    "# original data\n",
    "trainer.eval_examples"
   ]
  },
  {
   "cell_type": "code",
   "execution_count": 110,
   "id": "e7f0a45d-b6fd-4d33-b816-9c076c33264c",
   "metadata": {},
   "outputs": [],
   "source": [
    "eval_dataloader = trainer.get_eval_dataloader(trainer.eval_dataset)"
   ]
  },
  {
   "cell_type": "code",
   "execution_count": 111,
   "id": "f5c6fdd6-eee3-48ab-b1ca-a73683f9242d",
   "metadata": {},
   "outputs": [
    {
     "data": {
      "text/plain": [
       "<torch.utils.data.dataloader.DataLoader at 0x7f68c3ba5890>"
      ]
     },
     "execution_count": 111,
     "metadata": {},
     "output_type": "execute_result"
    }
   ],
   "source": [
    "eval_dataloader"
   ]
  },
  {
   "cell_type": "code",
   "execution_count": 112,
   "id": "4649b9c1-0922-4839-aaa9-5caec7372c15",
   "metadata": {},
   "outputs": [
    {
     "data": {
      "text/html": [
       "\n",
       "    <div>\n",
       "        <style>\n",
       "            /* Turns off some styling */\n",
       "            progress {\n",
       "                /* gets rid of default border in Firefox and Opera. */\n",
       "                border: none;\n",
       "                /* Needs to be in here for Safari polyfill so background images work as expected. */\n",
       "                background-size: auto;\n",
       "            }\n",
       "        </style>\n",
       "      \n",
       "      <progress value='34' max='34' style='width:300px; height:20px; vertical-align: middle;'></progress>\n",
       "      [34/34 00:03]\n",
       "    </div>\n",
       "    "
      ],
      "text/plain": [
       "<IPython.core.display.HTML object>"
      ]
     },
     "metadata": {},
     "output_type": "display_data"
    }
   ],
   "source": [
    "output = trainer.prediction_loop(eval_dataloader, description=\"Evaluation\", prediction_loss_only=None)"
   ]
  },
  {
   "cell_type": "code",
   "execution_count": 117,
   "id": "6a82a30d-b396-4031-8da7-e15ccb01f918",
   "metadata": {},
   "outputs": [],
   "source": [
    "trainer.eval_dataset.set_format(type=trainer.eval_dataset.format['type'], \\\n",
    "                                columns=list(trainer.eval_dataset.features.keys()))"
   ]
  },
  {
   "cell_type": "code",
   "execution_count": 120,
   "id": "bd91d6e2-b63b-4a0b-be0e-36f4d49f4574",
   "metadata": {},
   "outputs": [
    {
     "data": {
      "text/plain": [
       "272"
      ]
     },
     "execution_count": 120,
     "metadata": {},
     "output_type": "execute_result"
    }
   ],
   "source": [
    "len(eval_dataset)"
   ]
  },
  {
   "cell_type": "code",
   "execution_count": 121,
   "id": "cfd677c8-aa9c-4701-8eaa-1fe89850e371",
   "metadata": {},
   "outputs": [
    {
     "data": {
      "text/plain": [
       "(2, (272, 384), (272, 384))"
      ]
     },
     "execution_count": 121,
     "metadata": {},
     "output_type": "execute_result"
    }
   ],
   "source": [
    "# 0: all_start_logits\n",
    "# 1: all_end_logits\n",
    "\n",
    "len(output.predictions), output.predictions[0].shape, output.predictions[1].shape"
   ]
  },
  {
   "cell_type": "code",
   "execution_count": 132,
   "id": "5d925535-eba1-4d34-847a-852f42f3426a",
   "metadata": {},
   "outputs": [
    {
     "data": {
      "application/vnd.jupyter.widget-view+json": {
       "model_id": "26a6be5f19ce409caaf22b24c215f96d",
       "version_major": 2,
       "version_minor": 0
      },
      "text/plain": [
       "HBox(children=(FloatProgress(value=0.0, max=240.0), HTML(value='')))"
      ]
     },
     "metadata": {},
     "output_type": "display_data"
    },
    {
     "name": "stdout",
     "output_type": "stream",
     "text": [
      "\n"
     ]
    }
   ],
   "source": [
    "trainer.args.do_predict = True\n",
    "\n",
    "eval_preds = post_processing_function(\n",
    "    trainer.eval_examples,\n",
    "    trainer.eval_dataset,\n",
    "    output.predictions,\n",
    "    trainer.args\n",
    ")"
   ]
  },
  {
   "cell_type": "code",
   "execution_count": 133,
   "id": "9f6ef356-276f-42c1-ab94-590dc887c57f",
   "metadata": {},
   "outputs": [
    {
     "data": {
      "text/plain": [
       "{'id': 'mrc-0-003264', 'prediction_text': '있는 이철수'}"
      ]
     },
     "execution_count": 133,
     "metadata": {},
     "output_type": "execute_result"
    }
   ],
   "source": [
    "eval_preds[0]"
   ]
  },
  {
   "cell_type": "code",
   "execution_count": 139,
   "id": "15ebc474-2d1b-4e94-8377-57bed62adf07",
   "metadata": {},
   "outputs": [
    {
     "data": {
      "application/vnd.jupyter.widget-view+json": {
       "model_id": "d501dbe895b348dc8258c189ef675b55",
       "version_major": 2,
       "version_minor": 0
      },
      "text/plain": [
       "HBox(children=(FloatProgress(value=0.0, max=240.0), HTML(value='')))"
      ]
     },
     "metadata": {},
     "output_type": "display_data"
    },
    {
     "name": "stdout",
     "output_type": "stream",
     "text": [
      "\n"
     ]
    }
   ],
   "source": [
    "trainer.args.do_predict = False\n",
    "trainer.args.do_eval = True\n",
    "\n",
    "eval_preds = post_processing_function(\n",
    "    trainer.eval_examples,\n",
    "    trainer.eval_dataset,\n",
    "    output.predictions,\n",
    "    trainer.args\n",
    ")"
   ]
  },
  {
   "cell_type": "code",
   "execution_count": 140,
   "id": "d0b1a17b-26ca-4cb0-8415-abc828d053a1",
   "metadata": {},
   "outputs": [
    {
     "data": {
      "text/plain": [
       "transformers.trainer_utils.EvalPrediction"
      ]
     },
     "execution_count": 140,
     "metadata": {},
     "output_type": "execute_result"
    }
   ],
   "source": [
    "type(eval_preds)"
   ]
  },
  {
   "cell_type": "code",
   "execution_count": 141,
   "id": "51acae19-6423-4307-84e8-592d0acd5a66",
   "metadata": {},
   "outputs": [
    {
     "data": {
      "text/plain": [
       "{'id': 'mrc-0-003264', 'prediction_text': '있는 이철수'}"
      ]
     },
     "execution_count": 141,
     "metadata": {},
     "output_type": "execute_result"
    }
   ],
   "source": [
    "# batch 단위로\n",
    "eval_preds[0][0]"
   ]
  },
  {
   "cell_type": "code",
   "execution_count": 162,
   "id": "d20fea41-5c76-4d80-8357-e2c45cbff640",
   "metadata": {},
   "outputs": [
    {
     "data": {
      "text/plain": [
       "{'id': 'mrc-0-003264', 'answers': {'answer_start': [284], 'text': ['한보철강']}}"
      ]
     },
     "execution_count": 162,
     "metadata": {},
     "output_type": "execute_result"
    }
   ],
   "source": [
    "eval_preds.label_ids[0]"
   ]
  },
  {
   "cell_type": "code",
   "execution_count": 164,
   "id": "fb1e36c1-39a5-4378-b8ea-19bec4e19627",
   "metadata": {},
   "outputs": [
    {
     "data": {
      "text/plain": [
       "{'id': 'mrc-0-003264', 'prediction_text': '있는 이철수'}"
      ]
     },
     "execution_count": 164,
     "metadata": {},
     "output_type": "execute_result"
    }
   ],
   "source": [
    "eval_preds.predictions[0]"
   ]
  },
  {
   "cell_type": "code",
   "execution_count": 165,
   "id": "c863bad8-11b0-4d72-a828-553046f57036",
   "metadata": {},
   "outputs": [
    {
     "data": {
      "text/plain": [
       "{'exact_match': 0.0, 'f1': 0.4765512265512265}"
      ]
     },
     "execution_count": 165,
     "metadata": {},
     "output_type": "execute_result"
    }
   ],
   "source": [
    "compute_metrics(eval_preds)"
   ]
  },
  {
   "cell_type": "markdown",
   "id": "c7e82015-8002-4cc5-97a7-cb92d70a3900",
   "metadata": {},
   "source": [
    "### def compute_metrics"
   ]
  },
  {
   "cell_type": "code",
   "execution_count": 249,
   "id": "c5f01881-d3fb-4280-92dc-7f39b7905a4d",
   "metadata": {},
   "outputs": [
    {
     "data": {
      "text/plain": [
       "transformers.trainer_utils.EvalPrediction"
      ]
     },
     "execution_count": 249,
     "metadata": {},
     "output_type": "execute_result"
    }
   ],
   "source": [
    "type(eval_preds)"
   ]
  },
  {
   "cell_type": "code",
   "execution_count": 247,
   "id": "2bf37c78-8260-4ad4-ac44-ade30976e023",
   "metadata": {},
   "outputs": [],
   "source": [
    "metrics = compute_metrics(eval_preds)"
   ]
  },
  {
   "cell_type": "code",
   "execution_count": 248,
   "id": "22cd79a2-6473-4953-bf40-7be5c472271b",
   "metadata": {},
   "outputs": [
    {
     "data": {
      "text/plain": [
       "{'exact_match': 0.0, 'f1': 0.44949494949494956}"
      ]
     },
     "execution_count": 248,
     "metadata": {},
     "output_type": "execute_result"
    }
   ],
   "source": [
    "metrics"
   ]
  },
  {
   "cell_type": "code",
   "execution_count": 253,
   "id": "08a8ac09-b9bb-426f-a3b4-f8973acf64f4",
   "metadata": {},
   "outputs": [
    {
     "name": "stdout",
     "output_type": "stream",
     "text": [
      "{'id': 'mrc-0-003264', 'prediction_text': '대학교 근대법학교육 백주년 기념관에서 열린 강'} {'id': 'mrc-0-003264', 'answers': {'answer_start': [284], 'text': ['한보철강']}}\n"
     ]
    }
   ],
   "source": [
    "temp_p = eval_preds.predictions[0]\n",
    "temp_i = eval_preds.label_ids[0]\n",
    "print(temp_p, temp_i)"
   ]
  },
  {
   "cell_type": "code",
   "execution_count": 267,
   "id": "51db1152-fc73-48e5-84cb-2cf2ef1bc28a",
   "metadata": {},
   "outputs": [
    {
     "name": "stdout",
     "output_type": "stream",
     "text": [
      "['<s>', '▁', '대학교', '▁근', '대', '법', '학', '교육', '▁백', '주년', '▁기념', '관', '에서', '▁열린', '▁강', '</s>']\n"
     ]
    }
   ],
   "source": [
    "print(tokenizer.convert_ids_to_tokens(tokenizer(temp_p['prediction_text'])['input_ids']))"
   ]
  },
  {
   "cell_type": "code",
   "execution_count": 271,
   "id": "c646c507-116b-4407-82ff-90cf7867a859",
   "metadata": {},
   "outputs": [
    {
     "name": "stdout",
     "output_type": "stream",
     "text": [
      "['<s>', '▁한', '보', '철', '강', '</s>']\n"
     ]
    }
   ],
   "source": [
    "print(tokenizer.convert_ids_to_tokens(tokenizer(temp_i['answers']['text'][0])['input_ids']))"
   ]
  },
  {
   "cell_type": "markdown",
   "id": "fd2edc50-8ec1-40b7-a59f-c03ffba1bf04",
   "metadata": {},
   "source": [
    "## def main (last)"
   ]
  },
  {
   "cell_type": "code",
   "execution_count": 166,
   "id": "decfc913-163e-4809-bd6f-d68ebfb9ebf7",
   "metadata": {},
   "outputs": [
    {
     "data": {
      "text/plain": [
       "10"
      ]
     },
     "execution_count": 166,
     "metadata": {},
     "output_type": "execute_result"
    }
   ],
   "source": [
    "data_args.max_answer_length"
   ]
  },
  {
   "cell_type": "code",
   "execution_count": 167,
   "id": "76a499a8-f764-4b44-8e1d-e9ed8851820c",
   "metadata": {},
   "outputs": [
    {
     "data": {
      "text/plain": [
       "4"
      ]
     },
     "execution_count": 167,
     "metadata": {},
     "output_type": "execute_result"
    }
   ],
   "source": [
    "len(train_dataset[:4]['input_ids'])"
   ]
  }
 ],
 "metadata": {
  "kernelspec": {
   "display_name": "Python 3",
   "language": "python",
   "name": "python3"
  },
  "language_info": {
   "codemirror_mode": {
    "name": "ipython",
    "version": 3
   },
   "file_extension": ".py",
   "mimetype": "text/x-python",
   "name": "python",
   "nbconvert_exporter": "python",
   "pygments_lexer": "ipython3",
   "version": "3.7.7"
  }
 },
 "nbformat": 4,
 "nbformat_minor": 5
}
