{
 "cells": [
  {
   "cell_type": "markdown",
   "id": "091f3a1d-b1e3-4fd4-9b1e-0c2a43dbb31e",
   "metadata": {},
   "source": [
    "# wikipedia_documents 자체 EDA"
   ]
  },
  {
   "cell_type": "markdown",
   "id": "1466a9d5-d70a-4d2a-8105-d1e9200b88db",
   "metadata": {},
   "source": [
    "* 문서 개수 60612개, 동일한 context별로 묶으면 31755개\n",
    "* 문서 길이\n",
    "* 문서 형태\n",
    "    * 제목이 있는가?\n",
    "    * 표 등이 포함되어있는가?"
   ]
  },
  {
   "cell_type": "code",
   "execution_count": 93,
   "id": "fb686b36-f70f-43d7-ade5-ea948b487b03",
   "metadata": {},
   "outputs": [],
   "source": [
    "import json\n",
    "import pandas as pd\n",
    "import seaborn as sns\n",
    "import numpy as np"
   ]
  },
  {
   "cell_type": "code",
   "execution_count": 2,
   "id": "1417d475-efe7-4d6f-b6cc-13655727680e",
   "metadata": {},
   "outputs": [],
   "source": [
    "json_path = '../input/data/wikipedia_documents.json'\n",
    "with open(json_path) as wiki_file:\n",
    "    wiki_dict = json.load(wiki_file)"
   ]
  },
  {
   "cell_type": "markdown",
   "id": "33324444-fd30-405c-9326-249ba21d788d",
   "metadata": {},
   "source": [
    "---\n",
    "## title 별 context 개수\n",
    "- title은 카테고리가 아니라 문서 제목을 의미합니다. \n",
    "- 총 text 개수는 60613개이지만, 동일한 title의 text를 분할하여 하나의 text로 칩니다.\n",
    "    - **즉, text 하나마다 다른 주제가 아닙니다.**"
   ]
  },
  {
   "cell_type": "code",
   "execution_count": 3,
   "id": "295d07cc-9b7e-4517-ad7b-ea0f23e33a61",
   "metadata": {},
   "outputs": [
    {
     "data": {
      "text/html": [
       "<div>\n",
       "<style scoped>\n",
       "    .dataframe tbody tr th:only-of-type {\n",
       "        vertical-align: middle;\n",
       "    }\n",
       "\n",
       "    .dataframe tbody tr th {\n",
       "        vertical-align: top;\n",
       "    }\n",
       "\n",
       "    .dataframe thead th {\n",
       "        text-align: right;\n",
       "    }\n",
       "</style>\n",
       "<table border=\"1\" class=\"dataframe\">\n",
       "  <thead>\n",
       "    <tr style=\"text-align: right;\">\n",
       "      <th></th>\n",
       "      <th>text</th>\n",
       "      <th>title</th>\n",
       "      <th>document_id</th>\n",
       "    </tr>\n",
       "  </thead>\n",
       "  <tbody>\n",
       "    <tr>\n",
       "      <th>0</th>\n",
       "      <td>이 문서는 나라 목록이며, 전 세계 206개 나라의 각 현황과 주권 승인 정보를 개...</td>\n",
       "      <td>나라 목록</td>\n",
       "      <td>0</td>\n",
       "    </tr>\n",
       "    <tr>\n",
       "      <th>1</th>\n",
       "      <td>이 목록에 실린 국가 기준은 1933년 몬테비데오 협약 1장을 참고로 하였다. 협정...</td>\n",
       "      <td>나라 목록</td>\n",
       "      <td>1</td>\n",
       "    </tr>\n",
       "    <tr>\n",
       "      <th>2</th>\n",
       "      <td>현 서울특별시 종로구 서린동 (구 일제 강점기 경기도 경성부 서린정) 출신이다. 친...</td>\n",
       "      <td>백남준</td>\n",
       "      <td>2</td>\n",
       "    </tr>\n",
       "    <tr>\n",
       "      <th>3</th>\n",
       "      <td>아오조라 문고(靑空文庫, あおぞらぶんこ|아오조라 분고)는 ‘일본어판 구텐베르크 프로...</td>\n",
       "      <td>아오조라 문고</td>\n",
       "      <td>3</td>\n",
       "    </tr>\n",
       "    <tr>\n",
       "      <th>4</th>\n",
       "      <td>저자 사망 이후 50년이 지나 저작권이 소멸한 메이지 시대부터 쇼와 시대 초기까지의...</td>\n",
       "      <td>아오조라 문고</td>\n",
       "      <td>4</td>\n",
       "    </tr>\n",
       "    <tr>\n",
       "      <th>...</th>\n",
       "      <td>...</td>\n",
       "      <td>...</td>\n",
       "      <td>...</td>\n",
       "    </tr>\n",
       "    <tr>\n",
       "      <th>60608</th>\n",
       "      <td>오키나와 현립 박물관·미술관( , Okinawa Prefectural Museum ...</td>\n",
       "      <td>오키나와 현립 박물관·미술관</td>\n",
       "      <td>60608</td>\n",
       "    </tr>\n",
       "    <tr>\n",
       "      <th>60609</th>\n",
       "      <td>1936년 7월, 오키나와현 교육위원회 부설 향토 박물관(沖縄県教育会附設郷土博物館)...</td>\n",
       "      <td>오키나와 현립 박물관·미술관</td>\n",
       "      <td>60609</td>\n",
       "    </tr>\n",
       "    <tr>\n",
       "      <th>60610</th>\n",
       "      <td>박물관은 개관 10주년이되는 2017년에 관의 애칭 및 마스코트를 일반인에게 공모했...</td>\n",
       "      <td>오키나와 현립 박물관·미술관</td>\n",
       "      <td>60610</td>\n",
       "    </tr>\n",
       "    <tr>\n",
       "      <th>60611</th>\n",
       "      <td>단결권 및 단체교섭권 협약(Right to Organise and Collectiv...</td>\n",
       "      <td>단결권 및 단체교섭권 협약</td>\n",
       "      <td>60611</td>\n",
       "    </tr>\n",
       "    <tr>\n",
       "      <th>60612</th>\n",
       "      <td>이 협약은 부당노동행위 제도를 규율하고 있다. 협약 제1조에서 반노동조합 차별행위로...</td>\n",
       "      <td>단결권 및 단체교섭권 협약</td>\n",
       "      <td>60612</td>\n",
       "    </tr>\n",
       "  </tbody>\n",
       "</table>\n",
       "<p>60613 rows × 3 columns</p>\n",
       "</div>"
      ],
      "text/plain": [
       "                                                    text            title  \\\n",
       "0      이 문서는 나라 목록이며, 전 세계 206개 나라의 각 현황과 주권 승인 정보를 개...            나라 목록   \n",
       "1      이 목록에 실린 국가 기준은 1933년 몬테비데오 협약 1장을 참고로 하였다. 협정...            나라 목록   \n",
       "2      현 서울특별시 종로구 서린동 (구 일제 강점기 경기도 경성부 서린정) 출신이다. 친...              백남준   \n",
       "3      아오조라 문고(靑空文庫, あおぞらぶんこ|아오조라 분고)는 ‘일본어판 구텐베르크 프로...          아오조라 문고   \n",
       "4      저자 사망 이후 50년이 지나 저작권이 소멸한 메이지 시대부터 쇼와 시대 초기까지의...          아오조라 문고   \n",
       "...                                                  ...              ...   \n",
       "60608  오키나와 현립 박물관·미술관( , Okinawa Prefectural Museum ...  오키나와 현립 박물관·미술관   \n",
       "60609  1936년 7월, 오키나와현 교육위원회 부설 향토 박물관(沖縄県教育会附設郷土博物館)...  오키나와 현립 박물관·미술관   \n",
       "60610  박물관은 개관 10주년이되는 2017년에 관의 애칭 및 마스코트를 일반인에게 공모했...  오키나와 현립 박물관·미술관   \n",
       "60611  단결권 및 단체교섭권 협약(Right to Organise and Collectiv...   단결권 및 단체교섭권 협약   \n",
       "60612  이 협약은 부당노동행위 제도를 규율하고 있다. 협약 제1조에서 반노동조합 차별행위로...   단결권 및 단체교섭권 협약   \n",
       "\n",
       "       document_id  \n",
       "0                0  \n",
       "1                1  \n",
       "2                2  \n",
       "3                3  \n",
       "4                4  \n",
       "...            ...  \n",
       "60608        60608  \n",
       "60609        60609  \n",
       "60610        60610  \n",
       "60611        60611  \n",
       "60612        60612  \n",
       "\n",
       "[60613 rows x 3 columns]"
      ]
     },
     "execution_count": 3,
     "metadata": {},
     "output_type": "execute_result"
    }
   ],
   "source": [
    "columns = ['text','title','document_id']\n",
    "df = pd.DataFrame.from_dict(wiki_dict, orient='index')[columns]\n",
    "df"
   ]
  },
  {
   "cell_type": "markdown",
   "id": "0b7f46d8-35e9-4485-9240-3243fc582167",
   "metadata": {},
   "source": [
    "---\n",
    "* title별로 나누었을때 문서는 31755개가 있습니다."
   ]
  },
  {
   "cell_type": "code",
   "execution_count": 4,
   "id": "40261f9e-6f88-468c-94b2-cd7b4d47f0dd",
   "metadata": {},
   "outputs": [
    {
     "data": {
      "text/plain": [
       "장면            146\n",
       "윤치호           144\n",
       "여운형            96\n",
       "데카메론의 줄거리      68\n",
       "루트비히 판 베토벤     66\n",
       "             ... \n",
       "TT-33           1\n",
       "액막이             1\n",
       "손열음             1\n",
       "잡가 (제자백가)       1\n",
       "카라멜 (밴드)        1\n",
       "Name: title, Length: 31755, dtype: int64"
      ]
     },
     "execution_count": 4,
     "metadata": {},
     "output_type": "execute_result"
    }
   ],
   "source": [
    "df.title.value_counts()"
   ]
  },
  {
   "cell_type": "code",
   "execution_count": 5,
   "id": "e297b51e-7e58-47a9-b65d-361cedd48952",
   "metadata": {},
   "outputs": [
    {
     "data": {
      "text/plain": [
       "title\n",
       "스코틀랜드 의회             1\n",
       "서병조                  1\n",
       "서버 에뮬레이터             1\n",
       "지브롤터의 코로나19 범유행      1\n",
       "서배스천 코               1\n",
       "                  ... \n",
       "루트비히 판 베토벤          66\n",
       "데카메론의 줄거리           68\n",
       "여운형                 96\n",
       "윤치호                144\n",
       "장면                 146\n",
       "Name: text, Length: 31755, dtype: int64"
      ]
     },
     "execution_count": 5,
     "metadata": {},
     "output_type": "execute_result"
    }
   ],
   "source": [
    "df.groupby('title').text.count().sort_values()"
   ]
  },
  {
   "cell_type": "markdown",
   "id": "69306367-bfb8-4d60-8b77-bf5356cfe045",
   "metadata": {},
   "source": [
    "---\n",
    "* **31755개중 3만개 가량이 5개 이하의 짧은 문서임을 확인할 수 있습니다.**\n",
    "- **따라서, top-k는 5~10가량에서부터 제대로된 성능을 보일것입니다.**"
   ]
  },
  {
   "cell_type": "code",
   "execution_count": 6,
   "id": "b3090f4e-bfb4-4847-b04a-fa66f4212593",
   "metadata": {},
   "outputs": [
    {
     "data": {
      "text/plain": [
       "(0, 1]       20018\n",
       "(1, 3]        8738\n",
       "(3, 5]        1691\n",
       "(5, 10]        950\n",
       "(10, 30]       317\n",
       "(30, 60]        34\n",
       "(60, 200]        7\n",
       "Name: text, dtype: int64"
      ]
     },
     "execution_count": 6,
     "metadata": {},
     "output_type": "execute_result"
    }
   ],
   "source": [
    "text_counts = pd.cut(df.groupby('title').text.count().sort_values(), bins=[0,1,3,5,10,30,60,200])\n",
    "text_counts.value_counts()"
   ]
  },
  {
   "cell_type": "markdown",
   "id": "e21f5fe8-06bb-4805-acd0-5a92bc235ba1",
   "metadata": {},
   "source": [
    "---\n",
    "* 최다 text를 가진 title은 '장면' 문서인데, 총 146개의 context가 있고, context도 outlier가 없이 비교적 일정하네요."
   ]
  },
  {
   "cell_type": "code",
   "execution_count": 7,
   "id": "ded0c474-971f-48ca-b0a1-4e1622d60b7a",
   "metadata": {},
   "outputs": [
    {
     "data": {
      "text/html": [
       "<div>\n",
       "<style scoped>\n",
       "    .dataframe tbody tr th:only-of-type {\n",
       "        vertical-align: middle;\n",
       "    }\n",
       "\n",
       "    .dataframe tbody tr th {\n",
       "        vertical-align: top;\n",
       "    }\n",
       "\n",
       "    .dataframe thead th {\n",
       "        text-align: right;\n",
       "    }\n",
       "</style>\n",
       "<table border=\"1\" class=\"dataframe\">\n",
       "  <thead>\n",
       "    <tr style=\"text-align: right;\">\n",
       "      <th></th>\n",
       "      <th>text</th>\n",
       "      <th>title</th>\n",
       "      <th>document_id</th>\n",
       "    </tr>\n",
       "  </thead>\n",
       "  <tbody>\n",
       "    <tr>\n",
       "      <th>2360</th>\n",
       "      <td>그는 지난날 일제 강점기의 교육자·종교가·번역가·출판인·문인·저술가였으며 훗날 대한...</td>\n",
       "      <td>장면</td>\n",
       "      <td>2360</td>\n",
       "    </tr>\n",
       "    <tr>\n",
       "      <th>2361</th>\n",
       "      <td>장면은 1899년 8월 28일 서울 종로구 적선동, 삼군부(三軍部) 건물 뒷골목 근...</td>\n",
       "      <td>장면</td>\n",
       "      <td>2361</td>\n",
       "    </tr>\n",
       "    <tr>\n",
       "      <th>2362</th>\n",
       "      <td>처음 이름은 돌림자를 따서 지태(志兑)라 지었다가 후에 열심히 공부하라, 면학하라는...</td>\n",
       "      <td>장면</td>\n",
       "      <td>2362</td>\n",
       "    </tr>\n",
       "    <tr>\n",
       "      <th>2363</th>\n",
       "      <td>이후 아버지의 근무지인 인천부 전동(典洞)으로 와서 살다가 1908년 인천부 인천항...</td>\n",
       "      <td>장면</td>\n",
       "      <td>2363</td>\n",
       "    </tr>\n",
       "    <tr>\n",
       "      <th>2364</th>\n",
       "      <td>1917년 3월, 장면은 농림학교를 졸업하였다 그러나 ‘금테 모자를 쓰고, 칼을 차...</td>\n",
       "      <td>장면</td>\n",
       "      <td>2364</td>\n",
       "    </tr>\n",
       "    <tr>\n",
       "      <th>...</th>\n",
       "      <td>...</td>\n",
       "      <td>...</td>\n",
       "      <td>...</td>\n",
       "    </tr>\n",
       "    <tr>\n",
       "      <th>6982</th>\n",
       "      <td>고려대학교 한국사학과 교수 조광은 한 대담에서 '각종 한국사 개설서를 들춰보았는데 ...</td>\n",
       "      <td>장면</td>\n",
       "      <td>6982</td>\n",
       "    </tr>\n",
       "    <tr>\n",
       "      <th>6983</th>\n",
       "      <td>장면은 직접 가톨릭 교회의 교리관련 서적을 한글로 번역하여 발표, 출간하기도 했다....</td>\n",
       "      <td>장면</td>\n",
       "      <td>6983</td>\n",
       "    </tr>\n",
       "    <tr>\n",
       "      <th>6984</th>\n",
       "      <td>그는 춤도 출 줄 몰랐고, 술을 마실 줄도 몰랐으며, 노래라고는 성가와 팝송 몇 곡...</td>\n",
       "      <td>장면</td>\n",
       "      <td>6984</td>\n",
       "    </tr>\n",
       "    <tr>\n",
       "      <th>6985</th>\n",
       "      <td>그는 술과 담배를 하지 않았다 한다. 맨해튼 대학 재학 시절 위궤양과 위장 질환으로...</td>\n",
       "      <td>장면</td>\n",
       "      <td>6985</td>\n",
       "    </tr>\n",
       "    <tr>\n",
       "      <th>6986</th>\n",
       "      <td>그의 별명으로는 자장면, 짜장면, 삼다 선생(三多先生) 등이 있었다. 자장면이라는 ...</td>\n",
       "      <td>장면</td>\n",
       "      <td>6986</td>\n",
       "    </tr>\n",
       "  </tbody>\n",
       "</table>\n",
       "<p>146 rows × 3 columns</p>\n",
       "</div>"
      ],
      "text/plain": [
       "                                                   text title  document_id\n",
       "2360  그는 지난날 일제 강점기의 교육자·종교가·번역가·출판인·문인·저술가였으며 훗날 대한...    장면         2360\n",
       "2361  장면은 1899년 8월 28일 서울 종로구 적선동, 삼군부(三軍部) 건물 뒷골목 근...    장면         2361\n",
       "2362  처음 이름은 돌림자를 따서 지태(志兑)라 지었다가 후에 열심히 공부하라, 면학하라는...    장면         2362\n",
       "2363  이후 아버지의 근무지인 인천부 전동(典洞)으로 와서 살다가 1908년 인천부 인천항...    장면         2363\n",
       "2364  1917년 3월, 장면은 농림학교를 졸업하였다 그러나 ‘금테 모자를 쓰고, 칼을 차...    장면         2364\n",
       "...                                                 ...   ...          ...\n",
       "6982  고려대학교 한국사학과 교수 조광은 한 대담에서 '각종 한국사 개설서를 들춰보았는데 ...    장면         6982\n",
       "6983  장면은 직접 가톨릭 교회의 교리관련 서적을 한글로 번역하여 발표, 출간하기도 했다....    장면         6983\n",
       "6984  그는 춤도 출 줄 몰랐고, 술을 마실 줄도 몰랐으며, 노래라고는 성가와 팝송 몇 곡...    장면         6984\n",
       "6985  그는 술과 담배를 하지 않았다 한다. 맨해튼 대학 재학 시절 위궤양과 위장 질환으로...    장면         6985\n",
       "6986  그의 별명으로는 자장면, 짜장면, 삼다 선생(三多先生) 등이 있었다. 자장면이라는 ...    장면         6986\n",
       "\n",
       "[146 rows x 3 columns]"
      ]
     },
     "execution_count": 7,
     "metadata": {},
     "output_type": "execute_result"
    }
   ],
   "source": [
    "df.loc[df['title']=='장면']"
   ]
  },
  {
   "cell_type": "code",
   "execution_count": 8,
   "id": "66561395-c6f7-4664-ae39-4c3c8d16d40e",
   "metadata": {},
   "outputs": [
    {
     "name": "stderr",
     "output_type": "stream",
     "text": [
      "/opt/conda/lib/python3.7/site-packages/seaborn/_decorators.py:43: FutureWarning: Pass the following variable as a keyword arg: x. From version 0.12, the only valid positional argument will be `data`, and passing other arguments without an explicit keyword will result in an error or misinterpretation.\n",
      "  FutureWarning\n"
     ]
    },
    {
     "data": {
      "text/plain": [
       "<AxesSubplot:xlabel='text'>"
      ]
     },
     "execution_count": 8,
     "metadata": {},
     "output_type": "execute_result"
    },
    {
     "data": {
      "image/png": "[encoded data removed]",
      "text/plain": [
       "<Figure size 432x288 with 1 Axes>"
      ]
     },
     "metadata": {
      "needs_background": "light"
     },
     "output_type": "display_data"
    }
   ],
   "source": [
    "sns.violinplot(df.loc[df['title']=='장면']['text'].str.len())"
   ]
  },
  {
   "cell_type": "markdown",
   "id": "9a8b3400-33a4-46b1-8750-07b4ac5c0879",
   "metadata": {},
   "source": [
    "---\n",
    "## title, text의 길이"
   ]
  },
  {
   "cell_type": "code",
   "execution_count": 9,
   "id": "ffc4cffe-761d-4ca4-8649-cf7e95d1eb5e",
   "metadata": {},
   "outputs": [
    {
     "name": "stderr",
     "output_type": "stream",
     "text": [
      "/opt/conda/lib/python3.7/site-packages/seaborn/_decorators.py:43: FutureWarning: Pass the following variable as a keyword arg: x. From version 0.12, the only valid positional argument will be `data`, and passing other arguments without an explicit keyword will result in an error or misinterpretation.\n",
      "  FutureWarning\n"
     ]
    },
    {
     "data": {
      "text/plain": [
       "<AxesSubplot:xlabel='title', ylabel='count'>"
      ]
     },
     "execution_count": 9,
     "metadata": {},
     "output_type": "execute_result"
    },
    {
     "data": {
      "image/png": "[encoded data removed]",
      "text/plain": [
       "<Figure size 842.4x595.44 with 1 Axes>"
      ]
     },
     "metadata": {},
     "output_type": "display_data"
    }
   ],
   "source": [
    "sns.set(rc={'figure.figsize':(11.7,8.27)})\n",
    "sns.countplot(df.title.str.len())"
   ]
  },
  {
   "cell_type": "code",
   "execution_count": 10,
   "id": "7c3cf603-3bdf-4fd3-93d5-35161e35290a",
   "metadata": {},
   "outputs": [
    {
     "data": {
      "text/plain": [
       "9018      1\n",
       "10592     1\n",
       "12497     1\n",
       "9002      1\n",
       "19451     1\n",
       "         ..\n",
       "15192    70\n",
       "36463    96\n",
       "36462    96\n",
       "36465    96\n",
       "36464    96\n",
       "Name: title, Length: 60613, dtype: int64"
      ]
     },
     "execution_count": 10,
     "metadata": {},
     "output_type": "execute_result"
    }
   ],
   "source": [
    "df.title.str.len().sort_values()"
   ]
  },
  {
   "cell_type": "markdown",
   "id": "42484e91-86e2-4aac-9a50-04294454ca63",
   "metadata": {},
   "source": [
    "---\n",
    "- title이 가장 긴 문서는 36465번째 문서인데, 96자나 됩니다.\n",
    "- 제목에 「」 와 같은 특수문자도 들어가네요."
   ]
  },
  {
   "cell_type": "code",
   "execution_count": 11,
   "id": "7a99a8f8-af83-48db-abc5-4306d1b68b83",
   "metadata": {},
   "outputs": [
    {
     "name": "stdout",
     "output_type": "stream",
     "text": [
      "플라타너스 나무가 서 있는 길에서 「네 미소가 꿈에 나왔어」라고 말해버린다면 우리들의 관계는 어떻게 변하는 걸까, 나 나름대로 며칠이고 생각해본 후의 조금 부끄러운 결론처럼\n",
      "Computers and Intractability: A Guide to the Theory of NP-Completeness\n"
     ]
    }
   ],
   "source": [
    "print(df.iloc[36465].title)\n",
    "print(df.iloc[15192].title)"
   ]
  },
  {
   "cell_type": "markdown",
   "id": "e9ba9e4b-8701-4316-9a8c-0b95d02733c2",
   "metadata": {},
   "source": [
    "---\n",
    "- text가 가장 긴 문서는 '소학언해'로 9102번인데, 46099자나 됩니다. 9101번과 연결된 text인듯 한데, 둘다 4만자가 넘네요.\n",
    "    - 두 문서는 어떤 기준으로 쪼개졌을까요?\n",
    "- text 내용을 살펴보면, 한자와 깨진 문자가 굉장히 많이 나오네요. 이런 문서가 과연 활용될까요?\n",
    "    - 사람도 알아보기 힘든 옛날 언어로 쓰여있는데, 과연 이런 문서에서 질문을 묻는 쿼리가 있을까요? vocab을 만드는데 굉장히 해가될 것 같은 문서입니다..."
   ]
  },
  {
   "cell_type": "code",
   "execution_count": 12,
   "id": "8d2d4639-1b1f-4c38-b9d4-28344b994394",
   "metadata": {},
   "outputs": [
    {
     "data": {
      "text/html": [
       "<div>\n",
       "<style scoped>\n",
       "    .dataframe tbody tr th:only-of-type {\n",
       "        vertical-align: middle;\n",
       "    }\n",
       "\n",
       "    .dataframe tbody tr th {\n",
       "        vertical-align: top;\n",
       "    }\n",
       "\n",
       "    .dataframe thead th {\n",
       "        text-align: right;\n",
       "    }\n",
       "</style>\n",
       "<table border=\"1\" class=\"dataframe\">\n",
       "  <thead>\n",
       "    <tr style=\"text-align: right;\">\n",
       "      <th></th>\n",
       "      <th>text</th>\n",
       "      <th>title</th>\n",
       "      <th>document_id</th>\n",
       "      <th>text_length</th>\n",
       "    </tr>\n",
       "  </thead>\n",
       "  <tbody>\n",
       "    <tr>\n",
       "      <th>9102</th>\n",
       "      <td>어딘 실이니 례예 여재라\\n\\n○ 呂滎公名希哲, 字原明. 申國正獻公之長子. 正...</td>\n",
       "      <td>소학언해</td>\n",
       "      <td>9102</td>\n",
       "      <td>46099</td>\n",
       "    </tr>\n",
       "    <tr>\n",
       "      <th>4548</th>\n",
       "      <td>어딘 실이니 례예 여재라\\n\\n○ 呂滎公名希哲, 字原明. 申國正獻公之長子. 正...</td>\n",
       "      <td>소학언해</td>\n",
       "      <td>4548</td>\n",
       "      <td>46099</td>\n",
       "    </tr>\n",
       "    <tr>\n",
       "      <th>9101</th>\n",
       "      <td>아다온 말이니 례예 다재라\\n\\n○ 橫渠張先生曰, 敎小兒, 先要安詳恭敬. 今...</td>\n",
       "      <td>소학언해</td>\n",
       "      <td>9101</td>\n",
       "      <td>41411</td>\n",
       "    </tr>\n",
       "    <tr>\n",
       "      <th>4547</th>\n",
       "      <td>아다온 말이니 례예 다재라\\n\\n○ 橫渠張先生曰, 敎小兒, 先要安詳恭敬. 今...</td>\n",
       "      <td>소학언해</td>\n",
       "      <td>4547</td>\n",
       "      <td>41411</td>\n",
       "    </tr>\n",
       "    <tr>\n",
       "      <th>9756</th>\n",
       "      <td>1907년 이후 하와이에 건너가 살던 조선인 노동자들은 하와이 농장에서 사탕수수와 ...</td>\n",
       "      <td>사진 신부</td>\n",
       "      <td>9756</td>\n",
       "      <td>29016</td>\n",
       "    </tr>\n",
       "    <tr>\n",
       "      <th>...</th>\n",
       "      <td>...</td>\n",
       "      <td>...</td>\n",
       "      <td>...</td>\n",
       "      <td>...</td>\n",
       "    </tr>\n",
       "    <tr>\n",
       "      <th>29269</th>\n",
       "      <td>알백은 설치 시 윈도 기본 복원 시스템은 기본적으로 비활성화된다.\\n\\n멀티 부팅 ...</td>\n",
       "      <td>알백</td>\n",
       "      <td>29269</td>\n",
       "      <td>301</td>\n",
       "    </tr>\n",
       "    <tr>\n",
       "      <th>12478</th>\n",
       "      <td>일반적으로 산스크리트어와 팔리어 음가는 일대일로 대응하는 것으로 보는데, 팔리어가 ...</td>\n",
       "      <td>팔리어</td>\n",
       "      <td>12478</td>\n",
       "      <td>301</td>\n",
       "    </tr>\n",
       "    <tr>\n",
       "      <th>46268</th>\n",
       "      <td>그는 웨스트민스터 신학교(M. Div)와 케임브리지 대학교(Ph. D)의 니콜라스 ...</td>\n",
       "      <td>케빈 밴후저</td>\n",
       "      <td>46268</td>\n",
       "      <td>301</td>\n",
       "    </tr>\n",
       "    <tr>\n",
       "      <th>40352</th>\n",
       "      <td>1989년 8월 30일 미국 뉴욕 브루클린에서 태어났다. 부모님은 알바니아 출신으로...</td>\n",
       "      <td>비비 렉사</td>\n",
       "      <td>40352</td>\n",
       "      <td>301</td>\n",
       "    </tr>\n",
       "    <tr>\n",
       "      <th>49108</th>\n",
       "      <td>기드온이 그에게 대답하되 오 나의 주여 여호와께서 우리와 함께 계시면 어찌하여 이 ...</td>\n",
       "      <td>기드온</td>\n",
       "      <td>49108</td>\n",
       "      <td>184</td>\n",
       "    </tr>\n",
       "  </tbody>\n",
       "</table>\n",
       "<p>60613 rows × 4 columns</p>\n",
       "</div>"
      ],
      "text/plain": [
       "                                                    text   title  document_id  \\\n",
       "9102   어딘 실이니 례예 여재라\\n\\n○ 呂滎公名希哲, 字原明. 申國正獻公之長子. 正...    소학언해         9102   \n",
       "4548   어딘 실이니 례예 여재라\\n\\n○ 呂滎公名希哲, 字原明. 申國正獻公之長子. 正...    소학언해         4548   \n",
       "9101   아다온 말이니 례예 다재라\\n\\n○ 橫渠張先生曰, 敎小兒, 先要安詳恭敬. 今...    소학언해         9101   \n",
       "4547   아다온 말이니 례예 다재라\\n\\n○ 橫渠張先生曰, 敎小兒, 先要安詳恭敬. 今...    소학언해         4547   \n",
       "9756   1907년 이후 하와이에 건너가 살던 조선인 노동자들은 하와이 농장에서 사탕수수와 ...   사진 신부         9756   \n",
       "...                                                  ...     ...          ...   \n",
       "29269  알백은 설치 시 윈도 기본 복원 시스템은 기본적으로 비활성화된다.\\n\\n멀티 부팅 ...      알백        29269   \n",
       "12478  일반적으로 산스크리트어와 팔리어 음가는 일대일로 대응하는 것으로 보는데, 팔리어가 ...     팔리어        12478   \n",
       "46268  그는 웨스트민스터 신학교(M. Div)와 케임브리지 대학교(Ph. D)의 니콜라스 ...  케빈 밴후저        46268   \n",
       "40352  1989년 8월 30일 미국 뉴욕 브루클린에서 태어났다. 부모님은 알바니아 출신으로...   비비 렉사        40352   \n",
       "49108  기드온이 그에게 대답하되 오 나의 주여 여호와께서 우리와 함께 계시면 어찌하여 이 ...     기드온        49108   \n",
       "\n",
       "       text_length  \n",
       "9102         46099  \n",
       "4548         46099  \n",
       "9101         41411  \n",
       "4547         41411  \n",
       "9756         29016  \n",
       "...            ...  \n",
       "29269          301  \n",
       "12478          301  \n",
       "46268          301  \n",
       "40352          301  \n",
       "49108          184  \n",
       "\n",
       "[60613 rows x 4 columns]"
      ]
     },
     "execution_count": 12,
     "metadata": {},
     "output_type": "execute_result"
    }
   ],
   "source": [
    "df['text_length'] = df.text.str.len()\n",
    "df.sort_values('text_length', ascending=False)"
   ]
  },
  {
   "cell_type": "code",
   "execution_count": 13,
   "id": "28b7ce44-1506-4e40-8afa-e5192f994daa",
   "metadata": {},
   "outputs": [
    {
     "name": "stdout",
     "output_type": "stream",
     "text": [
      "어딘 실이니 례예 여재라\n",
      "\n",
      "○ 呂滎公名希哲, 字原明. 申國正獻公之長子. 正獻公居家, 簡 重寡黙, 不以事物經心, 而申國夫人, 性嚴有法度, 雖甚愛公, 然, 敎公, 事事循蹈規矩.\n",
      "\n",
      "呂榮公의 일홈 希哲이오 字 原明이니 申國 正獻公 [일홈  公著ㅣ니 申은 봉 히오 正獻은 시회니 宋 적 졍승이 라] 의 아이라 正獻公이 집의 이실 제 간략며 후듕며 잡일 아니며 잡말 아니야 일과 온갓 거스로 애 경 영티 아니고 申國夫人이 性이 嚴고 法度ㅣ 이셔 비록 심 히 公을 랑나 그러나 公을 츄  規矩 조차 드듸게 더라\n",
      "\n",
      "甫十歲, 祁寒暑雨, 侍立終日, 不命之坐, 不敢坐也. 日必冠帶, 以見長者, 平居雖甚熱, 在父母長者之側, 不得去巾襪縳袴, 衣 服唯謹.\n",
      "\n",
      "계오 열 설에 큰 치위와 덥고 비올 제라두 뫼셔 셧기를 날이 도록 야 命야 안라 아니커든 敢히 안 아니더라 날마다 반시 冠帶야  얼우신 뵈오며 샹해 이실 제 비록 심히 더우나 父母와 얼우신 겯틔 이셔 시러곰 곳갈와 보 션과 뎐 밧디 아니야 衣服을 오직 삼가더라\n",
      "\n",
      "行步出入, 無得入茶肆酒肆, 市井里巷之語, 鄭衛之音, 未嘗一 經於耳, 不正之書, 非禮之色, 未嘗一接於目.\n",
      "\n",
      "녀 거러 나며 들음애 시러곰 차  집과 술  집의 드 디 아니며 져제와  말와 鄭과 衛ㅅ 소 [두 나라 일 홈이니 음탕 풍라] 를 일즉 번 귀예 디내디 아니며 正티 아니 글월와 禮 아닌 빗 일즉 번 눈에 브티디 아 니더라\n",
      "\n",
      "正獻公通判潁州, 歐陽公適知州事. 焦先生千之伯强, 客文忠公 所, 嚴毅方正, 正獻公招延之, 使敎諸子. 諸生小有過差, 先生 端坐, 召與相對, 終日竟夕, 不與之語, 諸生恐懼畏伏, 先生方 略降辭色.\n",
      "\n",
      "正獻公이 穎州 [고을 일홈이라]ㅣ예 通判 [판관 톄엿 벼슬이 라] 여실 제 歐陽公 [일홈은 修ㅣ니 宋 적 샹이라] 이 州 事를 지엿더니 [아단 말이니 목 톄엿 벼슬이라] 焦 先生 千之 伯强 [千之 일홈이오 伯强은 라] 이 文忠公 [歐陽公 시회라] \n"
     ]
    }
   ],
   "source": [
    "print(df.iloc[9102].text[:1000])"
   ]
  },
  {
   "cell_type": "markdown",
   "id": "495d267f-153f-45a5-8153-16d5261df4a5",
   "metadata": {},
   "source": [
    "* 문서의 평균 길이는 약 600자 전후입니다. 75% 가량 문서가 400자~800자 전후입니다."
   ]
  },
  {
   "cell_type": "code",
   "execution_count": 14,
   "id": "61bb45a1-a722-4d29-9d97-4b8bfbd27f37",
   "metadata": {},
   "outputs": [
    {
     "data": {
      "text/plain": [
       "count    60613.000000\n",
       "mean       755.565044\n",
       "std        762.962671\n",
       "min        184.000000\n",
       "25%        414.000000\n",
       "50%        577.000000\n",
       "75%        857.000000\n",
       "max      46099.000000\n",
       "Name: text, dtype: float64"
      ]
     },
     "execution_count": 14,
     "metadata": {},
     "output_type": "execute_result"
    }
   ],
   "source": [
    "df.text.str.len().describe()"
   ]
  },
  {
   "cell_type": "markdown",
   "id": "75bd8855-47cc-4a1c-a40a-d6fb0bb599f1",
   "metadata": {},
   "source": [
    "---\n",
    "# Retrieve EDA\n",
    "\n",
    "## MRC Dataset"
   ]
  },
  {
   "cell_type": "code",
   "execution_count": 15,
   "id": "6fdc513d-99de-4c6e-b6ad-395d41233b8b",
   "metadata": {},
   "outputs": [],
   "source": [
    "import json\n",
    "import argparse\n",
    "from collections import defaultdict\n",
    "\n",
    "from datasets import load_from_disk, load_dataset, load_metric\n",
    "\n",
    "from tools import *\n",
    "from retrieval.sparse import TfidfRetrieval, BM25Retrieval\n",
    "\n"
   ]
  },
  {
   "cell_type": "code",
   "execution_count": 16,
   "id": "34a2ef3b-2313-43e5-bdb1-0e0816f6b8f1",
   "metadata": {},
   "outputs": [
    {
     "data": {
      "text/plain": [
       "Namespace(alias='base', data=DataTrainingArguments(dataset_name='train_dataset', overwrite_cache=False, preprocessing_num_workers=4, max_seq_length=384, pad_to_max_length=False, batch_size=32, doc_stride=128, max_answer_length=30, train_retrieval=True, eval_retrieval=True), data_path='../input/', debug=False, model=ModelArguments(model_name_or_path='monologg/koelectra-small-v3-discriminator', retriever_name='TFIDF', reader_name='DPR', config_name='', tokenizer_name=''), model_path='', path=Namespace(checkpoint='../input/checkpoint', config='../input/config', embed='../input/embed', info='../input/info', train_data_dir='../input/data'), retriever=RetrievalTrainingArguments(dense_train_dataset='train_dataset', topk=10, retrain=False, b=0.01, k1=0.1), run_cnt=1, seeds=[95, 12, 0, 7, 63, 3, 2, 61, 4, 32, 40, 94, 2033, 2314], strategies=['koel_TFIDF'], train=TrainingArguments(output_dir=../input/checkpoint, overwrite_output_dir=True, do_train=True, do_eval=False, do_predict=False, evaluation_strategy=IntervalStrategy.NO, prediction_loss_only=False, per_device_train_batch_size=8, per_device_eval_batch_size=8, gradient_accumulation_steps=1, eval_accumulation_steps=None, learning_rate=5e-05, weight_decay=0.0, adam_beta1=0.9, adam_beta2=0.999, adam_epsilon=1e-08, max_grad_norm=1.0, num_train_epochs=3, max_steps=-1, lr_scheduler_type=SchedulerType.LINEAR, warmup_ratio=0.0, warmup_steps=0, logging_dir=runs/May07_04-07-55_6738ce2b4e22, logging_strategy=IntervalStrategy.STEPS, logging_first_step=False, logging_steps=100, save_strategy=IntervalStrategy.STEPS, save_steps=100, save_total_limit=1, no_cuda=False, seed=42, fp16=False, fp16_opt_level=O1, fp16_backend=auto, fp16_full_eval=False, local_rank=-1, tpu_num_cores=None, tpu_metrics_debug=False, debug=False, dataloader_drop_last=False, eval_steps=500, dataloader_num_workers=0, past_index=-1, run_name=../input/checkpoint, disable_tqdm=False, remove_unused_columns=True, label_names=None, load_best_model_at_end=False, metric_for_best_model=None, greater_is_better=None, ignore_data_skip=False, sharded_ddp=[], deepspeed=None, label_smoothing_factor=0.0, adafactor=False, group_by_length=False, length_column_name=length, report_to=['wandb'], ddp_find_unused_parameters=None, dataloader_pin_memory=True, skip_memory_metrics=False, _n_gpu=1, mp_parameters=))"
      ]
     },
     "execution_count": 16,
     "metadata": {},
     "output_type": "execute_result"
    }
   ],
   "source": [
    "SEEDS = [95, 12, 0, 7, 63, 3, 2, 61, 4, 32, 40, 94, 2033, 2314]\n",
    "\n",
    "arg_parser = argparse.ArgumentParser(description=\"mrc-stage-openqa-vumblebot\")\n",
    "\n",
    "arg_parser.add_argument(\"--strategies\", type=str2list)\n",
    "arg_parser.add_argument(\"--run_cnt\", type=int, default=1)\n",
    "arg_parser.add_argument(\"--seeds\", type=str2intlist, default=SEEDS)\n",
    "arg_parser.add_argument(\"--data_path\", type=str, default=\"../input/\")\n",
    "arg_parser.add_argument(\"--debug\", type=str2bool, default=False)\n",
    "\n",
    "# use for predict\n",
    "arg_parser.add_argument(\"--model_path\", type=str, default=\"\")\n",
    "\n",
    "# data_path + 'info', 시각화를 위한 정보 저장\n",
    "# data_path + 'checkpoint', 모델 가중치 저장\n",
    "# data_path + 'config', 모델 하이퍼파라미터\n",
    "# data_path + 'embed', 임베딩 데이터\n",
    "# data_path + 'train_data', MRC 데이터\n",
    "\n",
    "args = arg_parser.parse_args(\"--strategies koel_TFIDF\".split())\n",
    "args.path = argparse.Namespace()\n",
    "args.path.info = p.join(args.data_path, \"info\")\n",
    "args.path.embed = p.join(args.data_path, \"embed\")\n",
    "args.path.config = p.join(args.data_path, \"config\")\n",
    "args.path.checkpoint = p.join(args.data_path, \"checkpoint\")\n",
    "\n",
    "for k in [\"info\", \"embed\", \"config\", \"checkpoint\"]:\n",
    "    path = getattr(args.path, k)\n",
    "    if not p.exists(path):\n",
    "        os.mkdir(path)\n",
    "\n",
    "args.path.train_data_dir = p.join(args.data_path, \"data\")\n",
    "\n",
    "if not os.path.exists(args.path.train_data_dir):\n",
    "    raise FileNotFoundError(\n",
    "        f\"{p.abspath(args.path.train_data_dir)} \\\n",
    "            위치가 보이지 않습니다. args.path값을 절대 경로로 수정하거나 \\\n",
    "            input과 같은 폴더에 위치해주세요.\"\n",
    "    )\n",
    "\n",
    "if args.run_cnt > len(SEEDS):\n",
    "    raise ValueError(\"SEEDS를 직접 입력하거나 SEEDS Default 값을 늘려주세요. \")\n",
    "\n",
    "parser = HfArgumentParser((ModelArguments, DataTrainingArguments, TrainArguments, RetrievalTrainingArguments))\n",
    "model_args, data_args, train_args, retriever_args = parser.parse_args_into_dataclasses(args=[])\n",
    "training_args = TrainingArguments(output_dir=args.path.checkpoint)\n",
    "\n",
    "args.model = model_args\n",
    "args.data = data_args\n",
    "args.train = training_args\n",
    "args.retriever = retriever_args\n",
    "\n",
    "update_args(args, args.strategies[0])"
   ]
  },
  {
   "cell_type": "code",
   "execution_count": 17,
   "id": "77429f3d-4c68-4d19-9537-30415e28df6b",
   "metadata": {},
   "outputs": [
    {
     "data": {
      "text/plain": [
       "DatasetDict({\n",
       "    train: Dataset({\n",
       "        features: ['answers', 'context', 'id', 'question', 'title'],\n",
       "        num_rows: 200\n",
       "    })\n",
       "    validation: Dataset({\n",
       "        features: ['answers', 'context', 'id', 'question', 'title'],\n",
       "        num_rows: 20\n",
       "    })\n",
       "})"
      ]
     },
     "execution_count": 17,
     "metadata": {},
     "output_type": "execute_result"
    }
   ],
   "source": [
    "data_dir = '../input/data'\n",
    "dummy_dir = '/'.join([data_dir,'dummy_dataset'])\n",
    "train_dir = '/'.join([data_dir,'train_dataset'])\n",
    "test_dir = '/'.join([data_dir,'test_dataset'])\n",
    "\n",
    "dummy_train_path = '/'.join([dummy_dir, 'train'])\n",
    "dummy_val_path = '/'.join([dummy_dir, 'validation'])\n",
    "\n",
    "datasets = load_from_disk(dummy_dir)\n",
    "datasets"
   ]
  },
  {
   "cell_type": "markdown",
   "id": "4d556168-a2ef-4af8-86e9-9a47047418c2",
   "metadata": {},
   "source": [
    "---\n",
    "* TFIDF 기준입니다."
   ]
  },
  {
   "cell_type": "code",
   "execution_count": 18,
   "id": "fcaa5f72-7a35-452c-acbc-09bfc2d2b1d4",
   "metadata": {},
   "outputs": [],
   "source": [
    "retriever = TfidfRetrieval(args)\n",
    "retriever.get_embedding()"
   ]
  },
  {
   "cell_type": "code",
   "execution_count": 19,
   "id": "704b8391-71f1-45cc-803e-05e2adf0b8a4",
   "metadata": {},
   "outputs": [],
   "source": [
    "word_count = pd.DataFrame({\n",
    "    'token': retriever.encoder.get_feature_names(),\n",
    "    'sum_tfidf': retriever.p_embedding.sum(axis=0).flat\n",
    "})"
   ]
  },
  {
   "cell_type": "markdown",
   "id": "a7bab551-826c-4b46-b3e0-94b22311793e",
   "metadata": {},
   "source": [
    "- 20개 * top-10 => 200 row의 데이터셋"
   ]
  },
  {
   "cell_type": "code",
   "execution_count": 20,
   "id": "f3b0904c-0e1e-4fc3-b4ee-32fa369e1263",
   "metadata": {},
   "outputs": [
    {
     "data": {
      "application/vnd.jupyter.widget-view+json": {
       "model_id": "b1415ac48bef4134940fe48aef22883b",
       "version_major": 2,
       "version_minor": 0
      },
      "text/plain": [
       "HBox(children=(FloatProgress(value=0.0, description='Retrieval: ', max=20.0, style=ProgressStyle(description_w…"
      ]
     },
     "metadata": {},
     "output_type": "display_data"
    },
    {
     "name": "stdout",
     "output_type": "stream",
     "text": [
      "\n"
     ]
    }
   ],
   "source": [
    "val_datasets = retriever.retrieve(datasets['validation'], topk=args.retriever.topk)"
   ]
  },
  {
   "cell_type": "code",
   "execution_count": 21,
   "id": "2e738990-47a9-4732-9427-6c9d6714abd6",
   "metadata": {},
   "outputs": [
    {
     "name": "stdout",
     "output_type": "stream",
     "text": [
      "200\n"
     ]
    },
    {
     "data": {
      "text/html": [
       "<div>\n",
       "<style scoped>\n",
       "    .dataframe tbody tr th:only-of-type {\n",
       "        vertical-align: middle;\n",
       "    }\n",
       "\n",
       "    .dataframe tbody tr th {\n",
       "        vertical-align: top;\n",
       "    }\n",
       "\n",
       "    .dataframe thead th {\n",
       "        text-align: right;\n",
       "    }\n",
       "</style>\n",
       "<table border=\"1\" class=\"dataframe\">\n",
       "  <thead>\n",
       "    <tr style=\"text-align: right;\">\n",
       "      <th></th>\n",
       "      <th>answers</th>\n",
       "      <th>context</th>\n",
       "      <th>id</th>\n",
       "      <th>original_context</th>\n",
       "      <th>question</th>\n",
       "    </tr>\n",
       "  </thead>\n",
       "  <tbody>\n",
       "    <tr>\n",
       "      <th>0</th>\n",
       "      <td>{'answer_start': [63], 'text': ['루피']}</td>\n",
       "      <td>R. J. 셰퍼는 목격자의 증언을 검증하는 점검 목록을 제공한다. \\n\\n# 저술이...</td>\n",
       "      <td>mrc-0-005140</td>\n",
       "      <td>C블록에서 엄청난 활약을 한다. 이글이글 열매를 손에 넣어서 세계의 모든 거인들의 ...</td>\n",
       "      <td>공격을 받아 쓰러진 우시를 보고 화가 나 공격한 인물은?</td>\n",
       "    </tr>\n",
       "    <tr>\n",
       "      <th>1</th>\n",
       "      <td>{'answer_start': [63], 'text': ['루피']}</td>\n",
       "      <td>MSX/패미컴판은 스토리가 단순히 무술대회에서 우승하는것을 넘어 중국을 어지럽히는 ...</td>\n",
       "      <td>mrc-0-005140</td>\n",
       "      <td>C블록에서 엄청난 활약을 한다. 이글이글 열매를 손에 넣어서 세계의 모든 거인들의 ...</td>\n",
       "      <td>공격을 받아 쓰러진 우시를 보고 화가 나 공격한 인물은?</td>\n",
       "    </tr>\n",
       "    <tr>\n",
       "      <th>2</th>\n",
       "      <td>{'answer_start': [63], 'text': ['루피']}</td>\n",
       "      <td>제1격인 선제핵공격을 한 북한이 ICBM을 보유한 경우에는, 상대방 국가들은 핵우산...</td>\n",
       "      <td>mrc-0-005140</td>\n",
       "      <td>C블록에서 엄청난 활약을 한다. 이글이글 열매를 손에 넣어서 세계의 모든 거인들의 ...</td>\n",
       "      <td>공격을 받아 쓰러진 우시를 보고 화가 나 공격한 인물은?</td>\n",
       "    </tr>\n",
       "    <tr>\n",
       "      <th>3</th>\n",
       "      <td>{'answer_start': [63], 'text': ['루피']}</td>\n",
       "      <td>마리아나 해전에서 승리를 거둔 미군은 일본이 본토 방어를 위해 설정한 절대국방권을 ...</td>\n",
       "      <td>mrc-0-005140</td>\n",
       "      <td>C블록에서 엄청난 활약을 한다. 이글이글 열매를 손에 넣어서 세계의 모든 거인들의 ...</td>\n",
       "      <td>공격을 받아 쓰러진 우시를 보고 화가 나 공격한 인물은?</td>\n",
       "    </tr>\n",
       "    <tr>\n",
       "      <th>4</th>\n",
       "      <td>{'answer_start': [63], 'text': ['루피']}</td>\n",
       "      <td>창수는 540년에 독립된 현이 되었으나 581년에 쑤저우에 속하게 되었다. 1295...</td>\n",
       "      <td>mrc-0-005140</td>\n",
       "      <td>C블록에서 엄청난 활약을 한다. 이글이글 열매를 손에 넣어서 세계의 모든 거인들의 ...</td>\n",
       "      <td>공격을 받아 쓰러진 우시를 보고 화가 나 공격한 인물은?</td>\n",
       "    </tr>\n",
       "    <tr>\n",
       "      <th>5</th>\n",
       "      <td>{'answer_start': [63], 'text': ['루피']}</td>\n",
       "      <td>상어는 로렌치니기관(Ampullae of Lorenzini)이라는 전기를 감지하는 ...</td>\n",
       "      <td>mrc-0-005140</td>\n",
       "      <td>C블록에서 엄청난 활약을 한다. 이글이글 열매를 손에 넣어서 세계의 모든 거인들의 ...</td>\n",
       "      <td>공격을 받아 쓰러진 우시를 보고 화가 나 공격한 인물은?</td>\n",
       "    </tr>\n",
       "    <tr>\n",
       "      <th>6</th>\n",
       "      <td>{'answer_start': [63], 'text': ['루피']}</td>\n",
       "      <td>1951년 7월 개성에서 휴전 회담이 열렸으나, 결국 합의에 실패하였다. 그리고 8...</td>\n",
       "      <td>mrc-0-005140</td>\n",
       "      <td>C블록에서 엄청난 활약을 한다. 이글이글 열매를 손에 넣어서 세계의 모든 거인들의 ...</td>\n",
       "      <td>공격을 받아 쓰러진 우시를 보고 화가 나 공격한 인물은?</td>\n",
       "    </tr>\n",
       "    <tr>\n",
       "      <th>7</th>\n",
       "      <td>{'answer_start': [63], 'text': ['루피']}</td>\n",
       "      <td>암호학에서 부채널 공격(side channel attack)은 알고리즘의 약점을 찾...</td>\n",
       "      <td>mrc-0-005140</td>\n",
       "      <td>C블록에서 엄청난 활약을 한다. 이글이글 열매를 손에 넣어서 세계의 모든 거인들의 ...</td>\n",
       "      <td>공격을 받아 쓰러진 우시를 보고 화가 나 공격한 인물은?</td>\n",
       "    </tr>\n",
       "    <tr>\n",
       "      <th>8</th>\n",
       "      <td>{'answer_start': [63], 'text': ['루피']}</td>\n",
       "      <td>부채널 공격은 보통 다음과 같이 나뉜다.\\n\\n* 소요 시간 분석(Timing at...</td>\n",
       "      <td>mrc-0-005140</td>\n",
       "      <td>C블록에서 엄청난 활약을 한다. 이글이글 열매를 손에 넣어서 세계의 모든 거인들의 ...</td>\n",
       "      <td>공격을 받아 쓰러진 우시를 보고 화가 나 공격한 인물은?</td>\n",
       "    </tr>\n",
       "    <tr>\n",
       "      <th>9</th>\n",
       "      <td>{'answer_start': [63], 'text': ['루피']}</td>\n",
       "      <td>연합군 해군의 일본 포격은 제2차 세계 대전의 마지막 주 동안 미국 해군, 영국 해...</td>\n",
       "      <td>mrc-0-005140</td>\n",
       "      <td>C블록에서 엄청난 활약을 한다. 이글이글 열매를 손에 넣어서 세계의 모든 거인들의 ...</td>\n",
       "      <td>공격을 받아 쓰러진 우시를 보고 화가 나 공격한 인물은?</td>\n",
       "    </tr>\n",
       "  </tbody>\n",
       "</table>\n",
       "</div>"
      ],
      "text/plain": [
       "                                  answers  \\\n",
       "0  {'answer_start': [63], 'text': ['루피']}   \n",
       "1  {'answer_start': [63], 'text': ['루피']}   \n",
       "2  {'answer_start': [63], 'text': ['루피']}   \n",
       "3  {'answer_start': [63], 'text': ['루피']}   \n",
       "4  {'answer_start': [63], 'text': ['루피']}   \n",
       "5  {'answer_start': [63], 'text': ['루피']}   \n",
       "6  {'answer_start': [63], 'text': ['루피']}   \n",
       "7  {'answer_start': [63], 'text': ['루피']}   \n",
       "8  {'answer_start': [63], 'text': ['루피']}   \n",
       "9  {'answer_start': [63], 'text': ['루피']}   \n",
       "\n",
       "                                             context            id  \\\n",
       "0  R. J. 셰퍼는 목격자의 증언을 검증하는 점검 목록을 제공한다. \\n\\n# 저술이...  mrc-0-005140   \n",
       "1  MSX/패미컴판은 스토리가 단순히 무술대회에서 우승하는것을 넘어 중국을 어지럽히는 ...  mrc-0-005140   \n",
       "2  제1격인 선제핵공격을 한 북한이 ICBM을 보유한 경우에는, 상대방 국가들은 핵우산...  mrc-0-005140   \n",
       "3  마리아나 해전에서 승리를 거둔 미군은 일본이 본토 방어를 위해 설정한 절대국방권을 ...  mrc-0-005140   \n",
       "4  창수는 540년에 독립된 현이 되었으나 581년에 쑤저우에 속하게 되었다. 1295...  mrc-0-005140   \n",
       "5  상어는 로렌치니기관(Ampullae of Lorenzini)이라는 전기를 감지하는 ...  mrc-0-005140   \n",
       "6  1951년 7월 개성에서 휴전 회담이 열렸으나, 결국 합의에 실패하였다. 그리고 8...  mrc-0-005140   \n",
       "7  암호학에서 부채널 공격(side channel attack)은 알고리즘의 약점을 찾...  mrc-0-005140   \n",
       "8  부채널 공격은 보통 다음과 같이 나뉜다.\\n\\n* 소요 시간 분석(Timing at...  mrc-0-005140   \n",
       "9  연합군 해군의 일본 포격은 제2차 세계 대전의 마지막 주 동안 미국 해군, 영국 해...  mrc-0-005140   \n",
       "\n",
       "                                    original_context  \\\n",
       "0  C블록에서 엄청난 활약을 한다. 이글이글 열매를 손에 넣어서 세계의 모든 거인들의 ...   \n",
       "1  C블록에서 엄청난 활약을 한다. 이글이글 열매를 손에 넣어서 세계의 모든 거인들의 ...   \n",
       "2  C블록에서 엄청난 활약을 한다. 이글이글 열매를 손에 넣어서 세계의 모든 거인들의 ...   \n",
       "3  C블록에서 엄청난 활약을 한다. 이글이글 열매를 손에 넣어서 세계의 모든 거인들의 ...   \n",
       "4  C블록에서 엄청난 활약을 한다. 이글이글 열매를 손에 넣어서 세계의 모든 거인들의 ...   \n",
       "5  C블록에서 엄청난 활약을 한다. 이글이글 열매를 손에 넣어서 세계의 모든 거인들의 ...   \n",
       "6  C블록에서 엄청난 활약을 한다. 이글이글 열매를 손에 넣어서 세계의 모든 거인들의 ...   \n",
       "7  C블록에서 엄청난 활약을 한다. 이글이글 열매를 손에 넣어서 세계의 모든 거인들의 ...   \n",
       "8  C블록에서 엄청난 활약을 한다. 이글이글 열매를 손에 넣어서 세계의 모든 거인들의 ...   \n",
       "9  C블록에서 엄청난 활약을 한다. 이글이글 열매를 손에 넣어서 세계의 모든 거인들의 ...   \n",
       "\n",
       "                          question  \n",
       "0  공격을 받아 쓰러진 우시를 보고 화가 나 공격한 인물은?  \n",
       "1  공격을 받아 쓰러진 우시를 보고 화가 나 공격한 인물은?  \n",
       "2  공격을 받아 쓰러진 우시를 보고 화가 나 공격한 인물은?  \n",
       "3  공격을 받아 쓰러진 우시를 보고 화가 나 공격한 인물은?  \n",
       "4  공격을 받아 쓰러진 우시를 보고 화가 나 공격한 인물은?  \n",
       "5  공격을 받아 쓰러진 우시를 보고 화가 나 공격한 인물은?  \n",
       "6  공격을 받아 쓰러진 우시를 보고 화가 나 공격한 인물은?  \n",
       "7  공격을 받아 쓰러진 우시를 보고 화가 나 공격한 인물은?  \n",
       "8  공격을 받아 쓰러진 우시를 보고 화가 나 공격한 인물은?  \n",
       "9  공격을 받아 쓰러진 우시를 보고 화가 나 공격한 인물은?  "
      ]
     },
     "execution_count": 21,
     "metadata": {},
     "output_type": "execute_result"
    }
   ],
   "source": [
    "topk_dataset = val_datasets['validation']\n",
    "topk = pd.DataFrame(topk_dataset)\n",
    "print(len(topk))\n",
    "topk.head(10)"
   ]
  },
  {
   "cell_type": "markdown",
   "id": "b909e32f-697e-4f96-9f2a-505ab88af267",
   "metadata": {},
   "source": [
    "---\n",
    "- validation에 존재하는 20개의 질문 중 10개의 질문에 대한 top-10 context들을 한번 보겠습니다.\n",
    "- TF/IDF 방식은 당연히 질문에 들어간 단어가 자주 있을수록 존재합니다. \n",
    "- **top-10 이내에 정답을 찾은 질문은 20개중 18개였습니다.**\n",
    "    - 정답을 못찾은 질문 : 1, 5"
   ]
  },
  {
   "cell_type": "code",
   "execution_count": 22,
   "id": "7f2f7f38-9785-487f-92a1-9f48d6557e25",
   "metadata": {},
   "outputs": [
    {
     "name": "stdout",
     "output_type": "stream",
     "text": [
      "INDEX: 1\n",
      "question : 공격을 받아 쓰러진 우시를 보고 화가 나 공격한 인물은?\n",
      "answer : ['루피']\n",
      "original : C블록에서 엄청난 활약을 한다. 이글이글 열매를 손에 넣어서 세계의 모든 거인들의 왕이 될 야욕을 가지고 있다. 루피와 우시가 시비를 걸었다고 생각하고 공격하여 우시를 쓰러뜨린다. 하지만 이에 분개한 루피의 무장색+기초전투력에 일격에 당하고 만다. 드레스로자 지하 고철처리장이란 함정에 빠져서 슈거의 하비하비 열매 능력에 의해 장난감이 되어버린 후, 슈거와 트레볼의 명령에 따라 움직이고 있었지만, 우솝이 슈거를 기절시키면서 원래모습으로 돌아온다. 톤톤 열매 능력자인 마하 바이스랑 전투에서 자신과 롤로노아 조로에게 '지옥의 만 톤 바이스'로 공격하려는 마하 바이스를 상처입은 몸으로 '궁니르(영웅의 창)'으로 날려버린다. 후지토라랑 싸우는 몽키 D. 루피를 데려가 올럼버스의 배 '욘타마리아 호'에 태운다. 이후, 드레스로자에서 활약한 모든 해적단들과 몽키 D. 루피가 이끄는 밀짚모자 해적단 산하 해적단에 들어가기로 마음을 먹지만, 모두 거절당한다. 하지만, 모든 해적단들과 같이 밀짚모자 해적단에 산하 해적단으로 들어가기로 마음을 먹고, 술잔을 나눈다. 이후에는 버기즈 딜리버리(BD)를 그만두고 신 거병 해적단을 만들게 된다.\n",
      "0    R. J. 셰퍼는 목격자의 증언을 검증하는 점검 목록을 제공한다. \\n\\n# 저술이...\n",
      "1    MSX/패미컴판은 스토리가 단순히 무술대회에서 우승하는것을 넘어 중국을 어지럽히는 ...\n",
      "2    제1격인 선제핵공격을 한 북한이 ICBM을 보유한 경우에는, 상대방 국가들은 핵우산...\n",
      "3    마리아나 해전에서 승리를 거둔 미군은 일본이 본토 방어를 위해 설정한 절대국방권을 ...\n",
      "4    창수는 540년에 독립된 현이 되었으나 581년에 쑤저우에 속하게 되었다. 1295...\n",
      "5    상어는 로렌치니기관(Ampullae of Lorenzini)이라는 전기를 감지하는 ...\n",
      "6    1951년 7월 개성에서 휴전 회담이 열렸으나, 결국 합의에 실패하였다. 그리고 8...\n",
      "7    암호학에서 부채널 공격(side channel attack)은 알고리즘의 약점을 찾...\n",
      "8    부채널 공격은 보통 다음과 같이 나뉜다.\\n\\n* 소요 시간 분석(Timing at...\n",
      "9    연합군 해군의 일본 포격은 제2차 세계 대전의 마지막 주 동안 미국 해군, 영국 해...\n",
      "Name: context, dtype: object\n",
      "\n",
      "\n",
      "\n",
      "INDEX: 2\n",
      "True - top-1\n",
      "question : 백인들이 핸콕 추장을 살해한 이유는?\n",
      "answer : ['백인들은 추장을 ‘부족 지배자’라고 믿고 있기 때문에']\n",
      "original : 1711년 가을, 핸콕 추장이 이끄는 남부 투스카로라 족은 팸플리코 족, 코세치니 족, 코어 족, 마타마스키토 족 및 마체펀고 족과 연합하여, 짧은 시간에 넓은 범위의 정착민을 습격했다. 목표가 된 것은 로어노크 강, 뉴스 강, 트렌트 강변 농장 및 바스 시였다. 첫 번째 공격은 1711년 9월 22일에 시작되어, 결국 수백 정착민이 죽었다. 정치적 중심이 되어 있던 인물도 죽거나 혹은 몇 달 동안 피해다녀야 했다.\\n\\n식민지 주지사였던 에드워드 하이드는 노스캐롤라이나 민병대를 소집하고, 사우스캐롤라이나 의회를 돕기로 결정했다. 사우스캐롤라이나 의회는 ‘존 반웰 대령이 지휘하는 600명의 민병과 360명의 인디언’을 보냈다. 이 부대는 1712년에 뉴스 강 양안의 나한츠 요새에서 남부 투스카로라 족과 크레이븐 카운티의 다른 부족을 공격했다. 투스카로라 족은 큰 손실을 입고 패배했다. 300명 이상의 인디언이 죽고 100여명은 포로가 되었다. 이 포로는 대부분 여자 또는 아이였고, 노예로 팔려갔다.\\n\\n블런트 추장은 “그가 개척민들을 도와 핸콕 추장의 무리를 진압하는 데 도움을 주면 투스카로라 족 전체를 통치할 기회를 준다”는 제안을 받았다. 블런트 추장은 남부 추장을 붙잡을 수 있었고, 이주민들은 1712년 핸콕 추장을 처형했다. 1713년, 남부 투스카로라 족은 그린 카운티에 있던 네오헤로카 요새를 함락당하고 900명이 죽거나 포로가 되었다.\\n\\n백인들은 블런트 추장에게 “투스카로라 족 전체를 지배할 기회를 주겠다”고 제안했지만, 추장은 그런 권한을 가진 존재가 아니다. 백인들은 추장을 ‘부족 지배자’라고 믿고 있기 때문에, 핸콕 추장을 죽여 버린 것이다. 중재자인 추장을 잃은 남부 투스카로라 족 대부분은 이제 노스캐롤라이나의 개척자에서 벗어나 현재의 뉴욕으로 북상하여 이주를 시작했다.\n",
      "10    1711년 가을, 핸콕 추장이 이끄는 남부 투스카로라 족은 팸플리코 족, 코세치니 ...\n",
      "11    유럽 백인의 노스캐롤라이나의 첫 영구 식민지 이주는 1653년에 본격적으로 시작되었...\n",
      "12    서부에서 핸콕의 시간은 잠시였다. 재건 아래 공화당원 장군들이 남부를 다스리고 있던...\n",
      "13    당시 인종 문제는 선거에서 큰 변수가 될 수도 있었다. 소수 백인들 사이에서 시작된...\n",
      "14    핸콕은 대부분 미네소타주 포트스넬링과 미주리주 세인트루이스에서 육군 병참 장교와 부...\n",
      "15    그랜트 장군의 1868년 대통령 선거 승리에 이어 공화당원들은 워싱턴 D. C.에서...\n",
      "16    강호순(姜浩順, 1969년 10월 10일 ~ )은 2006년 9월부터 2008년 1...\n",
      "17    윈필드 스콧 핸콕과 그의 일란성 쌍둥이 동생 힐러리 베이커 핸콕은 오늘날 몽고메리 ...\n",
      "18    윈필드 스콧 핸콕(Winfield Scott Hancock, 1824년 2월 14일...\n",
      "19    아이티 혁명\\n1789년 기준 생도맹그 인구는 백인 4만 명 물라토 28,000명과...\n",
      "Name: context, dtype: object\n",
      "\n",
      "\n",
      "\n",
      "INDEX: 3\n",
      "True - top-1\n",
      "question : 티칼에게서 마야의 중심 도시라는 명성을 뺏은 도시는?\n",
      "answer : ['카라콜']\n",
      "original : 마야 문명의 왕실들은 모두 티칼과 밀접한 관력이 있다. 상형문자 기록에 의하면 티칼의 왕조는 '약스 엡 쑤크'라는 전설적인 인물로 인하여 창건되었으며, 약 기원전 1세기부터 시작된 것으로 추정된다. 고전기 초기, 마야 문명의 중심은 2개의 가장 강력한 도시였던 티칼과 칼라크물에 집중되어 있었으며, 나머지 모든 도시들은 티칼과 칼라크물을 중심으로 돌아갓다. 선고전기에 번영했던 엘 미라도르와 같은 도시들이 멸망함에 따라 티칼은 상대적으로 더더욱 강성해졌고, 이후 티칼의 영향을 받아 주변 마야 도시들도 왕조들이 들어섰고 나름대로의 문화를 가지며 번영하기 시작하였다.\\n\\n티칼의 피라미드들에 새겨져 있는 상형문자들을 해독한 결과, 티칼은 칼라크물, 우아삭툰, 카라콜, 나란조와 같은 인근 도시들과 연합을 맺기도 하고 경쟁을 벌이기도 하며 성장하였다. 고전기 초에 카라콜에게 패한 티칼은 한동안 마야 문명의 중심 도시라는 명예를 뺏겼고, 대신 카라콜은 남부 지대의 중심 도시로 급부상했다. 또한 우아삭툰과도 상당한 적대관계를 유지하였는데, 이는 우아삭툰의 비문들에 티칼에서 잡아온 포로들에 관한 언급이 있기 때문이다. 기원후 317년, 남자들만 왕위를 물려받을 수 있는 관습이 깨지고 '우넨 발란' 여왕이 등극하였다.\n",
      "20    마야 문명의 왕실들은 모두 티칼과 밀접한 관력이 있다. 상형문자 기록에 의하면 티칼...\n",
      "21    9세기에 본격적으로 마야 고전기가 쇠퇴기에 접어들었다. 모든 마야 도시들에서 인구가...\n",
      "22    1525년, 에르난도 코르테스가 티칼에서 몇 킬로미터 떨어진 지점을 통과했으나, 그...\n",
      "23    5세기에 티칼의 영향력은 남쪽으로까지 뻗어갔고, 이때 식민도시 코판을 세웠다. 코판...\n",
      "24    기원후 200년, 테오티우아칸은 티칼에 대사를 두고 간접통치하였다. 티칼의 14대 ...\n",
      "25    7세기 경에는 마야 문명 지역에서 그 어떠한 테오티우아칸의 영향력도 찾아볼 수 없다...\n",
      "26    6세기 중반, 인근 도시 카라콜이 칼라크물과 연합하여 티칼을 점령하는 데에 성공했다...\n",
      "27    19.54|N|89|37|25.01|W|type:landmark|display=ti...\n",
      "28    티칼 인근에서 발견되는 가장 초기의 농경지 유적은 기원전 1000년까지 거슬러 올라...\n",
      "29    현재 우리가 볼 수 있는 티칼의 모습은 펜실베이니아 대학교와 과테말라 정부의 협조 ...\n",
      "Name: context, dtype: object\n",
      "\n",
      "\n",
      "\n",
      "INDEX: 4\n",
      "True - top-6\n",
      "question : 갈릴레오가 발견한 다른 위성과 달리 이오에게만 존재하지 않는 것은?\n",
      "answer : ['물']\n",
      "original : 이오에 대한 탐사\\n 이오의 발견을 최초로 공표한 사람은 갈릴레오 갈릴레이로, 1610년 1월 7일 파도바 대학교에서 20배율 굴절 망원경을 사용하여 관측했다. 그러나 이 관측에서 갈릴레이는 망원경의 성능이 낮았던 탓에 이오와 유로파를 하나의 천체로 인지했고, 둘을 하나의 광점으로 기록했다. 바로 다음날 1610년 1월 8일 갈릴레이는 목성계를 다시 관측하여 이오가 유로파와 분리된 천체임을 알아냈다.(국제 천문 연맹은 이 날을 이오가 발견된 날로 인정한다.) 갈릴레이는 1610년 3월 이오와 나머지 목성의 위성들의 발견 사실을 Sidereus Nuncius 제목으로 출판했다. 시몬 마리우스는 1614년 그가 출판한 저작 Mundus Jovialis에서 본인이 이오를 포함한 목성의 위성들을 갈릴레이의 발견일보다 일 주일 먼저 1609년에 발견했다고 주장했다. 갈릴레이는 이 주장을 의심했고 마리우스가 자신의 발견을 표절한 것으로 취급하여 무시했다. 사실 마리우스의 최초 발견일인 1609년 12월 29일은 율리우스력으로 이는 갈릴레이가 사용한 그레고리력으로는 1610년 1월 8일에 해당된다. 둘의 발견일은 같지만 마리우스보다 먼저 발견을 공표한 갈릴레이가 이오의 발견자로 인정받는다. \\n\\n이후 250년동안 이오는 천문학자들의 망원경 속에서 잘 알려지지 않은, 5등급 밝기의 광점으로 남아 있었다. 17세기에 이오를 포함한 갈릴레이 위성들은 경도를 정하거나, 케플러의 행성 운동 법칙을 검증하는 데 이용되거나, 목성과 지구 사이 빛이 도달하는 데 걸리는 시간을 재는 등 여러 연구 목적으로 활용되었다 카시니 외 여러 천문학자들이 만든 천체력에 기반하여 피에르시몽 라플라스는 이오, 유로파, 가니메데의 궤도 공명을 설명하는 수학 이론을 만들었다 이 공명은 훗날 세 위성의 지질학 연구에 지대한 영향을 끼치게 된다.\\n\\n19세기 말에서 20세기에 이르러 천문학자들은 향상된 망원경 기술력 덕분에 이오 표면의 거대한 특징들을 분해하여(이는 분명한 물체로 식별한다는 뜻임) 관측할 수 있게 되었다. 1890년대에 에드워드 바나드는 최초로 이오의 적도와 극 지역 둘의 밝기에 차이가 있음을 발견했다. 바나드는 이 밝기 차이의 원인이 본인이 애초 제기했던 이오가 두 개의 별개 천체라든가 또는 당시 동료 천문학자였던 에드워드 피커링의 주장대로 이오가 계란모양으로 생겼기 때문이 아니라, 두 지역이 서로 색채 및 알베도가 다르기 때문이라고 정확히 지적했다. 이후 망원경 관측으로 뚜렷하게 적갈색 빛을 내는 이오 극지대와 적도의 황백색 띠 구조를 확인했다. \\n\\n20세기 중반 망원경 관측으로 평범하지 않은 이오 외관의 실마리가 풀리기 시작했다. 분광기를 이용한 관측 결과 이오 표면에 물은 없으며(물은 다른 갈릴레이 위성에는 풍부하게 존재한다.) 대신 나트륨의 소금과 황으로 이루어진 증발 물질들이 표면을 뒤덮고 있는 것으로 추측했다. 라디오 망원경 관측으로 데카미터 파장 폭발이 이오의 공전 주기와 연관이 있음을 확인, 이오가 목성 자기장에 미치는 영향을 밝혀냈다.\n",
      "30    이오(Io, Ἰώ)는 목성의 위성 중 하나로 갈릴레이 위성에 속하는 위성이다. 지름...\n",
      "31    이오(Io, Ἰώ)는 목성의 위성 중 하나로 갈릴레이 위성에 속하는 위성이다. 지름...\n",
      "32    이오에 대한 탐사\\n 이오의 발견을 최초로 공표한 사람은 갈릴레오 갈릴레이로, 16...\n",
      "33    갈릴레오 호는 지구에서 발사된 지 6년 후인 1995년 목성에 도착했다. 갈릴레오 ...\n",
      "34    갈릴레오 호는 지구에서 발사된 지 6년 후인 1995년 목성에 도착했다. 갈릴레오 ...\n",
      "35    이오에 대한 탐사\\n 이오의 발견을 최초로 공표한 사람은 갈릴레오 갈릴레이로, 16...\n",
      "36    이오는 목성의 자기권이 형성되는 데 큰 영향을 준다. 목성의 자기권은 이오의 희박한...\n",
      "37    이오는 질량 대부분이 규산염질의 바위 및 철로 이루어져 있어서, 주로 물의 얼음과 ...\n",
      "38    갈릴레오의 코페르니쿠스이론에 대한 천문학적 발견들과 연구들은 갈릴레오에 의해 발견된...\n",
      "39    1994년 2월 17일에 갈릴레오 임무 연구원 앤 하치는 우주선에서 수신받은 사진들...\n",
      "Name: context, dtype: object\n",
      "\n",
      "\n",
      "\n",
      "INDEX: 5\n",
      "question : 종교적 목적으로 파리 대학교에 교황이 세운 교육 기관은?\n",
      "answer : ['동방 언어 학원']\n",
      "original : 호노리오 4세는 십자군 원정을 계획했으나, 실제 활동은 피렌체와 시에나, 피스토이아의 은행인 가문들의 협조를 받아 제2차 리옹 공의회에서 시행한 십일조 징수에만 국한되었다.\\n\\n파리 대학교에는 교황에 의해 무슬림들의 개종과 동방 정교회와의 재일치를 위해 그들의 언어를 가르치려는 목적으로 동방 언어 학원이 설립되었다.\\n\\n그는 재임기간 동안 오직 한 명의 추기경만 서임했는데, 바로 1285년 12월 22일 서임된 몬레알레 대주교이자 그의 사촌인 조반니 보카마차이다.\\n\\n1285년 몽골의 지도자 아르군 칸이 호노리오 4세에게 사절과 함께 친서를 보냈다. 현재 그가 보낸 친서의 라틴어 번역본은 바티칸에 소장되어 있다. 친서에서 그는 무슬림들의 땅에 대해 함께 군사 공격을 하자고 제안했다.\\n\\n“우리와 당신 사이에 있는 무슬림들의 땅인 시리아와 이집트를 우리가 에워싸고 압박합시다. 우리는 귀하에게 이집트에 군대를 파병할 것을 요청하는 사절들을 보내면, 우리는 당신께 훌륭한 전사들을 보내겠습니다. 귀하가 이에 응하고자 한다면 우리 사절들을 통해 알려주시기 바랍니다. 우리는 주님과 교황과 위대한 칸의 도움으로 사라센족을 쫓아낼 것입니다.”|1285년 아르군 칸이 호노리오 4세에게 보낸 친서 내용 중에서, 바티칸 문서고 \\n\\n그러나 호노리오 4세에게는 칸이 제안한 계획을 달성하기 위해 필요한 군사적 지원을 할 만큼의 능력이 없었다.\\n\\n호노리오 4세의 무덤은 로마의 산타 마리아 인 아라챌리 성당에 있다.\n",
      "40    파리 대학교(Université de Paris)는 중세 대학 가운데 가장 중요하고...\n",
      "41    교황 요한 21세( Ioannes PP. XXI,  Papa Giovanni XXI...\n",
      "42    교육성(敎育省, Congregatio de Institutione Catholica...\n",
      "43    종교 교육(宗敎敎育)은 광의에는 일반적인 종교의 교의, 의식, 습관, 개념, 역사 ...\n",
      "44    교황 선출자 스테파노(Papa Electus Stephanus, ? ~ 752년)는...\n",
      "45    1362년 9월 그리모아르가 이탈리아 주재 교황 대사로 있는 동안에 교황 인노첸시오...\n",
      "46    교황 선출자 스테파노(Papa Electus Stephanus, ? ~ 752년)는...\n",
      "47    교황 젤라시오 1세( Gelasius PP. I,  Papa Gelasio I)는 ...\n",
      "48    천주의 성 요한 수도회(Brothers Hospitallers of St. John...\n",
      "49    콘스탄츠 공의회\\n 이 부분의 본문은 서방 교회의 분열입니다.\\n1377년 교황 그...\n",
      "Name: context, dtype: object\n",
      "\n",
      "\n",
      "\n",
      "INDEX: 6\n",
      "True - top-1\n",
      "question : 가트나는 2020년에 사물 인터넷 기술을 사용하는 사물은 몇 개일거라 예측했나?\n",
      "answer : ['260억 개']\n",
      "original : 사물인터넷(Internet of Things, 약어로 IoT)은 각종 사물에 센서와 통신 기능을 내장하여 인터넷에 연결하는 기술. 즉, 무선 통신을 통해 각종 사물을 연결하는 기술을 의미한다. 인터넷으로 연결된 사물들이 데이터를 주고받아 스스로 분석하고 학습한 정보를 사용자에게 제공하거나 사용자가 이를 원격 조정할 수 있는 인공지능 기술이다. 여기서 사물이란 가전제품, 모바일 장비, 웨어러블 디바이스 등 다양한 임베디드 시스템이 된다. 사물인터넷에 연결되는 사물들은 자신을 구별할 수 있는 유일한 아이피를 가지고 인터넷으로 연결되어야 하며, 외부 환경으로부터의 데이터 취득을 위해 센서를 내장할 수 있다. 모든 사물이 바이러스와 해킹의 대상이 될 수 있어 사물인터넷의 발달과 보안의 발달은 함께 갈 수밖에 없는 구조이다.\\n\\n정보 기술 연구 및 자문회사 가트너에 따르면 2009년까지 사물인터넷 기술을 사용하는 사물의 개수는 9억여개였으나 2020년까지 이 수가 260억 개에 이를 것으로 예상된다. 이와 같이 많은 사물이 연결되면 인터넷을 통해 방대한 데이터가 모이게 되는데, 이렇게 모인 데이터는 기존 기술로 분석하기 힘들 정도로 방대해진다. 이것을 빅 데이터라고 부른다. 따라서 빅 데이터를 분석하는 효율적인 알고리즘을 개발하는 기술의 필요성이 사물인터넷의 등장에 따라 함께 대두되고 있다. \\n\\n시스코 시스템즈의 조사에 따르면 2013년부터 2022년까지 10년간 사물인터넷이 14조 4천억 달러의 경제적 가치가 있을 것이라고 예상한다.\n",
      "50    사물인터넷(Internet of Things, 약어로 IoT)은 각종 사물에 센서와...\n",
      "51    공정을 분석하고 시설물을 모니터링하여 작업 효율과 안전을 제공한다. 생산, 가공, ...\n",
      "52    사물인터넷 시장에 진출할 계획이 있는 기업으로는 미국의 시스코, 대한민국의 삼성전자...\n",
      "53    사물인터넷에 참여하는 각각의 개체는 다른 개체로 하여금 스스로를 식별할 수 있게 해...\n",
      "54    R. J. 셰퍼는 목격자의 증언을 검증하는 점검 목록을 제공한다. \\n\\n# 저술이...\n",
      "55    이데아론은 플라톤이 처음 주장한 형이상학 이론이다. 플라톤에 따르면, 이데아론에서 ...\n",
      "56    길버트 갸라한(Gilbert Garraghan)은 비평을 여섯 가지 질문으로 나누었...\n",
      "57    스마트 토이(smart toy)란 인공지능이나 사물인터넷(IoT) 같은 차세대 정보...\n",
      "58    CCTV, 노약자 GPS 등의 사물인터넷 정보를 사용해 재난이나 재해를 예방한다. ...\n",
      "59    2020년 OFC 챔피언스리그(2020 OFC Champions League)는 O...\n",
      "Name: context, dtype: object\n",
      "\n",
      "\n",
      "\n",
      "INDEX: 7\n",
      "True - top-3\n",
      "question : 크누트를 자연으로 돌려보내자고 주장한 사람은?\n",
      "answer : ['마르쿠스 뢰브케']\n",
      "original : 크누트는 대중에 공개된 지 1년이 후 130kg이 되었다. 크누트와 관객 사이에는 박격포 폭발에도 끄떡 없는 두께 6인치짜리 유리판이 설치되었다. \\n크누트가 많이 성장하게 되자 2008년 3월 말 크누트의 사육사 중 한 명이었던 마르쿠스 뢰브케는 \"크누트의 자립 생활, 독립을 위해 가급적 빨리 크누트를 야생으로 돌려보내야 한다\"고 주장하였다. 뢰브케는 또한 크누트가 전임 사육사였던 토마스 되르플라인을 그리워하고 있으며 주변에 아무도 없으면 울음소리를 내 주목을 받고 싶어한다고 전했다. 그는 누군가 자신을 보아주기를 바라는 크누트의 성향을 바꾸는 게 좋겠다고 조언한 바 있다 한편, 4월 초 동물보호단체는 크누트가 우리 안에서 열 마리의 잉어를 죽여 잡아먹었으며 이는 독일 동물 보호법 위반이라고 비난하였다. 베를린 동물원의 곰 전문가 하이너 클뢰스는 이에 대하여 북극곰의 습성일 뿐이라고 일축했고 비난에 대해 반박하였다. \\n\\n2008년 7월 크누트의 아버지를 사육하고 있는 독일 북부의 노이뮌스터 동물원은 베를린 동물원이 크누트의 성공으로 인한 수익을 독식하고 있다며 소송을 제기하였다. 이전에 체결된 계약을 따른다면 크누트의 소유권은 노이뮌스터 동물원에 있었다. 노이뮌스터 측은 이전에 크누트가 벌어들이는 수익의 분배를 두고 베를린 동물원과 교섭하였으나 의견에 마찰을 빚었다고 공식 입장을 표명했고 결국 이 문제는 법정에서 다뤄지게 되었다. 노이뮌스터 동물원의 동물원 감독 페터 드뤼바는 크누트를 데려올 마음은 없고, 단지 수익 분배를 바랄 뿐이라고 하였다. \\n\\n소송 문제와 함께 크누트의 두 번째 생일이 얼마 남지 않았을 때 베를린 동물원의 시설이 너무 작아 크누트를 다른 동물원으로 이전해야 한다는 주장이 대두되었다. 그러나 베를린 동물원 측과 베를린 시장 클라우스 보베라이트는 \"크누트가 수도인 베를린에 남아있어야 한다\"고 못박았다. \\n\\n \\n베를린 동물원과 노이뮌스턴 동물원간의 소송은 2009년에도 지속되었고 2009년 5월 19일, 베를린 동물원은 크누트의 소유권을 노이뮌스터에서 완전히 이전해오는 조건을 제안하였다. 이에 대하여 노이뮌스터 동물원측은 700,000 유로를 제시하였고, 베를린 동물원 측은 350,000 유로를 제시하면서 \"그 이상 한푼도 더 줄 수 없다\"고 밝혔다. 결국 7월 8일 베를린 동물원은 430,000 유로에 크누트의 소유권을 넘겨받게 된다. \\n\\n2009년 9월, 뮌헨의 헬라브룬 동물공원에 있던 크누트와 비슷한 나이의 북극곰 암컷 '조반나'가 베를린 동물원으로 이전되었다. 조반나는 9월 23일 대중에 공개되었고 헬라브룬 동물공원이 수리를 마칠때까지 크누트의 우리를 잠시 공유하였다. 조반나의 도착은 국제적 관심을 촉발하였다. 당시 크누트와 조반나 모두 성년이 아니었음에도 매체들은 두 곰이 짝짓기를 할 것인가의 여부가 세간의 관심을 끌기에 충분했기 때문이다. 그러나 2010년 3월, 동물을 윤리적으로 다루는 사람들의 모임 독일 지부는 크누트와 조반나의 할아버지가 같으니 \"크누트의 근친교배를 막기 위해서는 크누트를 거세하여야 한다\"고 주장하였다. 또한 PETA 대변인 프랑크 알브레히트는 \"크누트와 조반나 사이에 새끼가 태어난다면 이는 독일 북극곰 유전형질을 위협할 것\"이라는 우려를 표했다. 베를린 동물원은 이에 대하여 어떠한 성명이나 발표도 내지 않았고 조반나의 베를린 동물원 체류가 일시적인 것에 불과하다고만 밝혔다. 후에 2010년 8월 조반나는 수리가 끝난 본래 동물원으로 돌아가면서 사태는 진정되기에 이른다.\\n\\n크누트는 죽기 전까지 모두 세 마리의 북극곰 암컷과 우리를 공유하였으며 낸시, 카튜샤, 그리고 어미 토스카였다. 크누트보다 나이가 많은 암컷곰들은 크누트에게 내내 위협적이여서 2010년 말, 크누트가 괴롭힘을 당하고 있다는 보도까지 나가게 되었다. 조련사 중 한 명은 이를 부인하며 \"크누트가 아직은 어려서 그런(어려움을 겪고 있을 뿐) 것이지, 시간이 흐르면 모든 문제가 해결될 것\"이라고 밝혔다.\n",
      "60    2007년 3월 초, 독일의 보수 성향 타블로이드 신문 《빌트 차이퉁》은 동물 권익...\n",
      "61    크누트는 2007년 3월 23일 대중에 처음으로 공개되었다.  이를 보도하기 위해 ...\n",
      "62    크누트는 대중에 공개된 지 1년이 후 130kg이 되었다. 크누트와 관객 사이에는 ...\n",
      "63    네 살이던 2011년 3월 19일 크누트는 우리 안에서 쓰러져 숨을 거두었다. 목격...\n",
      "64    베를린 동물원의 임원인 게랄트 우리흐(Gerald Uhlich) 박사는 크누트가 소...\n",
      "65    크누트는 베를린 동물원의 스무 살 된 어미 토스카에게서 태어났다. 토스카는 캐나다 ...\n",
      "66    크누트(Knut  , 2006년 12월 5일 ~ 2011년 3월 19일)는 독일 베...\n",
      "67    크누트 가(House of Canute, 크뉘틀링가)는 중세 초기 잉글랜드와 스칸디...\n",
      "68    크누트 대왕이 사후, 하랄드의 동생이였던 하레크누트는 잉글랜드, 덴마크, 노르웨이 ...\n",
      "69    토끼발 하랄드(Haraldr Herafótr, Harold Harefoot, Har...\n",
      "Name: context, dtype: object\n",
      "\n",
      "\n",
      "\n",
      "INDEX: 8\n",
      "True - top-3\n",
      "question : 새로운 차르가 등용된 후 가짜 드미트리가 도망간 장소는?\n",
      "answer : ['칼루가']\n",
      "original : 가짜 드미트리가 칼루가로 피신한 이후, 이번에는 폴란드의 지그문트 3세가 자신의 아들 브와디스와프 4세 바사를 내세워 러시아에 개입하기 시작하였다. 투시노의 반모스크바적 인사들이 지기스문트 3세와 접촉하였으며, 1605년부터 계속된 폴란드와 루스 차르국 사이의 전쟁이 재개되었다. 이런 틈을 타서 가짜 드미트리는 모스크바 근교까지 진출하여 자리를 잡았다.\\n\\n드디어 1610년 7월, 바실리 4세는 성직자, 귀족, 일부 평민들이 참여한 회의를 통해 강제로 폐위되고, 이후 7명의 귀족회의를 통해 새로운 차르를 선출하기로 한다. 여러 인물들이 차르의 자리에 도전하였다. 가장 강력한 후보는 브와디스와프였으며, 이반 4세 처가의 후손인 미하일 1세 역시 입후보했다. 가짜 드미트리 역시 차르의 자리에 도전하게 된다. 회의 결과 브와디스와프가 새로운 차르로 선출되었으며, 가짜 드미트리는 다시 칼루가로 피신한다.\\n\\n그런데 브와디스와프는 러시아 정교회로의 개종 등의 이유를 들어 차르의 자리에 오르지 않았으며, 루스 차르국은 다시 혼란에 빠진다. 뒤이어 스웨덴의 칼 9세도 폴란드의 왕자를 차르로 선출한 데 반발하여 루스 차르국에 전쟁을 선포한다. 이러한 혼란상황을 틈타 가짜 드미트리는 다시 러시아 동부의 외곽 지역을 중심으로 다시 세력을 규합한다. 그러나 1610년 12월 11일, 그는 자신의 타타르인 부하에게 살해당한다.\\n\\n당시 폴란드의 장군이었던 스타니슬라브 졸키에프스키는 이 일을 다음과 같이 회상한다.\\n\\n저녁에 만취한 상태에서 그는 썰매를 하나 대령시켜 꿀술을 싣고 밖으로 나갔다. 탁 트인 밖으로 나온 후, 그는 보야르 몇 명과 술을 마셨다. 그때 피터 우루소프 공이 십여 명의 말 탄 이들과 함께 드미트리를 호위하고 있었다. 그 사기꾼은 보야르들과 즐겁게 술을 마신 뒤였는데, 그때 우루소프는 준비해 두었던 권총을 꺼내 썰매로 말을 달려 그를 쏘았다. 그러고는 그의 머리와 손을 칼로 베어 길에 버렸다.\n",
      "70    가짜 드미트리 2세(Лжедмитрий II, ? ~ 1610년)는 동란 시대의 차...\n",
      "71    가짜 드미트리 1세|설명=이 주제에 대한 상세한 정보는  \\n러시아는 1601년부터...\n",
      "72    가짜 드미트리가 칼루가로 피신한 이후, 이번에는 폴란드의 지그문트 3세가 자신의 아...\n",
      "73    그는 자신이 진짜 드미트리는 물론이고, 첫 번째 드미트리와도 동일인물이라고 주장하였...\n",
      "74    결국 지그문트 3세는 자신이 차르가 되는 것도 아들 브와디스와프를 차르에 앉히는 것...\n",
      "75    가짜 드미트리 2세\\n\\n새로운 차르인 바실리 슈이스키(바실리 4세)는 인망과 힘도...\n",
      "76    투시노에 자리를 잡은 가짜 드미트리는 그곳에 자신만의 정부를 세웠다. 그는 행정부와...\n",
      "77    폴란드-러시아 전쟁|설명=폴란드와 러시아의 다른 충돌에 대한 정보는\\n\\n \\n\\n...\n",
      "78    1610년 1월 31일 지그문트 3세는 바실리 슈이스키에게 반발해 가짜 드미트리 2...\n",
      "79    동란 시대|설명=이 주제에 대한 상세한 정보는\\n\\n15세기말부터 16세기 초엽까지...\n",
      "Name: context, dtype: object\n",
      "\n",
      "\n",
      "\n",
      "INDEX: 9\n",
      "True - top-4\n",
      "question : 신돈이 마침내 궁에 들어와 살게 된 때는?\n",
      "answer : ['1364년']\n",
      "original : 1354년(공민왕 3년) 공민왕은 신돈을 왕사(王師)로 임명했으나 노비의 아들이었던 그의 신분을 문제 삼은 권문세족이 반발한 탓에 입궐할 수 없었다.\\n\\n1358년(공민왕 7년) 공민왕의 개혁을 주도하던 이제현이 사직을 청원하고 관직에서 물러난 상태였고 공민왕은 왕사 보우를 이용해 불교에 심취해 있었다. 이 때 신돈은 공민왕의 측근인 김원명(金元命)의 소개로 정식으로 개경 왕궁에 출입하면서 공민왕과 만나다가 궁중에 드나들기 시작하였다. 이때 공민왕은 전일 어떤 사람이 칼을 빼들고 자신을 찌르려고 할 때 어떤 승려가 다가 와 구해 주는 꿈을 꾸었는데 다음날 마침 김원명이 신돈을 데려와 인사시켰다. 신돈은 총명하여 공민왕에게 중망(重望)받았고 공민왕 자신이 불교를 독실하게 신봉하여 불교에 관련한 일로 신돈을 자주 입궐시킬 수 있었으나 신돈의 명성과 특이한 성격과 낡은 사회질서에 구애받지 않는 태도에 대한 반발과 의구심과 편견이 심한 한편으로 “나라를 어지럽힐 자는 필히 이 중놈이리라!”라는 근거 없는 비산(誹訕)도 있었고 무장인 정세운은 요승(妖僧)이라 하여 신돈을 살해하려고 시도하여 공민왕이 그를 직접 피신시키기도 하였다. 공민왕은 신돈을 이용하여 개혁정책을 강력하게 추진하려고 생각하고 있었다\\n\\n김용(金鏞)의 계략으로 정세운을 위시한 공민왕의 많은 측근이 정계에서 사라졌을 때 신돈은 또다시 부름을 받고 입궐하여 공민왕의 개혁정책을 주도한다 1364년 두타승(頭陀僧)이 되어 공민왕을 내알(來謁)하고 비로소 궁에 들어와 살게 되었다. 이어 공민왕으로부터 왕사에 임명되고서 호 청한거사를 받고 궁궐에 출입하였다. 공민왕이 신돈에게 국정을 자문받아 따르지 않는 바가 없었고 그로 말미암아 많은 추종자가 갑자기 생겼다.\n",
      "80    공민왕에게 후원받은 신돈이 일련의 개혁정책으로써 영향력을 확대하자 권문세족들의 반발...\n",
      "81    공민왕에게 후원받은 신돈이 일련의 개혁정책으로써 영향력을 확대하자 권문세족들의 반발...\n",
      "82    1354년(공민왕 3년) 공민왕은 신돈을 왕사(王師)로 임명했으나 노비의 아들이었던...\n",
      "83    1354년(공민왕 3년) 공민왕은 신돈을 왕사(王師)로 임명했으나 노비의 아들이었던...\n",
      "84    그 밖에 신돈 일파도 모두 유배되거나 처형되었다. 신돈이 사형당할 때 신돈의 두 살...\n",
      "85    공민왕은 아들 모니노(牟尼奴, 후일의 우왕)가 신돈의 시비(侍婢)인 반야의 아들이라...\n",
      "86    우왕은 어린 시절을 신돈의 집에서 보내야 했다. 공민왕은 원래 자식이 없어 고민하였...\n",
      "87    우왕은 어린 시절을 신돈의 집에서 보내야 했다. 공민왕은 원래 자식이 없어 고민하였...\n",
      "88    억불_정책\\n\\n이제현은 관상을 볼 줄 알았는데 그 사람은 공민왕에게 여러 번 참소...\n",
      "89    이후 김원명의 추천으로 공민왕에게 신임받아 사부(師傅)가 되어 국정을 맡았다. 공민...\n",
      "Name: context, dtype: object\n",
      "\n",
      "\n",
      "\n",
      "INDEX: 10\n",
      "True - top-2\n",
      "question : 신한청년당이 파리강화회의에 특파한 인물은 누구인가?\n",
      "answer : ['김규식']\n",
      "original : 신한청년당\\n1918년에는 상하이에서 서병호·조동호 등과 함께 신한청년당을 조직하여 당수를 맡았다. 이어 김규식을 상하이로 초청하기도 하였다.\\n\\n1918년 제1차 세계대전 종전 후 전후처리 문제로 파리강화회의가 열릴 무렵, 미국 대통령 우드로 윌슨의 특사 찰스 크레인이 1918년 11월 중국 상하이의 '칼튼 카페'에 와서 '파리평화회의에서는 민족자결의 원칙에 따라 많은 문제들이 해결된다.'는 요지의 강연을 한다. 마침 그 자리에 있던 여운형이 초청받아 그것을 듣고는 윌슨의 특사 찰스 크레인과 개인면담을 가진 뒤 '파리강화회의가 한민족 독립운동의 절호의 기회가 될 것'이라 판단했다\\n\\n여운형의 주도로 만들어진 신한청년당은 중국 톈진에 있던 김규식을 초청하여 파리강화회의에 파견하였다. 또한 장덕수와 이광수에게 해외 소식을 비밀리에 전달하는 임무를 주어 장덕수는 국내로 파견해서 독립운동 자금을 모집하게 하고, 이광수를 일본 동경에 파견하여 2·8 독립 선언에 직간접적인 영향을 주었다\\n\\n그리고 여운형 자신은 중국 길림 성으로 가서 활동하여 무오독립선언의 촉매 역할을 했다. 간도에 있는 독립운동가 김약연, 정재면 등과 만나서 파리강화회의와 민족자결주의 원칙 등 상황을 설명하였고, 러시아 블라디보스토크에 가서는 당시 그곳에 체류하고 있던 박은식, 이동녕, 조완구 등을 만나서 여러가지 상의를 하는 등 그러한 활동이 연해주 지역에 대한국민의회를 탄생시키는 데 영향을 주었다. 이러한 여운형의 주도로 결성된 신한청년당 활동은 직간접적으로 3.1 운동의 불씨를 제공하였다\n",
      "90    신한청년당\\n1918년에는 상하이에서 서병호·조동호 등과 함께 신한청년당을 조직하여...\n",
      "91    신한청년당\\n1918년에는 상하이에서 서병호·조동호 등과 함께 신한청년당을 조직하여...\n",
      "92    민족자결주의\\n1916년 조선총독부는 여러 번 사람을 보내 그에게 당국 시책에 협조...\n",
      "93    민족자결주의\\n1916년 조선총독부는 여러 번 사람을 보내 그에게 당국 시책에 협조...\n",
      "94    당시 중국에 유학중이던 여운형과 신규식 등은 이 선언과 뒤이은 파리 강화 회의가 조...\n",
      "95    당시 중국에 유학중이던 여운형과 신규식 등은 이 선언과 뒤이은 파리 강화 회의가 조...\n",
      "96    1919년 1월 25일과 28일 이틀 동안 김약연의 주도로 소영자(小營子)에서 비밀...\n",
      "97    1915년 3월 이래 국권회복을 목적으로 이봉우(李鳳雨)와 함께 간민회(墾民會)를 ...\n",
      "98    3·1 운동\\n1919년 3월 3·1 운동 당시, 독립운동가들로부터 국민대표로 서명...\n",
      "99    3·1 운동\\n1919년 3월 3·1 운동 당시, 독립운동가들로부터 국민대표로 서명...\n",
      "Name: context, dtype: object\n",
      "\n",
      "\n",
      "\n",
      "INDEX: 11\n",
      "True - top-1\n",
      "question : 중동지역에서 유일하게 성공한 경제 자유구역은?\n",
      "answer : ['두바이']\n",
      "original : 네옴의 홍보자료에 따르면 이 지역 도시는 다리를 통해 이집트와 연결되며 요르단과도 인접해 중동의 '초국경 경제지대'를 창출할 계획이다. 해수담수화 설비에다 인공지능, 100% 재생에너지 등 최첨단 기술이 적용된다. \\n\\n클라우스 클리인펠트 전 미국 알루미늄 회사 알코아 회장이 네옴 사업의 최고경영자로 임명되었다.\\n\\n스테펜 헤르토크 런던 경제대학교 교수는 \"이번 프로젝트는 두바이에서 개척한 '자유 존'을 모티브로 삼은 것 같다\"라며 \"이런 경제 자유구역은 자체적인 규정과 법률을 갖추고 있다. 두바이에서는 이런 시스템이 통했지만 나머지 중동 지역에서는 실패했다\"라고 전했다. 즉, 아랍에미리트의 경제자유구역 신도시 두바이 처럼, 사우디아라비아도 경제자유구역 신도시인 네옴을 건설하겠다는 것이다.\\n\\n홍보 동영상엔 히잡을 쓰지 않고 일하는 여성, 풍력 발전소, 태양광 발전소, 첨단 연구단지, 쾌적한 아파트, 레저를 즐기는 관광객, 파티 장면 등이 담겼다. 이곳을 위한 원자력 발전소 수주경쟁에 한국도 적극적으로 참여 중이다 . 중동에서 가장 성공한 투자·개발 모델로 꼽히는 아랍에미리트(UAE) 두바이를 모방하려고 한다.\n",
      "100    네옴의 홍보자료에 따르면 이 지역 도시는 다리를 통해 이집트와 연결되며 요르단과도 ...\n",
      "101    노변의 피크닉은 외계인이 방문한후 만들어놓은 6개의 '구역'(Зона)을 배경으로 ...\n",
      "102    R. J. 셰퍼는 목격자의 증언을 검증하는 점검 목록을 제공한다. \\n\\n# 저술이...\n",
      "103    각 프로세스는 자신의 임계 구역에 진입하려면 진입허가를 요청해야 한다. 이런 요청을...\n",
      "104    스코틀랜드는 1889년 이전까지 중세 시대부터 존재했던 전통적인 행정 구역인 도시(...\n",
      "105    원래 명칭은 문예로(文藝路)였는데 이 명칭이 붙은 이유는 다음과 같다. \\n\\n19...\n",
      "106    한때 번성했던 대지의 백성의 왕국이었던 도시, 아인트오크를 방문하여, 수확 축제 배...\n",
      "107    국립공원은 2개의 보호구역으로 나뉘는데, 보호구역에 따라 보호단계가 다르다. 제1구...\n",
      "108    한때 번성했던 대지의 백성의 왕국이었던 도시, 아인트오크를 방문하여, 수확 축제 배...\n",
      "109    혼합 경제(混合經濟, mixed economy)는 전통 경제, 계획 경제, 시장 경...\n",
      "Name: context, dtype: object\n",
      "\n",
      "\n",
      "\n",
      "INDEX: 12\n",
      "True - top-1\n",
      "question : 의견을 자유롭게 나누는 것은 조직 내 어떤 관계에서 가능한가?\n",
      "answer : ['수평적 관계']\n",
      "original : 탈관료제화는 현대사회에서 관료제 성격이 약화되는 현상이다. 현대사회에서 관료제는 약화되며, 새로운 조직 형태로 변화된다. 오늘날과 같은 세계화 · 정보화 시대에는 관료제가 오히려 조직의 목적 달성을 방해하는 요소가 많기 때문이다. 세계화에 발맞추기 위해서는 경쟁력 강화가 요구되는데, 이러한 정보사회에서의 경쟁력은 인간의 창의성에서 나온다. 그런데 기존의 관료제는 빠르게 변화하는 사회에 유연하게 대처하기 어려우며, 인간의 창의성을 극대화하기도 어렵다. 그것은 관료제의 속성상 안정적이기는 하지만 다소 경직된 조직이기 때문이다.\\n\\n규약과 절차를 강조하는 관료제에서 벗어난 새로운 조직은 상황이나 목적에 따라 자유롭게 구성 · 해체되는 유연성을 갖고 있으며, 위계 서열적 관계에서 벗어난 수평적 관계에서 자유로운 의사소통과 빠른 업무처리 기능을 가능하게 한다. 또한, 연공서열주의에서 벗어나 목표 달성을 중심으로 한 능력과 성과에 따라 승진과 임금이 결정된다. 결과적으로 새로운 조직은 개인과 조직의 경쟁력을 강화하고 창의력을 신장시킬 수 있다. 하지만, 이와 같은 조직은 목적 달성에는 효율적이지만, 한편으로는 미래예측성이나 안정성 등이 떨어져 개인에게 심리적 불안감을 주기도 한다.\n",
      "110    탈관료제화는 현대사회에서 관료제 성격이 약화되는 현상이다. 현대사회에서 관료제는 약...\n",
      "111    조직 내에서 공정성의 원천을 분배공정성(distributive justice)과 절...\n",
      "112    R. J. 셰퍼는 목격자의 증언을 검증하는 점검 목록을 제공한다. \\n\\n# 저술이...\n",
      "113    나무의 종류를 나누는 기준으로는 잎의 모양에 따라 나누는 방법, 쓰임새에 따라 나누...\n",
      "114    조직후원인식에 대한 선행연구는 직원의 조직에 대한 관심이 조직의 노력에 대한 직원의...\n",
      "115    Meyer와 Allen (1991)은 조직몰입을 다차원적인 개념으로 설명하였다. 제...\n",
      "116    조직후원인식과 정서적 몰입사이의 관계는 Eisenberger et al (1986)...\n",
      "117    조직 후원 인식(perceived organizational support) 또는 ...\n",
      "118    아나키즘은 세계를 바라보는데 있어서 골드만의 가장 핵심적인 이데올로기였고, 그녀는 ...\n",
      "119    본작에서는 주인공이 속한 세력에게는 파벌이 존재한다. 처음에는 평정에서 의견을 내도...\n",
      "Name: context, dtype: object\n",
      "\n",
      "\n",
      "\n",
      "INDEX: 13\n",
      "True - top-5\n",
      "question : 대원씨아이가 어떤 회사와 계약하여 한국에서 뉴타입을 출간할 수 있었나?\n",
      "answer : ['일본 가도카와 쇼텐']\n",
      "original : 한국판 뉴타입은 1999년 6월에 창간하였으며 대원씨아이가 일본 가도카와 쇼텐과의 라이센스 계약하에 따라 한국어 번역판으로 잡지를 발행하여 매월 15일마다 발행하였다. 그 당시는 1998년 김대중 정부의 일본 문화 대개방 선포가 있은지 1년이 되었던 때였으며 이 때부터 한국 내에 일본의 청소년 및 성인 애니메이션이 대거 수입되면서 일본 문화의 붐이 급속도로 있었던 시절이었다. 창간 당시에 서울 광화문 등에 창간을 알리는 현수막을 내걸었던 적이 있다. \\n\\n정가는 기본적으로 7.500원이었으나 부록의 크기와 여부에 따라 가격이 상시 변동되어서 경우에 따라 9,500원까지 인상된 적도 있었다. \\n\\n일본판과는 달리 일본 애니메이션은 물론 한국판 단독으로 연재되는 한국 애니메이션에 대한 기사와 한국 성우와의 인터뷰 기사를 연재한 적도 있었다. \\n\\n그러나 2000년대 들어서 인터넷이 발달하고 개인 블로그가 생기며 이를 통해서 일본 애니메이션의 정보가 신속히 게재되면서 점차 독자층도 감소하여 책 내용을 일부 축소하였다가 2015년 6월호를 끝으로 폐간되었다.\n",
      "120    R. J. 셰퍼는 목격자의 증언을 검증하는 점검 목록을 제공한다. \\n\\n# 저술이...\n",
      "121    NT 노벨(NT Novel)은 대원씨아이의 라이트 노벨 브랜드 중 하나로, 대원씨아...\n",
      "122    《월간 뉴타입》(月刊ニュータイプ, Newtype)은 일본에서 발행되는 애니메이션 전...\n",
      "123    한국판 뉴타입은 1999년 6월에 창간하였으며 대원씨아이가 일본 가도카와 쇼텐과의 ...\n",
      "124    한국판 뉴타입은 1999년 6월에 창간하였으며 대원씨아이가 일본 가도카와 쇼텐과의 ...\n",
      "125    길버트 갸라한(Gilbert Garraghan)은 비평을 여섯 가지 질문으로 나누었...\n",
      "126    MS전에서 뉴타입이 갖는 거의 직관적인 공간인식능력은, 고기동 유시계 전투 상황에서...\n",
      "127    러셀 법정의 목표는 다음과 같다.\\n\\n: 우리는 제재를 부과할 권한이 없더라도 다...\n",
      "128    MS전에서 뉴타입이 갖는 거의 직관적인 공간인식능력은, 고기동 유시계 전투 상황에서...\n",
      "129    1973년 개인 기업 (구) 원프로덕션으로 설립되어 1974년 (구) 대원프로덕션으...\n",
      "Name: context, dtype: object\n",
      "\n",
      "\n",
      "\n",
      "INDEX: 14\n",
      "True - top-2\n",
      "question : 태풍 초이완의 경보는 어떤 순간부터 풀렸는가?\n",
      "answer : ['마리아나 제도에서 벗어나자']\n",
      "original : 9월 12일, 괌에 위치한 미국 국립 기상 서비스센터에서는 JTWC에서 받은 자료들을 기초로 하여 티니안과 사이판에 태풍 주의보를 발령하고 괌과 로타에 태풍을 주시하라는 명령을 했다. 9월 13일에는 아그리한, 티니안, 사이판에 열대 폭풍 경보를 발령했다. 그러나 괌과 로타는 태풍 주시 명령에서 해제되었다. 이 경보는 늦은 9월 14일까지 지속되었으며, 이후 태풍 초이완이 크게 발달하면서 티니안의 경보는 해제되었고 사이판도 해제되어 열대 폭풍 경보는 없어졌고 태풍 경보로 격상되었다. 모든 경보는 9월 16일 오후까지 지속되었으나 이후 태풍 초이완이 마리아나 제도에서 벗어나자 전부 해제되었다.\\n\\n마리아나 제도의 피난처는 9월 15일, 티니안과 사이판의 학교를 사용했으며 거의 모든 학교와 정부청사는 문을 닫았고 거주자는 집으로 돌아갔다. 9월 15일 매우 많은 양의 비가 내리자 사이판의 179명의 거주자들은 피난처를 찾아 돌아다녔다. 또 한 편의 비행편이 지연되었고 북마리아나 제도의 청소년농구대회는 취소되었다. 사이판의 총 270명의 거주자들이 피난했다.\n",
      "130    이른 9월 11일, 미국 합동태풍경보센터에서는 괌 섬 약 1100 km 동쪽에서 넓...\n",
      "131    9월 12일, 괌에 위치한 미국 국립 기상 서비스센터에서는 JTWC에서 받은 자료들...\n",
      "132    9월 15일, 마리아나 제도의 알라마간 섬에서는 거의 10 km이내에 태풍 초이완의...\n",
      "133    수안군수에 임명된 이완은 청군이 쳐들어와 전쟁이 터졌다는 소식을 듣고 도원수 김자점...\n",
      "134    태풍 초이완 (2009년)\\n\\n제14호 태풍 초이완(CHOI-WAN)은 9월 13...\n",
      "135    홍콩에서는 사피어-심슨 허리케인 등급 제5등급에 버금가는 세력으로 상륙할 것으로 예...\n",
      "136    R. J. 셰퍼는 목격자의 증언을 검증하는 점검 목록을 제공한다. \\n\\n# 저술이...\n",
      "137    {| style=\"width:90%;\"\\n|\\n* 제1호 태풍 파북 (1901)\\n...\n",
      "138    2008년 9월 23일 야프 섬 북동쪽 해상에서 열대저기압이 발생하여 다음날인 9월...\n",
      "139    경제학상에 대한 논란은 다음과 같은 문제들에서 발생한다.\\n# 노벨의 유언에 명시되...\n",
      "Name: context, dtype: object\n",
      "\n",
      "\n",
      "\n",
      "INDEX: 15\n",
      "True - top-3\n",
      "question : 요동도행군의 선발 기병부대 숫자는?\n",
      "answer : ['4천 명']\n",
      "original : 4월29일, 마침내 고구려의 요동 최대의 성, 요동성으로 당의 이도종이 이끄는 요동도행군의 선발 기병부대가 도달하였다. 요동성은 과거 고구려가 점령하기 전 중국의 한나라 시절부터 삼국시대 공손씨의 지배를 받을 때는 양평성으로 불리었었고 예전 사마의가 함락시키고 공손연을 참수했던 그 성이다. 이때 당태종 이세민이 직접 이끄는 주력 친정군은 요하의 늪 지대에 이르렀는데, 진흙이 2백여 리나 펼쳐져 있어 사람과 말이 통과할 수 없었다.장작 대장 염 입덕이 흙을 퍼부어 다리를 만들었다. 이에 따라 군사들이 행군을 멈추지 않고 늪 지대 동쪽으로 통과하였다. 요동성은 다른성보다 많은 군사(10여만으로 추정)가 주둔하였으나 평지성이며 둘래가 40km가 넘는 대성이었다.\\n\\n한편 급박한 상황 속에 고구려는 신성과 국내성의 보병과 기병 4만 명을 긴급히 보내 요동성을 구원하려 하였다. 이때 고구려 4만군의 지휘관은 미상이다. 5월8일, 고구려의 4만 구원군은 요동성에 도착하였고, 당의 이세적이 이끄는 요동도행군의 선봉 이도종이 이끄는 요동도행군의 선발 기병부대와 요동성 앞에서 마주치게 되어 교전을 시작한다. 고구려 4만 구원군을 맞아 당의 이도종은 4천 명의 기병으로 이에 대항하려 하였으나 너무 적었다. 그리하여 당군의 군사들은 모두 병력의 차이가 현격하다 하여, 도랑을 깊이 파고 보루를 높이 쌓으며 왕이 올 때까지 기다리는 것이 좋겠다고 말하였다. 하지만 이도종이 말했다. \"고구려는 군사가 많음을 믿고 우리를 경시하고 있으나, 그들은 멀리서 왔기 때문에 피곤한 상태이므로 공격하면 반드시 이길 수 있다. 이렇게 하여 길을 깨끗이 닦아놓고 왕을 기다리는 것이 마땅할 것이다. 어찌하여 왕 앞에 적을 넘겨 드리려 하는가?\" 도위 마문거가 말했다. \"강한 적을 만나지 않고서야 어떻게 장사의 능력을 드러내겠느냐?\" 이도종은 말을 마치자, 말을 채찍질하여 달려가 공격하였다. 이도종이 용맹히 돌진하여 가는 곳마다 고구려 군사가 쓰러졌다. 이에 당나라 군사들의 마음이 약간 안정되었다.\\n\\n하지만 본격적인 전투가 시작되고 고구려의 대군이 전열을 가다듬고 반격하자 숫적으로 열세를 보이던 당군은 패주하게 된다. 행군 총관 장군예가 퇴주하고 당 나라 군사가 크게 패배하였다. 이도종은 흩어진 군사를 수습하여 높은 곳에 올라섰다. 그는 고구려 군대의 진영이 혼란스러운 것을 보고, 다시 기병 수천 명을 이끌어 돌격해왔다. 하지만 이 때 이세적이 이끄는 요동도행군의 군대가 도착하여 고구려 군을 협공하였다. 이리하여 고구려 군사가 크게 패배하여 물러나니, 사망자가 1천여 명이었다.\n",
      "140    2차 고구려-당 전쟁의 기록은 예전 제1차 고구려-당 전쟁 때보다도 더 남아있는 기...\n",
      "141    4월29일, 마침내 고구려의 요동 최대의 성, 요동성으로 당의 이도종이 이끄는 요동...\n",
      "142    4월29일, 마침내 고구려의 요동 최대의 성, 요동성으로 당의 이도종이 이끄는 요동...\n",
      "143    하지만 전쟁의 양상은 갑자기 전혀 다른 방향으로 흐르게 된다. 661년 10월, 흉...\n",
      "144    사수 전투\\n\\n한편 바다로 직접 건너온 방효태가 지휘하는 옥저도행군은 중국 영남지...\n",
      "145    661년 보장왕 20년 음력 8월에 당나라는 드디어 총력을 다해 고구려 공격에 나섰...\n",
      "146    661년 보장왕 20년 가을 8월, 마침내 소정방의 평양도행군, 방효태의 옥저도행군...\n",
      "147    안티고노스 군은 우익에 안티고노스의 아들 데메트리오스 1세가 이끄는 정예 기병부대와...\n",
      "148    이세적(李世勣)의 당의 선봉 요동도행군은 유성을 떠나면서, 형세를 과장하여 마치 회...\n",
      "149    623년(무덕 6년) 4월(음력) 남주자사(南州―)로 있으면서 남월주자사(南越州―)...\n",
      "Name: context, dtype: object\n",
      "\n",
      "\n",
      "\n",
      "INDEX: 16\n",
      "True - top-9\n",
      "question : 국가가 군인 징병시 주민을 찾아 군복무에 적합한지를 파악하는데 필요한 것은?\n",
      "answer : ['호적']\n",
      "original : 군단은 다이호 원년(701년) 제정된 다이호 율령에 규정되어 있다. 하지만 언제 성립되었는지 직접 적혀 있는 사료는 없다. 7세기 중반까지 일본의 군대는 중앙과 지방의 호족들이 종자들이나 예하 인민들을 무장해서 편성했다. 이를 역사학계에서는 국조군이라고 한다. 국조군과 비교해서 군단의 특징은 군인을 국가가 징병했다는 것과, 군사조직을 지방 민정기구와 분리했다는 점 두 가지다. 늦게 보는 설로는 다이호 율령이 반포되면서 군단도 설치되었다는 설, 좀 더 빨리 보는 설에서는 지토 천황 3년(689년)의 아스카키요미하라령으로 설치되었다는 설이 있다.\\n\\n군인을 국가가 징병하기 위해서는 개별 주민을 추적하는 호적을 작성하여 그 호적을 바탕으로 해당자의 군복무 적합성을 결정해야 한다. 그러기 위해서는 호적으로 인민 개개인을 파악할 수 있는 체제가 만들어져야 한다. 일본에서 호적제도는 텐지 천황 9년(670년)의 경오년적으로 시작되었기에 이 즈음도 유력한 후보다. 그러나 경오년적은 불충분하다고 보고 지토 천황 5년(690년)의 경인년적으로 보는 설도 있다. \\n\\n국가에 징병된 병사는 군단에 편성될 수도 있지만, 평(評: 이후의 군郡) 단위로 부대를 이루어 평의 역인(役人)의 통솔을 받았을지도 모른다. 그러한 것을 다이호 이후 시대의 군단과 같은 것으로 보는 것은 무리이고, 평제군 또는 평조군이라고 불러야 할 것이다. 군단 성립의 또다른 기준으로 지휘관인 군의(軍毅)의 성립과 평의 참여 기준 유무가 주목되는 이유다. 군대지휘용구와 대형무기를 사가에 둔 군가(郡家; 실상 평의 역소)에게 내놓을 것을 명한 텐무 천황 14년(685년) 11월 4일의 조서는, 이 시기에 군사지휘권이 평에게 있었음을 추정게 하는 유력한 증거다. 그래서 종합적으로 아스카키요미하라령과 다이호 율령이 유력 후보로 좁혀진다.\n",
      "150    조상들은 한지의 여러 특성을 이용해서 여러 가지 생활 도구를 만들어 사용했다. 한지...\n",
      "151    R. J. 셰퍼는 목격자의 증언을 검증하는 점검 목록을 제공한다. \\n\\n# 저술이...\n",
      "152    DRR 접근 방법은 정보의 통제 능력에 대한 재정의를 필요로 한다. 자연히 정부의 ...\n",
      "153    아동 행동 평가척도(Child Behavior Checklist, 약칭 CBCL)는...\n",
      "154    국가는 치안 유지를 위해 법률을 정하고 사법 기관, 경찰을 조직한다. 치안 유지는 ...\n",
      "155    에우세비오가 쓴 《교회사》에는 파비아노가 어떻게 교황으로 선출되었는지에 대한 기록이...\n",
      "156    전쟁은 인류의 역사가 기록되기 전부터 있었다. 많은 선사 시대 유적과 유물들은 인류...\n",
      "157    1931년 총선 후, 체임벌린은 다시 재무 장관이 되었다.  재무 장관으로서 체임벌...\n",
      "158    군단은 다이호 원년(701년) 제정된 다이호 율령에 규정되어 있다. 하지만 언제 성...\n",
      "159    군인은 무력을 사용하기 때문에 보통의 국민보다 엄격한 법률 적용을 받는다. 예를 들...\n",
      "Name: context, dtype: object\n",
      "\n",
      "\n",
      "\n",
      "INDEX: 17\n",
      "True - top-2\n",
      "question : 태양 자전 속도의 약 60배 가량 속력을 낼 수 있는 항성은?\n",
      "answer : ['아케르나르']\n",
      "original : 데네볼라의 나이는 4억 년이 되지 않는 것으로 보인다. 간섭계로 측정한 반지름은 태양의 173% 정도이다. 항성의 스펙트럼에 기초하면 데네볼라의 분광형은 A3 V이다 여기서 V는 광도분류상 주계열임을 뜻하며 중심핵에서 수소를 태워 에너지를 생산하는 단계이다. 데네볼라의 외피층 유효 온도는 약 8500 켈빈으로 전형적인 흰색 빛을 뿜는 A형 별의 외관을 보인다. 데네볼라의 자전속도는 1초에 약 128 킬로미터에 이른다. 이 속도는 태양 자전속도의 약 60배나 되며, 대표적인 초고속 회전 항성인 아케르나르와 비슷한 속도이다 데네볼라는 방패자리 델타형 변광성으로 1일에 10번 꼴로 약 0.025 등급의 밝기 변화를 보인다\\n\\n데네볼라는 적외선 초과 현상을 보여주는데, 여기서 데네볼라의 주변에 먼지 원반이 형성되어 있음을 알 수 있다 이는 베가나 화가자리 베타처럼 데네볼라의 주변에 외계 행성의 재료가 될 물질들이 존재한다는 의미이다. 먼지 원반의 온도는 약 120 켈빈이다. 허셜우주망원경으로 관측한 결과 이 먼지 원반은 항성에서 39 천문단위 떨어져 있었다\\n\\n운동학적 관점에서 데네볼라는 초성단 IC 2391으로 알려진 성협의 일원으로 보인다. 이 성협의 별들은 중력에 의해 묶여 있지는 않으나 대체로 비슷한 고유운동을 보이고 있다. 여기서 이 별들은 처음에 하나의 산개 성단에서 태어났음을 추측할 수 있다. 데네볼라와 같은 성협에서 태어난 것으로 추측되는 천체들로 화가자리 알파, 작은개자리 베타, 산개성단 IC 2391이 있다. 이외에도 60개 정도의 별들이 이들과 같은 장소에서 태어났음이 지금까지 확인되었다\n",
      "160    관측값으로 나오는 자전 속도는 초당 181 킬로미터로 빠르게 자전하는 축에 든다. ...\n",
      "161    데네볼라의 나이는 4억 년이 되지 않는 것으로 보인다. 간섭계로 측정한 반지름은 태...\n",
      "162    지구 표면의 바닷물은 달의 인력 때문에 달의 방향과 반대 방향으로 부풀려 올라간다....\n",
      "163    황소자리 제타는 황소자리 방향으로 지구에서 약 417 광년 떨어져 있는 항성이다. ...\n",
      "164    알데라민은 분광형 A의 주계열성이며 항성 내부의 수소가 고갈되어 가면서 주계열 단계...\n",
      "165    에리다누스자리 82는 태양 밝기의 절반 정도를 보이며 이는 센타우루스자리 알파 B나...\n",
      "166    WR 22는 식쌍성계이기 때문에 두 항성의 질량을 꽤 정확히 결정할 수 있다. WR...\n",
      "167    극락조자리 에타(η Aps)는 극락조자리 방향에 보이는 항성이다. 히파르코스 계획으...\n",
      "168    항성의 자전은 스펙트럼에 도플러 편이가 나타나는 원인이 된다. 대체로 항성이 회전하...\n",
      "169    볼프 359의 분광형은 M6.5이나 M5., M, M 등 분광형을 다르게 정의한 논...\n",
      "Name: context, dtype: object\n",
      "\n",
      "\n",
      "\n",
      "INDEX: 18\n",
      "True - top-1\n",
      "question : 호라티우스와 가이우스 마에케나스를 만나게 해 준 사람은?\n",
      "answer : ['베르길리우스']\n",
      "original : 호라티우스의 출신 가문은 정확히 알려져 있지 않다. 아마 그의 아버지는 노예에서 해방된 자유신분(libertinus)으로서 로마 자유시민권을 가진 여인과 결혼한 것으로 보인다. 호라티우스는 어린시절부터 아버지로부터 세심한 교육을 받았으며, 기원전 45년에 당시 문화와 예술의 중심지인 고대 그리스의 아테네에 유학하여 고대 그리스 철학과 문학을 공부한다. 이 시기에 그는 역시 고대 그리스 문화를 사랑하는 마르쿠스 브루투스와 친교를 맺게되어 그를 따라 소아시아 지방에서 여러 전투에 참가한다. 기원전 약 40년을 전후로 호라티우스는 로마로 돌아와 젊은 문학자와 사귀면서, 특히 베르길리우스의 주선으로 당시의 로마의 문학 애호가이자 부호인 가이우스 마에케나스(Gaius Maecenas)에게 소개된다. 이 만남은 호라티우스가 사망할 때까지 깊은 우정관계로 발전한다. 특히 마이케나스는 호라티우스에게 기원전 32년 사비나 농장을 선물함으로써, 여기서 호라티우스는 경제적 어려움에서 완전히 해방되어 시 창작에 열중하게 된다.\n",
      "170    호라티우스의 출신 가문은 정확히 알려져 있지 않다. 아마 그의 아버지는 노예에서 해...\n",
      "171    이 문서는 고대 로마 제국에서 발달한 문화를 설명한다.\\n\\n‘그리스의 학예, 로마...\n",
      "172    출소 후, 마에우에는 2005년 한 해 동안 3명을 죽이기에 이른다. 마에우에가 생...\n",
      "173    한때 번성했던 대지의 백성의 왕국이었던 도시, 아인트오크를 방문하여, 수확 축제 배...\n",
      "174    R. J. 셰퍼는 목격자의 증언을 검증하는 점검 목록을 제공한다. \\n\\n# 저술이...\n",
      "175    오르마에체아는 기푸스코아 주 에이바르 출신으로, 인근 에이바르에서 성인 무대에 첫 ...\n",
      "176    한때 번성했던 대지의 백성의 왕국이었던 도시, 아인트오크를 방문하여, 수확 축제 배...\n",
      "177    1980년대 7광구가 발견된 시점에서 차해준(하지원 분)의 아버지는 해저에서 파이프...\n",
      "178    이 영화는 1940년대 덴마크의 시인인 카스파르 요르겐센의 모습을 보여주면서 시작된...\n",
      "179    다니엘 귄터는 1973년 7월 24일 킬에서 태어났다. 킬 대학교에서 정치학을 전공...\n",
      "Name: context, dtype: object\n",
      "\n",
      "\n",
      "\n",
      "INDEX: 19\n",
      "True - top-6\n",
      "question : 활나라를 망하게 한 진나라의 장수는?\n",
      "answer : ['백리시']\n",
      "original : 정문공 24년(기원전 649년), 천첩 연길의 소생으로 태어났다. \\n\\n정문공이 아들들을 죽이고 내쫓을 때, 진나라로 달아났다. 정문공 43년(기원전 630년), 정문공이 예전에 진 문공을 무례히 대했고 또 성복 전투에서는 진문공의 적 초나라 편을 든 까닭에 진과 진의 연합 공격을 받았다. 진문공은 공자 난으로 태자를 삼을 것을 정나라에 요구했고, 정 문공도 이를 받아들이니 공자 난은 귀국했다 정문공 45년(기원전 628년)에 아버지가 죽자 그 뒤를 이어 임금이 되었다\\n\\n정문공 43년의 진 · 진 연합군 침공 때, 정나라는 진나라와 결맹하여 진나라 군대를 퇴각하게 만들었고, 진나라에서는 세 대부를 정나라에 두어 정나라를 지키게 했다. 그런데 정문공 45년(기원전 628년), 세 대부 중 한 사람인 기자가 진 목공에게 정나라를 칠 수 있다고 전하자, 진 목공은 이 세 대부와 짜고 정나라를 정복하고자 했다. 그리하여 백리시, 서걸출, 백을병 세 사람이 이끄는 진나라 군대는 진나라를 떠나 정목공 원년(기원전 627년)에 주나라를 지나 활나라에 이르렀다. 정나라 상인 현고가 주나라로 장사하러 가다가 이 진나라 군대를 만났다. 현고는 진나라 군에 소를 주어 먹이면서 자신이 정목공의 명령으로 진나라에서 오는 이 군을 대접하도록 부탁을 받았다고 거짓말을 하고는 사람을 보내 급히 정나라에 이 소식을 알렸다. 정문공이 듣고는 진나라 세 대부를 살피게 하니, 진나라 세 대부가 과연 전쟁 준비를 하고 있었다. 정목공이 사람을 보내 이들에게 말을 전하자, 이들은 계획이 실패했음을 깨닫고 각자 제나라와 송나라로 달아났다. 한편 진나라 본대를 이끄는 백리시도 현고의 말을 듣고는 정나라가 이미 대비를 하고 있을 것이라고 여기고 정나라 공격 계획을 취소하고 활나라를 멸망시키고 약탈하고 철수했다. 이 진나라 군대는 돌아가다가 효산에서 진나라의 공격을 받고 참패했다 \\n\\n정목공 원년(기원전 627년), 초나라 영윤 자상이 초나라로 망명한 형제 공자 하를 정나라 임금으로 세우려고 쳐들어왔는데 공자 하가 정나라에 사로잡혀 죽임을 당했다. 이로써 정목공의 군위가 튼튼해졌다. \\n\\n정목공 22년(기원전 606년), 정목공은 죽었다. 아들 이가 뒤를 이으니, 곧 정 영공이다\n",
      "180    영공은 아직 어렸으므로, 아버지 진양공 시절부터 정경을 지낸 조돈이 영공을 대신하여...\n",
      "181    항연은 비록 진나라와 싸우다가 패배하고 죽었으나, 그의 저항은 진나라에게 멸망당한 ...\n",
      "182    진왕 정 21년, 기원전 226년 진왕 정은 신정에서 일어난 반란을 무자비하게 진압...\n",
      "183    조나라를 멸망시키기 위해 수십만을 동원한 수차례의 원정이 조나라의 저항에 막혀버리자...\n",
      "184    4차 침공 이후 진나라 군대는 3년의 휴식기간을 가졌다. 그동안 진나라는 가만히 있...\n",
      "185    정문공 24년(기원전 649년), 천첩 연길의 소생으로 태어났다. \\n\\n정문공이 ...\n",
      "186    이후 전단은 과거 연나라에게 빼앗겼던 제나라의 땅인 요성(聊城)을 공격하였으나 1년...\n",
      "187    기원전 236년, 진나라는 조나라(趙)를 본격적으로 공략하기 전에 이사의 계략을 써...\n",
      "188    기원전 270년(혜문왕 29), 진나라(秦)의 호양(胡陽)이 한나라(韓)를 공격하기...\n",
      "189    간공 15년(기원전 551년), 또 다른 경인 공손 흑굉이 죽었다.  12월, 공손...\n",
      "Name: context, dtype: object\n",
      "\n",
      "\n",
      "\n",
      "INDEX: 20\n",
      "True - top-1\n",
      "question : 뉴욕주의 주지사로서 톰킨스가 폐지하고자 노력한 제도는?\n",
      "answer : ['노예제']\n",
      "original : 톰킨스는 자신이 뉴욕주 헌법 회의로 대표로 만들어졌을 때 자신의 정치 경력을 시작하였다. 그의 정치 경력의 첫 10년간 세월은 빠르게 흘러갔고 정치 체계에서 그의 승진들은 더욱 빨리 흘러갔다고 한다. 1803년 톰키스는 뉴욕주 회의 의원으로서 일하였다. 다음해 그는 연방 하원이 되는 데 선거인이었으나 이 직위에 거절하였다. 그는 대신 뉴욕주 대법원에서 배심 판사로 일하여 1807년까지 이 직위를 보유하였다.\\n\\n1807년 후순에 톰킨스는 새로운 뉴욕주지사로 선출되었다. 이 것은 그가 놓칠 수 없던 기회였다. 주지사로서 일하는 동안 그는 주에서 어떤 개혁들을 이루었다. 그가 했던 것들 중의 하나는 용선 은행의 발전을 막는 것이었으나 더욱 나은 학교들과 범죄를 위한 적은 처벌들을 격려하였다.\\n\\n뉴욕주지사로서 그의 시간 동안 톰킨스에게 피해를 준 주요한 것들 중에 하나는 1812년 전쟁의 스트레스 요인이었다. 이 전쟁 동안 그는 뉴욕주 시민군을 동원하는 것에 업무를 맡았다. 그는 이 일을 일어나게 하는 데 기금을 빌려야 했다. 하지만 주의 입법부는 그에게 기금을 주려고 하지 않아 그는 자신 소유의 돈을 써야 했으며 그렇게 하는 데 대출이 그의 이름에 반출되었다. 전쟁이 끝난 후, 뉴욕주는 그에게 많은 재정 문제들을 일으킨 것으로 그를 상환하지 않았다.\\n\\n주지사로서 일한 동안 톰킨스가 했던 주목할 만한 것들 중의 하나는 뉴욕주에서 노예제를 끝내는 데 노력한 것이었다. 1799년 후에 태어난 전체의 노예들은 자신들이 성인이 될 때까지 계약 하인으로 일해야 할 것을 진술한 법률이 그해 통과되었다. 하지만 톰킨스는 1799년 이전에 태어난 아무 노예들이 1827년 자유의 몸이 될 법률 (1817년)을 통과시키는 데 도움을 주었다. 1840년대까지 이 법률의 부분 때문에 뉴욕주에서 등록된 아무 노예들이 없었다.\\n\\n또한 여기에 일한 동안 그는 1814년 제임스 매디슨 아래 국무장관이 되는 데 제공되었다. 이 것은 톰킨스가 거절하려고 말았던 또 다른 직위였다. 하지만 그는 제임스 먼로에게 부통령을 위하여 출마하는 데 의문되었다. 그는 기쁘게 이 직위를 택하였다.\\n\\n1817년 그는 다시는 주지사 (1807년과 1817년 사이에 몇번이나 재선되면서)를 위하여 출마하지 않았으나 대신 부통령으로서 자신의 새로운 역할을 자랑스럽게 택하였다. 톰킨스는 그해 3월 4일 공식적으로 미국의 부통령으로서 취임되었다. 그는 4년 후에 부통령으로서 재선되었다. 하지만 그는 자신이 재정적으로 분투하면서 이번 임기의 1년 동안만 재직하였다. 그는 1812년 전쟁 동안 자신이 쓴 돈을 위하여 보상을 받는 데 노력하여 이 시간의 거의를 보냈다.\\n\\n1820년 톰킨스는 자신이 아직도 부통령이었던 동안 다시 뉴욕주지사를 위하여 출마하였지만 이 선거를 이기지 않았다.\n",
      "190    톰킨스는 자신이 뉴욕주 헌법 회의로 대표로 만들어졌을 때 자신의 정치 경력을 시작하...\n",
      "191    뉴욕주 뉴레바논에서 태어난 틸던은 뉴욕 대학교에서 수학하여 뉴욕 로스쿨을 졸업하기 ...\n",
      "192    케네스 톰킨스 베인브리지는 미국 뉴욕주의 쿠퍼스타운에서 윌리엄 워린 베인브리지와 메...\n",
      "193    반봉건적 생산 관계를 일체 철폐함으로써 부당한 징세 제도는 자연스럽게 사라진다. 그...\n",
      "194    역사를 통해서, 군주제(君主制)는 쿠데타나 전쟁, 시민혁명 등을 통해서 폐지되어 왔...\n",
      "195    피오렐로 라과디아(1882년 ~1947년)는 자신이 3개의 기간들 (1934년 ~ ...\n",
      "196    역사를 통해서, 군주제(君主制)는 쿠데타나 전쟁, 시민혁명 등을 통해서 폐지되어 왔...\n",
      "197    R. J. 셰퍼는 목격자의 증언을 검증하는 점검 목록을 제공한다. \\n\\n# 저술이...\n",
      "198    추크 제도에 인류가 최초로 정착하게 된 것이 언제인지는 밝혀지지 않았지만, 문헌과 ...\n",
      "199    1938년 듀이는 인기있는 민주당 현직 주지사 허버트 리먼을 상대로 뉴욕 주지사를 ...\n",
      "Name: context, dtype: object\n",
      "\n",
      "\n",
      "\n",
      "18/20\n"
     ]
    }
   ],
   "source": [
    "total, correct = len(datasets['validation']),0\n",
    "top_n = defaultdict(int)\n",
    "for i in range(len(datasets['validation'])):\n",
    "    print(\"INDEX:\", i+1)\n",
    "    for j in range(args.retriever.topk):\n",
    "        if topk.original_context[i*10] == topk.context[i*10+j]:\n",
    "            print(f'True - top-{j+1}')\n",
    "            correct+=1\n",
    "            top_n[j+1] += 1\n",
    "            break\n",
    "    print(\"question :\", topk.question[i*10])\n",
    "    print(\"answer :\", topk.answers[i*10]['text'])\n",
    "    print(\"original :\", topk.original_context[i*10])\n",
    "    print(topk.context[i*10:(i+1)*10])\n",
    "    print('\\n\\n')\n",
    "\n",
    "print(f\"{correct}/{total}\")"
   ]
  },
  {
   "cell_type": "markdown",
   "id": "e9424a6e-a094-4575-b9ed-479965b56fa1",
   "metadata": {},
   "source": [
    "---\n",
    "- 정답을 찾지 못한 지문의 특징을 봅시다.\n",
    "- '루피'가 답인데, original text에서 question과 겹치는 걸로 보이는 부분은 다음 부분입니다.\n",
    "    > **루피**와 **우시**가 시비를 걸었다고 생각하고 **공격**하여 우시를 **쓰러뜨린다**. 하지만 이에 **분개한** 루피의 무장색+기초전투력에 **일격에 당하고 만다**.\n",
    "- top-10으로 꼽힌 다른 text들을 보면, '루피'나 '우시'보다는 '공격'이라는 단어를 중심으로 탐색되었다는 것을 알 수 있습니다.\n",
    "- 질문상에 '공격'이라는 단어가 두 번 사용되기도 했고, '화가 나' == '분개한', '공격'=='일격'이라는 것을 tf-idf는 포착하지 못했습니다."
   ]
  },
  {
   "cell_type": "code",
   "execution_count": 23,
   "id": "0ac71434-5cb6-4ce7-b4f0-287cd23865b6",
   "metadata": {},
   "outputs": [
    {
     "name": "stdout",
     "output_type": "stream",
     "text": [
      "question : 공격을 받아 쓰러진 우시를 보고 화가 나 공격한 인물은?\n",
      "answer : ['루피']\n",
      "original : C블록에서 엄청난 활약을 한다. 이글이글 열매를 손에 넣어서 세계의 모든 거인들의 왕이 될 야욕을 가지고 있다. 루피와 우시가 시비를 걸었다고 생각하고 공격하여 우시를 쓰러뜨린다. 하지만 이에 분개한 루피의 무장색+기초전투력에 일격에 당하고 만다. 드레스로자 지하 고철처리장이란 함정에 빠져서 슈거의 하비하비 열매 능력에 의해 장난감이 되어버린 후, 슈거와 트레볼의 명령에 따라 움직이고 있었지만, 우솝이 슈거를 기절시키면서 원래모습으로 돌아온다. 톤톤 열매 능력자인 마하 바이스랑 전투에서 자신과 롤로노아 조로에게 '지옥의 만 톤 바이스'로 공격하려는 마하 바이스를 상처입은 몸으로 '궁니르(영웅의 창)'으로 날려버린다. 후지토라랑 싸우는 몽키 D. 루피를 데려가 올럼버스의 배 '욘타마리아 호'에 태운다. 이후, 드레스로자에서 활약한 모든 해적단들과 몽키 D. 루피가 이끄는 밀짚모자 해적단 산하 해적단에 들어가기로 마음을 먹지만, 모두 거절당한다. 하지만, 모든 해적단들과 같이 밀짚모자 해적단에 산하 해적단으로 들어가기로 마음을 먹고, 술잔을 나눈다. 이후에는 버기즈 딜리버리(BD)를 그만두고 신 거병 해적단을 만들게 된다.\n",
      "0    R. J. 셰퍼는 목격자의 증언을 검증하는 점검 목록을 제공한다. \\n\\n# 저술이...\n",
      "1    MSX/패미컴판은 스토리가 단순히 무술대회에서 우승하는것을 넘어 중국을 어지럽히는 ...\n",
      "2    제1격인 선제핵공격을 한 북한이 ICBM을 보유한 경우에는, 상대방 국가들은 핵우산...\n",
      "3    마리아나 해전에서 승리를 거둔 미군은 일본이 본토 방어를 위해 설정한 절대국방권을 ...\n",
      "4    창수는 540년에 독립된 현이 되었으나 581년에 쑤저우에 속하게 되었다. 1295...\n",
      "5    상어는 로렌치니기관(Ampullae of Lorenzini)이라는 전기를 감지하는 ...\n",
      "6    1951년 7월 개성에서 휴전 회담이 열렸으나, 결국 합의에 실패하였다. 그리고 8...\n",
      "7    암호학에서 부채널 공격(side channel attack)은 알고리즘의 약점을 찾...\n",
      "8    부채널 공격은 보통 다음과 같이 나뉜다.\\n\\n* 소요 시간 분석(Timing at...\n",
      "9    연합군 해군의 일본 포격은 제2차 세계 대전의 마지막 주 동안 미국 해군, 영국 해...\n",
      "Name: context, dtype: object\n"
     ]
    }
   ],
   "source": [
    "i=0\n",
    "print(\"question :\", topk.question[i*10])\n",
    "print(\"answer :\", topk.answers[i*10]['text'])\n",
    "print(\"original :\", topk.original_context[i*10])\n",
    "print(topk.context[i*10:(i+1)*10])"
   ]
  },
  {
   "cell_type": "markdown",
   "id": "59e2ca07-80fc-4cdd-a1ae-a5188e3d0a4c",
   "metadata": {},
   "source": [
    "- '동방 언어 학원'이 답인데, original text에서 question과 겹치는 걸로 보이는 부분은 다음 부분입니다.\n",
    "    > **파리 대학교**에는 **교황**에 의해 **무슬림들의 개종과 동방 정교회와의 재일치**를 위해 그들의 언어를 **가르치려는** 목적으로 **동방 언어 학원**이 **설립**되었다.\n",
    "    - \"파리대학교\", \"교황\" 등의 단어는 그대로 사용되었지만, \"무슬림들의 개종과 동방 정교회와의 재일치\"라는 부분은 \"종교적 목적\"으로 치환되었고, \"가르치려는\" 역시 \"교육\"으로 치환되었습니다.\n",
    "    - 문맥을 파악하는 중요한 부분은 Dense embedding에 비해 확실히 떨어지게 됩니다.\n",
    "- top-10으로 꼽힌 다른 text들을 보면, '파리대학교'와 '교황'이라는 단어에 집중했다는 것을 알 수 있습니다.\n",
    "    - 또한, original text에서는 나오지 않았으나 question에는 나오는 '종교', '교육'등의 단어가 중요하게 사용되었습니다."
   ]
  },
  {
   "cell_type": "code",
   "execution_count": 24,
   "id": "522e6244-1995-47a0-8d36-90b15b67a703",
   "metadata": {},
   "outputs": [
    {
     "name": "stdout",
     "output_type": "stream",
     "text": [
      "question : 종교적 목적으로 파리 대학교에 교황이 세운 교육 기관은?\n",
      "answer : ['동방 언어 학원']\n",
      "original : 호노리오 4세는 십자군 원정을 계획했으나, 실제 활동은 피렌체와 시에나, 피스토이아의 은행인 가문들의 협조를 받아 제2차 리옹 공의회에서 시행한 십일조 징수에만 국한되었다.\\n\\n파리 대학교에는 교황에 의해 무슬림들의 개종과 동방 정교회와의 재일치를 위해 그들의 언어를 가르치려는 목적으로 동방 언어 학원이 설립되었다.\\n\\n그는 재임기간 동안 오직 한 명의 추기경만 서임했는데, 바로 1285년 12월 22일 서임된 몬레알레 대주교이자 그의 사촌인 조반니 보카마차이다.\\n\\n1285년 몽골의 지도자 아르군 칸이 호노리오 4세에게 사절과 함께 친서를 보냈다. 현재 그가 보낸 친서의 라틴어 번역본은 바티칸에 소장되어 있다. 친서에서 그는 무슬림들의 땅에 대해 함께 군사 공격을 하자고 제안했다.\\n\\n“우리와 당신 사이에 있는 무슬림들의 땅인 시리아와 이집트를 우리가 에워싸고 압박합시다. 우리는 귀하에게 이집트에 군대를 파병할 것을 요청하는 사절들을 보내면, 우리는 당신께 훌륭한 전사들을 보내겠습니다. 귀하가 이에 응하고자 한다면 우리 사절들을 통해 알려주시기 바랍니다. 우리는 주님과 교황과 위대한 칸의 도움으로 사라센족을 쫓아낼 것입니다.”|1285년 아르군 칸이 호노리오 4세에게 보낸 친서 내용 중에서, 바티칸 문서고 \\n\\n그러나 호노리오 4세에게는 칸이 제안한 계획을 달성하기 위해 필요한 군사적 지원을 할 만큼의 능력이 없었다.\\n\\n호노리오 4세의 무덤은 로마의 산타 마리아 인 아라챌리 성당에 있다.\n",
      "40    파리 대학교(Université de Paris)는 중세 대학 가운데 가장 중요하고...\n",
      "41    교황 요한 21세( Ioannes PP. XXI,  Papa Giovanni XXI...\n",
      "42    교육성(敎育省, Congregatio de Institutione Catholica...\n",
      "43    종교 교육(宗敎敎育)은 광의에는 일반적인 종교의 교의, 의식, 습관, 개념, 역사 ...\n",
      "44    교황 선출자 스테파노(Papa Electus Stephanus, ? ~ 752년)는...\n",
      "45    1362년 9월 그리모아르가 이탈리아 주재 교황 대사로 있는 동안에 교황 인노첸시오...\n",
      "46    교황 선출자 스테파노(Papa Electus Stephanus, ? ~ 752년)는...\n",
      "47    교황 젤라시오 1세( Gelasius PP. I,  Papa Gelasio I)는 ...\n",
      "48    천주의 성 요한 수도회(Brothers Hospitallers of St. John...\n",
      "49    콘스탄츠 공의회\\n 이 부분의 본문은 서방 교회의 분열입니다.\\n1377년 교황 그...\n",
      "Name: context, dtype: object\n"
     ]
    }
   ],
   "source": [
    "i=4\n",
    "print(\"question :\", topk.question[i*10])\n",
    "print(\"answer :\", topk.answers[i*10]['text'])\n",
    "print(\"original :\", topk.original_context[i*10])\n",
    "print(topk.context[i*10:(i+1)*10])"
   ]
  },
  {
   "cell_type": "markdown",
   "id": "0b0e417e-6682-4b10-a67c-1e9a9f7c5884",
   "metadata": {},
   "source": [
    "---\n",
    "* 반대로 정답을 한번에 찾은 지문들을 살펴볼까요?\n",
    "    - 2, 3, 6, 11, 12, 18, 20\n",
    "\n",
    "- 대부분의 질문에서 보이는 특징은, 다른 지문에서는 잘 나오지 않을법한 명사형 단어가 '2개 이상' 등장한다는 것입니다.\n",
    "    - ('핸콕', '추장'), ('티칼', '마야'), ('가트나', '사물 인터넷')....\n",
    "    - 1개 정도의 명사형 단어만 등장하거나, 서술어가 paraphrase(망하게 -> 멸망시키다)된 경우 특히 추측확률이 낮아졌습니다.\n",
    "- 대략적인"
   ]
  },
  {
   "cell_type": "code",
   "execution_count": 25,
   "id": "a3f8cefb-4603-476a-8adb-584aa92fde55",
   "metadata": {},
   "outputs": [
    {
     "name": "stdout",
     "output_type": "stream",
     "text": [
      "question : 백인들이 핸콕 추장을 살해한 이유는?\n",
      "answer : ['백인들은 추장을 ‘부족 지배자’라고 믿고 있기 때문에']\n",
      "original : 1711년 가을, 핸콕 추장이 이끄는 남부 투스카로라 족은 팸플리코 족, 코세치니 족, 코어 족, 마타마스키토 족 및 마체펀고 족과 연합하여, 짧은 시간에 넓은 범위의 정착민을 습격했다. 목표가 된 것은 로어노크 강, 뉴스 강, 트렌트 강변 농장 및 바스 시였다. 첫 번째 공격은 1711년 9월 22일에 시작되어, 결국 수백 정착민이 죽었다. 정치적 중심이 되어 있던 인물도 죽거나 혹은 몇 달 동안 피해다녀야 했다.\\n\\n식민지 주지사였던 에드워드 하이드는 노스캐롤라이나 민병대를 소집하고, 사우스캐롤라이나 의회를 돕기로 결정했다. 사우스캐롤라이나 의회는 ‘존 반웰 대령이 지휘하는 600명의 민병과 360명의 인디언’을 보냈다. 이 부대는 1712년에 뉴스 강 양안의 나한츠 요새에서 남부 투스카로라 족과 크레이븐 카운티의 다른 부족을 공격했다. 투스카로라 족은 큰 손실을 입고 패배했다. 300명 이상의 인디언이 죽고 100여명은 포로가 되었다. 이 포로는 대부분 여자 또는 아이였고, 노예로 팔려갔다.\\n\\n블런트 추장은 “그가 개척민들을 도와 핸콕 추장의 무리를 진압하는 데 도움을 주면 투스카로라 족 전체를 통치할 기회를 준다”는 제안을 받았다. 블런트 추장은 남부 추장을 붙잡을 수 있었고, 이주민들은 1712년 핸콕 추장을 처형했다. 1713년, 남부 투스카로라 족은 그린 카운티에 있던 네오헤로카 요새를 함락당하고 900명이 죽거나 포로가 되었다.\\n\\n백인들은 블런트 추장에게 “투스카로라 족 전체를 지배할 기회를 주겠다”고 제안했지만, 추장은 그런 권한을 가진 존재가 아니다. 백인들은 추장을 ‘부족 지배자’라고 믿고 있기 때문에, 핸콕 추장을 죽여 버린 것이다. 중재자인 추장을 잃은 남부 투스카로라 족 대부분은 이제 노스캐롤라이나의 개척자에서 벗어나 현재의 뉴욕으로 북상하여 이주를 시작했다.\n",
      "10    1711년 가을, 핸콕 추장이 이끄는 남부 투스카로라 족은 팸플리코 족, 코세치니 ...\n",
      "11    유럽 백인의 노스캐롤라이나의 첫 영구 식민지 이주는 1653년에 본격적으로 시작되었...\n",
      "12    서부에서 핸콕의 시간은 잠시였다. 재건 아래 공화당원 장군들이 남부를 다스리고 있던...\n",
      "13    당시 인종 문제는 선거에서 큰 변수가 될 수도 있었다. 소수 백인들 사이에서 시작된...\n",
      "14    핸콕은 대부분 미네소타주 포트스넬링과 미주리주 세인트루이스에서 육군 병참 장교와 부...\n",
      "15    그랜트 장군의 1868년 대통령 선거 승리에 이어 공화당원들은 워싱턴 D. C.에서...\n",
      "16    강호순(姜浩順, 1969년 10월 10일 ~ )은 2006년 9월부터 2008년 1...\n",
      "17    윈필드 스콧 핸콕과 그의 일란성 쌍둥이 동생 힐러리 베이커 핸콕은 오늘날 몽고메리 ...\n",
      "18    윈필드 스콧 핸콕(Winfield Scott Hancock, 1824년 2월 14일...\n",
      "19    아이티 혁명\\n1789년 기준 생도맹그 인구는 백인 4만 명 물라토 28,000명과...\n",
      "Name: context, dtype: object\n",
      "\n",
      "\n",
      "\n",
      "question : 티칼에게서 마야의 중심 도시라는 명성을 뺏은 도시는?\n",
      "answer : ['카라콜']\n",
      "original : 마야 문명의 왕실들은 모두 티칼과 밀접한 관력이 있다. 상형문자 기록에 의하면 티칼의 왕조는 '약스 엡 쑤크'라는 전설적인 인물로 인하여 창건되었으며, 약 기원전 1세기부터 시작된 것으로 추정된다. 고전기 초기, 마야 문명의 중심은 2개의 가장 강력한 도시였던 티칼과 칼라크물에 집중되어 있었으며, 나머지 모든 도시들은 티칼과 칼라크물을 중심으로 돌아갓다. 선고전기에 번영했던 엘 미라도르와 같은 도시들이 멸망함에 따라 티칼은 상대적으로 더더욱 강성해졌고, 이후 티칼의 영향을 받아 주변 마야 도시들도 왕조들이 들어섰고 나름대로의 문화를 가지며 번영하기 시작하였다.\\n\\n티칼의 피라미드들에 새겨져 있는 상형문자들을 해독한 결과, 티칼은 칼라크물, 우아삭툰, 카라콜, 나란조와 같은 인근 도시들과 연합을 맺기도 하고 경쟁을 벌이기도 하며 성장하였다. 고전기 초에 카라콜에게 패한 티칼은 한동안 마야 문명의 중심 도시라는 명예를 뺏겼고, 대신 카라콜은 남부 지대의 중심 도시로 급부상했다. 또한 우아삭툰과도 상당한 적대관계를 유지하였는데, 이는 우아삭툰의 비문들에 티칼에서 잡아온 포로들에 관한 언급이 있기 때문이다. 기원후 317년, 남자들만 왕위를 물려받을 수 있는 관습이 깨지고 '우넨 발란' 여왕이 등극하였다.\n",
      "20    마야 문명의 왕실들은 모두 티칼과 밀접한 관력이 있다. 상형문자 기록에 의하면 티칼...\n",
      "21    9세기에 본격적으로 마야 고전기가 쇠퇴기에 접어들었다. 모든 마야 도시들에서 인구가...\n",
      "22    1525년, 에르난도 코르테스가 티칼에서 몇 킬로미터 떨어진 지점을 통과했으나, 그...\n",
      "23    5세기에 티칼의 영향력은 남쪽으로까지 뻗어갔고, 이때 식민도시 코판을 세웠다. 코판...\n",
      "24    기원후 200년, 테오티우아칸은 티칼에 대사를 두고 간접통치하였다. 티칼의 14대 ...\n",
      "25    7세기 경에는 마야 문명 지역에서 그 어떠한 테오티우아칸의 영향력도 찾아볼 수 없다...\n",
      "26    6세기 중반, 인근 도시 카라콜이 칼라크물과 연합하여 티칼을 점령하는 데에 성공했다...\n",
      "27    19.54|N|89|37|25.01|W|type:landmark|display=ti...\n",
      "28    티칼 인근에서 발견되는 가장 초기의 농경지 유적은 기원전 1000년까지 거슬러 올라...\n",
      "29    현재 우리가 볼 수 있는 티칼의 모습은 펜실베이니아 대학교와 과테말라 정부의 협조 ...\n",
      "Name: context, dtype: object\n",
      "\n",
      "\n",
      "\n",
      "question : 가트나는 2020년에 사물 인터넷 기술을 사용하는 사물은 몇 개일거라 예측했나?\n",
      "answer : ['260억 개']\n",
      "original : 사물인터넷(Internet of Things, 약어로 IoT)은 각종 사물에 센서와 통신 기능을 내장하여 인터넷에 연결하는 기술. 즉, 무선 통신을 통해 각종 사물을 연결하는 기술을 의미한다. 인터넷으로 연결된 사물들이 데이터를 주고받아 스스로 분석하고 학습한 정보를 사용자에게 제공하거나 사용자가 이를 원격 조정할 수 있는 인공지능 기술이다. 여기서 사물이란 가전제품, 모바일 장비, 웨어러블 디바이스 등 다양한 임베디드 시스템이 된다. 사물인터넷에 연결되는 사물들은 자신을 구별할 수 있는 유일한 아이피를 가지고 인터넷으로 연결되어야 하며, 외부 환경으로부터의 데이터 취득을 위해 센서를 내장할 수 있다. 모든 사물이 바이러스와 해킹의 대상이 될 수 있어 사물인터넷의 발달과 보안의 발달은 함께 갈 수밖에 없는 구조이다.\\n\\n정보 기술 연구 및 자문회사 가트너에 따르면 2009년까지 사물인터넷 기술을 사용하는 사물의 개수는 9억여개였으나 2020년까지 이 수가 260억 개에 이를 것으로 예상된다. 이와 같이 많은 사물이 연결되면 인터넷을 통해 방대한 데이터가 모이게 되는데, 이렇게 모인 데이터는 기존 기술로 분석하기 힘들 정도로 방대해진다. 이것을 빅 데이터라고 부른다. 따라서 빅 데이터를 분석하는 효율적인 알고리즘을 개발하는 기술의 필요성이 사물인터넷의 등장에 따라 함께 대두되고 있다. \\n\\n시스코 시스템즈의 조사에 따르면 2013년부터 2022년까지 10년간 사물인터넷이 14조 4천억 달러의 경제적 가치가 있을 것이라고 예상한다.\n",
      "50    사물인터넷(Internet of Things, 약어로 IoT)은 각종 사물에 센서와...\n",
      "51    공정을 분석하고 시설물을 모니터링하여 작업 효율과 안전을 제공한다. 생산, 가공, ...\n",
      "52    사물인터넷 시장에 진출할 계획이 있는 기업으로는 미국의 시스코, 대한민국의 삼성전자...\n",
      "53    사물인터넷에 참여하는 각각의 개체는 다른 개체로 하여금 스스로를 식별할 수 있게 해...\n",
      "54    R. J. 셰퍼는 목격자의 증언을 검증하는 점검 목록을 제공한다. \\n\\n# 저술이...\n",
      "55    이데아론은 플라톤이 처음 주장한 형이상학 이론이다. 플라톤에 따르면, 이데아론에서 ...\n",
      "56    길버트 갸라한(Gilbert Garraghan)은 비평을 여섯 가지 질문으로 나누었...\n",
      "57    스마트 토이(smart toy)란 인공지능이나 사물인터넷(IoT) 같은 차세대 정보...\n",
      "58    CCTV, 노약자 GPS 등의 사물인터넷 정보를 사용해 재난이나 재해를 예방한다. ...\n",
      "59    2020년 OFC 챔피언스리그(2020 OFC Champions League)는 O...\n",
      "Name: context, dtype: object\n",
      "\n",
      "\n",
      "\n",
      "question : 중동지역에서 유일하게 성공한 경제 자유구역은?\n",
      "answer : ['두바이']\n",
      "original : 네옴의 홍보자료에 따르면 이 지역 도시는 다리를 통해 이집트와 연결되며 요르단과도 인접해 중동의 '초국경 경제지대'를 창출할 계획이다. 해수담수화 설비에다 인공지능, 100% 재생에너지 등 최첨단 기술이 적용된다. \\n\\n클라우스 클리인펠트 전 미국 알루미늄 회사 알코아 회장이 네옴 사업의 최고경영자로 임명되었다.\\n\\n스테펜 헤르토크 런던 경제대학교 교수는 \"이번 프로젝트는 두바이에서 개척한 '자유 존'을 모티브로 삼은 것 같다\"라며 \"이런 경제 자유구역은 자체적인 규정과 법률을 갖추고 있다. 두바이에서는 이런 시스템이 통했지만 나머지 중동 지역에서는 실패했다\"라고 전했다. 즉, 아랍에미리트의 경제자유구역 신도시 두바이 처럼, 사우디아라비아도 경제자유구역 신도시인 네옴을 건설하겠다는 것이다.\\n\\n홍보 동영상엔 히잡을 쓰지 않고 일하는 여성, 풍력 발전소, 태양광 발전소, 첨단 연구단지, 쾌적한 아파트, 레저를 즐기는 관광객, 파티 장면 등이 담겼다. 이곳을 위한 원자력 발전소 수주경쟁에 한국도 적극적으로 참여 중이다 . 중동에서 가장 성공한 투자·개발 모델로 꼽히는 아랍에미리트(UAE) 두바이를 모방하려고 한다.\n",
      "100    네옴의 홍보자료에 따르면 이 지역 도시는 다리를 통해 이집트와 연결되며 요르단과도 ...\n",
      "101    노변의 피크닉은 외계인이 방문한후 만들어놓은 6개의 '구역'(Зона)을 배경으로 ...\n",
      "102    R. J. 셰퍼는 목격자의 증언을 검증하는 점검 목록을 제공한다. \\n\\n# 저술이...\n",
      "103    각 프로세스는 자신의 임계 구역에 진입하려면 진입허가를 요청해야 한다. 이런 요청을...\n",
      "104    스코틀랜드는 1889년 이전까지 중세 시대부터 존재했던 전통적인 행정 구역인 도시(...\n",
      "105    원래 명칭은 문예로(文藝路)였는데 이 명칭이 붙은 이유는 다음과 같다. \\n\\n19...\n",
      "106    한때 번성했던 대지의 백성의 왕국이었던 도시, 아인트오크를 방문하여, 수확 축제 배...\n",
      "107    국립공원은 2개의 보호구역으로 나뉘는데, 보호구역에 따라 보호단계가 다르다. 제1구...\n",
      "108    한때 번성했던 대지의 백성의 왕국이었던 도시, 아인트오크를 방문하여, 수확 축제 배...\n",
      "109    혼합 경제(混合經濟, mixed economy)는 전통 경제, 계획 경제, 시장 경...\n",
      "Name: context, dtype: object\n",
      "\n",
      "\n",
      "\n",
      "question : 의견을 자유롭게 나누는 것은 조직 내 어떤 관계에서 가능한가?\n",
      "answer : ['수평적 관계']\n",
      "original : 탈관료제화는 현대사회에서 관료제 성격이 약화되는 현상이다. 현대사회에서 관료제는 약화되며, 새로운 조직 형태로 변화된다. 오늘날과 같은 세계화 · 정보화 시대에는 관료제가 오히려 조직의 목적 달성을 방해하는 요소가 많기 때문이다. 세계화에 발맞추기 위해서는 경쟁력 강화가 요구되는데, 이러한 정보사회에서의 경쟁력은 인간의 창의성에서 나온다. 그런데 기존의 관료제는 빠르게 변화하는 사회에 유연하게 대처하기 어려우며, 인간의 창의성을 극대화하기도 어렵다. 그것은 관료제의 속성상 안정적이기는 하지만 다소 경직된 조직이기 때문이다.\\n\\n규약과 절차를 강조하는 관료제에서 벗어난 새로운 조직은 상황이나 목적에 따라 자유롭게 구성 · 해체되는 유연성을 갖고 있으며, 위계 서열적 관계에서 벗어난 수평적 관계에서 자유로운 의사소통과 빠른 업무처리 기능을 가능하게 한다. 또한, 연공서열주의에서 벗어나 목표 달성을 중심으로 한 능력과 성과에 따라 승진과 임금이 결정된다. 결과적으로 새로운 조직은 개인과 조직의 경쟁력을 강화하고 창의력을 신장시킬 수 있다. 하지만, 이와 같은 조직은 목적 달성에는 효율적이지만, 한편으로는 미래예측성이나 안정성 등이 떨어져 개인에게 심리적 불안감을 주기도 한다.\n",
      "110    탈관료제화는 현대사회에서 관료제 성격이 약화되는 현상이다. 현대사회에서 관료제는 약...\n",
      "111    조직 내에서 공정성의 원천을 분배공정성(distributive justice)과 절...\n",
      "112    R. J. 셰퍼는 목격자의 증언을 검증하는 점검 목록을 제공한다. \\n\\n# 저술이...\n",
      "113    나무의 종류를 나누는 기준으로는 잎의 모양에 따라 나누는 방법, 쓰임새에 따라 나누...\n",
      "114    조직후원인식에 대한 선행연구는 직원의 조직에 대한 관심이 조직의 노력에 대한 직원의...\n",
      "115    Meyer와 Allen (1991)은 조직몰입을 다차원적인 개념으로 설명하였다. 제...\n",
      "116    조직후원인식과 정서적 몰입사이의 관계는 Eisenberger et al (1986)...\n",
      "117    조직 후원 인식(perceived organizational support) 또는 ...\n",
      "118    아나키즘은 세계를 바라보는데 있어서 골드만의 가장 핵심적인 이데올로기였고, 그녀는 ...\n",
      "119    본작에서는 주인공이 속한 세력에게는 파벌이 존재한다. 처음에는 평정에서 의견을 내도...\n",
      "Name: context, dtype: object\n",
      "\n",
      "\n",
      "\n",
      "question : 호라티우스와 가이우스 마에케나스를 만나게 해 준 사람은?\n",
      "answer : ['베르길리우스']\n",
      "original : 호라티우스의 출신 가문은 정확히 알려져 있지 않다. 아마 그의 아버지는 노예에서 해방된 자유신분(libertinus)으로서 로마 자유시민권을 가진 여인과 결혼한 것으로 보인다. 호라티우스는 어린시절부터 아버지로부터 세심한 교육을 받았으며, 기원전 45년에 당시 문화와 예술의 중심지인 고대 그리스의 아테네에 유학하여 고대 그리스 철학과 문학을 공부한다. 이 시기에 그는 역시 고대 그리스 문화를 사랑하는 마르쿠스 브루투스와 친교를 맺게되어 그를 따라 소아시아 지방에서 여러 전투에 참가한다. 기원전 약 40년을 전후로 호라티우스는 로마로 돌아와 젊은 문학자와 사귀면서, 특히 베르길리우스의 주선으로 당시의 로마의 문학 애호가이자 부호인 가이우스 마에케나스(Gaius Maecenas)에게 소개된다. 이 만남은 호라티우스가 사망할 때까지 깊은 우정관계로 발전한다. 특히 마이케나스는 호라티우스에게 기원전 32년 사비나 농장을 선물함으로써, 여기서 호라티우스는 경제적 어려움에서 완전히 해방되어 시 창작에 열중하게 된다.\n",
      "170    호라티우스의 출신 가문은 정확히 알려져 있지 않다. 아마 그의 아버지는 노예에서 해...\n",
      "171    이 문서는 고대 로마 제국에서 발달한 문화를 설명한다.\\n\\n‘그리스의 학예, 로마...\n",
      "172    출소 후, 마에우에는 2005년 한 해 동안 3명을 죽이기에 이른다. 마에우에가 생...\n",
      "173    한때 번성했던 대지의 백성의 왕국이었던 도시, 아인트오크를 방문하여, 수확 축제 배...\n",
      "174    R. J. 셰퍼는 목격자의 증언을 검증하는 점검 목록을 제공한다. \\n\\n# 저술이...\n",
      "175    오르마에체아는 기푸스코아 주 에이바르 출신으로, 인근 에이바르에서 성인 무대에 첫 ...\n",
      "176    한때 번성했던 대지의 백성의 왕국이었던 도시, 아인트오크를 방문하여, 수확 축제 배...\n",
      "177    1980년대 7광구가 발견된 시점에서 차해준(하지원 분)의 아버지는 해저에서 파이프...\n",
      "178    이 영화는 1940년대 덴마크의 시인인 카스파르 요르겐센의 모습을 보여주면서 시작된...\n",
      "179    다니엘 귄터는 1973년 7월 24일 킬에서 태어났다. 킬 대학교에서 정치학을 전공...\n",
      "Name: context, dtype: object\n",
      "\n",
      "\n",
      "\n",
      "question : 뉴욕주의 주지사로서 톰킨스가 폐지하고자 노력한 제도는?\n",
      "answer : ['노예제']\n",
      "original : 톰킨스는 자신이 뉴욕주 헌법 회의로 대표로 만들어졌을 때 자신의 정치 경력을 시작하였다. 그의 정치 경력의 첫 10년간 세월은 빠르게 흘러갔고 정치 체계에서 그의 승진들은 더욱 빨리 흘러갔다고 한다. 1803년 톰키스는 뉴욕주 회의 의원으로서 일하였다. 다음해 그는 연방 하원이 되는 데 선거인이었으나 이 직위에 거절하였다. 그는 대신 뉴욕주 대법원에서 배심 판사로 일하여 1807년까지 이 직위를 보유하였다.\\n\\n1807년 후순에 톰킨스는 새로운 뉴욕주지사로 선출되었다. 이 것은 그가 놓칠 수 없던 기회였다. 주지사로서 일하는 동안 그는 주에서 어떤 개혁들을 이루었다. 그가 했던 것들 중의 하나는 용선 은행의 발전을 막는 것이었으나 더욱 나은 학교들과 범죄를 위한 적은 처벌들을 격려하였다.\\n\\n뉴욕주지사로서 그의 시간 동안 톰킨스에게 피해를 준 주요한 것들 중에 하나는 1812년 전쟁의 스트레스 요인이었다. 이 전쟁 동안 그는 뉴욕주 시민군을 동원하는 것에 업무를 맡았다. 그는 이 일을 일어나게 하는 데 기금을 빌려야 했다. 하지만 주의 입법부는 그에게 기금을 주려고 하지 않아 그는 자신 소유의 돈을 써야 했으며 그렇게 하는 데 대출이 그의 이름에 반출되었다. 전쟁이 끝난 후, 뉴욕주는 그에게 많은 재정 문제들을 일으킨 것으로 그를 상환하지 않았다.\\n\\n주지사로서 일한 동안 톰킨스가 했던 주목할 만한 것들 중의 하나는 뉴욕주에서 노예제를 끝내는 데 노력한 것이었다. 1799년 후에 태어난 전체의 노예들은 자신들이 성인이 될 때까지 계약 하인으로 일해야 할 것을 진술한 법률이 그해 통과되었다. 하지만 톰킨스는 1799년 이전에 태어난 아무 노예들이 1827년 자유의 몸이 될 법률 (1817년)을 통과시키는 데 도움을 주었다. 1840년대까지 이 법률의 부분 때문에 뉴욕주에서 등록된 아무 노예들이 없었다.\\n\\n또한 여기에 일한 동안 그는 1814년 제임스 매디슨 아래 국무장관이 되는 데 제공되었다. 이 것은 톰킨스가 거절하려고 말았던 또 다른 직위였다. 하지만 그는 제임스 먼로에게 부통령을 위하여 출마하는 데 의문되었다. 그는 기쁘게 이 직위를 택하였다.\\n\\n1817년 그는 다시는 주지사 (1807년과 1817년 사이에 몇번이나 재선되면서)를 위하여 출마하지 않았으나 대신 부통령으로서 자신의 새로운 역할을 자랑스럽게 택하였다. 톰킨스는 그해 3월 4일 공식적으로 미국의 부통령으로서 취임되었다. 그는 4년 후에 부통령으로서 재선되었다. 하지만 그는 자신이 재정적으로 분투하면서 이번 임기의 1년 동안만 재직하였다. 그는 1812년 전쟁 동안 자신이 쓴 돈을 위하여 보상을 받는 데 노력하여 이 시간의 거의를 보냈다.\\n\\n1820년 톰킨스는 자신이 아직도 부통령이었던 동안 다시 뉴욕주지사를 위하여 출마하였지만 이 선거를 이기지 않았다.\n",
      "190    톰킨스는 자신이 뉴욕주 헌법 회의로 대표로 만들어졌을 때 자신의 정치 경력을 시작하...\n",
      "191    뉴욕주 뉴레바논에서 태어난 틸던은 뉴욕 대학교에서 수학하여 뉴욕 로스쿨을 졸업하기 ...\n",
      "192    케네스 톰킨스 베인브리지는 미국 뉴욕주의 쿠퍼스타운에서 윌리엄 워린 베인브리지와 메...\n",
      "193    반봉건적 생산 관계를 일체 철폐함으로써 부당한 징세 제도는 자연스럽게 사라진다. 그...\n",
      "194    역사를 통해서, 군주제(君主制)는 쿠데타나 전쟁, 시민혁명 등을 통해서 폐지되어 왔...\n",
      "195    피오렐로 라과디아(1882년 ~1947년)는 자신이 3개의 기간들 (1934년 ~ ...\n",
      "196    역사를 통해서, 군주제(君主制)는 쿠데타나 전쟁, 시민혁명 등을 통해서 폐지되어 왔...\n",
      "197    R. J. 셰퍼는 목격자의 증언을 검증하는 점검 목록을 제공한다. \\n\\n# 저술이...\n",
      "198    추크 제도에 인류가 최초로 정착하게 된 것이 언제인지는 밝혀지지 않았지만, 문헌과 ...\n",
      "199    1938년 듀이는 인기있는 민주당 현직 주지사 허버트 리먼을 상대로 뉴욕 주지사를 ...\n",
      "Name: context, dtype: object\n",
      "\n",
      "\n",
      "\n"
     ]
    }
   ],
   "source": [
    "for i in [2, 3, 6, 11, 12, 18, 20]:\n",
    "    i = i-1\n",
    "    print(\"question :\", topk.question[i*10])\n",
    "    print(\"answer :\", topk.answers[i*10]['text'])\n",
    "    print(\"original :\", topk.original_context[i*10])\n",
    "    print(topk.context[i*10:(i+1)*10])\n",
    "    print('\\n\\n')"
   ]
  },
  {
   "cell_type": "markdown",
   "id": "2edf4c57-1df8-44cd-a1ba-0507ea445ead",
   "metadata": {},
   "source": [
    "---\n",
    "### 단어별 tf-idf 총합,평균\n",
    "* '루피'같은 토큰은 53개밖에 등장하지 않았지만, 평균적으로 문서에서 차지하는 비중은 0.076349정도로 꽤 높습니다.\n",
    "* '공격'같은 토큰은 3718개나 되는 문서에서 등장합니다. 평균적으로 차지하는 비중은 0.026151입니다.\n",
    "    - 각 문서에서 토큰의 embedding 값이 '어느정도' 여야 해당 문서에서 주목할만한 토큰일까요?🤔\n",
    "* **'활나라'는 INDEX 19 지문을 찾는 데에 결정적인 단서가 될 수 있었지만, 애초에 전체 corpus에서 너무 적게 등장했기 때문에 사실상 문서 검색에 핵심적인 역할을 하지 못했습니다.**\n",
    "    - 전체 문서에서 단 한번밖에 등장하지 않았다 -> 해당 단어를 가지고있는 context를 바로 특정할수 있다(X)\n",
    "        - 새삼스럽지만 **너무 적게 본 token은 처음 보는 단어로 생각하고 쪼개버립니다**. 따라서  활, ##나라 등으로 쪼개져 해당 문서에 큰 의미가 없었습니다. \n",
    "    - 이와 달리 **'진나라'는 전체 corpus에서도 자주 등장하므로 그대로 토큰화**되었습니다. tf-idf 검색은 '진나라' 위주로 되었겠네요. 토큰의 비중평균도 0.066955 수준으로 꽤 높습니다.\n",
    "    - 그렇기 때문에 INDEX 19의 top-10 문서 대부분이 진나라와 관련된 문서였습니다. 이 중 '활나라'가 들어간 정답 문서는 top-6에 불과했습니다.\n",
    "    - 어떻게해야 이 문제를 해결할 수 있을까요?🤔"
   ]
  },
  {
   "cell_type": "code",
   "execution_count": 26,
   "id": "6fbd91d2-2db1-4696-bc1d-0de5376cc36f",
   "metadata": {},
   "outputs": [
    {
     "name": "stdout",
     "output_type": "stream",
     "text": [
      "53\n",
      "1847856    0.076349\n",
      "Name: sum_tfidf, dtype: float64\n"
     ]
    },
    {
     "data": {
      "text/html": [
       "<div>\n",
       "<style scoped>\n",
       "    .dataframe tbody tr th:only-of-type {\n",
       "        vertical-align: middle;\n",
       "    }\n",
       "\n",
       "    .dataframe tbody tr th {\n",
       "        vertical-align: top;\n",
       "    }\n",
       "\n",
       "    .dataframe thead th {\n",
       "        text-align: right;\n",
       "    }\n",
       "</style>\n",
       "<table border=\"1\" class=\"dataframe\">\n",
       "  <thead>\n",
       "    <tr style=\"text-align: right;\">\n",
       "      <th></th>\n",
       "      <th>token</th>\n",
       "      <th>sum_tfidf</th>\n",
       "    </tr>\n",
       "  </thead>\n",
       "  <tbody>\n",
       "    <tr>\n",
       "      <th>1847856</th>\n",
       "      <td>루피</td>\n",
       "      <td>4.046509</td>\n",
       "    </tr>\n",
       "  </tbody>\n",
       "</table>\n",
       "</div>"
      ],
      "text/plain": [
       "        token  sum_tfidf\n",
       "1847856    루피   4.046509"
      ]
     },
     "execution_count": 26,
     "metadata": {},
     "output_type": "execute_result"
    }
   ],
   "source": [
    "print(sum(df.text.str.contains('루피')))\n",
    "print(word_count[word_count['token'] == '루피']['sum_tfidf']/sum(df.text.str.contains('루피')))\n",
    "word_count[word_count['token'] == '루피']"
   ]
  },
  {
   "cell_type": "code",
   "execution_count": 27,
   "id": "dcce69e6-fc42-4d97-8507-82b62a6bbb95",
   "metadata": {},
   "outputs": [
    {
     "name": "stdout",
     "output_type": "stream",
     "text": [
      "3718\n",
      "1180643    0.026151\n",
      "Name: sum_tfidf, dtype: float64\n"
     ]
    },
    {
     "data": {
      "text/html": [
       "<div>\n",
       "<style scoped>\n",
       "    .dataframe tbody tr th:only-of-type {\n",
       "        vertical-align: middle;\n",
       "    }\n",
       "\n",
       "    .dataframe tbody tr th {\n",
       "        vertical-align: top;\n",
       "    }\n",
       "\n",
       "    .dataframe thead th {\n",
       "        text-align: right;\n",
       "    }\n",
       "</style>\n",
       "<table border=\"1\" class=\"dataframe\">\n",
       "  <thead>\n",
       "    <tr style=\"text-align: right;\">\n",
       "      <th></th>\n",
       "      <th>token</th>\n",
       "      <th>sum_tfidf</th>\n",
       "    </tr>\n",
       "  </thead>\n",
       "  <tbody>\n",
       "    <tr>\n",
       "      <th>1180643</th>\n",
       "      <td>공격</td>\n",
       "      <td>97.229239</td>\n",
       "    </tr>\n",
       "  </tbody>\n",
       "</table>\n",
       "</div>"
      ],
      "text/plain": [
       "        token  sum_tfidf\n",
       "1180643    공격  97.229239"
      ]
     },
     "execution_count": 27,
     "metadata": {},
     "output_type": "execute_result"
    }
   ],
   "source": [
    "print(sum(df.text.str.contains('공격')))\n",
    "print(word_count[word_count['token'] == '공격']['sum_tfidf']/sum(df.text.str.contains('공격')))\n",
    "word_count[word_count['token'] == '공격']"
   ]
  },
  {
   "cell_type": "code",
   "execution_count": 28,
   "id": "c987f26c-0797-4350-bedb-6000ba04e672",
   "metadata": {},
   "outputs": [
    {
     "name": "stdout",
     "output_type": "stream",
     "text": [
      "1\n",
      "Series([], Name: sum_tfidf, dtype: float64)\n"
     ]
    },
    {
     "data": {
      "text/html": [
       "<div>\n",
       "<style scoped>\n",
       "    .dataframe tbody tr th:only-of-type {\n",
       "        vertical-align: middle;\n",
       "    }\n",
       "\n",
       "    .dataframe tbody tr th {\n",
       "        vertical-align: top;\n",
       "    }\n",
       "\n",
       "    .dataframe thead th {\n",
       "        text-align: right;\n",
       "    }\n",
       "</style>\n",
       "<table border=\"1\" class=\"dataframe\">\n",
       "  <thead>\n",
       "    <tr style=\"text-align: right;\">\n",
       "      <th></th>\n",
       "      <th>token</th>\n",
       "      <th>sum_tfidf</th>\n",
       "    </tr>\n",
       "  </thead>\n",
       "  <tbody>\n",
       "  </tbody>\n",
       "</table>\n",
       "</div>"
      ],
      "text/plain": [
       "Empty DataFrame\n",
       "Columns: [token, sum_tfidf]\n",
       "Index: []"
      ]
     },
     "execution_count": 28,
     "metadata": {},
     "output_type": "execute_result"
    }
   ],
   "source": [
    "print(sum(df.text.str.contains('활나라')))\n",
    "print(word_count[word_count['token'] == '활나라']['sum_tfidf']/sum(df.text.str.contains('활나라')))\n",
    "word_count[word_count['token'] == '활나라']"
   ]
  },
  {
   "cell_type": "code",
   "execution_count": 29,
   "id": "a1176354-1242-4d25-9030-e4fda98d0481",
   "metadata": {},
   "outputs": [
    {
     "name": "stdout",
     "output_type": "stream",
     "text": [
      "Empty DataFrame\n",
      "Columns: [token, sum_tfidf]\n",
      "Index: []\n"
     ]
    },
    {
     "data": {
      "text/html": [
       "<div>\n",
       "<style scoped>\n",
       "    .dataframe tbody tr th:only-of-type {\n",
       "        vertical-align: middle;\n",
       "    }\n",
       "\n",
       "    .dataframe tbody tr th {\n",
       "        vertical-align: top;\n",
       "    }\n",
       "\n",
       "    .dataframe thead th {\n",
       "        text-align: right;\n",
       "    }\n",
       "</style>\n",
       "<table border=\"1\" class=\"dataframe\">\n",
       "  <thead>\n",
       "    <tr style=\"text-align: right;\">\n",
       "      <th></th>\n",
       "      <th>text</th>\n",
       "      <th>title</th>\n",
       "      <th>document_id</th>\n",
       "      <th>text_length</th>\n",
       "    </tr>\n",
       "  </thead>\n",
       "  <tbody>\n",
       "    <tr>\n",
       "      <th>31877</th>\n",
       "      <td>정문공 24년(기원전 649년), 천첩 연길의 소생으로 태어났다. \\n\\n정문공이 ...</td>\n",
       "      <td>정 목공</td>\n",
       "      <td>31877</td>\n",
       "      <td>1104</td>\n",
       "    </tr>\n",
       "  </tbody>\n",
       "</table>\n",
       "</div>"
      ],
      "text/plain": [
       "                                                    text title  document_id  \\\n",
       "31877  정문공 24년(기원전 649년), 천첩 연길의 소생으로 태어났다. \\n\\n정문공이 ...  정 목공        31877   \n",
       "\n",
       "       text_length  \n",
       "31877         1104  "
      ]
     },
     "execution_count": 29,
     "metadata": {},
     "output_type": "execute_result"
    }
   ],
   "source": [
    "print(word_count[word_count['token'] == '활나라'])\n",
    "df[df.text.str.contains('활나라')==True]"
   ]
  },
  {
   "cell_type": "code",
   "execution_count": 30,
   "id": "81233904-f3c6-4882-a1e6-a03858570d43",
   "metadata": {},
   "outputs": [
    {
     "name": "stdout",
     "output_type": "stream",
     "text": [
      "213\n",
      "3398667    0.066965\n",
      "Name: sum_tfidf, dtype: float64\n"
     ]
    },
    {
     "data": {
      "text/html": [
       "<div>\n",
       "<style scoped>\n",
       "    .dataframe tbody tr th:only-of-type {\n",
       "        vertical-align: middle;\n",
       "    }\n",
       "\n",
       "    .dataframe tbody tr th {\n",
       "        vertical-align: top;\n",
       "    }\n",
       "\n",
       "    .dataframe thead th {\n",
       "        text-align: right;\n",
       "    }\n",
       "</style>\n",
       "<table border=\"1\" class=\"dataframe\">\n",
       "  <thead>\n",
       "    <tr style=\"text-align: right;\">\n",
       "      <th></th>\n",
       "      <th>token</th>\n",
       "      <th>sum_tfidf</th>\n",
       "    </tr>\n",
       "  </thead>\n",
       "  <tbody>\n",
       "    <tr>\n",
       "      <th>3398667</th>\n",
       "      <td>진나라</td>\n",
       "      <td>14.263646</td>\n",
       "    </tr>\n",
       "  </tbody>\n",
       "</table>\n",
       "</div>"
      ],
      "text/plain": [
       "        token  sum_tfidf\n",
       "3398667   진나라  14.263646"
      ]
     },
     "execution_count": 30,
     "metadata": {},
     "output_type": "execute_result"
    }
   ],
   "source": [
    "print(sum(df.text.str.contains('진나라')))\n",
    "print(word_count[word_count['token'] == '진나라']['sum_tfidf']/sum(df.text.str.contains('진나라')))\n",
    "word_count[word_count['token'] == '진나라']"
   ]
  },
  {
   "cell_type": "markdown",
   "id": "fa03a35d-dc79-4239-9b28-257f703a9771",
   "metadata": {},
   "source": [
    "---\n",
    "### 이번엔 top-10중 어느정도의 k에서 정답을 찾는지 확인해봅시다."
   ]
  },
  {
   "cell_type": "code",
   "execution_count": 31,
   "id": "ca51a409-a7be-4920-a529-3bf9e8d87088",
   "metadata": {},
   "outputs": [
    {
     "data": {
      "application/vnd.jupyter.widget-view+json": {
       "model_id": "db000d0b1b0a433180c9977296aecd90",
       "version_major": 2,
       "version_minor": 0
      },
      "text/plain": [
       "HBox(children=(FloatProgress(value=0.0, description='Retrieval: ', max=200.0, style=ProgressStyle(description_…"
      ]
     },
     "metadata": {},
     "output_type": "display_data"
    },
    {
     "name": "stdout",
     "output_type": "stream",
     "text": [
      "\n"
     ]
    }
   ],
   "source": [
    "dummy_train_datasets = retriever.retrieve(datasets['train'], topk=args.retriever.topk)"
   ]
  },
  {
   "cell_type": "code",
   "execution_count": 32,
   "id": "a0c48271-36c6-4475-8baf-65f03b95287b",
   "metadata": {},
   "outputs": [
    {
     "name": "stdout",
     "output_type": "stream",
     "text": [
      "2000\n"
     ]
    },
    {
     "data": {
      "text/html": [
       "<div>\n",
       "<style scoped>\n",
       "    .dataframe tbody tr th:only-of-type {\n",
       "        vertical-align: middle;\n",
       "    }\n",
       "\n",
       "    .dataframe tbody tr th {\n",
       "        vertical-align: top;\n",
       "    }\n",
       "\n",
       "    .dataframe thead th {\n",
       "        text-align: right;\n",
       "    }\n",
       "</style>\n",
       "<table border=\"1\" class=\"dataframe\">\n",
       "  <thead>\n",
       "    <tr style=\"text-align: right;\">\n",
       "      <th></th>\n",
       "      <th>answers</th>\n",
       "      <th>context</th>\n",
       "      <th>id</th>\n",
       "      <th>original_context</th>\n",
       "      <th>question</th>\n",
       "    </tr>\n",
       "  </thead>\n",
       "  <tbody>\n",
       "    <tr>\n",
       "      <th>0</th>\n",
       "      <td>{'answer_start': [223], 'text': ['기원전 90년']}</td>\n",
       "      <td>루키우스의 초반 생애는 알려진 것이 없다. 그가 처음으로 역사에 이름이 오른 것은 ...</td>\n",
       "      <td>mrc-1-000711</td>\n",
       "      <td>루키우스의 초반 생애는 알려진 것이 없다. 그가 처음으로 역사에 이름이 오른 것은 ...</td>\n",
       "      <td>루키우스가 율리우스 법을 통과시킨 시기는?</td>\n",
       "    </tr>\n",
       "    <tr>\n",
       "      <th>1</th>\n",
       "      <td>{'answer_start': [223], 'text': ['기원전 90년']}</td>\n",
       "      <td>R. J. 셰퍼는 목격자의 증언을 검증하는 점검 목록을 제공한다. \\n\\n# 저술이...</td>\n",
       "      <td>mrc-1-000711</td>\n",
       "      <td>루키우스의 초반 생애는 알려진 것이 없다. 그가 처음으로 역사에 이름이 오른 것은 ...</td>\n",
       "      <td>루키우스가 율리우스 법을 통과시킨 시기는?</td>\n",
       "    </tr>\n",
       "    <tr>\n",
       "      <th>2</th>\n",
       "      <td>{'answer_start': [223], 'text': ['기원전 90년']}</td>\n",
       "      <td>\"아프리카의 모든 국가 수도는?\"이라는 질문의 SPARQL 쿼리 예제이다:\\n\\nP...</td>\n",
       "      <td>mrc-1-000711</td>\n",
       "      <td>루키우스의 초반 생애는 알려진 것이 없다. 그가 처음으로 역사에 이름이 오른 것은 ...</td>\n",
       "      <td>루키우스가 율리우스 법을 통과시킨 시기는?</td>\n",
       "    </tr>\n",
       "    <tr>\n",
       "      <th>3</th>\n",
       "      <td>{'answer_start': [223], 'text': ['기원전 90년']}</td>\n",
       "      <td>오스트리아 국민의회는 오스트리아의 입법 기관으로서, 오스트리아의 법안을 수정하거나 ...</td>\n",
       "      <td>mrc-1-000711</td>\n",
       "      <td>루키우스의 초반 생애는 알려진 것이 없다. 그가 처음으로 역사에 이름이 오른 것은 ...</td>\n",
       "      <td>루키우스가 율리우스 법을 통과시킨 시기는?</td>\n",
       "    </tr>\n",
       "    <tr>\n",
       "      <th>4</th>\n",
       "      <td>{'answer_start': [223], 'text': ['기원전 90년']}</td>\n",
       "      <td>태평양 전쟁 중에는 이 해협을 통과하는 일본 함선들이 종종 있었다. 유명한 것은 1...</td>\n",
       "      <td>mrc-1-000711</td>\n",
       "      <td>루키우스의 초반 생애는 알려진 것이 없다. 그가 처음으로 역사에 이름이 오른 것은 ...</td>\n",
       "      <td>루키우스가 율리우스 법을 통과시킨 시기는?</td>\n",
       "    </tr>\n",
       "    <tr>\n",
       "      <th>5</th>\n",
       "      <td>{'answer_start': [223], 'text': ['기원전 90년']}</td>\n",
       "      <td>① 20대 국회에 발의된 어린이생명안전법안(민식이법, 해인이법, 한음이법, 하준이법...</td>\n",
       "      <td>mrc-1-000711</td>\n",
       "      <td>루키우스의 초반 생애는 알려진 것이 없다. 그가 처음으로 역사에 이름이 오른 것은 ...</td>\n",
       "      <td>루키우스가 율리우스 법을 통과시킨 시기는?</td>\n",
       "    </tr>\n",
       "    <tr>\n",
       "      <th>6</th>\n",
       "      <td>{'answer_start': [223], 'text': ['기원전 90년']}</td>\n",
       "      <td>빛은 공기와 유리같은 서로 다른 매질을 통과할 때 두 매질의 경계면에서 굴절한다. ...</td>\n",
       "      <td>mrc-1-000711</td>\n",
       "      <td>루키우스의 초반 생애는 알려진 것이 없다. 그가 처음으로 역사에 이름이 오른 것은 ...</td>\n",
       "      <td>루키우스가 율리우스 법을 통과시킨 시기는?</td>\n",
       "    </tr>\n",
       "    <tr>\n",
       "      <th>7</th>\n",
       "      <td>{'answer_start': [223], 'text': ['기원전 90년']}</td>\n",
       "      <td>마르크스주의 법학(Marx主義法學)은 넓게 보아 유물론적 변증법에 입각해서 법을 인...</td>\n",
       "      <td>mrc-1-000711</td>\n",
       "      <td>루키우스의 초반 생애는 알려진 것이 없다. 그가 처음으로 역사에 이름이 오른 것은 ...</td>\n",
       "      <td>루키우스가 율리우스 법을 통과시킨 시기는?</td>\n",
       "    </tr>\n",
       "    <tr>\n",
       "      <th>8</th>\n",
       "      <td>{'answer_start': [223], 'text': ['기원전 90년']}</td>\n",
       "      <td>타운젠드법(Townshend Acts, Townshend Duties)은 대영제국 ...</td>\n",
       "      <td>mrc-1-000711</td>\n",
       "      <td>루키우스의 초반 생애는 알려진 것이 없다. 그가 처음으로 역사에 이름이 오른 것은 ...</td>\n",
       "      <td>루키우스가 율리우스 법을 통과시킨 시기는?</td>\n",
       "    </tr>\n",
       "    <tr>\n",
       "      <th>9</th>\n",
       "      <td>{'answer_start': [223], 'text': ['기원전 90년']}</td>\n",
       "      <td>법의 발생은 법이 어떻게 해서 생기느냐의 학문적 문제(법의 발생론)를 일컫는 말이다...</td>\n",
       "      <td>mrc-1-000711</td>\n",
       "      <td>루키우스의 초반 생애는 알려진 것이 없다. 그가 처음으로 역사에 이름이 오른 것은 ...</td>\n",
       "      <td>루키우스가 율리우스 법을 통과시킨 시기는?</td>\n",
       "    </tr>\n",
       "  </tbody>\n",
       "</table>\n",
       "</div>"
      ],
      "text/plain": [
       "                                        answers  \\\n",
       "0  {'answer_start': [223], 'text': ['기원전 90년']}   \n",
       "1  {'answer_start': [223], 'text': ['기원전 90년']}   \n",
       "2  {'answer_start': [223], 'text': ['기원전 90년']}   \n",
       "3  {'answer_start': [223], 'text': ['기원전 90년']}   \n",
       "4  {'answer_start': [223], 'text': ['기원전 90년']}   \n",
       "5  {'answer_start': [223], 'text': ['기원전 90년']}   \n",
       "6  {'answer_start': [223], 'text': ['기원전 90년']}   \n",
       "7  {'answer_start': [223], 'text': ['기원전 90년']}   \n",
       "8  {'answer_start': [223], 'text': ['기원전 90년']}   \n",
       "9  {'answer_start': [223], 'text': ['기원전 90년']}   \n",
       "\n",
       "                                             context            id  \\\n",
       "0  루키우스의 초반 생애는 알려진 것이 없다. 그가 처음으로 역사에 이름이 오른 것은 ...  mrc-1-000711   \n",
       "1  R. J. 셰퍼는 목격자의 증언을 검증하는 점검 목록을 제공한다. \\n\\n# 저술이...  mrc-1-000711   \n",
       "2  \"아프리카의 모든 국가 수도는?\"이라는 질문의 SPARQL 쿼리 예제이다:\\n\\nP...  mrc-1-000711   \n",
       "3  오스트리아 국민의회는 오스트리아의 입법 기관으로서, 오스트리아의 법안을 수정하거나 ...  mrc-1-000711   \n",
       "4  태평양 전쟁 중에는 이 해협을 통과하는 일본 함선들이 종종 있었다. 유명한 것은 1...  mrc-1-000711   \n",
       "5  ① 20대 국회에 발의된 어린이생명안전법안(민식이법, 해인이법, 한음이법, 하준이법...  mrc-1-000711   \n",
       "6  빛은 공기와 유리같은 서로 다른 매질을 통과할 때 두 매질의 경계면에서 굴절한다. ...  mrc-1-000711   \n",
       "7  마르크스주의 법학(Marx主義法學)은 넓게 보아 유물론적 변증법에 입각해서 법을 인...  mrc-1-000711   \n",
       "8  타운젠드법(Townshend Acts, Townshend Duties)은 대영제국 ...  mrc-1-000711   \n",
       "9  법의 발생은 법이 어떻게 해서 생기느냐의 학문적 문제(법의 발생론)를 일컫는 말이다...  mrc-1-000711   \n",
       "\n",
       "                                    original_context                 question  \n",
       "0  루키우스의 초반 생애는 알려진 것이 없다. 그가 처음으로 역사에 이름이 오른 것은 ...  루키우스가 율리우스 법을 통과시킨 시기는?  \n",
       "1  루키우스의 초반 생애는 알려진 것이 없다. 그가 처음으로 역사에 이름이 오른 것은 ...  루키우스가 율리우스 법을 통과시킨 시기는?  \n",
       "2  루키우스의 초반 생애는 알려진 것이 없다. 그가 처음으로 역사에 이름이 오른 것은 ...  루키우스가 율리우스 법을 통과시킨 시기는?  \n",
       "3  루키우스의 초반 생애는 알려진 것이 없다. 그가 처음으로 역사에 이름이 오른 것은 ...  루키우스가 율리우스 법을 통과시킨 시기는?  \n",
       "4  루키우스의 초반 생애는 알려진 것이 없다. 그가 처음으로 역사에 이름이 오른 것은 ...  루키우스가 율리우스 법을 통과시킨 시기는?  \n",
       "5  루키우스의 초반 생애는 알려진 것이 없다. 그가 처음으로 역사에 이름이 오른 것은 ...  루키우스가 율리우스 법을 통과시킨 시기는?  \n",
       "6  루키우스의 초반 생애는 알려진 것이 없다. 그가 처음으로 역사에 이름이 오른 것은 ...  루키우스가 율리우스 법을 통과시킨 시기는?  \n",
       "7  루키우스의 초반 생애는 알려진 것이 없다. 그가 처음으로 역사에 이름이 오른 것은 ...  루키우스가 율리우스 법을 통과시킨 시기는?  \n",
       "8  루키우스의 초반 생애는 알려진 것이 없다. 그가 처음으로 역사에 이름이 오른 것은 ...  루키우스가 율리우스 법을 통과시킨 시기는?  \n",
       "9  루키우스의 초반 생애는 알려진 것이 없다. 그가 처음으로 역사에 이름이 오른 것은 ...  루키우스가 율리우스 법을 통과시킨 시기는?  "
      ]
     },
     "execution_count": 32,
     "metadata": {},
     "output_type": "execute_result"
    }
   ],
   "source": [
    "topk_dataset = dummy_train_datasets['validation']\n",
    "topk = pd.DataFrame(topk_dataset)\n",
    "print(len(topk))\n",
    "topk.head(10)"
   ]
  },
  {
   "cell_type": "markdown",
   "id": "722aee9f-9c54-463d-8b9a-4d385135a052",
   "metadata": {},
   "source": [
    "* **200개 중 top-10 내에서 결과를 찾는 경우는 159개입니다. 생각보다 많이 떨어지네요.**"
   ]
  },
  {
   "cell_type": "code",
   "execution_count": 33,
   "id": "b971363c-6a34-4043-b476-7ee815c45855",
   "metadata": {},
   "outputs": [
    {
     "name": "stdout",
     "output_type": "stream",
     "text": [
      "159/200\n"
     ]
    }
   ],
   "source": [
    "total, correct = len(datasets['train']),0\n",
    "top_n = defaultdict(int)\n",
    "for i in range(len(datasets['train'])):\n",
    "    for j in range(args.retriever.topk):\n",
    "        if topk.original_context[i*10] == topk.context[i*10+j]:\n",
    "            correct+=1\n",
    "            top_n[j+1] += 1\n",
    "            break\n",
    "top_n_counts = dict(sorted(top_n.items()))\n",
    "print(f\"{correct}/{total}\")"
   ]
  },
  {
   "cell_type": "code",
   "execution_count": 34,
   "id": "e54b6c60-f525-47d2-8681-a346ccbc6639",
   "metadata": {},
   "outputs": [
    {
     "data": {
      "text/plain": [
       "Text(0.5, 1.0, 'K frequency in top-k(in 200)')"
      ]
     },
     "execution_count": 34,
     "metadata": {},
     "output_type": "execute_result"
    },
    {
     "data": {
      "image/png": "[encoded data removed]",
      "text/plain": [
       "<Figure size 842.4x595.44 with 1 Axes>"
      ]
     },
     "metadata": {},
     "output_type": "display_data"
    }
   ],
   "source": [
    "keys= list(top_n_counts.keys())\n",
    "vals = [top_n_counts[k] for k in keys]\n",
    "sns.barplot(x=keys, y=vals).set_title('K frequency in top-k(in 200)')"
   ]
  },
  {
   "cell_type": "markdown",
   "id": "d4684089-1a88-4d26-aca3-8d46de91a089",
   "metadata": {},
   "source": [
    "---\n",
    "### train dataset에 대해 수행해보기\n",
    "- **3592개중 3191개**가 top-10안에 찾아지네요."
   ]
  },
  {
   "cell_type": "code",
   "execution_count": 35,
   "id": "777be25f-dec8-4817-afac-b1364bad81b4",
   "metadata": {},
   "outputs": [
    {
     "data": {
      "application/vnd.jupyter.widget-view+json": {
       "model_id": "7d7ea08241384635b213c99785067389",
       "version_major": 2,
       "version_minor": 0
      },
      "text/plain": [
       "HBox(children=(FloatProgress(value=0.0, description='Retrieval: ', max=3952.0, style=ProgressStyle(description…"
      ]
     },
     "metadata": {},
     "output_type": "display_data"
    },
    {
     "name": "stdout",
     "output_type": "stream",
     "text": [
      "\n",
      "39520\n"
     ]
    }
   ],
   "source": [
    "train_datasets = load_from_disk(train_dir)\n",
    "train_retrieved_datasets = retriever.retrieve(train_datasets['train'], topk=args.retriever.topk)\n",
    "topk_dataset = train_retrieved_datasets['validation']\n",
    "topk = pd.DataFrame(topk_dataset)\n",
    "print(len(topk))"
   ]
  },
  {
   "cell_type": "code",
   "execution_count": 36,
   "id": "c4687abf-5b0a-4388-92ea-0b4bf6a779b0",
   "metadata": {},
   "outputs": [
    {
     "name": "stdout",
     "output_type": "stream",
     "text": [
      "3191/3952\n"
     ]
    }
   ],
   "source": [
    "total, correct = len(train_datasets['train']),0\n",
    "top_n = defaultdict(int)\n",
    "for i in range(len(train_datasets['train'])):\n",
    "    for j in range(args.retriever.topk):\n",
    "        if topk.original_context[i*10] == topk.context[i*10+j]:\n",
    "            correct+=1\n",
    "            top_n[j+1] += 1\n",
    "            break\n",
    "top_n_counts = dict(sorted(top_n.items()))\n",
    "print(f\"{correct}/{total}\")"
   ]
  },
  {
   "cell_type": "code",
   "execution_count": 37,
   "id": "9b839fe9-f9b2-4151-9645-fffc824965fb",
   "metadata": {},
   "outputs": [
    {
     "data": {
      "text/plain": [
       "Text(0.5, 1.0, 'K frequency in top-k(in 3952)')"
      ]
     },
     "execution_count": 37,
     "metadata": {},
     "output_type": "execute_result"
    },
    {
     "data": {
      "image/png": "[encoded data removed]",
      "text/plain": [
       "<Figure size 842.4x595.44 with 1 Axes>"
      ]
     },
     "metadata": {},
     "output_type": "display_data"
    }
   ],
   "source": [
    "keys= list(top_n_counts.keys())\n",
    "vals = [top_n_counts[k] for k in keys]\n",
    "sns.barplot(x=keys, y=vals).set_title('K frequency in top-k(in 3952)')"
   ]
  },
  {
   "cell_type": "markdown",
   "id": "0f03c52a-c367-4bf9-a8f4-f29ce49e50f2",
   "metadata": {},
   "source": [
    "---\n",
    "## 토큰 길이 별 tf-idf 값\n",
    "* token의 length에 따른 개수와 각 문서당 tfidf값의 총합을 계산해봤습니다.\n",
    "* **대부분의 token이 3~7자 가량으로 이루어져있습니다.** 다만 bigram으로 이루어진 단어에는 띄어쓰기가 포함되어있기 때문에 최빈값인 4-6자는 **띄어쓰기를 포함하여 3-5자일 듯**합니다."
   ]
  },
  {
   "cell_type": "code",
   "execution_count": 38,
   "id": "f721e1f9-54fc-4ebd-a4e8-0fa6e3ffda9d",
   "metadata": {},
   "outputs": [],
   "source": [
    "word_count['token_length'] = word_count['token'].str.len()"
   ]
  },
  {
   "cell_type": "code",
   "execution_count": 39,
   "id": "9ae0bbb7-2033-4027-b12b-a062c902f158",
   "metadata": {},
   "outputs": [
    {
     "name": "stderr",
     "output_type": "stream",
     "text": [
      "/opt/conda/lib/python3.7/site-packages/seaborn/_decorators.py:43: FutureWarning: Pass the following variable as a keyword arg: x. From version 0.12, the only valid positional argument will be `data`, and passing other arguments without an explicit keyword will result in an error or misinterpretation.\n",
      "  FutureWarning\n"
     ]
    },
    {
     "data": {
      "text/plain": [
       "Text(0.5, 1.0, 'count of token length')"
      ]
     },
     "execution_count": 39,
     "metadata": {},
     "output_type": "execute_result"
    },
    {
     "data": {
      "image/png": "[encoded data removed]",
      "text/plain": [
       "<Figure size 842.4x595.44 with 1 Axes>"
      ]
     },
     "metadata": {},
     "output_type": "display_data"
    }
   ],
   "source": [
    "sns.countplot(word_count['token_length']).set_title('count of token length')"
   ]
  },
  {
   "cell_type": "code",
   "execution_count": 40,
   "id": "19194f21-9423-4bdf-ba98-964ca1b279eb",
   "metadata": {},
   "outputs": [
    {
     "data": {
      "text/plain": [
       "<AxesSubplot:xlabel='token_length', ylabel='sum_tfidf'>"
      ]
     },
     "execution_count": 40,
     "metadata": {},
     "output_type": "execute_result"
    },
    {
     "data": {
      "image/png": "[encoded data removed]",
      "text/plain": [
       "<Figure size 842.4x595.44 with 1 Axes>"
      ]
     },
     "metadata": {},
     "output_type": "display_data"
    }
   ],
   "source": [
    "sns.scatterplot(x=word_count['token_length'], y=word_count['sum_tfidf'])"
   ]
  },
  {
   "cell_type": "markdown",
   "id": "0f07e004-0d97-4572-a7a1-baf9dd64d6e7",
   "metadata": {},
   "source": [
    "---\n",
    "### tf-idf값 기준 높은 임베딩값?"
   ]
  },
  {
   "cell_type": "code",
   "execution_count": 42,
   "id": "51eb377f-e1a6-492b-9615-fae0ae4f7e03",
   "metadata": {},
   "outputs": [
    {
     "data": {
      "text/html": [
       "<div>\n",
       "<style scoped>\n",
       "    .dataframe tbody tr th:only-of-type {\n",
       "        vertical-align: middle;\n",
       "    }\n",
       "\n",
       "    .dataframe tbody tr th {\n",
       "        vertical-align: top;\n",
       "    }\n",
       "\n",
       "    .dataframe thead th {\n",
       "        text-align: right;\n",
       "    }\n",
       "</style>\n",
       "<table border=\"1\" class=\"dataframe\">\n",
       "  <thead>\n",
       "    <tr style=\"text-align: right;\">\n",
       "      <th></th>\n",
       "      <th>token</th>\n",
       "      <th>sum_tfidf</th>\n",
       "      <th>token_length</th>\n",
       "    </tr>\n",
       "  </thead>\n",
       "  <tbody>\n",
       "    <tr>\n",
       "      <th>223421</th>\n",
       "      <td>.</td>\n",
       "      <td>2724.138785</td>\n",
       "      <td>1</td>\n",
       "    </tr>\n",
       "    <tr>\n",
       "      <th>2980798</th>\n",
       "      <td>의</td>\n",
       "      <td>2459.387917</td>\n",
       "      <td>1</td>\n",
       "    </tr>\n",
       "    <tr>\n",
       "      <th>1448056</th>\n",
       "      <td>는</td>\n",
       "      <td>2211.519426</td>\n",
       "      <td>1</td>\n",
       "    </tr>\n",
       "    <tr>\n",
       "      <th>1511725</th>\n",
       "      <td>다</td>\n",
       "      <td>2195.883846</td>\n",
       "      <td>1</td>\n",
       "    </tr>\n",
       "    <tr>\n",
       "      <th>3036159</th>\n",
       "      <td>이</td>\n",
       "      <td>2178.138166</td>\n",
       "      <td>1</td>\n",
       "    </tr>\n",
       "    <tr>\n",
       "      <th>137205</th>\n",
       "      <td>,</td>\n",
       "      <td>2121.530238</td>\n",
       "      <td>1</td>\n",
       "    </tr>\n",
       "    <tr>\n",
       "      <th>1511771</th>\n",
       "      <td>다 .</td>\n",
       "      <td>2060.032847</td>\n",
       "      <td>3</td>\n",
       "    </tr>\n",
       "    <tr>\n",
       "      <th>2590085</th>\n",
       "      <td>에</td>\n",
       "      <td>2012.952116</td>\n",
       "      <td>1</td>\n",
       "    </tr>\n",
       "    <tr>\n",
       "      <th>2955567</th>\n",
       "      <td>을</td>\n",
       "      <td>1966.449129</td>\n",
       "      <td>1</td>\n",
       "    </tr>\n",
       "    <tr>\n",
       "      <th>3699943</th>\n",
       "      <td>하</td>\n",
       "      <td>1756.310512</td>\n",
       "      <td>1</td>\n",
       "    </tr>\n",
       "    <tr>\n",
       "      <th>2915255</th>\n",
       "      <td>은</td>\n",
       "      <td>1352.898955</td>\n",
       "      <td>1</td>\n",
       "    </tr>\n",
       "    <tr>\n",
       "      <th>103463</th>\n",
       "      <td>)</td>\n",
       "      <td>1330.432506</td>\n",
       "      <td>1</td>\n",
       "    </tr>\n",
       "    <tr>\n",
       "      <th>1412296</th>\n",
       "      <td>년</td>\n",
       "      <td>1311.896818</td>\n",
       "      <td>1</td>\n",
       "    </tr>\n",
       "    <tr>\n",
       "      <th>36402</th>\n",
       "      <td>(</td>\n",
       "      <td>1310.796614</td>\n",
       "      <td>1</td>\n",
       "    </tr>\n",
       "    <tr>\n",
       "      <th>1852202</th>\n",
       "      <td>를</td>\n",
       "      <td>1231.912751</td>\n",
       "      <td>1</td>\n",
       "    </tr>\n",
       "    <tr>\n",
       "      <th>1136235</th>\n",
       "      <td>고</td>\n",
       "      <td>1081.756616</td>\n",
       "      <td>1</td>\n",
       "    </tr>\n",
       "    <tr>\n",
       "      <th>3183037</th>\n",
       "      <td>있</td>\n",
       "      <td>1002.125635</td>\n",
       "      <td>1</td>\n",
       "    </tr>\n",
       "    <tr>\n",
       "      <th>2634366</th>\n",
       "      <td>에서</td>\n",
       "      <td>954.303472</td>\n",
       "      <td>2</td>\n",
       "    </tr>\n",
       "    <tr>\n",
       "      <th>993480</th>\n",
       "      <td>가</td>\n",
       "      <td>943.692730</td>\n",
       "      <td>1</td>\n",
       "    </tr>\n",
       "    <tr>\n",
       "      <th>2589568</th>\n",
       "      <td>었</td>\n",
       "      <td>926.198109</td>\n",
       "      <td>1</td>\n",
       "    </tr>\n",
       "  </tbody>\n",
       "</table>\n",
       "</div>"
      ],
      "text/plain": [
       "        token    sum_tfidf  token_length\n",
       "223421      .  2724.138785             1\n",
       "2980798     의  2459.387917             1\n",
       "1448056     는  2211.519426             1\n",
       "1511725     다  2195.883846             1\n",
       "3036159     이  2178.138166             1\n",
       "137205      ,  2121.530238             1\n",
       "1511771   다 .  2060.032847             3\n",
       "2590085     에  2012.952116             1\n",
       "2955567     을  1966.449129             1\n",
       "3699943     하  1756.310512             1\n",
       "2915255     은  1352.898955             1\n",
       "103463      )  1330.432506             1\n",
       "1412296     년  1311.896818             1\n",
       "36402       (  1310.796614             1\n",
       "1852202     를  1231.912751             1\n",
       "1136235     고  1081.756616             1\n",
       "3183037     있  1002.125635             1\n",
       "2634366    에서   954.303472             2\n",
       "993480      가   943.692730             1\n",
       "2589568     었   926.198109             1"
      ]
     },
     "execution_count": 42,
     "metadata": {},
     "output_type": "execute_result"
    }
   ],
   "source": [
    "word_count.sort_values('sum_tfidf', ascending=False).head(20)"
   ]
  },
  {
   "cell_type": "code",
   "execution_count": 43,
   "id": "aca69b2d-4fb2-4a60-bf1e-afde9cd5ae9d",
   "metadata": {},
   "outputs": [
    {
     "data": {
      "text/html": [
       "<div>\n",
       "<style scoped>\n",
       "    .dataframe tbody tr th:only-of-type {\n",
       "        vertical-align: middle;\n",
       "    }\n",
       "\n",
       "    .dataframe tbody tr th {\n",
       "        vertical-align: top;\n",
       "    }\n",
       "\n",
       "    .dataframe thead th {\n",
       "        text-align: right;\n",
       "    }\n",
       "</style>\n",
       "<table border=\"1\" class=\"dataframe\">\n",
       "  <thead>\n",
       "    <tr style=\"text-align: right;\">\n",
       "      <th></th>\n",
       "      <th>token</th>\n",
       "      <th>sum_tfidf</th>\n",
       "      <th>token_length</th>\n",
       "    </tr>\n",
       "  </thead>\n",
       "  <tbody>\n",
       "    <tr>\n",
       "      <th>883921</th>\n",
       "      <td>性 孝</td>\n",
       "      <td>0.00099</td>\n",
       "      <td>3</td>\n",
       "    </tr>\n",
       "    <tr>\n",
       "      <th>947840</th>\n",
       "      <td>群臣 或</td>\n",
       "      <td>0.00099</td>\n",
       "      <td>4</td>\n",
       "    </tr>\n",
       "    <tr>\n",
       "      <th>3834963</th>\n",
       "      <td>홈 나</td>\n",
       "      <td>0.00099</td>\n",
       "      <td>3</td>\n",
       "    </tr>\n",
       "    <tr>\n",
       "      <th>870864</th>\n",
       "      <td>尤 盡</td>\n",
       "      <td>0.00099</td>\n",
       "      <td>3</td>\n",
       "    </tr>\n",
       "    <tr>\n",
       "      <th>3584207</th>\n",
       "      <td>텨 댜</td>\n",
       "      <td>0.00099</td>\n",
       "      <td>3</td>\n",
       "    </tr>\n",
       "    <tr>\n",
       "      <th>3584206</th>\n",
       "      <td>텨 닑고</td>\n",
       "      <td>0.00099</td>\n",
       "      <td>4</td>\n",
       "    </tr>\n",
       "    <tr>\n",
       "      <th>3889436</th>\n",
       "      <td> 싣</td>\n",
       "      <td>0.00099</td>\n",
       "      <td>3</td>\n",
       "    </tr>\n",
       "    <tr>\n",
       "      <th>870865</th>\n",
       "      <td>尤 篤</td>\n",
       "      <td>0.00099</td>\n",
       "      <td>3</td>\n",
       "    </tr>\n",
       "    <tr>\n",
       "      <th>1364106</th>\n",
       "      <td>나 믄</td>\n",
       "      <td>0.00099</td>\n",
       "      <td>3</td>\n",
       "    </tr>\n",
       "    <tr>\n",
       "      <th>947819</th>\n",
       "      <td>群居 相呼</td>\n",
       "      <td>0.00099</td>\n",
       "      <td>5</td>\n",
       "    </tr>\n",
       "    <tr>\n",
       "      <th>3835010</th>\n",
       "      <td>홈 블</td>\n",
       "      <td>0.00099</td>\n",
       "      <td>3</td>\n",
       "    </tr>\n",
       "    <tr>\n",
       "      <th>870898</th>\n",
       "      <td>就 休偃</td>\n",
       "      <td>0.00099</td>\n",
       "      <td>4</td>\n",
       "    </tr>\n",
       "    <tr>\n",
       "      <th>870901</th>\n",
       "      <td>就 凊</td>\n",
       "      <td>0.00099</td>\n",
       "      <td>3</td>\n",
       "    </tr>\n",
       "    <tr>\n",
       "      <th>870906</th>\n",
       "      <td>就 官</td>\n",
       "      <td>0.00099</td>\n",
       "      <td>3</td>\n",
       "    </tr>\n",
       "    <tr>\n",
       "      <th>870907</th>\n",
       "      <td>就 少</td>\n",
       "      <td>0.00099</td>\n",
       "      <td>3</td>\n",
       "    </tr>\n",
       "    <tr>\n",
       "      <th>3584209</th>\n",
       "      <td>텨 됴</td>\n",
       "      <td>0.00099</td>\n",
       "      <td>3</td>\n",
       "    </tr>\n",
       "    <tr>\n",
       "      <th>3526849</th>\n",
       "      <td>코 빗</td>\n",
       "      <td>0.00099</td>\n",
       "      <td>3</td>\n",
       "    </tr>\n",
       "    <tr>\n",
       "      <th>870922</th>\n",
       "      <td>就 死地</td>\n",
       "      <td>0.00099</td>\n",
       "      <td>4</td>\n",
       "    </tr>\n",
       "    <tr>\n",
       "      <th>3835063</th>\n",
       "      <td>홈 으</td>\n",
       "      <td>0.00099</td>\n",
       "      <td>3</td>\n",
       "    </tr>\n",
       "    <tr>\n",
       "      <th>3835071</th>\n",
       "      <td>홈 이리오</td>\n",
       "      <td>0.00099</td>\n",
       "      <td>5</td>\n",
       "    </tr>\n",
       "  </tbody>\n",
       "</table>\n",
       "</div>"
      ],
      "text/plain": [
       "         token  sum_tfidf  token_length\n",
       "883921     性 孝    0.00099             3\n",
       "947840    群臣 或    0.00099             4\n",
       "3834963    홈 나    0.00099             3\n",
       "870864     尤 盡    0.00099             3\n",
       "3584207    텨 댜    0.00099             3\n",
       "3584206   텨 닑고    0.00099             4\n",
       "3889436     싣    0.00099             3\n",
       "870865     尤 篤    0.00099             3\n",
       "1364106    나 믄    0.00099             3\n",
       "947819   群居 相呼    0.00099             5\n",
       "3835010    홈 블    0.00099             3\n",
       "870898    就 休偃    0.00099             4\n",
       "870901     就 凊    0.00099             3\n",
       "870906     就 官    0.00099             3\n",
       "870907     就 少    0.00099             3\n",
       "3584209    텨 됴    0.00099             3\n",
       "3526849    코 빗    0.00099             3\n",
       "870922    就 死地    0.00099             4\n",
       "3835063    홈 으    0.00099             3\n",
       "3835071  홈 이리오    0.00099             5"
      ]
     },
     "execution_count": 43,
     "metadata": {},
     "output_type": "execute_result"
    }
   ],
   "source": [
    "word_count.sort_values('sum_tfidf', ascending=True).head(20)"
   ]
  },
  {
   "cell_type": "code",
   "execution_count": 117,
   "id": "12352317-e0d3-4cc3-895b-a8b1f7bbf66d",
   "metadata": {},
   "outputs": [
    {
     "name": "stdout",
     "output_type": "stream",
     "text": [
      "0.2721946527101926\n",
      "4.322328122005074e-06\n",
      "0.0\n"
     ]
    }
   ],
   "source": [
    "print(retriever.p_embedding.max(axis=1).mean())\n",
    "print(retriever.p_embedding.mean(axis=1).mean())\n",
    "print(retriever.p_embedding.min(axis=1).max())"
   ]
  },
  {
   "cell_type": "code",
   "execution_count": 124,
   "id": "515960be-161f-4f47-806c-f5622f6a2d5d",
   "metadata": {},
   "outputs": [],
   "source": [
    "max_series = pd.Series(retriever.p_embedding.max(axis=1).toarray().squeeze())\n",
    "mean_series = pd.Series(np.array(retriever.p_embedding.mean(axis=1)).squeeze())"
   ]
  },
  {
   "cell_type": "code",
   "execution_count": 127,
   "id": "02d47968-50b8-48ba-a44f-0664a36437a8",
   "metadata": {},
   "outputs": [],
   "source": [
    "emb_df = pd.concat({'max':max_series, 'mean':mean_series}, axis=1)"
   ]
  },
  {
   "cell_type": "markdown",
   "id": "11a9abe6-85fc-46ac-b241-12c6d6fc8193",
   "metadata": {},
   "source": [
    "* embedding 값중, **한 doc에서 가장 높은 비중을 가지는 단어의 tf-idf값이 평균적으로 0.27정도입니다**."
   ]
  },
  {
   "cell_type": "code",
   "execution_count": 129,
   "id": "0b37b3cb-a97e-41e9-be2a-2d0703971aa0",
   "metadata": {},
   "outputs": [
    {
     "data": {
      "text/html": [
       "<div>\n",
       "<style scoped>\n",
       "    .dataframe tbody tr th:only-of-type {\n",
       "        vertical-align: middle;\n",
       "    }\n",
       "\n",
       "    .dataframe tbody tr th {\n",
       "        vertical-align: top;\n",
       "    }\n",
       "\n",
       "    .dataframe thead th {\n",
       "        text-align: right;\n",
       "    }\n",
       "</style>\n",
       "<table border=\"1\" class=\"dataframe\">\n",
       "  <thead>\n",
       "    <tr style=\"text-align: right;\">\n",
       "      <th></th>\n",
       "      <th>max</th>\n",
       "      <th>mean</th>\n",
       "    </tr>\n",
       "  </thead>\n",
       "  <tbody>\n",
       "    <tr>\n",
       "      <th>count</th>\n",
       "      <td>56737.000000</td>\n",
       "      <td>5.673700e+04</td>\n",
       "    </tr>\n",
       "    <tr>\n",
       "      <th>mean</th>\n",
       "      <td>0.272195</td>\n",
       "      <td>4.322328e-06</td>\n",
       "    </tr>\n",
       "    <tr>\n",
       "      <th>std</th>\n",
       "      <td>0.093963</td>\n",
       "      <td>1.070859e-06</td>\n",
       "    </tr>\n",
       "    <tr>\n",
       "      <th>min</th>\n",
       "      <td>0.020768</td>\n",
       "      <td>4.533370e-07</td>\n",
       "    </tr>\n",
       "    <tr>\n",
       "      <th>25%</th>\n",
       "      <td>0.202762</td>\n",
       "      <td>3.586536e-06</td>\n",
       "    </tr>\n",
       "    <tr>\n",
       "      <th>50%</th>\n",
       "      <td>0.255910</td>\n",
       "      <td>4.151213e-06</td>\n",
       "    </tr>\n",
       "    <tr>\n",
       "      <th>75%</th>\n",
       "      <td>0.324023</td>\n",
       "      <td>4.863148e-06</td>\n",
       "    </tr>\n",
       "    <tr>\n",
       "      <th>max</th>\n",
       "      <td>0.933758</td>\n",
       "      <td>1.385147e-05</td>\n",
       "    </tr>\n",
       "  </tbody>\n",
       "</table>\n",
       "</div>"
      ],
      "text/plain": [
       "                max          mean\n",
       "count  56737.000000  5.673700e+04\n",
       "mean       0.272195  4.322328e-06\n",
       "std        0.093963  1.070859e-06\n",
       "min        0.020768  4.533370e-07\n",
       "25%        0.202762  3.586536e-06\n",
       "50%        0.255910  4.151213e-06\n",
       "75%        0.324023  4.863148e-06\n",
       "max        0.933758  1.385147e-05"
      ]
     },
     "execution_count": 129,
     "metadata": {},
     "output_type": "execute_result"
    }
   ],
   "source": [
    "emb_df.describe()"
   ]
  },
  {
   "cell_type": "code",
   "execution_count": 131,
   "id": "a32a2cc8-a3f3-470a-9599-a92fe9fc011c",
   "metadata": {},
   "outputs": [
    {
     "data": {
      "text/plain": [
       "Text(0.5, 1.0, 'tf-idf max in doc')"
      ]
     },
     "execution_count": 131,
     "metadata": {},
     "output_type": "execute_result"
    },
    {
     "data": {
      "image/png": "[encoded data removed]",
      "text/plain": [
       "<Figure size 842.4x595.44 with 1 Axes>"
      ]
     },
     "metadata": {},
     "output_type": "display_data"
    }
   ],
   "source": [
    "sns.kdeplot(emb_df['max']).set_title('tf-idf max in doc')"
   ]
  },
  {
   "cell_type": "code",
   "execution_count": 132,
   "id": "62350aa1-42ac-44ea-9d94-9b7daffb77a4",
   "metadata": {},
   "outputs": [
    {
     "data": {
      "text/plain": [
       "Text(0.5, 1.0, 'tf-idf mean in doc')"
      ]
     },
     "execution_count": 132,
     "metadata": {},
     "output_type": "execute_result"
    },
    {
     "data": {
      "image/png": "[encoded data removed]",
      "text/plain": [
       "<Figure size 842.4x595.44 with 1 Axes>"
      ]
     },
     "metadata": {},
     "output_type": "display_data"
    }
   ],
   "source": [
    "sns.kdeplot(emb_df['mean']).set_title('tf-idf mean in doc')"
   ]
  },
  {
   "cell_type": "code",
   "execution_count": null,
   "id": "b936427c-3dde-4b0a-a0a8-7c859b90ce3f",
   "metadata": {},
   "outputs": [],
   "source": []
  }
 ],
 "metadata": {
  "kernelspec": {
   "display_name": "Python 3",
   "language": "python",
   "name": "python3"
  },
  "language_info": {
   "codemirror_mode": {
    "name": "ipython",
    "version": 3
   },
   "file_extension": ".py",
   "mimetype": "text/x-python",
   "name": "python",
   "nbconvert_exporter": "python",
   "pygments_lexer": "ipython3",
   "version": "3.7.7"
  }
 },
 "nbformat": 4,
 "nbformat_minor": 5
}
